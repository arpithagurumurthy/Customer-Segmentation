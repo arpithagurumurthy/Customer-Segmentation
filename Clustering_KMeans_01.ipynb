{
  "nbformat": 4,
  "nbformat_minor": 0,
  "metadata": {
    "accelerator": "GPU",
    "colab": {
      "name": "CMPE257_AG_HW1.ipynb",
      "provenance": [],
      "collapsed_sections": []
    },
    "kernelspec": {
      "display_name": "Python 3",
      "name": "python3"
    }
  },
  "cells": [
    {
      "cell_type": "markdown",
      "metadata": {
        "id": "F_xtrpZFf6DQ"
      },
      "source": [
        "# **Arpitha Gurumurthy**\n",
        "### *CMPE 257 Assignment 1 - Clustering using K-Means*\n",
        "***Dataset : eCommerce customer behavior data***\n",
        "\n",
        "https://www.kaggle.com/mkechinov/ecommerce-events-history-in-cosmetics-shop"
      ]
    },
    {
      "cell_type": "markdown",
      "metadata": {
        "id": "1I3yz-SnVNkO"
      },
      "source": [
        "# **Data collection and preparation**"
      ]
    },
    {
      "cell_type": "code",
      "metadata": {
        "id": "6OrNQzwmvto6"
      },
      "source": [
        "from io import BytesIO\n",
        "import requests\n",
        "import pandas as pd\n",
        "import numpy as np\n",
        "import matplotlib.pyplot as plt\n",
        "%matplotlib inline\n",
        "from sklearn.cluster import KMeans\n",
        "import seaborn as sns\n",
        "import tensorflow.compat.v1 as tf\n",
        "r = requests.get('https://docs.google.com/spreadsheets/d/e/2PACX-1vSeWSxz1oBPOdGhPbX6w7B30nP9TU3lawhzM6rbhiPcnYmyJ_Kv93AEfQL5I-JkfEm5-nDjEUNyVwkT/pub?gid=288094237&single=true&output=csv')\n",
        "data = r.content\n",
        "df_Dec = pd.read_csv(BytesIO(data))\n",
        "df_Dec = df_Dec.drop(columns='Unnamed: 0', axis=1)"
      ],
      "execution_count": null,
      "outputs": []
    },
    {
      "cell_type": "code",
      "metadata": {
        "colab": {
          "base_uri": "https://localhost:8080/",
          "height": 110
        },
        "id": "h3BWOeOAlb5A",
        "outputId": "3eae2402-2d9e-48d3-f1fa-61e46f67f10a"
      },
      "source": [
        "df_Dec.head(1)"
      ],
      "execution_count": null,
      "outputs": [
        {
          "data": {
            "text/html": [
              "<div>\n",
              "<style scoped>\n",
              "    .dataframe tbody tr th:only-of-type {\n",
              "        vertical-align: middle;\n",
              "    }\n",
              "\n",
              "    .dataframe tbody tr th {\n",
              "        vertical-align: top;\n",
              "    }\n",
              "\n",
              "    .dataframe thead th {\n",
              "        text-align: right;\n",
              "    }\n",
              "</style>\n",
              "<table border=\"1\" class=\"dataframe\">\n",
              "  <thead>\n",
              "    <tr style=\"text-align: right;\">\n",
              "      <th></th>\n",
              "      <th>event_time</th>\n",
              "      <th>event_type</th>\n",
              "      <th>product_id</th>\n",
              "      <th>category_id</th>\n",
              "      <th>category_code</th>\n",
              "      <th>brand</th>\n",
              "      <th>price</th>\n",
              "      <th>user_id</th>\n",
              "      <th>user_session</th>\n",
              "    </tr>\n",
              "  </thead>\n",
              "  <tbody>\n",
              "    <tr>\n",
              "      <th>0</th>\n",
              "      <td>2019-12-01 00:00:00 UTC</td>\n",
              "      <td>remove_from_cart</td>\n",
              "      <td>5712790</td>\n",
              "      <td>1487580005268456287</td>\n",
              "      <td>NaN</td>\n",
              "      <td>f.o.x</td>\n",
              "      <td>6.27</td>\n",
              "      <td>576802932</td>\n",
              "      <td>51d85cb0-897f-48d2-918b-ad63965c12dc</td>\n",
              "    </tr>\n",
              "  </tbody>\n",
              "</table>\n",
              "</div>"
            ],
            "text/plain": [
              "                event_time  ...                          user_session\n",
              "0  2019-12-01 00:00:00 UTC  ...  51d85cb0-897f-48d2-918b-ad63965c12dc\n",
              "\n",
              "[1 rows x 9 columns]"
            ]
          },
          "execution_count": 2,
          "metadata": {
            "tags": []
          },
          "output_type": "execute_result"
        }
      ]
    },
    {
      "cell_type": "code",
      "metadata": {
        "colab": {
          "base_uri": "https://localhost:8080/"
        },
        "id": "Kh2Cr3gmG1qw",
        "outputId": "4375f87e-dbc8-4cc6-f140-4bc096965a4b"
      },
      "source": [
        "df_Dec.shape"
      ],
      "execution_count": null,
      "outputs": [
        {
          "data": {
            "text/plain": [
              "(50000, 9)"
            ]
          },
          "execution_count": 3,
          "metadata": {
            "tags": []
          },
          "output_type": "execute_result"
        }
      ]
    },
    {
      "cell_type": "markdown",
      "metadata": {
        "id": "ngykMnJpVYbF"
      },
      "source": [
        "# **Data wrangling**"
      ]
    },
    {
      "cell_type": "code",
      "metadata": {
        "colab": {
          "background_save": true,
          "base_uri": "https://localhost:8080/"
        },
        "id": "hb4qHCQ6VbWU",
        "outputId": "273adb4e-972d-4c73-e343-f4d754e8cea5"
      },
      "source": [
        "df_Dec.info()"
      ],
      "execution_count": null,
      "outputs": [
        {
          "name": "stdout",
          "output_type": "stream",
          "text": [
            "<class 'pandas.core.frame.DataFrame'>\n",
            "RangeIndex: 50000 entries, 0 to 49999\n",
            "Data columns (total 9 columns):\n",
            " #   Column         Non-Null Count  Dtype  \n",
            "---  ------         --------------  -----  \n",
            " 0   event_time     50000 non-null  object \n",
            " 1   event_type     50000 non-null  object \n",
            " 2   product_id     50000 non-null  int64  \n",
            " 3   category_id    50000 non-null  int64  \n",
            " 4   category_code  856 non-null    object \n",
            " 5   brand          28059 non-null  object \n",
            " 6   price          50000 non-null  float64\n",
            " 7   user_id        50000 non-null  int64  \n",
            " 8   user_session   49985 non-null  object \n",
            "dtypes: float64(1), int64(3), object(5)\n",
            "memory usage: 3.4+ MB\n"
          ]
        }
      ]
    },
    {
      "cell_type": "code",
      "metadata": {
        "colab": {
          "base_uri": "https://localhost:8080/"
        },
        "id": "--5U68FxpvCT",
        "outputId": "a81b6323-0e9d-4bf6-82d6-d126d83f0d58"
      },
      "source": [
        "df_Dec.isnull().sum()"
      ],
      "execution_count": null,
      "outputs": [
        {
          "data": {
            "text/plain": [
              "event_time           0\n",
              "event_type           0\n",
              "product_id           0\n",
              "category_id          0\n",
              "category_code    49144\n",
              "brand            21941\n",
              "price                0\n",
              "user_id              0\n",
              "user_session        15\n",
              "dtype: int64"
            ]
          },
          "execution_count": 5,
          "metadata": {
            "tags": []
          },
          "output_type": "execute_result"
        }
      ]
    },
    {
      "cell_type": "markdown",
      "metadata": {
        "id": "O6Fj0YfDXT7B"
      },
      "source": [
        "### **Column: category_code**"
      ]
    },
    {
      "cell_type": "code",
      "metadata": {
        "colab": {
          "base_uri": "https://localhost:8080/"
        },
        "id": "Cde45wewVtYj",
        "outputId": "f2a28f27-d44f-490a-d42d-45d709bf84c0"
      },
      "source": [
        "##Counting the number of nan values in category_code column\n",
        "df_Dec['category_code'].isnull().sum()"
      ],
      "execution_count": null,
      "outputs": [
        {
          "data": {
            "text/plain": [
              "49144"
            ]
          },
          "execution_count": 6,
          "metadata": {
            "tags": []
          },
          "output_type": "execute_result"
        }
      ]
    },
    {
      "cell_type": "code",
      "metadata": {
        "id": "kJOa2N0dmZIO"
      },
      "source": [
        "##Drop column category_code since the number of nulls is too huge\n",
        "df_Dec = df_Dec.drop(columns='category_code', axis=1)"
      ],
      "execution_count": null,
      "outputs": []
    },
    {
      "cell_type": "code",
      "metadata": {
        "colab": {
          "base_uri": "https://localhost:8080/",
          "height": 186
        },
        "id": "UtUcmEkTADPN",
        "outputId": "90675b8e-e8dd-4904-e8a3-e9f8dbc9ce51"
      },
      "source": [
        "df_Dec.head(3)"
      ],
      "execution_count": null,
      "outputs": [
        {
          "data": {
            "text/html": [
              "<div>\n",
              "<style scoped>\n",
              "    .dataframe tbody tr th:only-of-type {\n",
              "        vertical-align: middle;\n",
              "    }\n",
              "\n",
              "    .dataframe tbody tr th {\n",
              "        vertical-align: top;\n",
              "    }\n",
              "\n",
              "    .dataframe thead th {\n",
              "        text-align: right;\n",
              "    }\n",
              "</style>\n",
              "<table border=\"1\" class=\"dataframe\">\n",
              "  <thead>\n",
              "    <tr style=\"text-align: right;\">\n",
              "      <th></th>\n",
              "      <th>event_time</th>\n",
              "      <th>event_type</th>\n",
              "      <th>product_id</th>\n",
              "      <th>category_id</th>\n",
              "      <th>brand</th>\n",
              "      <th>price</th>\n",
              "      <th>user_id</th>\n",
              "      <th>user_session</th>\n",
              "    </tr>\n",
              "  </thead>\n",
              "  <tbody>\n",
              "    <tr>\n",
              "      <th>0</th>\n",
              "      <td>2019-12-01 00:00:00 UTC</td>\n",
              "      <td>remove_from_cart</td>\n",
              "      <td>5712790</td>\n",
              "      <td>1487580005268456287</td>\n",
              "      <td>f.o.x</td>\n",
              "      <td>6.27</td>\n",
              "      <td>576802932</td>\n",
              "      <td>51d85cb0-897f-48d2-918b-ad63965c12dc</td>\n",
              "    </tr>\n",
              "    <tr>\n",
              "      <th>1</th>\n",
              "      <td>2019-12-01 00:00:00 UTC</td>\n",
              "      <td>view</td>\n",
              "      <td>5764655</td>\n",
              "      <td>1487580005411062629</td>\n",
              "      <td>cnd</td>\n",
              "      <td>29.05</td>\n",
              "      <td>412120092</td>\n",
              "      <td>8adff31e-2051-4894-9758-224bfa8aec18</td>\n",
              "    </tr>\n",
              "    <tr>\n",
              "      <th>2</th>\n",
              "      <td>2019-12-01 00:00:02 UTC</td>\n",
              "      <td>cart</td>\n",
              "      <td>4958</td>\n",
              "      <td>1487580009471148064</td>\n",
              "      <td>runail</td>\n",
              "      <td>1.19</td>\n",
              "      <td>494077766</td>\n",
              "      <td>c99a50e8-2fac-4c4d-89ec-41c05f114554</td>\n",
              "    </tr>\n",
              "  </tbody>\n",
              "</table>\n",
              "</div>"
            ],
            "text/plain": [
              "                event_time  ...                          user_session\n",
              "0  2019-12-01 00:00:00 UTC  ...  51d85cb0-897f-48d2-918b-ad63965c12dc\n",
              "1  2019-12-01 00:00:00 UTC  ...  8adff31e-2051-4894-9758-224bfa8aec18\n",
              "2  2019-12-01 00:00:02 UTC  ...  c99a50e8-2fac-4c4d-89ec-41c05f114554\n",
              "\n",
              "[3 rows x 8 columns]"
            ]
          },
          "execution_count": 8,
          "metadata": {
            "tags": []
          },
          "output_type": "execute_result"
        }
      ]
    },
    {
      "cell_type": "markdown",
      "metadata": {
        "id": "xnap3E4ia4Oo"
      },
      "source": [
        "### **Column: brand**"
      ]
    },
    {
      "cell_type": "code",
      "metadata": {
        "id": "Fo377N0CZwZQ"
      },
      "source": [
        "##Replace all null values \n",
        "df_Dec.brand = df_Dec.brand.replace(np.nan,'Not Available')"
      ],
      "execution_count": null,
      "outputs": []
    },
    {
      "cell_type": "code",
      "metadata": {
        "colab": {
          "base_uri": "https://localhost:8080/"
        },
        "id": "MaLTPcW8_OGv",
        "outputId": "b9e41c1b-6757-4027-c65c-759d763786c0"
      },
      "source": [
        "df_Dec.isnull().sum()"
      ],
      "execution_count": null,
      "outputs": [
        {
          "data": {
            "text/plain": [
              "event_time       0\n",
              "event_type       0\n",
              "product_id       0\n",
              "category_id      0\n",
              "brand            0\n",
              "price            0\n",
              "user_id          0\n",
              "user_session    15\n",
              "dtype: int64"
            ]
          },
          "execution_count": 10,
          "metadata": {
            "tags": []
          },
          "output_type": "execute_result"
        }
      ]
    },
    {
      "cell_type": "markdown",
      "metadata": {
        "id": "JyARlQUTbIVh"
      },
      "source": [
        "### **Column: event_time**"
      ]
    },
    {
      "cell_type": "code",
      "metadata": {
        "id": "zwePYjbpbXVI"
      },
      "source": [
        "##Converting the date type to datetime type for 'event_time'\n",
        "df_Dec['event_time'] = pd.to_datetime(df_Dec['event_time'], format='%Y-%m-%d %H:%M:%S UTC')"
      ],
      "execution_count": null,
      "outputs": []
    },
    {
      "cell_type": "code",
      "metadata": {
        "id": "uO8F3BA3cBgy"
      },
      "source": [
        "##Splitting event_time into 2 columns containing date and time respectively\n",
        "df_Dec['transaction_time'] = df_Dec['event_time'].dt.time\n",
        "df_Dec['transaction_date'] = df_Dec['event_time'].dt.normalize()"
      ],
      "execution_count": null,
      "outputs": []
    },
    {
      "cell_type": "code",
      "metadata": {
        "colab": {
          "base_uri": "https://localhost:8080/",
          "height": 130
        },
        "id": "FyU5FJcMhWJh",
        "outputId": "0fe4d5ae-191b-4081-c179-c29a799a5f9a"
      },
      "source": [
        "df_Dec.head(1)"
      ],
      "execution_count": null,
      "outputs": [
        {
          "data": {
            "text/html": [
              "<div>\n",
              "<style scoped>\n",
              "    .dataframe tbody tr th:only-of-type {\n",
              "        vertical-align: middle;\n",
              "    }\n",
              "\n",
              "    .dataframe tbody tr th {\n",
              "        vertical-align: top;\n",
              "    }\n",
              "\n",
              "    .dataframe thead th {\n",
              "        text-align: right;\n",
              "    }\n",
              "</style>\n",
              "<table border=\"1\" class=\"dataframe\">\n",
              "  <thead>\n",
              "    <tr style=\"text-align: right;\">\n",
              "      <th></th>\n",
              "      <th>event_time</th>\n",
              "      <th>event_type</th>\n",
              "      <th>product_id</th>\n",
              "      <th>category_id</th>\n",
              "      <th>brand</th>\n",
              "      <th>price</th>\n",
              "      <th>user_id</th>\n",
              "      <th>user_session</th>\n",
              "      <th>transaction_time</th>\n",
              "      <th>transaction_date</th>\n",
              "    </tr>\n",
              "  </thead>\n",
              "  <tbody>\n",
              "    <tr>\n",
              "      <th>0</th>\n",
              "      <td>2019-12-01</td>\n",
              "      <td>remove_from_cart</td>\n",
              "      <td>5712790</td>\n",
              "      <td>1487580005268456287</td>\n",
              "      <td>f.o.x</td>\n",
              "      <td>6.27</td>\n",
              "      <td>576802932</td>\n",
              "      <td>51d85cb0-897f-48d2-918b-ad63965c12dc</td>\n",
              "      <td>00:00:00</td>\n",
              "      <td>2019-12-01</td>\n",
              "    </tr>\n",
              "  </tbody>\n",
              "</table>\n",
              "</div>"
            ],
            "text/plain": [
              "  event_time        event_type  ...  transaction_time  transaction_date\n",
              "0 2019-12-01  remove_from_cart  ...          00:00:00        2019-12-01\n",
              "\n",
              "[1 rows x 10 columns]"
            ]
          },
          "execution_count": 13,
          "metadata": {
            "tags": []
          },
          "output_type": "execute_result"
        }
      ]
    },
    {
      "cell_type": "markdown",
      "metadata": {
        "id": "ipXcF4WcjJNq"
      },
      "source": [
        "### **product_id**"
      ]
    },
    {
      "cell_type": "code",
      "metadata": {
        "colab": {
          "base_uri": "https://localhost:8080/"
        },
        "id": "LMjdX_p9jnRN",
        "outputId": "a2aac99c-ffe3-462a-b2f7-be57a5e8c2f2"
      },
      "source": [
        "type(df_Dec['product_id'][2])"
      ],
      "execution_count": null,
      "outputs": [
        {
          "data": {
            "text/plain": [
              "numpy.int64"
            ]
          },
          "execution_count": 14,
          "metadata": {
            "tags": []
          },
          "output_type": "execute_result"
        }
      ]
    },
    {
      "cell_type": "code",
      "metadata": {
        "colab": {
          "base_uri": "https://localhost:8080/"
        },
        "id": "M60xcxHlkDlc",
        "outputId": "83c655db-85aa-48d9-90a7-85e5d0fd6aaa"
      },
      "source": [
        "## Counting how many unique products are in the dataset\n",
        "print('The total count for product id is:',df_Dec['product_id'].count())\n",
        "print('The total count for product id is:',len(df_Dec['product_id'].unique()))"
      ],
      "execution_count": null,
      "outputs": [
        {
          "name": "stdout",
          "output_type": "stream",
          "text": [
            "The total count for product id is: 50000\n",
            "The total count for product id is: 12964\n"
          ]
        }
      ]
    },
    {
      "cell_type": "markdown",
      "metadata": {
        "id": "69iNkZ3l9Wrp"
      },
      "source": [
        "### **price**"
      ]
    },
    {
      "cell_type": "code",
      "metadata": {
        "colab": {
          "base_uri": "https://localhost:8080/"
        },
        "id": "lxr-zzWW9V3A",
        "outputId": "f8be37b7-da55-4729-fc22-688396b9ea8d"
      },
      "source": [
        "##Handling negative prices\n",
        "df_Dec['price'].describe()"
      ],
      "execution_count": null,
      "outputs": [
        {
          "data": {
            "text/plain": [
              "count    50000.000000\n",
              "mean         8.543152\n",
              "std         20.043783\n",
              "min          0.000000\n",
              "25%          1.730000\n",
              "50%          3.970000\n",
              "75%          6.350000\n",
              "max        327.780000\n",
              "Name: price, dtype: float64"
            ]
          },
          "execution_count": 16,
          "metadata": {
            "tags": []
          },
          "output_type": "execute_result"
        }
      ]
    },
    {
      "cell_type": "code",
      "metadata": {
        "id": "7wMcRvAe9pPY"
      },
      "source": [
        "# df_Dec[df_Dec['price']<0]"
      ],
      "execution_count": null,
      "outputs": []
    },
    {
      "cell_type": "code",
      "metadata": {
        "id": "Vpvyh8qn-hCh"
      },
      "source": [
        "# df_Dec = df_Dec[df_Dec['price']>=0]\n",
        "# Commenting out since it is not applicable to sample data set."
      ],
      "execution_count": null,
      "outputs": []
    },
    {
      "cell_type": "markdown",
      "metadata": {
        "id": "Uh6AbwD7-xxN"
      },
      "source": [
        "### **user_session**"
      ]
    },
    {
      "cell_type": "code",
      "metadata": {
        "id": "Xjtcz0-2-spa"
      },
      "source": [
        "df_Dec.user_session = df_Dec.user_session.replace(np.nan,'Not Available')"
      ],
      "execution_count": null,
      "outputs": []
    },
    {
      "cell_type": "code",
      "metadata": {
        "colab": {
          "base_uri": "https://localhost:8080/"
        },
        "id": "Di3KDUeF_bI_",
        "outputId": "3000b96c-b39e-49b5-bd87-140c814be184"
      },
      "source": [
        "df_Dec.isnull().sum()"
      ],
      "execution_count": null,
      "outputs": [
        {
          "data": {
            "text/plain": [
              "event_time          0\n",
              "event_type          0\n",
              "product_id          0\n",
              "category_id         0\n",
              "brand               0\n",
              "price               0\n",
              "user_id             0\n",
              "user_session        0\n",
              "transaction_time    0\n",
              "transaction_date    0\n",
              "dtype: int64"
            ]
          },
          "execution_count": 18,
          "metadata": {
            "tags": []
          },
          "output_type": "execute_result"
        }
      ]
    },
    {
      "cell_type": "code",
      "metadata": {
        "colab": {
          "base_uri": "https://localhost:8080/",
          "height": 314
        },
        "id": "E3I9yadnkm2h",
        "outputId": "d9d16d03-f03d-4061-dba1-2a256d5218b1"
      },
      "source": [
        "#Count of event types\n",
        "plt.title('Count of view, purchase, cart event types')\n",
        "sns.countplot(x = 'event_type', data = df_Dec)"
      ],
      "execution_count": null,
      "outputs": [
        {
          "data": {
            "text/plain": [
              "<matplotlib.axes._subplots.AxesSubplot at 0x7f0fcd973ef0>"
            ]
          },
          "execution_count": 19,
          "metadata": {
            "tags": []
          },
          "output_type": "execute_result"
        },
        {
          "data": {
            "image/png": "[encoded data removed]",
            "text/plain": [
              "<Figure size 432x288 with 1 Axes>"
            ]
          },
          "metadata": {
            "tags": []
          },
          "output_type": "display_data"
        }
      ]
    },
    {
      "cell_type": "markdown",
      "metadata": {
        "id": "Y7URHBkaAVlF"
      },
      "source": [
        "The data looks quite balanced."
      ]
    },
    {
      "cell_type": "markdown",
      "metadata": {
        "id": "Qomvlpjb77Qp"
      },
      "source": [
        "# **EDA**"
      ]
    },
    {
      "cell_type": "code",
      "metadata": {
        "colab": {
          "base_uri": "https://localhost:8080/",
          "height": 195
        },
        "id": "BOLD4mDROwYb",
        "outputId": "3a0299de-e414-4c5d-af08-12526419d3ec"
      },
      "source": [
        "sns.set(style=\"ticks\")\n",
        "numcols = ['user_id', 'product_id', 'category_id', 'price']\n",
        "catcols = ['event_type','brand']\n",
        "# Subset the columns\n",
        "plot_df = df_Dec[numcols+ catcols]\n",
        "# Few rows of data\n",
        "plot_df.head()"
      ],
      "execution_count": null,
      "outputs": [
        {
          "data": {
            "text/html": [
              "<div>\n",
              "<style scoped>\n",
              "    .dataframe tbody tr th:only-of-type {\n",
              "        vertical-align: middle;\n",
              "    }\n",
              "\n",
              "    .dataframe tbody tr th {\n",
              "        vertical-align: top;\n",
              "    }\n",
              "\n",
              "    .dataframe thead th {\n",
              "        text-align: right;\n",
              "    }\n",
              "</style>\n",
              "<table border=\"1\" class=\"dataframe\">\n",
              "  <thead>\n",
              "    <tr style=\"text-align: right;\">\n",
              "      <th></th>\n",
              "      <th>user_id</th>\n",
              "      <th>product_id</th>\n",
              "      <th>category_id</th>\n",
              "      <th>price</th>\n",
              "      <th>event_type</th>\n",
              "      <th>brand</th>\n",
              "    </tr>\n",
              "  </thead>\n",
              "  <tbody>\n",
              "    <tr>\n",
              "      <th>0</th>\n",
              "      <td>576802932</td>\n",
              "      <td>5712790</td>\n",
              "      <td>1487580005268456287</td>\n",
              "      <td>6.27</td>\n",
              "      <td>remove_from_cart</td>\n",
              "      <td>f.o.x</td>\n",
              "    </tr>\n",
              "    <tr>\n",
              "      <th>1</th>\n",
              "      <td>412120092</td>\n",
              "      <td>5764655</td>\n",
              "      <td>1487580005411062629</td>\n",
              "      <td>29.05</td>\n",
              "      <td>view</td>\n",
              "      <td>cnd</td>\n",
              "    </tr>\n",
              "    <tr>\n",
              "      <th>2</th>\n",
              "      <td>494077766</td>\n",
              "      <td>4958</td>\n",
              "      <td>1487580009471148064</td>\n",
              "      <td>1.19</td>\n",
              "      <td>cart</td>\n",
              "      <td>runail</td>\n",
              "    </tr>\n",
              "    <tr>\n",
              "      <th>3</th>\n",
              "      <td>348405118</td>\n",
              "      <td>5848413</td>\n",
              "      <td>1487580007675986893</td>\n",
              "      <td>0.79</td>\n",
              "      <td>view</td>\n",
              "      <td>freedecor</td>\n",
              "    </tr>\n",
              "    <tr>\n",
              "      <th>4</th>\n",
              "      <td>576005683</td>\n",
              "      <td>5824148</td>\n",
              "      <td>1487580005511725929</td>\n",
              "      <td>5.56</td>\n",
              "      <td>view</td>\n",
              "      <td>Not Available</td>\n",
              "    </tr>\n",
              "  </tbody>\n",
              "</table>\n",
              "</div>"
            ],
            "text/plain": [
              "     user_id  product_id  ...        event_type          brand\n",
              "0  576802932     5712790  ...  remove_from_cart          f.o.x\n",
              "1  412120092     5764655  ...              view            cnd\n",
              "2  494077766        4958  ...              cart         runail\n",
              "3  348405118     5848413  ...              view      freedecor\n",
              "4  576005683     5824148  ...              view  Not Available\n",
              "\n",
              "[5 rows x 6 columns]"
            ]
          },
          "execution_count": 166,
          "metadata": {
            "tags": []
          },
          "output_type": "execute_result"
        }
      ]
    },
    {
      "cell_type": "code",
      "metadata": {
        "colab": {
          "base_uri": "https://localhost:8080/"
        },
        "id": "tdCCztVNPg4w",
        "outputId": "85fdfd4b-ce4e-4643-ec23-2d197f0a7c32"
      },
      "source": [
        "!pip install dython\n",
        "from dython import nominal"
      ],
      "execution_count": null,
      "outputs": [
        {
          "name": "stdout",
          "output_type": "stream",
          "text": [
            "Requirement already satisfied: dython in /usr/local/lib/python3.6/dist-packages (0.6.3)\n",
            "Requirement already satisfied: scipy in /usr/local/lib/python3.6/dist-packages (from dython) (1.4.1)\n",
            "Requirement already satisfied: pandas>=0.23.4 in /usr/local/lib/python3.6/dist-packages (from dython) (1.1.5)\n",
            "Requirement already satisfied: numpy in /usr/local/lib/python3.6/dist-packages (from dython) (1.19.5)\n",
            "Requirement already satisfied: matplotlib in /usr/local/lib/python3.6/dist-packages (from dython) (3.2.2)\n",
            "Requirement already satisfied: seaborn in /usr/local/lib/python3.6/dist-packages (from dython) (0.11.1)\n",
            "Requirement already satisfied: scikit-learn in /usr/local/lib/python3.6/dist-packages (from dython) (0.22.2.post1)\n",
            "Requirement already satisfied: python-dateutil>=2.7.3 in /usr/local/lib/python3.6/dist-packages (from pandas>=0.23.4->dython) (2.8.1)\n",
            "Requirement already satisfied: pytz>=2017.2 in /usr/local/lib/python3.6/dist-packages (from pandas>=0.23.4->dython) (2018.9)\n",
            "Requirement already satisfied: pyparsing!=2.0.4,!=2.1.2,!=2.1.6,>=2.0.1 in /usr/local/lib/python3.6/dist-packages (from matplotlib->dython) (2.4.7)\n",
            "Requirement already satisfied: cycler>=0.10 in /usr/local/lib/python3.6/dist-packages (from matplotlib->dython) (0.10.0)\n",
            "Requirement already satisfied: kiwisolver>=1.0.1 in /usr/local/lib/python3.6/dist-packages (from matplotlib->dython) (1.3.1)\n",
            "Requirement already satisfied: joblib>=0.11 in /usr/local/lib/python3.6/dist-packages (from scikit-learn->dython) (1.0.0)\n",
            "Requirement already satisfied: six>=1.5 in /usr/local/lib/python3.6/dist-packages (from python-dateutil>=2.7.3->pandas>=0.23.4->dython) (1.15.0)\n"
          ]
        }
      ]
    },
    {
      "cell_type": "code",
      "metadata": {
        "colab": {
          "base_uri": "https://localhost:8080/",
          "height": 565
        },
        "id": "7YM5pCbyP-_J",
        "outputId": "00baef51-3ff4-49a8-e60d-6ba40f9d3bc1"
      },
      "source": [
        "nominal.associations(plot_df, nominal_columns=catcols)"
      ],
      "execution_count": null,
      "outputs": [
        {
          "name": "stderr",
          "output_type": "stream",
          "text": [
            "/usr/local/lib/python3.6/dist-packages/pandas/core/frame.py:4327: SettingWithCopyWarning: \n",
            "A value is trying to be set on a copy of a slice from a DataFrame\n",
            "\n",
            "See the caveats in the documentation: https://pandas.pydata.org/pandas-docs/stable/user_guide/indexing.html#returning-a-view-versus-a-copy\n",
            "  downcast=downcast,\n"
          ]
        },
        {
          "data": {
            "image/png": "[encoded data removed]",
            "text/plain": [
              "<Figure size 432x288 with 2 Axes>"
            ]
          },
          "metadata": {
            "tags": []
          },
          "output_type": "display_data"
        },
        {
          "data": {
            "text/plain": [
              "{'ax': <matplotlib.axes._subplots.AxesSubplot at 0x7f8755fcff60>,\n",
              " 'corr':               user_id  product_id  category_id     price  event_type     brand\n",
              " user_id      1.000000    0.006763     0.013303  0.029179    0.081753  0.131367\n",
              " product_id   0.006763    1.000000     0.000979 -0.009795    0.020341  0.568457\n",
              " category_id  0.013303    0.000979     1.000000 -0.013430    0.021808  0.340815\n",
              " price        0.029179   -0.009795    -0.013430  1.000000    0.190350  0.777730\n",
              " event_type   0.081753    0.020341     0.021808  0.190350    1.000000  0.139854\n",
              " brand        0.131367    0.568457     0.340815  0.777730    0.139854  1.000000}"
            ]
          },
          "execution_count": 168,
          "metadata": {
            "tags": []
          },
          "output_type": "execute_result"
        }
      ]
    },
    {
      "cell_type": "markdown",
      "metadata": {
        "id": "EtksP-rUqdCj"
      },
      "source": [
        "We can see that the correlation between price and brand is the highest and the correlation between brand and product id is the second highest. There is a considerable correlation between category id and brand as well."
      ]
    },
    {
      "cell_type": "code",
      "metadata": {
        "id": "gAiUpklKICcA"
      },
      "source": [
        "## We are calculating the total amount spent by each customer.\n",
        "df1 = df_Dec.groupby(['user_id']).agg({'price': 'sum'}).reset_index()"
      ],
      "execution_count": null,
      "outputs": []
    },
    {
      "cell_type": "code",
      "metadata": {
        "colab": {
          "base_uri": "https://localhost:8080/",
          "height": 195
        },
        "id": "w9x0ml5oKk4N",
        "outputId": "3620d02a-dc24-4708-ab5a-78850efcb258"
      },
      "source": [
        "df1.head()"
      ],
      "execution_count": null,
      "outputs": [
        {
          "data": {
            "text/html": [
              "<div>\n",
              "<style scoped>\n",
              "    .dataframe tbody tr th:only-of-type {\n",
              "        vertical-align: middle;\n",
              "    }\n",
              "\n",
              "    .dataframe tbody tr th {\n",
              "        vertical-align: top;\n",
              "    }\n",
              "\n",
              "    .dataframe thead th {\n",
              "        text-align: right;\n",
              "    }\n",
              "</style>\n",
              "<table border=\"1\" class=\"dataframe\">\n",
              "  <thead>\n",
              "    <tr style=\"text-align: right;\">\n",
              "      <th></th>\n",
              "      <th>user_id</th>\n",
              "      <th>price</th>\n",
              "    </tr>\n",
              "  </thead>\n",
              "  <tbody>\n",
              "    <tr>\n",
              "      <th>0</th>\n",
              "      <td>31926511</td>\n",
              "      <td>91.45</td>\n",
              "    </tr>\n",
              "    <tr>\n",
              "      <th>1</th>\n",
              "      <td>48182054</td>\n",
              "      <td>277.08</td>\n",
              "    </tr>\n",
              "    <tr>\n",
              "      <th>2</th>\n",
              "      <td>59738436</td>\n",
              "      <td>33.02</td>\n",
              "    </tr>\n",
              "    <tr>\n",
              "      <th>3</th>\n",
              "      <td>69948697</td>\n",
              "      <td>6.19</td>\n",
              "    </tr>\n",
              "    <tr>\n",
              "      <th>4</th>\n",
              "      <td>72062431</td>\n",
              "      <td>178.44</td>\n",
              "    </tr>\n",
              "  </tbody>\n",
              "</table>\n",
              "</div>"
            ],
            "text/plain": [
              "    user_id   price\n",
              "0  31926511   91.45\n",
              "1  48182054  277.08\n",
              "2  59738436   33.02\n",
              "3  69948697    6.19\n",
              "4  72062431  178.44"
            ]
          },
          "execution_count": 170,
          "metadata": {
            "tags": []
          },
          "output_type": "execute_result"
        }
      ]
    },
    {
      "cell_type": "code",
      "metadata": {
        "colab": {
          "base_uri": "https://localhost:8080/",
          "height": 448
        },
        "id": "XEkQCvyFQgcs",
        "outputId": "6abbe292-25d2-499c-f2fa-d467f0847347"
      },
      "source": [
        "df1.plot.scatter(x='user_id', y='price', figsize=(8,6))"
      ],
      "execution_count": null,
      "outputs": [
        {
          "name": "stderr",
          "output_type": "stream",
          "text": [
            "*c* argument looks like a single numeric RGB or RGBA sequence, which should be avoided as value-mapping will have precedence in case its length matches with *x* & *y*.  Please use the *color* keyword-argument or provide a 2-D array with a single row if you intend to specify the same RGB or RGBA value for all points.\n"
          ]
        },
        {
          "data": {
            "text/plain": [
              "<matplotlib.axes._subplots.AxesSubplot at 0x7f8755ec1be0>"
            ]
          },
          "execution_count": 171,
          "metadata": {
            "tags": []
          },
          "output_type": "execute_result"
        },
        {
          "data": {
            "image/png": "[encoded data removed]",
            "text/plain": [
              "<Figure size 576x432 with 1 Axes>"
            ]
          },
          "metadata": {
            "tags": []
          },
          "output_type": "display_data"
        }
      ]
    },
    {
      "cell_type": "code",
      "metadata": {
        "id": "2Tyhe1GFSzDK"
      },
      "source": [
        "# df2 = df_Dec.groupby(['transaction_date']).count().reset_index()"
      ],
      "execution_count": null,
      "outputs": []
    },
    {
      "cell_type": "code",
      "metadata": {
        "colab": {
          "base_uri": "https://localhost:8080/"
        },
        "id": "IAKbMv8ZXjzn",
        "outputId": "11aa998e-54a7-4bdb-8a75-54808d01b060"
      },
      "source": [
        "len(df_Dec['category_id'].unique())"
      ],
      "execution_count": null,
      "outputs": [
        {
          "data": {
            "text/plain": [
              "381"
            ]
          },
          "execution_count": 172,
          "metadata": {
            "tags": []
          },
          "output_type": "execute_result"
        }
      ]
    },
    {
      "cell_type": "code",
      "metadata": {
        "colab": {
          "base_uri": "https://localhost:8080/",
          "height": 458
        },
        "id": "Kyl5BxVUu_YH",
        "outputId": "4f835c33-c9e8-4ad5-be2b-cee78b031aae"
      },
      "source": [
        "df_Dec.plot.scatter(x='user_id', y='category_id', figsize=(8,6))"
      ],
      "execution_count": null,
      "outputs": [
        {
          "name": "stderr",
          "output_type": "stream",
          "text": [
            "*c* argument looks like a single numeric RGB or RGBA sequence, which should be avoided as value-mapping will have precedence in case its length matches with *x* & *y*.  Please use the *color* keyword-argument or provide a 2-D array with a single row if you intend to specify the same RGB or RGBA value for all points.\n"
          ]
        },
        {
          "data": {
            "text/plain": [
              "<matplotlib.axes._subplots.AxesSubplot at 0x7f8755e41da0>"
            ]
          },
          "execution_count": 173,
          "metadata": {
            "tags": []
          },
          "output_type": "execute_result"
        },
        {
          "data": {
            "image/png": "[encoded data removed]",
            "text/plain": [
              "<Figure size 576x432 with 1 Axes>"
            ]
          },
          "metadata": {
            "tags": []
          },
          "output_type": "display_data"
        }
      ]
    },
    {
      "cell_type": "code",
      "metadata": {
        "id": "7Gks0024vVd6"
      },
      "source": [
        "# We are plotting only those users who 'purchased' items under the respective categories\n",
        "df3 = df_Dec[df_Dec[\"event_type\"] == \"purchase\"]"
      ],
      "execution_count": null,
      "outputs": []
    },
    {
      "cell_type": "code",
      "metadata": {
        "colab": {
          "base_uri": "https://localhost:8080/",
          "height": 458
        },
        "id": "EAG0YsDq65lX",
        "outputId": "1daf69ad-0ddc-47d9-cafd-18aabcad334d"
      },
      "source": [
        "df3.plot.scatter(x='user_id', y='category_id', figsize=(8,6))"
      ],
      "execution_count": null,
      "outputs": [
        {
          "name": "stderr",
          "output_type": "stream",
          "text": [
            "*c* argument looks like a single numeric RGB or RGBA sequence, which should be avoided as value-mapping will have precedence in case its length matches with *x* & *y*.  Please use the *color* keyword-argument or provide a 2-D array with a single row if you intend to specify the same RGB or RGBA value for all points.\n"
          ]
        },
        {
          "data": {
            "text/plain": [
              "<matplotlib.axes._subplots.AxesSubplot at 0x7f87ffad6390>"
            ]
          },
          "execution_count": 175,
          "metadata": {
            "tags": []
          },
          "output_type": "execute_result"
        },
        {
          "data": {
            "image/png": "[encoded data removed]",
            "text/plain": [
              "<Figure size 576x432 with 1 Axes>"
            ]
          },
          "metadata": {
            "tags": []
          },
          "output_type": "display_data"
        }
      ]
    },
    {
      "cell_type": "markdown",
      "metadata": {
        "id": "ONUS4VwBBzMz"
      },
      "source": [
        "# **K-Means using scikitLearn**\n",
        "We are clustering the users based on their spending behaviour. As shown above, we've computed the total amount spent by each user and stored in a dataframe called df1. \n",
        "We then plot the total amount against their respective user_id."
      ]
    },
    {
      "cell_type": "code",
      "metadata": {
        "colab": {
          "base_uri": "https://localhost:8080/",
          "height": 284
        },
        "id": "DqjHarw6-Z2b",
        "outputId": "08ed5db2-08d6-4b35-ddf9-c9ac1f909f38"
      },
      "source": [
        "# standardizing the data\n",
        "from sklearn.preprocessing import StandardScaler\n",
        "scaler = StandardScaler()\n",
        "data_scaled = scaler.fit_transform(df1)\n",
        "\n",
        "# statistics of scaled data\n",
        "pd.DataFrame(data_scaled).describe()"
      ],
      "execution_count": null,
      "outputs": [
        {
          "data": {
            "text/html": [
              "<div>\n",
              "<style scoped>\n",
              "    .dataframe tbody tr th:only-of-type {\n",
              "        vertical-align: middle;\n",
              "    }\n",
              "\n",
              "    .dataframe tbody tr th {\n",
              "        vertical-align: top;\n",
              "    }\n",
              "\n",
              "    .dataframe thead th {\n",
              "        text-align: right;\n",
              "    }\n",
              "</style>\n",
              "<table border=\"1\" class=\"dataframe\">\n",
              "  <thead>\n",
              "    <tr style=\"text-align: right;\">\n",
              "      <th></th>\n",
              "      <th>0</th>\n",
              "      <th>1</th>\n",
              "    </tr>\n",
              "  </thead>\n",
              "  <tbody>\n",
              "    <tr>\n",
              "      <th>count</th>\n",
              "      <td>7.292000e+03</td>\n",
              "      <td>7.292000e+03</td>\n",
              "    </tr>\n",
              "    <tr>\n",
              "      <th>mean</th>\n",
              "      <td>6.716149e-16</td>\n",
              "      <td>7.009691e-17</td>\n",
              "    </tr>\n",
              "    <tr>\n",
              "      <th>std</th>\n",
              "      <td>1.000069e+00</td>\n",
              "      <td>1.000069e+00</td>\n",
              "    </tr>\n",
              "    <tr>\n",
              "      <th>min</th>\n",
              "      <td>-6.470079e+00</td>\n",
              "      <td>-2.812090e-01</td>\n",
              "    </tr>\n",
              "    <tr>\n",
              "      <th>25%</th>\n",
              "      <td>-2.748715e-01</td>\n",
              "      <td>-2.560543e-01</td>\n",
              "    </tr>\n",
              "    <tr>\n",
              "      <th>50%</th>\n",
              "      <td>4.800756e-01</td>\n",
              "      <td>-2.092013e-01</td>\n",
              "    </tr>\n",
              "    <tr>\n",
              "      <th>75%</th>\n",
              "      <td>6.441085e-01</td>\n",
              "      <td>-2.596566e-02</td>\n",
              "    </tr>\n",
              "    <tr>\n",
              "      <th>max</th>\n",
              "      <td>6.462026e-01</td>\n",
              "      <td>6.237899e+01</td>\n",
              "    </tr>\n",
              "  </tbody>\n",
              "</table>\n",
              "</div>"
            ],
            "text/plain": [
              "                  0             1\n",
              "count  7.292000e+03  7.292000e+03\n",
              "mean   6.716149e-16  7.009691e-17\n",
              "std    1.000069e+00  1.000069e+00\n",
              "min   -6.470079e+00 -2.812090e-01\n",
              "25%   -2.748715e-01 -2.560543e-01\n",
              "50%    4.800756e-01 -2.092013e-01\n",
              "75%    6.441085e-01 -2.596566e-02\n",
              "max    6.462026e-01  6.237899e+01"
            ]
          },
          "execution_count": 178,
          "metadata": {
            "tags": []
          },
          "output_type": "execute_result"
        }
      ]
    },
    {
      "cell_type": "code",
      "metadata": {
        "colab": {
          "base_uri": "https://localhost:8080/",
          "height": 411
        },
        "id": "wu-fOdxxKQ1p",
        "outputId": "97fd1e13-71d9-44bd-fb4b-0878ba95491a"
      },
      "source": [
        "# fitting multiple k-means algorithms and storing the values in an empty list\n",
        "SSE = []\n",
        "for cluster in range(1,10):\n",
        "    kmeans = KMeans(n_jobs = -1, n_clusters = cluster, init='k-means++')\n",
        "    kmeans.fit(data_scaled)\n",
        "    SSE.append(kmeans.inertia_)\n",
        "\n",
        "# converting the results into a dataframe and plotting them\n",
        "frame = pd.DataFrame({'Cluster':range(1,10), 'SSE':SSE})\n",
        "plt.figure(figsize=(12,6))\n",
        "plt.plot(frame['Cluster'], frame['SSE'], marker='o')\n",
        "plt.xlabel('Number of clusters')\n",
        "plt.ylabel('Inertia')"
      ],
      "execution_count": null,
      "outputs": [
        {
          "data": {
            "text/plain": [
              "Text(0, 0.5, 'Inertia')"
            ]
          },
          "execution_count": 179,
          "metadata": {
            "tags": []
          },
          "output_type": "execute_result"
        },
        {
          "data": {
            "image/png": "[encoded data removed]",
            "text/plain": [
              "<Figure size 864x432 with 1 Axes>"
            ]
          },
          "metadata": {
            "tags": []
          },
          "output_type": "display_data"
        }
      ]
    },
    {
      "cell_type": "code",
      "metadata": {
        "id": "U2eir0y1LjPr"
      },
      "source": [
        "#Trying out 4 clusters decided from the above elbow plot\n",
        "kmeans = KMeans(n_clusters=4)\n",
        "kmeans.fit(data_scaled)\n",
        "y_kmeans = kmeans.predict(data_scaled)"
      ],
      "execution_count": null,
      "outputs": []
    },
    {
      "cell_type": "code",
      "metadata": {
        "colab": {
          "base_uri": "https://localhost:8080/",
          "height": 285
        },
        "id": "88C2jvQxL01X",
        "outputId": "6d12a4bf-688b-494c-8560-57030a72b4a4"
      },
      "source": [
        "plt.scatter(data_scaled[:, 0], data_scaled[:, 1], c=y_kmeans, s=50, cmap='viridis')\n",
        "\n",
        "centers = kmeans.cluster_centers_\n",
        "plt.scatter(centers[:, 0], centers[:, 1], c='black', s=200, alpha=0.5)"
      ],
      "execution_count": null,
      "outputs": [
        {
          "data": {
            "text/plain": [
              "<matplotlib.collections.PathCollection at 0x7f8755c81fd0>"
            ]
          },
          "execution_count": 181,
          "metadata": {
            "tags": []
          },
          "output_type": "execute_result"
        },
        {
          "data": {
            "image/png": "[encoded data removed]",
            "text/plain": [
              "<Figure size 432x288 with 1 Axes>"
            ]
          },
          "metadata": {
            "tags": []
          },
          "output_type": "display_data"
        }
      ]
    },
    {
      "cell_type": "markdown",
      "metadata": {
        "id": "RsUat18SiVpX"
      },
      "source": [
        "# **K-Means using tensor flow**"
      ]
    },
    {
      "cell_type": "code",
      "metadata": {
        "id": "sEj95lnWicsV"
      },
      "source": [
        "## tf.session seems to be deprecated Tensorflow 2.0 onwards\n",
        "tf.disable_v2_behavior()\n",
        "\n",
        "def kmeans(feature1, feature2, num_clusters, steps=100):\n",
        "    empty_list = []\n",
        "    for i in range(len(feature1)):\n",
        "        a = feature1[i]\n",
        "        b = feature2[i]\n",
        "        empty_list.append([a, b])\n",
        "    new_array = np.array(empty_list)\n",
        "    np.random.shuffle(new_array)    \n",
        "    \n",
        "    sess = tf.Session()\n",
        "    k = num_clusters\n",
        "    points = new_array\n",
        "    data = tf.constant(points)\n",
        "    \n",
        "    # random initial centroids (points shuffled above)\n",
        "    centroids = tf.Variable(data[:k, :])\n",
        "\n",
        "    # add k dim to data and n dim to centroids to make matrices compatible\n",
        "    # for array operations instead of loops\n",
        "    data_expanded = tf.expand_dims(data, 0)\n",
        "    centroids_expanded = tf.expand_dims(centroids, 1)\n",
        "\n",
        "    # computes squared Euclidean distance between every point and every centroid\n",
        "    # and get closest centroid for each point\n",
        "    allocations = tf.argmin(tf.reduce_sum(tf.square(data_expanded - centroids_expanded), 2), 0)\n",
        "\n",
        "    sess.run(tf.global_variables_initializer())\n",
        "    c = 0 # index of centroid\n",
        "    tf.equal(allocations, c)\n",
        "    tf.gather(data, tf.where(tf.equal(allocations, c)))\n",
        "\n",
        "    means = tf.concat(\n",
        "        [tf.reduce_mean(\n",
        "            tf.gather(data,\n",
        "                      tf.where(tf.equal(allocations, c))), 0) for c in range(k)], 0)\n",
        "\n",
        "    update_centroids = tf.assign(centroids, means)\n",
        "\n",
        "    for step in range(steps):\n",
        "        _, centroid_values, allocation_values = sess.run([update_centroids, centroids, allocations])\n",
        "        \n",
        "    num_clusters_df = pd.DataFrame({feature1.name: points[:,0], feature2.name: points[:,1], \"cluster\": allocation_values})\n",
        "    sns.lmplot(feature1.name, feature2.name, data=num_clusters_df, fit_reg=False, size=6, hue=\"cluster\")\n",
        "    plt.show()"
      ],
      "execution_count": null,
      "outputs": []
    },
    {
      "cell_type": "code",
      "metadata": {
        "colab": {
          "base_uri": "https://localhost:8080/",
          "height": 528
        },
        "id": "fZSqDLZfiiCK",
        "outputId": "4a2506c3-b126-4d4f-a37a-c9aae2e5e7cc"
      },
      "source": [
        "kmeans(df1['user_id'], df1['price'], 4)"
      ],
      "execution_count": null,
      "outputs": [
        {
          "name": "stderr",
          "output_type": "stream",
          "text": [
            "/usr/local/lib/python3.6/dist-packages/seaborn/_decorators.py:43: FutureWarning: Pass the following variables as keyword args: x, y. From version 0.12, the only valid positional argument will be `data`, and passing other arguments without an explicit keyword will result in an error or misinterpretation.\n",
            "  FutureWarning\n",
            "/usr/local/lib/python3.6/dist-packages/seaborn/regression.py:580: UserWarning: The `size` parameter has been renamed to `height`; please update your code.\n",
            "  warnings.warn(msg, UserWarning)\n"
          ]
        },
        {
          "data": {
            "image/png": "[encoded data removed]",
            "text/plain": [
              "<Figure size 481.8x432 with 1 Axes>"
            ]
          },
          "metadata": {
            "tags": []
          },
          "output_type": "display_data"
        }
      ]
    }
  ]
}
