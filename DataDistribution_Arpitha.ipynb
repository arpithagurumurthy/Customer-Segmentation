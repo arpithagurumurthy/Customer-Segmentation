{
  "nbformat": 4,
  "nbformat_minor": 0,
  "metadata": {
    "colab": {
      "name": "Assignment6_Arpitha_main.ipynb",
      "provenance": [],
      "collapsed_sections": [
        "UXtLDMmECyUr",
        "bODZO6rmXXS9",
        "TI_CnNBtEHIE",
        "koT4MdEqFvAk"
      ]
    },
    "kernelspec": {
      "name": "python3",
      "display_name": "Python 3"
    },
    "widgets": {
      "application/vnd.jupyter.widget-state+json": {
        "bf0200efcb054c00ab79700f4fbf4140": {
          "model_module": "@jupyter-widgets/controls",
          "model_name": "VBoxModel",
          "model_module_version": "1.5.0",
          "state": {
            "_view_name": "VBoxView",
            "_dom_classes": [
              "widget-interact"
            ],
            "_model_name": "VBoxModel",
            "_view_module": "@jupyter-widgets/controls",
            "_model_module_version": "1.5.0",
            "_view_count": null,
            "_view_module_version": "1.5.0",
            "box_style": "",
            "layout": "IPY_MODEL_1419eedc6de049f09087a3fdd4e9e08e",
            "_model_module": "@jupyter-widgets/controls",
            "children": [
              "IPY_MODEL_ab668710871448409f64575f9a6cb079",
              "IPY_MODEL_ea858196e38f4ffd957bf174872bf00f"
            ]
          }
        },
        "1419eedc6de049f09087a3fdd4e9e08e": {
          "model_module": "@jupyter-widgets/base",
          "model_name": "LayoutModel",
          "model_module_version": "1.2.0",
          "state": {
            "_view_name": "LayoutView",
            "grid_template_rows": null,
            "right": null,
            "justify_content": null,
            "_view_module": "@jupyter-widgets/base",
            "overflow": null,
            "_model_module_version": "1.2.0",
            "_view_count": null,
            "flex_flow": null,
            "width": null,
            "min_width": null,
            "border": null,
            "align_items": null,
            "bottom": null,
            "_model_module": "@jupyter-widgets/base",
            "top": null,
            "grid_column": null,
            "overflow_y": null,
            "overflow_x": null,
            "grid_auto_flow": null,
            "grid_area": null,
            "grid_template_columns": null,
            "flex": null,
            "_model_name": "LayoutModel",
            "justify_items": null,
            "grid_row": null,
            "max_height": null,
            "align_content": null,
            "visibility": null,
            "align_self": null,
            "height": null,
            "min_height": null,
            "padding": null,
            "grid_auto_rows": null,
            "grid_gap": null,
            "max_width": null,
            "order": null,
            "_view_module_version": "1.2.0",
            "grid_template_areas": null,
            "object_position": null,
            "object_fit": null,
            "grid_auto_columns": null,
            "margin": null,
            "display": null,
            "left": null
          }
        },
        "ab668710871448409f64575f9a6cb079": {
          "model_module": "@jupyter-widgets/controls",
          "model_name": "IntSliderModel",
          "model_module_version": "1.5.0",
          "state": {
            "_view_name": "IntSliderView",
            "style": "IPY_MODEL_3cf6685a48e94b638f4b6f5575f31697",
            "_dom_classes": [],
            "description": "spending_score",
            "step": 1,
            "_model_name": "IntSliderModel",
            "orientation": "horizontal",
            "max": 2,
            "_view_module": "@jupyter-widgets/controls",
            "_model_module_version": "1.5.0",
            "value": 2,
            "_view_count": null,
            "disabled": false,
            "_view_module_version": "1.5.0",
            "min": 0,
            "continuous_update": true,
            "readout_format": "d",
            "description_tooltip": null,
            "readout": true,
            "_model_module": "@jupyter-widgets/controls",
            "layout": "IPY_MODEL_ed79ea1d838447fd848383326bfad96d"
          }
        },
        "ea858196e38f4ffd957bf174872bf00f": {
          "model_module": "@jupyter-widgets/output",
          "model_name": "OutputModel",
          "model_module_version": "1.0.0",
          "state": {
            "_view_name": "OutputView",
            "msg_id": "287e6e6f5e9f4df790bd54d8d8b7ee3d",
            "_dom_classes": [],
            "_model_name": "OutputModel",
            "outputs": [
              {
                "output_type": "stream",
                "metadata": {
                  "tags": []
                },
                "text": "Do nothing\n",
                "stream": "stdout"
              }
            ],
            "_view_module": "@jupyter-widgets/output",
            "_model_module_version": "1.0.0",
            "_view_count": null,
            "_view_module_version": "1.0.0",
            "layout": "IPY_MODEL_103802d4d0dd4cbf87638b8406e7b04f",
            "_model_module": "@jupyter-widgets/output"
          }
        },
        "3cf6685a48e94b638f4b6f5575f31697": {
          "model_module": "@jupyter-widgets/controls",
          "model_name": "SliderStyleModel",
          "model_module_version": "1.5.0",
          "state": {
            "_view_name": "StyleView",
            "handle_color": null,
            "_model_name": "SliderStyleModel",
            "description_width": "",
            "_view_module": "@jupyter-widgets/base",
            "_model_module_version": "1.5.0",
            "_view_count": null,
            "_view_module_version": "1.2.0",
            "_model_module": "@jupyter-widgets/controls"
          }
        },
        "ed79ea1d838447fd848383326bfad96d": {
          "model_module": "@jupyter-widgets/base",
          "model_name": "LayoutModel",
          "model_module_version": "1.2.0",
          "state": {
            "_view_name": "LayoutView",
            "grid_template_rows": null,
            "right": null,
            "justify_content": null,
            "_view_module": "@jupyter-widgets/base",
            "overflow": null,
            "_model_module_version": "1.2.0",
            "_view_count": null,
            "flex_flow": null,
            "width": null,
            "min_width": null,
            "border": null,
            "align_items": null,
            "bottom": null,
            "_model_module": "@jupyter-widgets/base",
            "top": null,
            "grid_column": null,
            "overflow_y": null,
            "overflow_x": null,
            "grid_auto_flow": null,
            "grid_area": null,
            "grid_template_columns": null,
            "flex": null,
            "_model_name": "LayoutModel",
            "justify_items": null,
            "grid_row": null,
            "max_height": null,
            "align_content": null,
            "visibility": null,
            "align_self": null,
            "height": null,
            "min_height": null,
            "padding": null,
            "grid_auto_rows": null,
            "grid_gap": null,
            "max_width": null,
            "order": null,
            "_view_module_version": "1.2.0",
            "grid_template_areas": null,
            "object_position": null,
            "object_fit": null,
            "grid_auto_columns": null,
            "margin": null,
            "display": null,
            "left": null
          }
        },
        "103802d4d0dd4cbf87638b8406e7b04f": {
          "model_module": "@jupyter-widgets/base",
          "model_name": "LayoutModel",
          "model_module_version": "1.2.0",
          "state": {
            "_view_name": "LayoutView",
            "grid_template_rows": null,
            "right": null,
            "justify_content": null,
            "_view_module": "@jupyter-widgets/base",
            "overflow": null,
            "_model_module_version": "1.2.0",
            "_view_count": null,
            "flex_flow": null,
            "width": null,
            "min_width": null,
            "border": null,
            "align_items": null,
            "bottom": null,
            "_model_module": "@jupyter-widgets/base",
            "top": null,
            "grid_column": null,
            "overflow_y": null,
            "overflow_x": null,
            "grid_auto_flow": null,
            "grid_area": null,
            "grid_template_columns": null,
            "flex": null,
            "_model_name": "LayoutModel",
            "justify_items": null,
            "grid_row": null,
            "max_height": null,
            "align_content": null,
            "visibility": null,
            "align_self": null,
            "height": null,
            "min_height": null,
            "padding": null,
            "grid_auto_rows": null,
            "grid_gap": null,
            "max_width": null,
            "order": null,
            "_view_module_version": "1.2.0",
            "grid_template_areas": null,
            "object_position": null,
            "object_fit": null,
            "grid_auto_columns": null,
            "margin": null,
            "display": null,
            "left": null
          }
        }
      }
    }
  },
  "cells": [
    {
      "cell_type": "markdown",
      "metadata": {
        "id": "h1vQatvCC4Fk"
      },
      "source": [
        "# **Week 6 Assignment**\n",
        "\n",
        "Changing Data Distribution and seeing impact on Model Metrics and Visualizing Outcomes. </br>\n",
        "**Datasets:**\n",
        "1. Online multicategory store data\n",
        "2. Mall customer data\n",
        "\n",
        "Amalgamating the 2 datasets on column: **Spending Score** </br>\n",
        "Feature chosen for changing data distribution: \n",
        "1. **event_type**\n",
        "2. **Spending_Score**\n"
      ]
    },
    {
      "cell_type": "markdown",
      "metadata": {
        "id": "UXtLDMmECyUr"
      },
      "source": [
        "# **Installations and Data collection**"
      ]
    },
    {
      "cell_type": "code",
      "metadata": {
        "id": "8S5lFRm251wm"
      },
      "source": [
        "!pip install shap"
      ],
      "execution_count": null,
      "outputs": []
    },
    {
      "cell_type": "code",
      "metadata": {
        "id": "IUldNkUKxnCG"
      },
      "source": [
        "#Importing data from google sheets - multicategory dataset\n",
        "import warnings\n",
        "warnings.filterwarnings('ignore')\n",
        "from io import BytesIO\n",
        "import requests\n",
        "import pandas as pd\n",
        "import numpy as np\n",
        "import matplotlib.pyplot as plt\n",
        "%matplotlib inline\n",
        "from sklearn.cluster import KMeans\n",
        "import seaborn as sns\n",
        "import tensorflow.compat.v1 as tf\n",
        "r = requests.get('https://docs.google.com/spreadsheets/d/e/2PACX-1vTrfrhv1SOGSa0cLry-16Tx4ykJZBRDDjtCCJJzai0OtB8ewYbmzcSyNBSqvARAqHppa_NM1LH1-MEC/pub?gid=1654498000&single=true&output=csv')\n",
        "data = r.content\n",
        "df_Oct = pd.read_csv(BytesIO(data), nrows=5000)\n",
        "df_Oct = df_Oct.drop(columns='Unnamed: 0', axis=1)"
      ],
      "execution_count": null,
      "outputs": []
    },
    {
      "cell_type": "code",
      "metadata": {
        "id": "kLNPWZOuyhrR"
      },
      "source": [
        "##Importing the mall customer dataset\n",
        "r = requests.get('https://docs.google.com/spreadsheets/d/e/2PACX-1vT0HMaqAgd7d_EyMRByWkVp8JM7jmp_969OPyfDMsk4pHpdWjPeQQePP0Rrfm4bwWxQVh7lJPPZHJvi/pub?gid=0&single=true&output=csv')\n",
        "data = r.content\n",
        "df_Mall = pd.read_csv(BytesIO(data))"
      ],
      "execution_count": null,
      "outputs": []
    },
    {
      "cell_type": "code",
      "metadata": {
        "colab": {
          "base_uri": "https://localhost:8080/",
          "height": 262
        },
        "id": "m1kpouWvKxwu",
        "outputId": "95406347-5d68-4c99-b9c0-4227ad24e671"
      },
      "source": [
        "df_Oct.head(3)"
      ],
      "execution_count": null,
      "outputs": [
        {
          "output_type": "execute_result",
          "data": {
            "text/html": [
              "<div>\n",
              "<style scoped>\n",
              "    .dataframe tbody tr th:only-of-type {\n",
              "        vertical-align: middle;\n",
              "    }\n",
              "\n",
              "    .dataframe tbody tr th {\n",
              "        vertical-align: top;\n",
              "    }\n",
              "\n",
              "    .dataframe thead th {\n",
              "        text-align: right;\n",
              "    }\n",
              "</style>\n",
              "<table border=\"1\" class=\"dataframe\">\n",
              "  <thead>\n",
              "    <tr style=\"text-align: right;\">\n",
              "      <th></th>\n",
              "      <th>event_time</th>\n",
              "      <th>event_type</th>\n",
              "      <th>product_id</th>\n",
              "      <th>category_id</th>\n",
              "      <th>category_code</th>\n",
              "      <th>brand</th>\n",
              "      <th>price</th>\n",
              "      <th>user_id</th>\n",
              "      <th>user_session</th>\n",
              "      <th>total_spending</th>\n",
              "      <th>Spending_Score</th>\n",
              "    </tr>\n",
              "  </thead>\n",
              "  <tbody>\n",
              "    <tr>\n",
              "      <th>0</th>\n",
              "      <td>2019-10-01 00:00:00 UTC</td>\n",
              "      <td>view</td>\n",
              "      <td>44600062</td>\n",
              "      <td>2103807459595387724</td>\n",
              "      <td>NaN</td>\n",
              "      <td>shiseido</td>\n",
              "      <td>35.79</td>\n",
              "      <td>541312140</td>\n",
              "      <td>72d76fde-8bb3-4e00-8c23-a032dfed738c</td>\n",
              "      <td>71.58</td>\n",
              "      <td>6</td>\n",
              "    </tr>\n",
              "    <tr>\n",
              "      <th>1</th>\n",
              "      <td>2019-10-01 00:00:15 UTC</td>\n",
              "      <td>view</td>\n",
              "      <td>44600062</td>\n",
              "      <td>2103807459595387724</td>\n",
              "      <td>NaN</td>\n",
              "      <td>shiseido</td>\n",
              "      <td>35.79</td>\n",
              "      <td>541312140</td>\n",
              "      <td>72d76fde-8bb3-4e00-8c23-a032dfed738c</td>\n",
              "      <td>71.58</td>\n",
              "      <td>6</td>\n",
              "    </tr>\n",
              "    <tr>\n",
              "      <th>2</th>\n",
              "      <td>2019-10-01 00:00:00 UTC</td>\n",
              "      <td>view</td>\n",
              "      <td>3900821</td>\n",
              "      <td>2053013552326770905</td>\n",
              "      <td>appliances.environment.water_heater</td>\n",
              "      <td>aqua</td>\n",
              "      <td>33.20</td>\n",
              "      <td>554748717</td>\n",
              "      <td>9333dfbd-b87a-4708-9857-6336556b0fcc</td>\n",
              "      <td>277.56</td>\n",
              "      <td>25</td>\n",
              "    </tr>\n",
              "  </tbody>\n",
              "</table>\n",
              "</div>"
            ],
            "text/plain": [
              "                event_time event_type  ...  total_spending  Spending_Score\n",
              "0  2019-10-01 00:00:00 UTC       view  ...           71.58               6\n",
              "1  2019-10-01 00:00:15 UTC       view  ...           71.58               6\n",
              "2  2019-10-01 00:00:00 UTC       view  ...          277.56              25\n",
              "\n",
              "[3 rows x 11 columns]"
            ]
          },
          "metadata": {
            "tags": []
          },
          "execution_count": 115
        }
      ]
    },
    {
      "cell_type": "code",
      "metadata": {
        "colab": {
          "base_uri": "https://localhost:8080/",
          "height": 138
        },
        "id": "iwnJVJW3K05F",
        "outputId": "99c48bee-2de8-47b7-d45c-6d9e5edafd74"
      },
      "source": [
        "df_Mall.head(3)"
      ],
      "execution_count": null,
      "outputs": [
        {
          "output_type": "execute_result",
          "data": {
            "text/html": [
              "<div>\n",
              "<style scoped>\n",
              "    .dataframe tbody tr th:only-of-type {\n",
              "        vertical-align: middle;\n",
              "    }\n",
              "\n",
              "    .dataframe tbody tr th {\n",
              "        vertical-align: top;\n",
              "    }\n",
              "\n",
              "    .dataframe thead th {\n",
              "        text-align: right;\n",
              "    }\n",
              "</style>\n",
              "<table border=\"1\" class=\"dataframe\">\n",
              "  <thead>\n",
              "    <tr style=\"text-align: right;\">\n",
              "      <th></th>\n",
              "      <th>CustomerID</th>\n",
              "      <th>Genre</th>\n",
              "      <th>Age</th>\n",
              "      <th>Annual Income (k$)</th>\n",
              "      <th>Spending Score (1-100)</th>\n",
              "    </tr>\n",
              "  </thead>\n",
              "  <tbody>\n",
              "    <tr>\n",
              "      <th>0</th>\n",
              "      <td>1</td>\n",
              "      <td>Male</td>\n",
              "      <td>19</td>\n",
              "      <td>15</td>\n",
              "      <td>39</td>\n",
              "    </tr>\n",
              "    <tr>\n",
              "      <th>1</th>\n",
              "      <td>2</td>\n",
              "      <td>Male</td>\n",
              "      <td>21</td>\n",
              "      <td>15</td>\n",
              "      <td>81</td>\n",
              "    </tr>\n",
              "    <tr>\n",
              "      <th>2</th>\n",
              "      <td>3</td>\n",
              "      <td>Female</td>\n",
              "      <td>20</td>\n",
              "      <td>16</td>\n",
              "      <td>6</td>\n",
              "    </tr>\n",
              "  </tbody>\n",
              "</table>\n",
              "</div>"
            ],
            "text/plain": [
              "   CustomerID   Genre  Age  Annual Income (k$)  Spending Score (1-100)\n",
              "0           1    Male   19                  15                      39\n",
              "1           2    Male   21                  15                      81\n",
              "2           3  Female   20                  16                       6"
            ]
          },
          "metadata": {
            "tags": []
          },
          "execution_count": 5
        }
      ]
    },
    {
      "cell_type": "markdown",
      "metadata": {
        "id": "xofaoLePET8_"
      },
      "source": [
        "# **Pre-processing**"
      ]
    },
    {
      "cell_type": "markdown",
      "metadata": {
        "id": "bODZO6rmXXS9"
      },
      "source": [
        "### **Amalgamating the two datasets**"
      ]
    },
    {
      "cell_type": "code",
      "metadata": {
        "id": "LOokLtDezZfM"
      },
      "source": [
        "## We are calculating the total amount spent by each customer on electronice data.\n",
        "df1 = df_Oct.groupby(['user_id']).agg({'price': 'sum'}).reset_index()"
      ],
      "execution_count": null,
      "outputs": []
    },
    {
      "cell_type": "code",
      "metadata": {
        "colab": {
          "base_uri": "https://localhost:8080/",
          "height": 138
        },
        "id": "kXqLXgiQzbW8",
        "outputId": "7446c46e-3eb9-4a19-95ad-11c2ce3abf65"
      },
      "source": [
        "##Renaming the columns\n",
        "df1.columns = ['user_id','total_spending']\n",
        "df1.head(3)"
      ],
      "execution_count": null,
      "outputs": [
        {
          "output_type": "execute_result",
          "data": {
            "text/html": [
              "<div>\n",
              "<style scoped>\n",
              "    .dataframe tbody tr th:only-of-type {\n",
              "        vertical-align: middle;\n",
              "    }\n",
              "\n",
              "    .dataframe tbody tr th {\n",
              "        vertical-align: top;\n",
              "    }\n",
              "\n",
              "    .dataframe thead th {\n",
              "        text-align: right;\n",
              "    }\n",
              "</style>\n",
              "<table border=\"1\" class=\"dataframe\">\n",
              "  <thead>\n",
              "    <tr style=\"text-align: right;\">\n",
              "      <th></th>\n",
              "      <th>user_id</th>\n",
              "      <th>total_spending</th>\n",
              "    </tr>\n",
              "  </thead>\n",
              "  <tbody>\n",
              "    <tr>\n",
              "      <th>0</th>\n",
              "      <td>306441847</td>\n",
              "      <td>164.71</td>\n",
              "    </tr>\n",
              "    <tr>\n",
              "      <th>1</th>\n",
              "      <td>400972610</td>\n",
              "      <td>162.25</td>\n",
              "    </tr>\n",
              "    <tr>\n",
              "      <th>2</th>\n",
              "      <td>442188017</td>\n",
              "      <td>313.93</td>\n",
              "    </tr>\n",
              "  </tbody>\n",
              "</table>\n",
              "</div>"
            ],
            "text/plain": [
              "     user_id  total_spending\n",
              "0  306441847          164.71\n",
              "1  400972610          162.25\n",
              "2  442188017          313.93"
            ]
          },
          "metadata": {
            "tags": []
          },
          "execution_count": 7
        }
      ]
    },
    {
      "cell_type": "code",
      "metadata": {
        "colab": {
          "base_uri": "https://localhost:8080/"
        },
        "id": "hckAmweaZOxJ",
        "outputId": "81db8bc1-90b0-4db7-efe6-c204d1f02593"
      },
      "source": [
        "df1.shape"
      ],
      "execution_count": null,
      "outputs": [
        {
          "output_type": "execute_result",
          "data": {
            "text/plain": [
              "(1747, 2)"
            ]
          },
          "metadata": {
            "tags": []
          },
          "execution_count": 8
        }
      ]
    },
    {
      "cell_type": "code",
      "metadata": {
        "id": "e2pD2GqozdVh"
      },
      "source": [
        "#Join the df_Oct df with the df1 df \n",
        "df_Oct = df_Oct.merge(df1,on='user_id')"
      ],
      "execution_count": null,
      "outputs": []
    },
    {
      "cell_type": "code",
      "metadata": {
        "colab": {
          "base_uri": "https://localhost:8080/"
        },
        "id": "-t1UfMTHZLoM",
        "outputId": "714bbcc2-077a-49bb-d839-f52733ce0bff"
      },
      "source": [
        "df_Oct.shape"
      ],
      "execution_count": null,
      "outputs": [
        {
          "output_type": "execute_result",
          "data": {
            "text/plain": [
              "(5000, 10)"
            ]
          },
          "metadata": {
            "tags": []
          },
          "execution_count": 10
        }
      ]
    },
    {
      "cell_type": "code",
      "metadata": {
        "id": "-CAJdPeRzfMR"
      },
      "source": [
        "##Calculating spending score to merge with mall customer dataset: Scaling down column 'total_spending'\n",
        "df_Oct['Spending_Score'] = pd.qcut(df_Oct['total_spending'], q=100, labels=False)"
      ],
      "execution_count": null,
      "outputs": []
    },
    {
      "cell_type": "code",
      "metadata": {
        "colab": {
          "base_uri": "https://localhost:8080/"
        },
        "id": "KGow9UK8ZTa3",
        "outputId": "884403cf-753c-4c84-d9f4-2b0eb73ccd25"
      },
      "source": [
        "len(df_Oct['Spending_Score'].unique())"
      ],
      "execution_count": null,
      "outputs": [
        {
          "output_type": "execute_result",
          "data": {
            "text/plain": [
              "100"
            ]
          },
          "metadata": {
            "tags": []
          },
          "execution_count": 12
        }
      ]
    },
    {
      "cell_type": "code",
      "metadata": {
        "id": "nSPgRu51zhto"
      },
      "source": [
        "##Dropping the columns not needed for merge\n",
        "df_Mall = df_Mall.drop(columns=['CustomerID','Annual Income (k$)'])"
      ],
      "execution_count": null,
      "outputs": []
    },
    {
      "cell_type": "code",
      "metadata": {
        "colab": {
          "base_uri": "https://localhost:8080/",
          "height": 138
        },
        "id": "poo9GZpuzkMQ",
        "outputId": "e3354902-07fb-44e2-c1ef-f47d9e18c863"
      },
      "source": [
        "df_Mall.columns = ['Gender','Age','Spending_Score']\n",
        "df_Mall.head(3)"
      ],
      "execution_count": null,
      "outputs": [
        {
          "output_type": "execute_result",
          "data": {
            "text/html": [
              "<div>\n",
              "<style scoped>\n",
              "    .dataframe tbody tr th:only-of-type {\n",
              "        vertical-align: middle;\n",
              "    }\n",
              "\n",
              "    .dataframe tbody tr th {\n",
              "        vertical-align: top;\n",
              "    }\n",
              "\n",
              "    .dataframe thead th {\n",
              "        text-align: right;\n",
              "    }\n",
              "</style>\n",
              "<table border=\"1\" class=\"dataframe\">\n",
              "  <thead>\n",
              "    <tr style=\"text-align: right;\">\n",
              "      <th></th>\n",
              "      <th>Gender</th>\n",
              "      <th>Age</th>\n",
              "      <th>Spending_Score</th>\n",
              "    </tr>\n",
              "  </thead>\n",
              "  <tbody>\n",
              "    <tr>\n",
              "      <th>0</th>\n",
              "      <td>Male</td>\n",
              "      <td>19</td>\n",
              "      <td>39</td>\n",
              "    </tr>\n",
              "    <tr>\n",
              "      <th>1</th>\n",
              "      <td>Male</td>\n",
              "      <td>21</td>\n",
              "      <td>81</td>\n",
              "    </tr>\n",
              "    <tr>\n",
              "      <th>2</th>\n",
              "      <td>Female</td>\n",
              "      <td>20</td>\n",
              "      <td>6</td>\n",
              "    </tr>\n",
              "  </tbody>\n",
              "</table>\n",
              "</div>"
            ],
            "text/plain": [
              "   Gender  Age  Spending_Score\n",
              "0    Male   19              39\n",
              "1    Male   21              81\n",
              "2  Female   20               6"
            ]
          },
          "metadata": {
            "tags": []
          },
          "execution_count": 14
        }
      ]
    },
    {
      "cell_type": "code",
      "metadata": {
        "colab": {
          "base_uri": "https://localhost:8080/",
          "height": 262
        },
        "id": "Hmi4R2j5zmPU",
        "outputId": "bc7aa767-bf28-4d6b-a4a1-b1cfff263753"
      },
      "source": [
        "amalgamated_df = df_Oct.merge(df_Mall,on=['Spending_Score'])\n",
        "amalgamated_df.head(3)"
      ],
      "execution_count": null,
      "outputs": [
        {
          "output_type": "execute_result",
          "data": {
            "text/html": [
              "<div>\n",
              "<style scoped>\n",
              "    .dataframe tbody tr th:only-of-type {\n",
              "        vertical-align: middle;\n",
              "    }\n",
              "\n",
              "    .dataframe tbody tr th {\n",
              "        vertical-align: top;\n",
              "    }\n",
              "\n",
              "    .dataframe thead th {\n",
              "        text-align: right;\n",
              "    }\n",
              "</style>\n",
              "<table border=\"1\" class=\"dataframe\">\n",
              "  <thead>\n",
              "    <tr style=\"text-align: right;\">\n",
              "      <th></th>\n",
              "      <th>event_time</th>\n",
              "      <th>event_type</th>\n",
              "      <th>product_id</th>\n",
              "      <th>category_id</th>\n",
              "      <th>category_code</th>\n",
              "      <th>brand</th>\n",
              "      <th>price</th>\n",
              "      <th>user_id</th>\n",
              "      <th>user_session</th>\n",
              "      <th>total_spending</th>\n",
              "      <th>Spending_Score</th>\n",
              "      <th>Gender</th>\n",
              "      <th>Age</th>\n",
              "    </tr>\n",
              "  </thead>\n",
              "  <tbody>\n",
              "    <tr>\n",
              "      <th>0</th>\n",
              "      <td>2019-10-01 00:00:00 UTC</td>\n",
              "      <td>view</td>\n",
              "      <td>44600062</td>\n",
              "      <td>2103807459595387724</td>\n",
              "      <td>NaN</td>\n",
              "      <td>shiseido</td>\n",
              "      <td>35.79</td>\n",
              "      <td>541312140</td>\n",
              "      <td>72d76fde-8bb3-4e00-8c23-a032dfed738c</td>\n",
              "      <td>71.58</td>\n",
              "      <td>6</td>\n",
              "      <td>Female</td>\n",
              "      <td>20</td>\n",
              "    </tr>\n",
              "    <tr>\n",
              "      <th>1</th>\n",
              "      <td>2019-10-01 00:00:00 UTC</td>\n",
              "      <td>view</td>\n",
              "      <td>44600062</td>\n",
              "      <td>2103807459595387724</td>\n",
              "      <td>NaN</td>\n",
              "      <td>shiseido</td>\n",
              "      <td>35.79</td>\n",
              "      <td>541312140</td>\n",
              "      <td>72d76fde-8bb3-4e00-8c23-a032dfed738c</td>\n",
              "      <td>71.58</td>\n",
              "      <td>6</td>\n",
              "      <td>Female</td>\n",
              "      <td>35</td>\n",
              "    </tr>\n",
              "    <tr>\n",
              "      <th>2</th>\n",
              "      <td>2019-10-01 00:00:15 UTC</td>\n",
              "      <td>view</td>\n",
              "      <td>44600062</td>\n",
              "      <td>2103807459595387724</td>\n",
              "      <td>NaN</td>\n",
              "      <td>shiseido</td>\n",
              "      <td>35.79</td>\n",
              "      <td>541312140</td>\n",
              "      <td>72d76fde-8bb3-4e00-8c23-a032dfed738c</td>\n",
              "      <td>71.58</td>\n",
              "      <td>6</td>\n",
              "      <td>Female</td>\n",
              "      <td>20</td>\n",
              "    </tr>\n",
              "  </tbody>\n",
              "</table>\n",
              "</div>"
            ],
            "text/plain": [
              "                event_time event_type  product_id  ...  Spending_Score  Gender Age\n",
              "0  2019-10-01 00:00:00 UTC       view    44600062  ...               6  Female  20\n",
              "1  2019-10-01 00:00:00 UTC       view    44600062  ...               6  Female  35\n",
              "2  2019-10-01 00:00:15 UTC       view    44600062  ...               6  Female  20\n",
              "\n",
              "[3 rows x 13 columns]"
            ]
          },
          "metadata": {
            "tags": []
          },
          "execution_count": 15
        }
      ]
    },
    {
      "cell_type": "code",
      "metadata": {
        "colab": {
          "base_uri": "https://localhost:8080/"
        },
        "id": "ToGOuPHoKqf4",
        "outputId": "507b51c3-6405-4b37-eb67-83844253e897"
      },
      "source": [
        "amalgamated_df.shape"
      ],
      "execution_count": null,
      "outputs": [
        {
          "output_type": "execute_result",
          "data": {
            "text/plain": [
              "(9931, 13)"
            ]
          },
          "metadata": {
            "tags": []
          },
          "execution_count": 16
        }
      ]
    },
    {
      "cell_type": "markdown",
      "metadata": {
        "id": "TI_CnNBtEHIE"
      },
      "source": [
        "### **converting categorical to numeric data**"
      ]
    },
    {
      "cell_type": "code",
      "metadata": {
        "colab": {
          "base_uri": "https://localhost:8080/"
        },
        "id": "gGsaZlOgz1EP",
        "outputId": "a1a2ea8e-e6ec-46cd-f146-779dab23a8e5"
      },
      "source": [
        "##Checking for null values\n",
        "amalgamated_df.isnull().sum()"
      ],
      "execution_count": null,
      "outputs": [
        {
          "output_type": "execute_result",
          "data": {
            "text/plain": [
              "event_time           0\n",
              "event_type           0\n",
              "product_id           0\n",
              "category_id          0\n",
              "category_code     3004\n",
              "brand             1308\n",
              "price                0\n",
              "user_id              0\n",
              "user_session         0\n",
              "total_spending       0\n",
              "Spending_Score       0\n",
              "Gender               0\n",
              "Age                  0\n",
              "dtype: int64"
            ]
          },
          "metadata": {
            "tags": []
          },
          "execution_count": 17
        }
      ]
    },
    {
      "cell_type": "code",
      "metadata": {
        "id": "nKjqlHEIagFZ"
      },
      "source": [
        "##Taking care of the null values in the dataset\n",
        "amalgamated_df.dropna(inplace=True)"
      ],
      "execution_count": null,
      "outputs": []
    },
    {
      "cell_type": "code",
      "metadata": {
        "colab": {
          "base_uri": "https://localhost:8080/"
        },
        "id": "lXS7B7yralcL",
        "outputId": "bf441026-a4b7-484c-8735-9dd351e00a0e"
      },
      "source": [
        "amalgamated_df.isnull().sum()"
      ],
      "execution_count": null,
      "outputs": [
        {
          "output_type": "execute_result",
          "data": {
            "text/plain": [
              "event_time        0\n",
              "event_type        0\n",
              "product_id        0\n",
              "category_id       0\n",
              "category_code     0\n",
              "brand             0\n",
              "price             0\n",
              "user_id           0\n",
              "user_session      0\n",
              "total_spending    0\n",
              "Spending_Score    0\n",
              "Gender            0\n",
              "Age               0\n",
              "dtype: int64"
            ]
          },
          "metadata": {
            "tags": []
          },
          "execution_count": 19
        }
      ]
    },
    {
      "cell_type": "code",
      "metadata": {
        "colab": {
          "base_uri": "https://localhost:8080/"
        },
        "id": "2GwE9Lgaa6S3",
        "outputId": "13f1c33f-5c75-473e-acc5-e9475f48ccbb"
      },
      "source": [
        "amalgamated_df.shape"
      ],
      "execution_count": null,
      "outputs": [
        {
          "output_type": "execute_result",
          "data": {
            "text/plain": [
              "(6469, 13)"
            ]
          },
          "metadata": {
            "tags": []
          },
          "execution_count": 20
        }
      ]
    },
    {
      "cell_type": "code",
      "metadata": {
        "id": "aqlmZEOW548E"
      },
      "source": [
        "##Column: gender convert to numeric\n",
        "amalgamated_df['Gender'].replace({\n",
        "    'Male': 0,\n",
        "    'Female': 1\n",
        "}, inplace=True)"
      ],
      "execution_count": null,
      "outputs": []
    },
    {
      "cell_type": "code",
      "metadata": {
        "id": "AkCSc8Pe6kq7"
      },
      "source": [
        "##Column: brand convert to numeric\n",
        "from sklearn import preprocessing\n",
        "le = preprocessing.LabelEncoder()\n",
        "amalgamated_df['brand'] = le.fit_transform(amalgamated_df.brand.values)"
      ],
      "execution_count": null,
      "outputs": []
    },
    {
      "cell_type": "code",
      "metadata": {
        "id": "HhkeL7PV6igr"
      },
      "source": [
        "###Column: event_type convert to numeric\n",
        "amalgamated_df['event_type'].replace({\n",
        "    'view': 0,\n",
        "    'cart': 0,\n",
        "    'purchase': 1\n",
        "}, inplace=True)"
      ],
      "execution_count": null,
      "outputs": []
    },
    {
      "cell_type": "code",
      "metadata": {
        "colab": {
          "base_uri": "https://localhost:8080/",
          "height": 314
        },
        "id": "QozFcgO8sxxV",
        "outputId": "01c3d091-f0f5-48d9-9698-cf98021d8033"
      },
      "source": [
        "plt.title('Count of view and purchase event types')\n",
        "sns.countplot(x = 'event_type', data = amalgamated_df)"
      ],
      "execution_count": null,
      "outputs": [
        {
          "output_type": "execute_result",
          "data": {
            "text/plain": [
              "<matplotlib.axes._subplots.AxesSubplot at 0x7f26aedeef90>"
            ]
          },
          "metadata": {
            "tags": []
          },
          "execution_count": 24
        },
        {
          "output_type": "display_data",
          "data": {
            "image/png": "[encoded data removed]",
            "text/plain": [
              "<Figure size 432x288 with 1 Axes>"
            ]
          },
          "metadata": {
            "tags": [],
            "needs_background": "light"
          }
        }
      ]
    },
    {
      "cell_type": "markdown",
      "metadata": {
        "id": "koT4MdEqFvAk"
      },
      "source": [
        "# **SHAP**\n",
        "To understand feature importance"
      ]
    },
    {
      "cell_type": "code",
      "metadata": {
        "colab": {
          "base_uri": "https://localhost:8080/"
        },
        "id": "2h-WfSaOF0Hm",
        "outputId": "33b3e37b-0543-4872-98b5-f993640d5e58"
      },
      "source": [
        "import pandas as pd\n",
        "import numpy as np\n",
        "import matplotlib.pyplot as plt\n",
        "from sklearn.model_selection import train_test_split\n",
        "from sklearn import preprocessing\n",
        "from sklearn.ensemble import RandomForestRegressor\n",
        "# The target variable is 'quality'.\n",
        "Y = amalgamated_df['event_type']\n",
        "X =  amalgamated_df[['product_id', 'category_id', 'Age','Gender', 'brand','price','Spending_Score']]\n",
        "# Split the data into train and test data:\n",
        "X_train, X_test, Y_train, Y_test = train_test_split(X, Y, test_size = 0.2)\n",
        "# Build the model with the random forest regression algorithm:\n",
        "model = RandomForestRegressor(max_depth=6, random_state=0, n_estimators=10)\n",
        "model.fit(X_train, Y_train)"
      ],
      "execution_count": null,
      "outputs": [
        {
          "output_type": "execute_result",
          "data": {
            "text/plain": [
              "RandomForestRegressor(bootstrap=True, ccp_alpha=0.0, criterion='mse',\n",
              "                      max_depth=6, max_features='auto', max_leaf_nodes=None,\n",
              "                      max_samples=None, min_impurity_decrease=0.0,\n",
              "                      min_impurity_split=None, min_samples_leaf=1,\n",
              "                      min_samples_split=2, min_weight_fraction_leaf=0.0,\n",
              "                      n_estimators=10, n_jobs=None, oob_score=False,\n",
              "                      random_state=0, verbose=0, warm_start=False)"
            ]
          },
          "metadata": {
            "tags": []
          },
          "execution_count": 120
        }
      ]
    },
    {
      "cell_type": "code",
      "metadata": {
        "colab": {
          "base_uri": "https://localhost:8080/",
          "height": 299
        },
        "id": "L4t3ReYuF9yg",
        "outputId": "a81dbfdc-8128-48a4-cf08-4baceb22b9f6"
      },
      "source": [
        "import shap\n",
        "shap_values = shap.TreeExplainer(model).shap_values(X_train)\n",
        "shap.summary_plot(shap_values, X_train, plot_type=\"bar\")"
      ],
      "execution_count": null,
      "outputs": [
        {
          "output_type": "display_data",
          "data": {
            "image/png": "[encoded data removed]",
            "text/plain": [
              "<Figure size 576x309.6 with 1 Axes>"
            ]
          },
          "metadata": {
            "tags": [],
            "needs_background": "light"
          }
        }
      ]
    },
    {
      "cell_type": "markdown",
      "metadata": {
        "id": "ooz0S6XdE19s"
      },
      "source": [
        "# **Muller loop helper function**"
      ]
    },
    {
      "cell_type": "code",
      "metadata": {
        "id": "1Ykh0RDpE5pm"
      },
      "source": [
        "#Importing required libraries\n",
        "from sklearn.neural_network import MLPClassifier\n",
        "from sklearn.neighbors import KNeighborsClassifier\n",
        "from sklearn.svm import SVC\n",
        "from sklearn.gaussian_process import GaussianProcessClassifier\n",
        "from sklearn.gaussian_process.kernels import RBF\n",
        "from sklearn.tree import DecisionTreeClassifier\n",
        "from sklearn.ensemble import RandomForestClassifier, AdaBoostClassifier\n",
        "from sklearn.naive_bayes import GaussianNB\n",
        "from sklearn.discriminant_analysis import QuadraticDiscriminantAnalysis\n",
        "from sklearn.preprocessing import StandardScaler\n",
        "from sklearn.model_selection import train_test_split\n",
        "import matplotlib.pyplot as plt  \n",
        "from sklearn.datasets import make_classification\n",
        "from sklearn.metrics import confusion_matrix, classification_report\n",
        "from sklearn.metrics import plot_confusion_matrix\n",
        "from sklearn.model_selection import train_test_split\n",
        "from sklearn.svm import SVC\n",
        "from sklearn.datasets import make_classification\n",
        "from sklearn.linear_model import LogisticRegression\n",
        "from sklearn.model_selection import train_test_split\n",
        "from sklearn.metrics import roc_curve\n",
        "from sklearn.metrics import roc_auc_score\n",
        "from matplotlib import pyplot"
      ],
      "execution_count": null,
      "outputs": []
    },
    {
      "cell_type": "code",
      "metadata": {
        "id": "YOG8JkvidVnV"
      },
      "source": [
        "##Function top plot roc graph\n",
        "def roc_auc_graph(df_roc, clf_best, max_class):\n",
        "  X = df_roc[['product_id', 'Age', 'brand','price', 'Spending_Score']]\n",
        "  y = df_roc[['event_type']]\n",
        "  X = StandardScaler().fit_transform(X)\n",
        "  # split into train/test sets\n",
        "  trainX, testX, trainy, testy = train_test_split(X, y, test_size=0.5, random_state=2)\n",
        "  # generate a no skill prediction (majority class)\n",
        "  ns_probs = [0 for _ in range(len(testy))]\n",
        "  # fit a model\n",
        "  model = clf_best\n",
        "  # model.fit(trainX, trainy)\n",
        "  # predict probabilities\n",
        "  lr_probs = model.predict_proba(testX)\n",
        "  # keep probabilities for the positive outcome only\n",
        "  lr_probs = lr_probs[:, 1]\n",
        "  # calculate scores\n",
        "  ns_auc = roc_auc_score(testy, ns_probs)\n",
        "  lr_auc = roc_auc_score(testy, lr_probs)\n",
        "  # summarize scores\n",
        "  print('No Skill: ROC AUC=%.3f' % (ns_auc))\n",
        "  print(max_class+': ROC AUC=%.3f' % (lr_auc))\n",
        "  # calculate roc curves\n",
        "  ns_fpr, ns_tpr, _ = roc_curve(testy, ns_probs)\n",
        "  lr_fpr, lr_tpr, _ = roc_curve(testy, lr_probs)\n",
        "  # plot the roc curve for the model\n",
        "  pyplot.plot(ns_fpr, ns_tpr, linestyle='--', label='No Skill')\n",
        "  pyplot.plot(lr_fpr, lr_tpr, marker='.', label=max_class)\n",
        "  # axis labels\n",
        "  pyplot.xlabel('False Positive Rate')\n",
        "  pyplot.ylabel('True Positive Rate')\n",
        "  # show the legend\n",
        "  pyplot.legend()\n",
        "  # show the plot\n",
        "  pyplot.show()"
      ],
      "execution_count": null,
      "outputs": []
    },
    {
      "cell_type": "code",
      "metadata": {
        "id": "MZbaZ_dk211f"
      },
      "source": [
        "def calc_F1_Score(df_fscore, clf_best, max_class):\n",
        "  X = df_fscore[['product_id', 'Age', 'brand','price', 'Spending_Score']]\n",
        "  y = df_fscore[['event_type']]\n",
        "  X = StandardScaler().fit_transform(X)\n",
        "  # split into train/test sets\n",
        "  trainX, testX, trainy, testy = train_test_split(X, y, test_size=0.5, random_state=2)\n",
        "\n",
        "  model = clf_best\n",
        "#  model.fit(trainX, trainy)\n",
        "  # generate data\n",
        "  trainX, trainy, testX, testy = get_data()\n",
        "  # fit model\n",
        "  model = get_model(trainX, trainy)\n",
        "\n",
        "  yhat_probs = model.predict(testX)\n",
        "  # predict crisp classes for test set\n",
        "  yhat_classes = model.predict_classes(testX)\n",
        "  yhat_probs = yhat_probs[:, 0]\n",
        "  yhat_classes = yhat_classes[:, 0]\n",
        "  # accuracy: (tp + tn) / (p + n)\n",
        "  accuracy = accuracy_score(testy, yhat_classes)\n",
        "  print('Accuracy: %f' % accuracy)\n",
        "  # precision tp / (tp + fp)\n",
        "  precision = precision_score(testy, yhat_classes)\n",
        "  print('Precision: %f' % precision)\n",
        "  # recall: tp / (tp + fn)\n",
        "  recall = recall_score(testy, yhat_classes)\n",
        "  print('Recall: %f' % recall)\n",
        "  # f1: 2 tp / (2 tp + fp + fn)\n",
        "  f1 = f1_score(testy, yhat_classes)\n",
        "  print('F1 score: %f' % f1)"
      ],
      "execution_count": null,
      "outputs": []
    },
    {
      "cell_type": "code",
      "metadata": {
        "id": "eaNXMOxeE-IS"
      },
      "source": [
        "def muller_loop(muller_df):\n",
        "  df_compare_muller = pd.DataFrame(columns=['Classifier','Accuracy/Score', 'Training Time'])\n",
        "  import time as time\n",
        "  import xgboost as xgb\n",
        "  names = [\"XGBoost\",\"MLP\",\"Random Forest\", \"Nearest Neighbors\"]\n",
        "\n",
        "  classifiers = [\n",
        "      xgb.XGBClassifier(max_depth=5, learning_rate=0.1,n_jobs=-1),\n",
        "      MLPClassifier(),\n",
        "      RandomForestClassifier(max_depth=5, n_estimators=10, max_features=1),\n",
        "      KNeighborsClassifier(2)]\n",
        "\n",
        "  X = muller_df[['product_id', 'Age', 'brand','price', 'Spending_Score']]\n",
        "  y = muller_df[['event_type']]\n",
        "  X = StandardScaler().fit_transform(X)\n",
        "  X_train, X_test, y_train, y_test = train_test_split(X, y, test_size=.2)\n",
        "\n",
        "  max_score = 0.0\n",
        "  max_class = ''\n",
        "  clf_best = \"\"\n",
        "  model = \"\"\n",
        "  # iterate over classifiers\n",
        "  for name, clf in zip(names, classifiers):\n",
        "      start_time = time.time()\n",
        "      clf.fit(X_train, y_train)\n",
        "      score = 100.0 * clf.score(X_test, y_test)\n",
        "      print('Classifier = %s, Score (test, accuracy) = %.2f,' %(name, score), 'Training time = %.2f seconds' % (time.time() - start_time))\n",
        "      training_time = time.time() - start_time\n",
        "      df_compare_muller.loc[-1] = [name, score, training_time]  # adding a row\n",
        "      df_compare_muller.index = df_compare_muller.index + 1  # shifting index\n",
        "      df_compare_muller = df_compare_muller.sort_index()\n",
        "\n",
        "      if score > max_score:\n",
        "          clf_best = clf\n",
        "          max_score = score\n",
        "          max_class = name\n",
        "  print(df_compare_muller)\n",
        "  print(80*'-' )\n",
        "  print('Best --> Classifier = %s, Score (test, accuracy) = %.2f' %(max_class, max_score))\n",
        "  print(80*'-' )\n",
        "  print('Printing the confusion matrix for'+max_class)\n",
        "  plot_confusion_matrix(clf_best, X_test, y_test, values_format=\".1f\", cmap=plt.cm.Reds)  \n",
        "  plt.show()\n",
        "\n",
        "  y_pred = clf_best.predict(X_test)\n",
        "  print('Printing the Classification report for'+max_class)\n",
        "  print(80*'-' )\n",
        "  print(classification_report(y_test, y_pred))\n",
        "  print('Printing the ROC graph for'+max_class)\n",
        "  print(80*'-' )\n",
        "  roc_auc_graph(muller_df, clf_best,max_class)\n",
        "  # calc_F1_Score(muller_df, clf_best,max_class)\n",
        "  return df_compare_muller\n"
      ],
      "execution_count": null,
      "outputs": []
    },
    {
      "cell_type": "code",
      "metadata": {
        "colab": {
          "base_uri": "https://localhost:8080/",
          "height": 1000
        },
        "id": "MAw4jgsLFFbm",
        "outputId": "20aca39a-713e-4701-ee1c-e47ddf778dc8"
      },
      "source": [
        "##Muller loop on original imbalanced data\n",
        "df_comp = muller_loop(amalgamated_df)"
      ],
      "execution_count": null,
      "outputs": [
        {
          "output_type": "stream",
          "text": [
            "Classifier = XGBoost, Score (test, accuracy) = 98.53, Training time = 0.26 seconds\n",
            "Classifier = MLP, Score (test, accuracy) = 98.53, Training time = 5.22 seconds\n",
            "Classifier = Random Forest, Score (test, accuracy) = 98.53, Training time = 0.05 seconds\n",
            "Classifier = Nearest Neighbors, Score (test, accuracy) = 98.53, Training time = 0.07 seconds\n",
            "          Classifier  Accuracy/Score  Training Time\n",
            "0  Nearest Neighbors       98.531685       0.072752\n",
            "1      Random Forest       98.531685       0.049579\n",
            "2                MLP       98.531685       5.218534\n",
            "3            XGBoost       98.531685       0.257756\n",
            "--------------------------------------------------------------------------------\n",
            "Best --> Classifier = XGBoost, Score (test, accuracy) = 98.53\n",
            "--------------------------------------------------------------------------------\n",
            "Printing the confusion matrix forXGBoost\n"
          ],
          "name": "stdout"
        },
        {
          "output_type": "display_data",
          "data": {
            "image/png": "[encoded data removed]",
            "text/plain": [
              "<Figure size 432x288 with 2 Axes>"
            ]
          },
          "metadata": {
            "tags": [],
            "needs_background": "light"
          }
        },
        {
          "output_type": "stream",
          "text": [
            "Printing the Classification report forXGBoost\n",
            "--------------------------------------------------------------------------------\n",
            "              precision    recall  f1-score   support\n",
            "\n",
            "           0       0.99      1.00      0.99      1275\n",
            "           1       0.00      0.00      0.00        19\n",
            "\n",
            "    accuracy                           0.99      1294\n",
            "   macro avg       0.49      0.50      0.50      1294\n",
            "weighted avg       0.97      0.99      0.98      1294\n",
            "\n",
            "Printing the ROC graph forXGBoost\n",
            "--------------------------------------------------------------------------------\n",
            "No Skill: ROC AUC=0.500\n",
            "XGBoost: ROC AUC=0.971\n"
          ],
          "name": "stdout"
        },
        {
          "output_type": "display_data",
          "data": {
            "image/png": "[encoded data removed]",
            "text/plain": [
              "<Figure size 432x288 with 1 Axes>"
            ]
          },
          "metadata": {
            "tags": [],
            "needs_background": "light"
          }
        }
      ]
    },
    {
      "cell_type": "code",
      "metadata": {
        "colab": {
          "base_uri": "https://localhost:8080/",
          "height": 168
        },
        "id": "OVVlkEUS3lKF",
        "outputId": "7f6d1fbc-aaed-4bff-dc3e-d058471810c5"
      },
      "source": [
        "df_comp"
      ],
      "execution_count": null,
      "outputs": [
        {
          "output_type": "execute_result",
          "data": {
            "text/html": [
              "<div>\n",
              "<style scoped>\n",
              "    .dataframe tbody tr th:only-of-type {\n",
              "        vertical-align: middle;\n",
              "    }\n",
              "\n",
              "    .dataframe tbody tr th {\n",
              "        vertical-align: top;\n",
              "    }\n",
              "\n",
              "    .dataframe thead th {\n",
              "        text-align: right;\n",
              "    }\n",
              "</style>\n",
              "<table border=\"1\" class=\"dataframe\">\n",
              "  <thead>\n",
              "    <tr style=\"text-align: right;\">\n",
              "      <th></th>\n",
              "      <th>Classifier</th>\n",
              "      <th>Accuracy/Score</th>\n",
              "      <th>Training Time</th>\n",
              "    </tr>\n",
              "  </thead>\n",
              "  <tbody>\n",
              "    <tr>\n",
              "      <th>0</th>\n",
              "      <td>Nearest Neighbors</td>\n",
              "      <td>98.377125</td>\n",
              "      <td>0.070798</td>\n",
              "    </tr>\n",
              "    <tr>\n",
              "      <th>1</th>\n",
              "      <td>Random Forest</td>\n",
              "      <td>98.377125</td>\n",
              "      <td>0.050806</td>\n",
              "    </tr>\n",
              "    <tr>\n",
              "      <th>2</th>\n",
              "      <td>MLP</td>\n",
              "      <td>98.377125</td>\n",
              "      <td>3.429319</td>\n",
              "    </tr>\n",
              "    <tr>\n",
              "      <th>3</th>\n",
              "      <td>XGBoost</td>\n",
              "      <td>98.377125</td>\n",
              "      <td>0.246650</td>\n",
              "    </tr>\n",
              "  </tbody>\n",
              "</table>\n",
              "</div>"
            ],
            "text/plain": [
              "          Classifier  Accuracy/Score  Training Time\n",
              "0  Nearest Neighbors       98.377125       0.070798\n",
              "1      Random Forest       98.377125       0.050806\n",
              "2                MLP       98.377125       3.429319\n",
              "3            XGBoost       98.377125       0.246650"
            ]
          },
          "metadata": {
            "tags": []
          },
          "execution_count": 56
        }
      ]
    },
    {
      "cell_type": "markdown",
      "metadata": {
        "id": "c6RZIKd_cY6g"
      },
      "source": [
        "# **Balancing the target data using SMOTE**"
      ]
    },
    {
      "cell_type": "code",
      "metadata": {
        "id": "FjEvOdj2dSuq"
      },
      "source": [
        "##Balancing the target column using SMOTE\n",
        "from imblearn.over_sampling import SMOTE\n",
        "\n",
        "sm = SMOTE(random_state=42)\n",
        "X_res, y_res = sm.fit_resample(amalgamated_df[['product_id', 'category_id', 'Age','Gender', 'brand','price', 'Spending_Score']], amalgamated_df['event_type'])"
      ],
      "execution_count": null,
      "outputs": []
    },
    {
      "cell_type": "code",
      "metadata": {
        "id": "ENIagLRMkd8u"
      },
      "source": [
        "##Convert to df\n",
        "df_features = pd.DataFrame(X_res, columns = ['product_id', 'category_id', 'Spending_Score', 'Age','Gender', 'brand','price'])\n",
        "df_label = pd.DataFrame(y_res, columns = ['event_type'])"
      ],
      "execution_count": null,
      "outputs": []
    },
    {
      "cell_type": "code",
      "metadata": {
        "id": "Eyh-CPVCiWGO"
      },
      "source": [
        "##Merging the 2 df - df_features and df_label\n",
        "df_features['event_type'] = df_label['event_type'].values\n",
        "new_df = df_features"
      ],
      "execution_count": null,
      "outputs": []
    },
    {
      "cell_type": "code",
      "metadata": {
        "colab": {
          "base_uri": "https://localhost:8080/",
          "height": 314
        },
        "id": "yLX0EA92rWa_",
        "outputId": "be3c4ad5-adbe-49ae-cdc1-6f945f649d27"
      },
      "source": [
        "##Check if the target variable is balanced\n",
        "plt.title('Count of view, purchase, cart event types')\n",
        "sns.countplot(x = 'event_type', data = new_df)"
      ],
      "execution_count": null,
      "outputs": [
        {
          "output_type": "execute_result",
          "data": {
            "text/plain": [
              "<matplotlib.axes._subplots.AxesSubplot at 0x7f269b2612d0>"
            ]
          },
          "metadata": {
            "tags": []
          },
          "execution_count": 52
        },
        {
          "output_type": "display_data",
          "data": {
            "image/png": "[encoded data removed]",
            "text/plain": [
              "<Figure size 432x288 with 1 Axes>"
            ]
          },
          "metadata": {
            "tags": [],
            "needs_background": "light"
          }
        }
      ]
    },
    {
      "cell_type": "markdown",
      "metadata": {
        "id": "9xrsKGPQGP9H"
      },
      "source": [
        "# **Muller loop on balanced (event-type) data**"
      ]
    },
    {
      "cell_type": "code",
      "metadata": {
        "colab": {
          "base_uri": "https://localhost:8080/",
          "height": 1000
        },
        "id": "QMAiKapnXshT",
        "outputId": "5fb0b9f6-9466-4083-bdbb-38215b21d7bd"
      },
      "source": [
        "muller_loop(new_df)"
      ],
      "execution_count": null,
      "outputs": [
        {
          "output_type": "stream",
          "text": [
            "Classifier = XGBoost, Score (test, accuracy) = 95.93, Training time = 0.54 seconds\n",
            "Classifier = MLP, Score (test, accuracy) = 86.34, Training time = 11.06 seconds\n",
            "Classifier = Random Forest, Score (test, accuracy) = 84.93, Training time = 0.08 seconds\n",
            "Classifier = Nearest Neighbors, Score (test, accuracy) = 95.58, Training time = 0.10 seconds\n",
            "          Classifier  Accuracy/Score  Training Time\n",
            "0  Nearest Neighbors       95.575568       0.105255\n",
            "1      Random Forest       84.925607       0.076856\n",
            "2                MLP       86.335161      11.064706\n",
            "3            XGBoost       95.927956       0.544462\n",
            "--------------------------------------------------------------------------------\n",
            "Best --> Classifier = XGBoost, Score (test, accuracy) = 95.93\n",
            "--------------------------------------------------------------------------------\n",
            "Printing the confusion matrix forXGBoost\n"
          ],
          "name": "stdout"
        },
        {
          "output_type": "display_data",
          "data": {
            "image/png": "[encoded data removed]",
            "text/plain": [
              "<Figure size 432x288 with 2 Axes>"
            ]
          },
          "metadata": {
            "tags": [],
            "needs_background": "light"
          }
        },
        {
          "output_type": "stream",
          "text": [
            "Printing the Classification report forXGBoost\n",
            "--------------------------------------------------------------------------------\n",
            "              precision    recall  f1-score   support\n",
            "\n",
            "           0       0.98      0.94      0.96      1268\n",
            "           1       0.94      0.98      0.96      1286\n",
            "\n",
            "    accuracy                           0.96      2554\n",
            "   macro avg       0.96      0.96      0.96      2554\n",
            "weighted avg       0.96      0.96      0.96      2554\n",
            "\n",
            "Printing the ROC graph forXGBoost\n",
            "--------------------------------------------------------------------------------\n",
            "No Skill: ROC AUC=0.500\n",
            "XGBoost: ROC AUC=0.989\n"
          ],
          "name": "stdout"
        },
        {
          "output_type": "display_data",
          "data": {
            "image/png": "[encoded data removed]",
            "text/plain": [
              "<Figure size 432x288 with 1 Axes>"
            ]
          },
          "metadata": {
            "tags": [],
            "needs_background": "light"
          }
        },
        {
          "output_type": "execute_result",
          "data": {
            "text/html": [
              "<div>\n",
              "<style scoped>\n",
              "    .dataframe tbody tr th:only-of-type {\n",
              "        vertical-align: middle;\n",
              "    }\n",
              "\n",
              "    .dataframe tbody tr th {\n",
              "        vertical-align: top;\n",
              "    }\n",
              "\n",
              "    .dataframe thead th {\n",
              "        text-align: right;\n",
              "    }\n",
              "</style>\n",
              "<table border=\"1\" class=\"dataframe\">\n",
              "  <thead>\n",
              "    <tr style=\"text-align: right;\">\n",
              "      <th></th>\n",
              "      <th>Classifier</th>\n",
              "      <th>Accuracy/Score</th>\n",
              "      <th>Training Time</th>\n",
              "    </tr>\n",
              "  </thead>\n",
              "  <tbody>\n",
              "    <tr>\n",
              "      <th>0</th>\n",
              "      <td>Nearest Neighbors</td>\n",
              "      <td>95.575568</td>\n",
              "      <td>0.105255</td>\n",
              "    </tr>\n",
              "    <tr>\n",
              "      <th>1</th>\n",
              "      <td>Random Forest</td>\n",
              "      <td>84.925607</td>\n",
              "      <td>0.076856</td>\n",
              "    </tr>\n",
              "    <tr>\n",
              "      <th>2</th>\n",
              "      <td>MLP</td>\n",
              "      <td>86.335161</td>\n",
              "      <td>11.064706</td>\n",
              "    </tr>\n",
              "    <tr>\n",
              "      <th>3</th>\n",
              "      <td>XGBoost</td>\n",
              "      <td>95.927956</td>\n",
              "      <td>0.544462</td>\n",
              "    </tr>\n",
              "  </tbody>\n",
              "</table>\n",
              "</div>"
            ],
            "text/plain": [
              "          Classifier  Accuracy/Score  Training Time\n",
              "0  Nearest Neighbors       95.575568       0.105255\n",
              "1      Random Forest       84.925607       0.076856\n",
              "2                MLP       86.335161      11.064706\n",
              "3            XGBoost       95.927956       0.544462"
            ]
          },
          "metadata": {
            "tags": []
          },
          "execution_count": 109
        }
      ]
    },
    {
      "cell_type": "markdown",
      "metadata": {
        "id": "jUF_zHVt6OqG"
      },
      "source": [
        "# **Upsampling and downsampling**\n"
      ]
    },
    {
      "cell_type": "markdown",
      "metadata": {
        "id": "cMSgJ78f5hqX"
      },
      "source": [
        "### **Upsampling**"
      ]
    },
    {
      "cell_type": "code",
      "metadata": {
        "id": "n-7RuP1Qtz49"
      },
      "source": [
        "##Converting the column values into the required datatypes\n",
        "new_df['Age'] = new_df['Age'].astype(int) \n",
        "new_df['Gender'] = new_df['Gender'].astype(int) \n",
        "new_df['brand'] = new_df['brand'].astype(int) \n",
        "new_df['event_type'] = new_df['event_type'].astype(int)\n",
        "new_df['Spending_Score'] = new_df['Spending_Score'].astype(int) "
      ],
      "execution_count": null,
      "outputs": []
    },
    {
      "cell_type": "code",
      "metadata": {
        "colab": {
          "base_uri": "https://localhost:8080/",
          "height": 297
        },
        "id": "w394nCTe4J0U",
        "outputId": "753e998e-e272-4cc6-81e2-a7ee7d23469c"
      },
      "source": [
        "plt.figure(figsize=(10,4)) # this creates a figure 8 inch wide, 4 inch high\n",
        "plt.title('Count of spending score distribution before upsampling')\n",
        "ax = sns.countplot(x = 'Spending_Score', data = new_df)\n",
        "ax.set_xticklabels(ax.get_xticklabels(), fontsize=7)\n",
        "plt.tight_layout()\n",
        "plt.show()"
      ],
      "execution_count": null,
      "outputs": [
        {
          "output_type": "display_data",
          "data": {
            "image/png": "[encoded data removed]",
            "text/plain": [
              "<Figure size 720x288 with 1 Axes>"
            ]
          },
          "metadata": {
            "tags": [],
            "needs_background": "light"
          }
        }
      ]
    },
    {
      "cell_type": "code",
      "metadata": {
        "id": "eoy0neS4HrB3"
      },
      "source": [
        "##SMOTE to upsample spending_score\n",
        "sm = SMOTE(random_state=42)\n",
        "X_res_up, y_res_up = sm.fit_resample(new_df[['product_id', 'category_id', 'Age','Gender', 'brand','price', 'event_type']], new_df['Spending_Score'])\n"
      ],
      "execution_count": null,
      "outputs": []
    },
    {
      "cell_type": "code",
      "metadata": {
        "id": "PocsI818PPz1"
      },
      "source": [
        "##Converting to df\n",
        "df1_up = pd.DataFrame(X_res_up, columns = ['product_id', 'category_id', 'Age','Gender', 'brand','price', 'event_type'])\n",
        "df2_up = pd.DataFrame(y_res_up, columns = ['Spending_Score'])"
      ],
      "execution_count": null,
      "outputs": []
    },
    {
      "cell_type": "code",
      "metadata": {
        "id": "_d7gFjUau6zY"
      },
      "source": [
        "df1_up['Spending_Score'] = df2_up['Spending_Score'].values"
      ],
      "execution_count": null,
      "outputs": []
    },
    {
      "cell_type": "code",
      "metadata": {
        "id": "CdqnaFaHvLtQ"
      },
      "source": [
        "upsampled_df = df1_up"
      ],
      "execution_count": null,
      "outputs": []
    },
    {
      "cell_type": "code",
      "metadata": {
        "colab": {
          "base_uri": "https://localhost:8080/"
        },
        "id": "mKaSEsiAx3HM",
        "outputId": "f8bc1275-b974-4800-e9b7-88f7302d829b"
      },
      "source": [
        "upsampled_df.info()"
      ],
      "execution_count": null,
      "outputs": [
        {
          "output_type": "stream",
          "text": [
            "<class 'pandas.core.frame.DataFrame'>\n",
            "RangeIndex: 33178 entries, 0 to 33177\n",
            "Data columns (total 8 columns):\n",
            " #   Column          Non-Null Count  Dtype  \n",
            "---  ------          --------------  -----  \n",
            " 0   product_id      33178 non-null  float64\n",
            " 1   category_id     33178 non-null  float64\n",
            " 2   Age             33178 non-null  float64\n",
            " 3   Gender          33178 non-null  float64\n",
            " 4   brand           33178 non-null  float64\n",
            " 5   price           33178 non-null  float64\n",
            " 6   event_type      33178 non-null  float64\n",
            " 7   Spending_Score  33178 non-null  int64  \n",
            "dtypes: float64(7), int64(1)\n",
            "memory usage: 2.0 MB\n"
          ],
          "name": "stdout"
        }
      ]
    },
    {
      "cell_type": "code",
      "metadata": {
        "id": "5oBBNyVmznPT"
      },
      "source": [
        "##Converting the column values into the required datatypes\n",
        "upsampled_df['Age'] = upsampled_df['Age'].astype(int) \n",
        "upsampled_df['Gender'] = upsampled_df['Gender'].astype(int) \n",
        "upsampled_df['brand'] = upsampled_df['brand'].astype(int) \n",
        "upsampled_df['event_type'] = upsampled_df['event_type'].astype(int)\n",
        "upsampled_df['Spending_Score'] = upsampled_df['Spending_Score'].astype(int) "
      ],
      "execution_count": null,
      "outputs": []
    },
    {
      "cell_type": "code",
      "metadata": {
        "colab": {
          "base_uri": "https://localhost:8080/"
        },
        "id": "9Efe5afSz6QA",
        "outputId": "f17c084a-072a-4f35-9498-3abb66142b88"
      },
      "source": [
        "upsampled_df.info()"
      ],
      "execution_count": null,
      "outputs": [
        {
          "output_type": "stream",
          "text": [
            "<class 'pandas.core.frame.DataFrame'>\n",
            "RangeIndex: 33178 entries, 0 to 33177\n",
            "Data columns (total 8 columns):\n",
            " #   Column          Non-Null Count  Dtype  \n",
            "---  ------          --------------  -----  \n",
            " 0   product_id      33178 non-null  float64\n",
            " 1   category_id     33178 non-null  float64\n",
            " 2   Age             33178 non-null  int64  \n",
            " 3   Gender          33178 non-null  int64  \n",
            " 4   brand           33178 non-null  int64  \n",
            " 5   price           33178 non-null  float64\n",
            " 6   event_type      33178 non-null  int64  \n",
            " 7   Spending_Score  33178 non-null  int64  \n",
            "dtypes: float64(3), int64(5)\n",
            "memory usage: 2.0 MB\n"
          ],
          "name": "stdout"
        }
      ]
    },
    {
      "cell_type": "code",
      "metadata": {
        "colab": {
          "base_uri": "https://localhost:8080/",
          "height": 314
        },
        "id": "Xm7RYRDFyeac",
        "outputId": "a487a0e8-e333-47d6-c0bd-72eaf99a4fa5"
      },
      "source": [
        "plt.title('Count of event types')\n",
        "sns.countplot(x = 'event_type', data = upsampled_df)"
      ],
      "execution_count": null,
      "outputs": [
        {
          "output_type": "execute_result",
          "data": {
            "text/plain": [
              "<matplotlib.axes._subplots.AxesSubplot at 0x7f269a750c10>"
            ]
          },
          "metadata": {
            "tags": []
          },
          "execution_count": 70
        },
        {
          "output_type": "display_data",
          "data": {
            "image/png": "[encoded data removed]",
            "text/plain": [
              "<Figure size 432x288 with 1 Axes>"
            ]
          },
          "metadata": {
            "tags": [],
            "needs_background": "light"
          }
        }
      ]
    },
    {
      "cell_type": "code",
      "metadata": {
        "colab": {
          "base_uri": "https://localhost:8080/",
          "height": 297
        },
        "id": "ycBdJdMH4k9W",
        "outputId": "56ccbd2f-e172-409c-f491-128632738faa"
      },
      "source": [
        "plt.figure(figsize=(10,4)) # this creates a figure 8 inch wide, 4 inch high\n",
        "plt.title('Count of spending score distribution types')\n",
        "ax = sns.countplot(x = 'Spending_Score', data = upsampled_df)\n",
        "ax.set_xticklabels(ax.get_xticklabels(), fontsize=7)\n",
        "plt.tight_layout()\n",
        "plt.show()"
      ],
      "execution_count": null,
      "outputs": [
        {
          "output_type": "display_data",
          "data": {
            "image/png": "[encoded data removed]",
            "text/plain": [
              "<Figure size 720x288 with 1 Axes>"
            ]
          },
          "metadata": {
            "tags": [],
            "needs_background": "light"
          }
        }
      ]
    },
    {
      "cell_type": "markdown",
      "metadata": {
        "id": "rUcPqC_u5Zvb"
      },
      "source": [
        "### **Downsampling**"
      ]
    },
    {
      "cell_type": "code",
      "metadata": {
        "id": "EGzKOwBe5nzv"
      },
      "source": [
        "##Downsampling 'Spending_Score' using CondensedNearestNeighbour\n",
        "from imblearn.under_sampling import CondensedNearestNeighbour\n",
        "undersample = CondensedNearestNeighbour(n_neighbors=1)\n",
        "X_res_down, y_res_down = undersample.fit_resample(new_df[['product_id', 'category_id', 'Age','Gender', 'brand','price', 'event_type']], new_df['Spending_Score'])\n"
      ],
      "execution_count": null,
      "outputs": []
    },
    {
      "cell_type": "code",
      "metadata": {
        "id": "UBo94J7S6JN2"
      },
      "source": [
        "#Convert to df\n",
        "df1_down = pd.DataFrame(X_res_down, columns = ['product_id', 'category_id', 'Age','Gender', 'brand','price', 'event_type'])\n",
        "df2_down = pd.DataFrame(y_res_down, columns = ['Spending_Score'])"
      ],
      "execution_count": null,
      "outputs": []
    },
    {
      "cell_type": "code",
      "metadata": {
        "id": "RK24v24z6S6G"
      },
      "source": [
        "##Merge the 2 df together\n",
        "df1_down['Spending_Score'] = df2_down['Spending_Score'].values"
      ],
      "execution_count": null,
      "outputs": []
    },
    {
      "cell_type": "code",
      "metadata": {
        "id": "gXby5gaa6Z0h"
      },
      "source": [
        "downsampled_df = df1_down"
      ],
      "execution_count": null,
      "outputs": []
    },
    {
      "cell_type": "code",
      "metadata": {
        "colab": {
          "base_uri": "https://localhost:8080/"
        },
        "id": "18HQZUvq6oYX",
        "outputId": "a326768e-d31c-404e-c9b0-b54848e0e3b1"
      },
      "source": [
        "downsampled_df.info()"
      ],
      "execution_count": null,
      "outputs": [
        {
          "output_type": "stream",
          "text": [
            "<class 'pandas.core.frame.DataFrame'>\n",
            "RangeIndex: 2250 entries, 0 to 2249\n",
            "Data columns (total 8 columns):\n",
            " #   Column          Non-Null Count  Dtype  \n",
            "---  ------          --------------  -----  \n",
            " 0   product_id      2250 non-null   float64\n",
            " 1   category_id     2250 non-null   float64\n",
            " 2   Age             2250 non-null   float64\n",
            " 3   Gender          2250 non-null   float64\n",
            " 4   brand           2250 non-null   float64\n",
            " 5   price           2250 non-null   float64\n",
            " 6   event_type      2250 non-null   float64\n",
            " 7   Spending_Score  2250 non-null   int64  \n",
            "dtypes: float64(7), int64(1)\n",
            "memory usage: 140.8 KB\n"
          ],
          "name": "stdout"
        }
      ]
    },
    {
      "cell_type": "code",
      "metadata": {
        "id": "DxXlYwcg6uOl"
      },
      "source": [
        "##Converting the column values into the required datatypes\n",
        "downsampled_df['Age'] = downsampled_df['Age'].astype(int) \n",
        "downsampled_df['Gender'] = downsampled_df['Gender'].astype(int) \n",
        "downsampled_df['brand'] = downsampled_df['brand'].astype(int) \n",
        "downsampled_df['event_type'] = downsampled_df['event_type'].astype(int)\n",
        "downsampled_df['Spending_Score'] = downsampled_df['Spending_Score'].astype(int) "
      ],
      "execution_count": null,
      "outputs": []
    },
    {
      "cell_type": "code",
      "metadata": {
        "colab": {
          "base_uri": "https://localhost:8080/",
          "height": 314
        },
        "id": "Lw8pAFlP63ik",
        "outputId": "ef9671d7-95cc-4975-bdd8-b8a9fb68df3e"
      },
      "source": [
        "plt.title('Count of view, purchase, cart event types')\n",
        "sns.countplot(x = 'event_type', data = downsampled_df)"
      ],
      "execution_count": null,
      "outputs": [
        {
          "output_type": "execute_result",
          "data": {
            "text/plain": [
              "<matplotlib.axes._subplots.AxesSubplot at 0x7f269a609990>"
            ]
          },
          "metadata": {
            "tags": []
          },
          "execution_count": 81
        },
        {
          "output_type": "display_data",
          "data": {
            "image/png": "[encoded data removed]",
            "text/plain": [
              "<Figure size 432x288 with 1 Axes>"
            ]
          },
          "metadata": {
            "tags": [],
            "needs_background": "light"
          }
        }
      ]
    },
    {
      "cell_type": "code",
      "metadata": {
        "colab": {
          "base_uri": "https://localhost:8080/",
          "height": 297
        },
        "id": "s-BlD4Vy6_Bt",
        "outputId": "7fb91046-da53-4867-d960-7e5179d17fc4"
      },
      "source": [
        "plt.figure(figsize=(10,4)) # this creates a figure 8 inch wide, 4 inch high\n",
        "plt.title('Count of spending score distribution on downsampling')\n",
        "ax = sns.countplot(x = 'Spending_Score', data = downsampled_df)\n",
        "ax.set_xticklabels(ax.get_xticklabels(), fontsize=7)\n",
        "plt.tight_layout()\n",
        "plt.show()"
      ],
      "execution_count": null,
      "outputs": [
        {
          "output_type": "display_data",
          "data": {
            "image/png": "[encoded data removed]",
            "text/plain": [
              "<Figure size 720x288 with 1 Axes>"
            ]
          },
          "metadata": {
            "tags": [],
            "needs_background": "light"
          }
        }
      ]
    },
    {
      "cell_type": "markdown",
      "metadata": {
        "id": "qUBOc6NVVFmH"
      },
      "source": [
        "# **Slider**"
      ]
    },
    {
      "cell_type": "code",
      "metadata": {
        "id": "krJl-2YyUE-C"
      },
      "source": [
        "from __future__ import print_function\n",
        "from ipywidgets import interact, interactive, fixed, interact_manual\n",
        "import ipywidgets as widgets"
      ],
      "execution_count": null,
      "outputs": []
    },
    {
      "cell_type": "code",
      "metadata": {
        "id": "Voce-M_HVsOh"
      },
      "source": [
        "## Defining slider here.\n",
        "def f(spending_score):\n",
        "  if (spending_score == 1):\n",
        "    print(\"Do nothing\")\n",
        "  elif (spending_score == 2):\n",
        "    print (\"Running muller loop on upsampled data set. We upsampled on Spending Score\")\n",
        "    df_compare = muller_loop(new_df_2)\n",
        "    print(df_compare)\n",
        "  else:\n",
        "    print (\"Running muller loop on downsampled data set. We downsampled on Spending Score\")\n",
        "    df_compare = muller_loop(downsampled_df)\n",
        "    print(df_compare)"
      ],
      "execution_count": null,
      "outputs": []
    },
    {
      "cell_type": "code",
      "metadata": {
        "colab": {
          "base_uri": "https://localhost:8080/",
          "height": 66,
          "referenced_widgets": [
            "bf0200efcb054c00ab79700f4fbf4140",
            "1419eedc6de049f09087a3fdd4e9e08e",
            "ab668710871448409f64575f9a6cb079",
            "ea858196e38f4ffd957bf174872bf00f",
            "3cf6685a48e94b638f4b6f5575f31697",
            "ed79ea1d838447fd848383326bfad96d",
            "103802d4d0dd4cbf87638b8406e7b04f"
          ]
        },
        "id": "lyZIHpFsV1gx",
        "outputId": "7465d9bd-9c71-46e9-ae58-e7d0c9197b26"
      },
      "source": [
        "interact(f, spending_score=(0,2));"
      ],
      "execution_count": null,
      "outputs": [
        {
          "output_type": "display_data",
          "data": {
            "application/vnd.jupyter.widget-view+json": {
              "model_id": "bf0200efcb054c00ab79700f4fbf4140",
              "version_minor": 0,
              "version_major": 2
            },
            "text/plain": [
              "interactive(children=(IntSlider(value=1, description='spending_score', max=2), Output()), _dom_classes=('widge…"
            ]
          },
          "metadata": {
            "tags": []
          }
        }
      ]
    }
  ]
}