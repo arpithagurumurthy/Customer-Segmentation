{
  "nbformat": 4,
  "nbformat_minor": 0,
  "metadata": {
    "colab": {
      "name": "HW5_Arpitha_Second.ipynb",
      "provenance": [],
      "collapsed_sections": []
    },
    "kernelspec": {
      "name": "python3",
      "display_name": "Python 3"
    },
    "accelerator": "GPU"
  },
  "cells": [
    {
      "cell_type": "markdown",
      "metadata": {
        "id": "F_xtrpZFf6DQ"
      },
      "source": [
        "### **CMPE 257 Assignment 5 - Amalgmation, HPO, AutoML and Classification**\n",
        "\n",
        "**Objective function - Market segmentation** is important for small scale businesses to filter out their target markets. This can include segments of users whom they can target in order to increase sales, or segments of products that they can replace to increase their income.\n",
        "\n",
        "**Dataset Number 1:** \n",
        "eCommerce customer behavior data\n",
        "\n",
        "https://www.kaggle.com/mkechinov/ecommerce-behavior-data-from-multi-category-store\n",
        "\n",
        "\n"
      ]
    },
    {
      "cell_type": "markdown",
      "metadata": {
        "id": "1I3yz-SnVNkO"
      },
      "source": [
        "# **Data collection and preparation**"
      ]
    },
    {
      "cell_type": "code",
      "metadata": {
        "id": "6OrNQzwmvto6"
      },
      "source": [
        "from io import BytesIO\n",
        "import requests\n",
        "import pandas as pd\n",
        "import numpy as np\n",
        "import matplotlib.pyplot as plt\n",
        "%matplotlib inline\n",
        "from sklearn.cluster import KMeans\n",
        "import seaborn as sns\n",
        "import tensorflow.compat.v1 as tf\n",
        "r = requests.get('https://docs.google.com/spreadsheets/d/e/2PACX-1vT71NkW1z725FdPzaZ2wWumglSyeOh1PUUcHZ9t1s2zaUrc5gm7pRXmss9AXC-o7sirXrAK4Bd6kH6l/pub?gid=656397096&single=true&output=csv')\n",
        "data = r.content\n",
        "df_Oct = pd.read_csv(BytesIO(data), nrows=50000)\n",
        "# df_Oct = df_Oct.drop(columns='Unnamed: 0', axis=1)"
      ],
      "execution_count": null,
      "outputs": []
    },
    {
      "cell_type": "code",
      "metadata": {
        "colab": {
          "base_uri": "https://localhost:8080/"
        },
        "id": "Kh2Cr3gmG1qw",
        "outputId": "90c1eaf0-84b6-4a95-8b0a-75f5ee648f67"
      },
      "source": [
        "df_Oct.shape"
      ],
      "execution_count": null,
      "outputs": [
        {
          "output_type": "execute_result",
          "data": {
            "text/plain": [
              "(50000, 8)"
            ]
          },
          "metadata": {
            "tags": []
          },
          "execution_count": 2
        }
      ]
    },
    {
      "cell_type": "code",
      "metadata": {
        "colab": {
          "base_uri": "https://localhost:8080/",
          "height": 138
        },
        "id": "XX7JPRI2kbcO",
        "outputId": "98089df0-394b-46b6-9e00-c98466bf65c6"
      },
      "source": [
        "df_Oct.head(3)"
      ],
      "execution_count": null,
      "outputs": [
        {
          "output_type": "execute_result",
          "data": {
            "text/html": [
              "<div>\n",
              "<style scoped>\n",
              "    .dataframe tbody tr th:only-of-type {\n",
              "        vertical-align: middle;\n",
              "    }\n",
              "\n",
              "    .dataframe tbody tr th {\n",
              "        vertical-align: top;\n",
              "    }\n",
              "\n",
              "    .dataframe thead th {\n",
              "        text-align: right;\n",
              "    }\n",
              "</style>\n",
              "<table border=\"1\" class=\"dataframe\">\n",
              "  <thead>\n",
              "    <tr style=\"text-align: right;\">\n",
              "      <th></th>\n",
              "      <th>event_time</th>\n",
              "      <th>order_id</th>\n",
              "      <th>product_id</th>\n",
              "      <th>category_id</th>\n",
              "      <th>category_code</th>\n",
              "      <th>brand</th>\n",
              "      <th>price</th>\n",
              "      <th>user_id</th>\n",
              "    </tr>\n",
              "  </thead>\n",
              "  <tbody>\n",
              "    <tr>\n",
              "      <th>0</th>\n",
              "      <td>2020-04-24 11:50:39 UTC</td>\n",
              "      <td>2.294360e+18</td>\n",
              "      <td>1.515966e+18</td>\n",
              "      <td>2.268105e+18</td>\n",
              "      <td>electronics.tablet</td>\n",
              "      <td>samsung</td>\n",
              "      <td>162.01</td>\n",
              "      <td>1.515916e+18</td>\n",
              "    </tr>\n",
              "    <tr>\n",
              "      <th>1</th>\n",
              "      <td>2020-04-24 11:50:39 UTC</td>\n",
              "      <td>2.294360e+18</td>\n",
              "      <td>1.515966e+18</td>\n",
              "      <td>2.268105e+18</td>\n",
              "      <td>electronics.tablet</td>\n",
              "      <td>samsung</td>\n",
              "      <td>162.01</td>\n",
              "      <td>1.515916e+18</td>\n",
              "    </tr>\n",
              "    <tr>\n",
              "      <th>2</th>\n",
              "      <td>2020-04-24 14:37:43 UTC</td>\n",
              "      <td>2.294444e+18</td>\n",
              "      <td>2.273948e+18</td>\n",
              "      <td>2.268105e+18</td>\n",
              "      <td>electronics.audio.headphone</td>\n",
              "      <td>huawei</td>\n",
              "      <td>77.52</td>\n",
              "      <td>1.515916e+18</td>\n",
              "    </tr>\n",
              "  </tbody>\n",
              "</table>\n",
              "</div>"
            ],
            "text/plain": [
              "                event_time      order_id  ...   price       user_id\n",
              "0  2020-04-24 11:50:39 UTC  2.294360e+18  ...  162.01  1.515916e+18\n",
              "1  2020-04-24 11:50:39 UTC  2.294360e+18  ...  162.01  1.515916e+18\n",
              "2  2020-04-24 14:37:43 UTC  2.294444e+18  ...   77.52  1.515916e+18\n",
              "\n",
              "[3 rows x 8 columns]"
            ]
          },
          "metadata": {
            "tags": []
          },
          "execution_count": 3
        }
      ]
    },
    {
      "cell_type": "code",
      "metadata": {
        "id": "HpIWl3cQ1VqD"
      },
      "source": [
        "##Importing the mall customer dataset\n",
        "r = requests.get('https://docs.google.com/spreadsheets/d/e/2PACX-1vT0HMaqAgd7d_EyMRByWkVp8JM7jmp_969OPyfDMsk4pHpdWjPeQQePP0Rrfm4bwWxQVh7lJPPZHJvi/pub?gid=0&single=true&output=csv')\n",
        "data = r.content\n",
        "df_Mall = pd.read_csv(BytesIO(data))"
      ],
      "execution_count": null,
      "outputs": []
    },
    {
      "cell_type": "code",
      "metadata": {
        "colab": {
          "base_uri": "https://localhost:8080/",
          "height": 138
        },
        "id": "SP64e-hc1Xuo",
        "outputId": "e75194ad-c969-482f-b541-7d2f23319d16"
      },
      "source": [
        "df_Mall.head(3)"
      ],
      "execution_count": null,
      "outputs": [
        {
          "output_type": "execute_result",
          "data": {
            "text/html": [
              "<div>\n",
              "<style scoped>\n",
              "    .dataframe tbody tr th:only-of-type {\n",
              "        vertical-align: middle;\n",
              "    }\n",
              "\n",
              "    .dataframe tbody tr th {\n",
              "        vertical-align: top;\n",
              "    }\n",
              "\n",
              "    .dataframe thead th {\n",
              "        text-align: right;\n",
              "    }\n",
              "</style>\n",
              "<table border=\"1\" class=\"dataframe\">\n",
              "  <thead>\n",
              "    <tr style=\"text-align: right;\">\n",
              "      <th></th>\n",
              "      <th>CustomerID</th>\n",
              "      <th>Genre</th>\n",
              "      <th>Age</th>\n",
              "      <th>Annual Income (k$)</th>\n",
              "      <th>Spending Score (1-100)</th>\n",
              "    </tr>\n",
              "  </thead>\n",
              "  <tbody>\n",
              "    <tr>\n",
              "      <th>0</th>\n",
              "      <td>1</td>\n",
              "      <td>Male</td>\n",
              "      <td>19</td>\n",
              "      <td>15</td>\n",
              "      <td>39</td>\n",
              "    </tr>\n",
              "    <tr>\n",
              "      <th>1</th>\n",
              "      <td>2</td>\n",
              "      <td>Male</td>\n",
              "      <td>21</td>\n",
              "      <td>15</td>\n",
              "      <td>81</td>\n",
              "    </tr>\n",
              "    <tr>\n",
              "      <th>2</th>\n",
              "      <td>3</td>\n",
              "      <td>Female</td>\n",
              "      <td>20</td>\n",
              "      <td>16</td>\n",
              "      <td>6</td>\n",
              "    </tr>\n",
              "  </tbody>\n",
              "</table>\n",
              "</div>"
            ],
            "text/plain": [
              "   CustomerID   Genre  Age  Annual Income (k$)  Spending Score (1-100)\n",
              "0           1    Male   19                  15                      39\n",
              "1           2    Male   21                  15                      81\n",
              "2           3  Female   20                  16                       6"
            ]
          },
          "metadata": {
            "tags": []
          },
          "execution_count": 5
        }
      ]
    },
    {
      "cell_type": "markdown",
      "metadata": {
        "id": "kbPFQtx-OTDP"
      },
      "source": [
        "# **Required Data Preparation and Amalgamation**"
      ]
    },
    {
      "cell_type": "code",
      "metadata": {
        "id": "qCZdJm_YOcvg"
      },
      "source": [
        "##Converting the date type to datetime type for 'event_time'\n",
        "df_Oct['event_time'] = pd.to_datetime(df_Oct['event_time'], format='%Y-%m-%d %H:%M:%S UTC')"
      ],
      "execution_count": null,
      "outputs": []
    },
    {
      "cell_type": "code",
      "metadata": {
        "id": "0P4eYQKxOjtq"
      },
      "source": [
        "##Splitting event_time into 2 columns containing date and time respectively\n",
        "df_Oct['transaction_time'] = df_Oct['event_time'].dt.time\n",
        "df_Oct['transaction_date'] = df_Oct['event_time'].dt.normalize()"
      ],
      "execution_count": null,
      "outputs": []
    },
    {
      "cell_type": "code",
      "metadata": {
        "id": "QQLP6LDD2qR_"
      },
      "source": [
        "## We are calculating the total amount spent by each customer on electronice data.\n",
        "df1 = df_Oct.groupby(['user_id']).agg({'price': 'sum'}).reset_index()"
      ],
      "execution_count": null,
      "outputs": []
    },
    {
      "cell_type": "code",
      "metadata": {
        "colab": {
          "base_uri": "https://localhost:8080/",
          "height": 138
        },
        "id": "-p4Y5jWI258d",
        "outputId": "e2e96925-ce86-40c1-9ec8-6f595f64b3de"
      },
      "source": [
        "df1.columns = ['user_id','total_spending']\n",
        "df1.head(3)"
      ],
      "execution_count": null,
      "outputs": [
        {
          "output_type": "execute_result",
          "data": {
            "text/html": [
              "<div>\n",
              "<style scoped>\n",
              "    .dataframe tbody tr th:only-of-type {\n",
              "        vertical-align: middle;\n",
              "    }\n",
              "\n",
              "    .dataframe tbody tr th {\n",
              "        vertical-align: top;\n",
              "    }\n",
              "\n",
              "    .dataframe thead th {\n",
              "        text-align: right;\n",
              "    }\n",
              "</style>\n",
              "<table border=\"1\" class=\"dataframe\">\n",
              "  <thead>\n",
              "    <tr style=\"text-align: right;\">\n",
              "      <th></th>\n",
              "      <th>user_id</th>\n",
              "      <th>total_spending</th>\n",
              "    </tr>\n",
              "  </thead>\n",
              "  <tbody>\n",
              "    <tr>\n",
              "      <th>0</th>\n",
              "      <td>1.515916e+18</td>\n",
              "      <td>624.98</td>\n",
              "    </tr>\n",
              "    <tr>\n",
              "      <th>1</th>\n",
              "      <td>1.515916e+18</td>\n",
              "      <td>43.96</td>\n",
              "    </tr>\n",
              "    <tr>\n",
              "      <th>2</th>\n",
              "      <td>1.515916e+18</td>\n",
              "      <td>856.23</td>\n",
              "    </tr>\n",
              "  </tbody>\n",
              "</table>\n",
              "</div>"
            ],
            "text/plain": [
              "        user_id  total_spending\n",
              "0  1.515916e+18          624.98\n",
              "1  1.515916e+18           43.96\n",
              "2  1.515916e+18          856.23"
            ]
          },
          "metadata": {
            "tags": []
          },
          "execution_count": 9
        }
      ]
    },
    {
      "cell_type": "code",
      "metadata": {
        "id": "QVeAk27L2_6U"
      },
      "source": [
        "#Join the df_Oct df with the df1 df \n",
        "df_Oct = df_Oct.merge(df1,on='user_id')"
      ],
      "execution_count": null,
      "outputs": []
    },
    {
      "cell_type": "code",
      "metadata": {
        "colab": {
          "base_uri": "https://localhost:8080/",
          "height": 210
        },
        "id": "MaHAOB-Y3AML",
        "outputId": "a0de5ea9-0cb1-4ae6-d5f9-50bda3310c03"
      },
      "source": [
        "df_Oct.head(3)"
      ],
      "execution_count": null,
      "outputs": [
        {
          "output_type": "execute_result",
          "data": {
            "text/html": [
              "<div>\n",
              "<style scoped>\n",
              "    .dataframe tbody tr th:only-of-type {\n",
              "        vertical-align: middle;\n",
              "    }\n",
              "\n",
              "    .dataframe tbody tr th {\n",
              "        vertical-align: top;\n",
              "    }\n",
              "\n",
              "    .dataframe thead th {\n",
              "        text-align: right;\n",
              "    }\n",
              "</style>\n",
              "<table border=\"1\" class=\"dataframe\">\n",
              "  <thead>\n",
              "    <tr style=\"text-align: right;\">\n",
              "      <th></th>\n",
              "      <th>event_time</th>\n",
              "      <th>order_id</th>\n",
              "      <th>product_id</th>\n",
              "      <th>category_id</th>\n",
              "      <th>category_code</th>\n",
              "      <th>brand</th>\n",
              "      <th>price</th>\n",
              "      <th>user_id</th>\n",
              "      <th>transaction_time</th>\n",
              "      <th>transaction_date</th>\n",
              "      <th>total_spending</th>\n",
              "    </tr>\n",
              "  </thead>\n",
              "  <tbody>\n",
              "    <tr>\n",
              "      <th>0</th>\n",
              "      <td>2020-04-24 11:50:39</td>\n",
              "      <td>2.294360e+18</td>\n",
              "      <td>1.515966e+18</td>\n",
              "      <td>2.268105e+18</td>\n",
              "      <td>electronics.tablet</td>\n",
              "      <td>samsung</td>\n",
              "      <td>162.01</td>\n",
              "      <td>1.515916e+18</td>\n",
              "      <td>11:50:39</td>\n",
              "      <td>2020-04-24</td>\n",
              "      <td>324.02</td>\n",
              "    </tr>\n",
              "    <tr>\n",
              "      <th>1</th>\n",
              "      <td>2020-04-24 11:50:39</td>\n",
              "      <td>2.294360e+18</td>\n",
              "      <td>1.515966e+18</td>\n",
              "      <td>2.268105e+18</td>\n",
              "      <td>electronics.tablet</td>\n",
              "      <td>samsung</td>\n",
              "      <td>162.01</td>\n",
              "      <td>1.515916e+18</td>\n",
              "      <td>11:50:39</td>\n",
              "      <td>2020-04-24</td>\n",
              "      <td>324.02</td>\n",
              "    </tr>\n",
              "    <tr>\n",
              "      <th>2</th>\n",
              "      <td>2020-04-24 14:37:43</td>\n",
              "      <td>2.294444e+18</td>\n",
              "      <td>2.273948e+18</td>\n",
              "      <td>2.268105e+18</td>\n",
              "      <td>electronics.audio.headphone</td>\n",
              "      <td>huawei</td>\n",
              "      <td>77.52</td>\n",
              "      <td>1.515916e+18</td>\n",
              "      <td>14:37:43</td>\n",
              "      <td>2020-04-24</td>\n",
              "      <td>436.24</td>\n",
              "    </tr>\n",
              "  </tbody>\n",
              "</table>\n",
              "</div>"
            ],
            "text/plain": [
              "           event_time      order_id  ...  transaction_date  total_spending\n",
              "0 2020-04-24 11:50:39  2.294360e+18  ...        2020-04-24          324.02\n",
              "1 2020-04-24 11:50:39  2.294360e+18  ...        2020-04-24          324.02\n",
              "2 2020-04-24 14:37:43  2.294444e+18  ...        2020-04-24          436.24\n",
              "\n",
              "[3 rows x 11 columns]"
            ]
          },
          "metadata": {
            "tags": []
          },
          "execution_count": 11
        }
      ]
    },
    {
      "cell_type": "code",
      "metadata": {
        "id": "oAhtZOYT3Afy"
      },
      "source": [
        "##Calculating spending score to merge with mall customer dataset: Scaling down column 'total_spending'\n",
        "df_Oct['Spending_Score'] = pd.qcut(df_Oct['total_spending'], q=100, labels=False)"
      ],
      "execution_count": null,
      "outputs": []
    },
    {
      "cell_type": "code",
      "metadata": {
        "id": "ZFdrsPVj3ezC"
      },
      "source": [
        "df_Mall = df_Mall.drop(columns=['CustomerID','Annual Income (k$)'])"
      ],
      "execution_count": null,
      "outputs": []
    },
    {
      "cell_type": "code",
      "metadata": {
        "colab": {
          "base_uri": "https://localhost:8080/",
          "height": 138
        },
        "id": "AMR8axhI3fFX",
        "outputId": "0e0e0562-a0bd-4210-fb39-1ed08ae4c8bf"
      },
      "source": [
        "df_Mall.columns = ['Gender','Age','Spending_Score']\n",
        "df_Mall.head(3)"
      ],
      "execution_count": null,
      "outputs": [
        {
          "output_type": "execute_result",
          "data": {
            "text/html": [
              "<div>\n",
              "<style scoped>\n",
              "    .dataframe tbody tr th:only-of-type {\n",
              "        vertical-align: middle;\n",
              "    }\n",
              "\n",
              "    .dataframe tbody tr th {\n",
              "        vertical-align: top;\n",
              "    }\n",
              "\n",
              "    .dataframe thead th {\n",
              "        text-align: right;\n",
              "    }\n",
              "</style>\n",
              "<table border=\"1\" class=\"dataframe\">\n",
              "  <thead>\n",
              "    <tr style=\"text-align: right;\">\n",
              "      <th></th>\n",
              "      <th>Gender</th>\n",
              "      <th>Age</th>\n",
              "      <th>Spending_Score</th>\n",
              "    </tr>\n",
              "  </thead>\n",
              "  <tbody>\n",
              "    <tr>\n",
              "      <th>0</th>\n",
              "      <td>Male</td>\n",
              "      <td>19</td>\n",
              "      <td>39</td>\n",
              "    </tr>\n",
              "    <tr>\n",
              "      <th>1</th>\n",
              "      <td>Male</td>\n",
              "      <td>21</td>\n",
              "      <td>81</td>\n",
              "    </tr>\n",
              "    <tr>\n",
              "      <th>2</th>\n",
              "      <td>Female</td>\n",
              "      <td>20</td>\n",
              "      <td>6</td>\n",
              "    </tr>\n",
              "  </tbody>\n",
              "</table>\n",
              "</div>"
            ],
            "text/plain": [
              "   Gender  Age  Spending_Score\n",
              "0    Male   19              39\n",
              "1    Male   21              81\n",
              "2  Female   20               6"
            ]
          },
          "metadata": {
            "tags": []
          },
          "execution_count": 14
        }
      ]
    },
    {
      "cell_type": "code",
      "metadata": {
        "colab": {
          "base_uri": "https://localhost:8080/",
          "height": 210
        },
        "id": "BZ1T871V3fZ8",
        "outputId": "65a4e92d-726a-4f76-d30f-31117afccd00"
      },
      "source": [
        "amalgamated_df = df_Oct.merge(df_Mall,on='Spending_Score')\n",
        "amalgamated_df.head(3)"
      ],
      "execution_count": null,
      "outputs": [
        {
          "output_type": "execute_result",
          "data": {
            "text/html": [
              "<div>\n",
              "<style scoped>\n",
              "    .dataframe tbody tr th:only-of-type {\n",
              "        vertical-align: middle;\n",
              "    }\n",
              "\n",
              "    .dataframe tbody tr th {\n",
              "        vertical-align: top;\n",
              "    }\n",
              "\n",
              "    .dataframe thead th {\n",
              "        text-align: right;\n",
              "    }\n",
              "</style>\n",
              "<table border=\"1\" class=\"dataframe\">\n",
              "  <thead>\n",
              "    <tr style=\"text-align: right;\">\n",
              "      <th></th>\n",
              "      <th>event_time</th>\n",
              "      <th>order_id</th>\n",
              "      <th>product_id</th>\n",
              "      <th>category_id</th>\n",
              "      <th>category_code</th>\n",
              "      <th>brand</th>\n",
              "      <th>price</th>\n",
              "      <th>user_id</th>\n",
              "      <th>transaction_time</th>\n",
              "      <th>transaction_date</th>\n",
              "      <th>total_spending</th>\n",
              "      <th>Spending_Score</th>\n",
              "      <th>Gender</th>\n",
              "      <th>Age</th>\n",
              "    </tr>\n",
              "  </thead>\n",
              "  <tbody>\n",
              "    <tr>\n",
              "      <th>0</th>\n",
              "      <td>2020-04-24 11:50:39</td>\n",
              "      <td>2.294360e+18</td>\n",
              "      <td>1.515966e+18</td>\n",
              "      <td>2.268105e+18</td>\n",
              "      <td>electronics.tablet</td>\n",
              "      <td>samsung</td>\n",
              "      <td>162.01</td>\n",
              "      <td>1.515916e+18</td>\n",
              "      <td>11:50:39</td>\n",
              "      <td>2020-04-24</td>\n",
              "      <td>324.02</td>\n",
              "      <td>57</td>\n",
              "      <td>Female</td>\n",
              "      <td>21</td>\n",
              "    </tr>\n",
              "    <tr>\n",
              "      <th>1</th>\n",
              "      <td>2020-04-24 11:50:39</td>\n",
              "      <td>2.294360e+18</td>\n",
              "      <td>1.515966e+18</td>\n",
              "      <td>2.268105e+18</td>\n",
              "      <td>electronics.tablet</td>\n",
              "      <td>samsung</td>\n",
              "      <td>162.01</td>\n",
              "      <td>1.515916e+18</td>\n",
              "      <td>11:50:39</td>\n",
              "      <td>2020-04-24</td>\n",
              "      <td>324.02</td>\n",
              "      <td>57</td>\n",
              "      <td>Female</td>\n",
              "      <td>50</td>\n",
              "    </tr>\n",
              "    <tr>\n",
              "      <th>2</th>\n",
              "      <td>2020-04-24 11:50:39</td>\n",
              "      <td>2.294360e+18</td>\n",
              "      <td>1.515966e+18</td>\n",
              "      <td>2.268105e+18</td>\n",
              "      <td>electronics.tablet</td>\n",
              "      <td>samsung</td>\n",
              "      <td>162.01</td>\n",
              "      <td>1.515916e+18</td>\n",
              "      <td>11:50:39</td>\n",
              "      <td>2020-04-24</td>\n",
              "      <td>324.02</td>\n",
              "      <td>57</td>\n",
              "      <td>Female</td>\n",
              "      <td>21</td>\n",
              "    </tr>\n",
              "  </tbody>\n",
              "</table>\n",
              "</div>"
            ],
            "text/plain": [
              "           event_time      order_id    product_id  ...  Spending_Score  Gender Age\n",
              "0 2020-04-24 11:50:39  2.294360e+18  1.515966e+18  ...              57  Female  21\n",
              "1 2020-04-24 11:50:39  2.294360e+18  1.515966e+18  ...              57  Female  50\n",
              "2 2020-04-24 11:50:39  2.294360e+18  1.515966e+18  ...              57  Female  21\n",
              "\n",
              "[3 rows x 14 columns]"
            ]
          },
          "metadata": {
            "tags": []
          },
          "execution_count": 15
        }
      ]
    },
    {
      "cell_type": "markdown",
      "metadata": {
        "id": "z3w8Tz9RH860"
      },
      "source": [
        "# **Customer lifetime value Calculation**\n",
        "In marketing, customer lifetime value(CLV) is a prognostication of the net profit contributed to the whole future relationship with a customer. \n",
        "The purpose of the customer lifetime value metric is to assess the financial value of each customer. "
      ]
    },
    {
      "cell_type": "markdown",
      "metadata": {
        "id": "iszy4hFhNWTu"
      },
      "source": [
        "### **RFM**\n",
        "\n",
        "\n",
        "1.   Recency - Latest date - Last order date. (Number of days since the last purchase date)\n",
        "2.   Frequency - count of order ids. (Total number of transactions made by a unique customer)\n",
        "3.   Monetary - Sum of Total sales. (Total value of transacted sales by each customer)"
      ]
    },
    {
      "cell_type": "code",
      "metadata": {
        "id": "4PuvvT4eNcVG"
      },
      "source": [
        "from datetime import timedelta\n",
        "\n",
        "#Latest date in the dataset + 1 to create latest date\n",
        "latest_date = amalgamated_df['event_time'].max() + timedelta(1)"
      ],
      "execution_count": null,
      "outputs": []
    },
    {
      "cell_type": "code",
      "metadata": {
        "id": "cxBd8MM6Ovs_"
      },
      "source": [
        "\n",
        "RFM = amalgamated_df.groupby(amalgamated_df['user_id']).agg({'event_time': lambda x: (latest_date - x.max()).days, \n",
        "                                          'order_id': lambda x: len(x), \n",
        "                                          'price': lambda x: sum(x)})"
      ],
      "execution_count": null,
      "outputs": []
    },
    {
      "cell_type": "code",
      "metadata": {
        "id": "AdOhv2vdVDiu"
      },
      "source": [
        "# RFMScores['event_time'] = RFMScores['event_time'].astype(int)\n",
        "RFM.rename(columns={'event_time': 'Recency', 'order_id': 'Frequency', 'price': 'Monetary'}, inplace=True)"
      ],
      "execution_count": null,
      "outputs": []
    },
    {
      "cell_type": "code",
      "metadata": {
        "colab": {
          "base_uri": "https://localhost:8080/",
          "height": 228
        },
        "id": "in3wjVIrVkaB",
        "outputId": "e96f63c5-51cb-4ee8-e04f-49e39f153160"
      },
      "source": [
        "RFM.head()"
      ],
      "execution_count": null,
      "outputs": [
        {
          "output_type": "execute_result",
          "data": {
            "text/html": [
              "<div>\n",
              "<style scoped>\n",
              "    .dataframe tbody tr th:only-of-type {\n",
              "        vertical-align: middle;\n",
              "    }\n",
              "\n",
              "    .dataframe tbody tr th {\n",
              "        vertical-align: top;\n",
              "    }\n",
              "\n",
              "    .dataframe thead th {\n",
              "        text-align: right;\n",
              "    }\n",
              "</style>\n",
              "<table border=\"1\" class=\"dataframe\">\n",
              "  <thead>\n",
              "    <tr style=\"text-align: right;\">\n",
              "      <th></th>\n",
              "      <th>Recency</th>\n",
              "      <th>Frequency</th>\n",
              "      <th>Monetary</th>\n",
              "    </tr>\n",
              "    <tr>\n",
              "      <th>user_id</th>\n",
              "      <th></th>\n",
              "      <th></th>\n",
              "      <th></th>\n",
              "    </tr>\n",
              "  </thead>\n",
              "  <tbody>\n",
              "    <tr>\n",
              "      <th>1.515916e+18</th>\n",
              "      <td>48</td>\n",
              "      <td>2.0</td>\n",
              "      <td>1249.96</td>\n",
              "    </tr>\n",
              "    <tr>\n",
              "      <th>1.515916e+18</th>\n",
              "      <td>53</td>\n",
              "      <td>1.0</td>\n",
              "      <td>43.96</td>\n",
              "    </tr>\n",
              "    <tr>\n",
              "      <th>1.515916e+18</th>\n",
              "      <td>49</td>\n",
              "      <td>3.0</td>\n",
              "      <td>2568.69</td>\n",
              "    </tr>\n",
              "    <tr>\n",
              "      <th>1.515916e+18</th>\n",
              "      <td>29</td>\n",
              "      <td>16.0</td>\n",
              "      <td>662.60</td>\n",
              "    </tr>\n",
              "    <tr>\n",
              "      <th>1.515916e+18</th>\n",
              "      <td>59</td>\n",
              "      <td>4.0</td>\n",
              "      <td>55.48</td>\n",
              "    </tr>\n",
              "  </tbody>\n",
              "</table>\n",
              "</div>"
            ],
            "text/plain": [
              "              Recency  Frequency  Monetary\n",
              "user_id                                   \n",
              "1.515916e+18       48        2.0   1249.96\n",
              "1.515916e+18       53        1.0     43.96\n",
              "1.515916e+18       49        3.0   2568.69\n",
              "1.515916e+18       29       16.0    662.60\n",
              "1.515916e+18       59        4.0     55.48"
            ]
          },
          "metadata": {
            "tags": []
          },
          "execution_count": 19
        }
      ]
    },
    {
      "cell_type": "code",
      "metadata": {
        "colab": {
          "base_uri": "https://localhost:8080/",
          "height": 288
        },
        "id": "Si2DwPTWd0kG",
        "outputId": "d36fe240-c184-4228-c313-e3129ecaf825"
      },
      "source": [
        "RFM.describe()"
      ],
      "execution_count": null,
      "outputs": [
        {
          "output_type": "execute_result",
          "data": {
            "text/html": [
              "<div>\n",
              "<style scoped>\n",
              "    .dataframe tbody tr th:only-of-type {\n",
              "        vertical-align: middle;\n",
              "    }\n",
              "\n",
              "    .dataframe tbody tr th {\n",
              "        vertical-align: top;\n",
              "    }\n",
              "\n",
              "    .dataframe thead th {\n",
              "        text-align: right;\n",
              "    }\n",
              "</style>\n",
              "<table border=\"1\" class=\"dataframe\">\n",
              "  <thead>\n",
              "    <tr style=\"text-align: right;\">\n",
              "      <th></th>\n",
              "      <th>Recency</th>\n",
              "      <th>Frequency</th>\n",
              "      <th>Monetary</th>\n",
              "    </tr>\n",
              "  </thead>\n",
              "  <tbody>\n",
              "    <tr>\n",
              "      <th>count</th>\n",
              "      <td>16998.000000</td>\n",
              "      <td>16998.000000</td>\n",
              "      <td>16998.000000</td>\n",
              "    </tr>\n",
              "    <tr>\n",
              "      <th>mean</th>\n",
              "      <td>116.088775</td>\n",
              "      <td>4.337334</td>\n",
              "      <td>756.793186</td>\n",
              "    </tr>\n",
              "    <tr>\n",
              "      <th>std</th>\n",
              "      <td>1220.891386</td>\n",
              "      <td>6.742133</td>\n",
              "      <td>1395.760905</td>\n",
              "    </tr>\n",
              "    <tr>\n",
              "      <th>min</th>\n",
              "      <td>1.000000</td>\n",
              "      <td>1.000000</td>\n",
              "      <td>6.660000</td>\n",
              "    </tr>\n",
              "    <tr>\n",
              "      <th>25%</th>\n",
              "      <td>14.000000</td>\n",
              "      <td>2.000000</td>\n",
              "      <td>64.790000</td>\n",
              "    </tr>\n",
              "    <tr>\n",
              "      <th>50%</th>\n",
              "      <td>38.000000</td>\n",
              "      <td>3.000000</td>\n",
              "      <td>208.280000</td>\n",
              "    </tr>\n",
              "    <tr>\n",
              "      <th>75%</th>\n",
              "      <td>55.000000</td>\n",
              "      <td>5.000000</td>\n",
              "      <td>1101.760000</td>\n",
              "    </tr>\n",
              "    <tr>\n",
              "      <th>max</th>\n",
              "      <td>18452.000000</td>\n",
              "      <td>252.000000</td>\n",
              "      <td>43760.650000</td>\n",
              "    </tr>\n",
              "  </tbody>\n",
              "</table>\n",
              "</div>"
            ],
            "text/plain": [
              "            Recency     Frequency      Monetary\n",
              "count  16998.000000  16998.000000  16998.000000\n",
              "mean     116.088775      4.337334    756.793186\n",
              "std     1220.891386      6.742133   1395.760905\n",
              "min        1.000000      1.000000      6.660000\n",
              "25%       14.000000      2.000000     64.790000\n",
              "50%       38.000000      3.000000    208.280000\n",
              "75%       55.000000      5.000000   1101.760000\n",
              "max    18452.000000    252.000000  43760.650000"
            ]
          },
          "metadata": {
            "tags": []
          },
          "execution_count": 20
        }
      ]
    },
    {
      "cell_type": "code",
      "metadata": {
        "colab": {
          "base_uri": "https://localhost:8080/",
          "height": 388
        },
        "id": "hiXRJhzlib8R",
        "outputId": "cd17f3ad-c9b8-4661-a691-bce63b253b25"
      },
      "source": [
        "# Distributions of Recency, Frequency, and Monetary features\n",
        "# Here we will filter out the extreme values in the Frequency and Monetary columns to avoid the skewness the distribution\n",
        "fig, ax = plt.subplots(1,3, figsize=(14,6))\n",
        "\n",
        "sns.histplot(RFM.Recency, bins=20, ax=ax[0])\n",
        "sns.histplot(RFM[RFM['Frequency']<1000]['Frequency'], bins=20, ax=ax[1])\n",
        "sns.histplot(RFM[RFM['Monetary']<10000]['Monetary'], bins=20, ax=ax[2])\n",
        "plt.show()\n"
      ],
      "execution_count": null,
      "outputs": [
        {
          "output_type": "display_data",
          "data": {
            "image/png": "[encoded data removed]",
            "text/plain": [
              "<Figure size 1008x432 with 3 Axes>"
            ]
          },
          "metadata": {
            "tags": [],
            "needs_background": "light"
          }
        }
      ]
    },
    {
      "cell_type": "markdown",
      "metadata": {
        "id": "_Pr_DuPwgfsX"
      },
      "source": [
        "To conduct RFM analysis, we need to rank the customers based on the RFM scores.\n",
        "\n",
        "Assume that we rank these customers from 1-4 using RFM values. (1-low score & 4-High score)\n",
        "\n",
        "Steps to be followed for RFM ranking:\n",
        "\n",
        "Sort the Recency column by most recent purchases at the top. For Frequency and Monetary features sort it by the most frequent and most valuable purchases at the top.\n",
        "Here, we are using 4-scale ranking hence we need to divide the values into 4 groups."
      ]
    },
    {
      "cell_type": "code",
      "metadata": {
        "colab": {
          "base_uri": "https://localhost:8080/"
        },
        "id": "MGAXdb9JfM99",
        "outputId": "13272198-f996-46c1-ec91-5c6f5a59a1a8"
      },
      "source": [
        "# Creating quantiles \n",
        "Quantiles = RFM[['Recency', 'Frequency', 'Monetary']].quantile([0.25, 0.50, 0.75])\n",
        "Quantiles = Quantiles.to_dict()\n",
        "Quantiles"
      ],
      "execution_count": null,
      "outputs": [
        {
          "output_type": "execute_result",
          "data": {
            "text/plain": [
              "{'Frequency': {0.25: 2.0, 0.5: 3.0, 0.75: 5.0},\n",
              " 'Monetary': {0.25: 64.79, 0.5: 208.28, 0.75: 1101.76},\n",
              " 'Recency': {0.25: 14.0, 0.5: 38.0, 0.75: 55.0}}"
            ]
          },
          "metadata": {
            "tags": []
          },
          "execution_count": 22
        }
      ]
    },
    {
      "cell_type": "code",
      "metadata": {
        "id": "prRu2Njhg48l"
      },
      "source": [
        "# Creating RFM ranks\n",
        "def RFMRanking(x, variable, quantile_dict):\n",
        "    ''' Ranking the Recency, Frequency, and Monetary features based on quantile values '''\n",
        "    \n",
        "    # checking if the feature to rank is Recency\n",
        "    if variable == 'Recency':\n",
        "        if x <= quantile_dict[variable][0.25]:\n",
        "            return 4\n",
        "        elif (x > quantile_dict[variable][0.25]) & (x <= quantile_dict[variable][0.5]):\n",
        "            return 3\n",
        "        elif (x > quantile_dict[variable][0.5]) & (x <= quantile_dict[variable][0.75]):\n",
        "            return 2\n",
        "        else:\n",
        "            return 1\n",
        "    \n",
        "    # checking if the feature to rank is Frequency and Monetary\n",
        "    if variable in ('Frequency','Monetary'):\n",
        "        if x <= quantile_dict[variable][0.25]:\n",
        "            return 1\n",
        "        elif (x > quantile_dict[variable][0.25]) & (x <= quantile_dict[variable][0.5]):\n",
        "            return 2\n",
        "        elif (x > quantile_dict[variable][0.5]) & (x <= quantile_dict[variable][0.75]):\n",
        "            return 3\n",
        "        else:\n",
        "            return 4"
      ],
      "execution_count": null,
      "outputs": []
    },
    {
      "cell_type": "code",
      "metadata": {
        "id": "cOqqDc4nhDbv"
      },
      "source": [
        "##Looping across the dataset and computing RFM values (1-4)\n",
        "RFM['R'] = RFM['Recency'].apply(lambda x: RFMRanking(x, variable='Recency', quantile_dict=Quantiles))\n",
        "RFM['F'] = RFM['Frequency'].apply(lambda x: RFMRanking(x, variable='Frequency', quantile_dict=Quantiles))\n",
        "RFM['M'] = RFM['Monetary'].apply(lambda x: RFMRanking(x, variable='Monetary', quantile_dict=Quantiles))"
      ],
      "execution_count": null,
      "outputs": []
    },
    {
      "cell_type": "code",
      "metadata": {
        "colab": {
          "base_uri": "https://localhost:8080/",
          "height": 228
        },
        "id": "0eIEraf3hPfF",
        "outputId": "d149686f-bbed-4f38-ef00-6af4dd34f4c4"
      },
      "source": [
        "RFM.head()"
      ],
      "execution_count": null,
      "outputs": [
        {
          "output_type": "execute_result",
          "data": {
            "text/html": [
              "<div>\n",
              "<style scoped>\n",
              "    .dataframe tbody tr th:only-of-type {\n",
              "        vertical-align: middle;\n",
              "    }\n",
              "\n",
              "    .dataframe tbody tr th {\n",
              "        vertical-align: top;\n",
              "    }\n",
              "\n",
              "    .dataframe thead th {\n",
              "        text-align: right;\n",
              "    }\n",
              "</style>\n",
              "<table border=\"1\" class=\"dataframe\">\n",
              "  <thead>\n",
              "    <tr style=\"text-align: right;\">\n",
              "      <th></th>\n",
              "      <th>Recency</th>\n",
              "      <th>Frequency</th>\n",
              "      <th>Monetary</th>\n",
              "      <th>R</th>\n",
              "      <th>F</th>\n",
              "      <th>M</th>\n",
              "    </tr>\n",
              "    <tr>\n",
              "      <th>user_id</th>\n",
              "      <th></th>\n",
              "      <th></th>\n",
              "      <th></th>\n",
              "      <th></th>\n",
              "      <th></th>\n",
              "      <th></th>\n",
              "    </tr>\n",
              "  </thead>\n",
              "  <tbody>\n",
              "    <tr>\n",
              "      <th>1.515916e+18</th>\n",
              "      <td>48</td>\n",
              "      <td>2.0</td>\n",
              "      <td>1249.96</td>\n",
              "      <td>2</td>\n",
              "      <td>1</td>\n",
              "      <td>4</td>\n",
              "    </tr>\n",
              "    <tr>\n",
              "      <th>1.515916e+18</th>\n",
              "      <td>53</td>\n",
              "      <td>1.0</td>\n",
              "      <td>43.96</td>\n",
              "      <td>2</td>\n",
              "      <td>1</td>\n",
              "      <td>1</td>\n",
              "    </tr>\n",
              "    <tr>\n",
              "      <th>1.515916e+18</th>\n",
              "      <td>49</td>\n",
              "      <td>3.0</td>\n",
              "      <td>2568.69</td>\n",
              "      <td>2</td>\n",
              "      <td>2</td>\n",
              "      <td>4</td>\n",
              "    </tr>\n",
              "    <tr>\n",
              "      <th>1.515916e+18</th>\n",
              "      <td>29</td>\n",
              "      <td>16.0</td>\n",
              "      <td>662.60</td>\n",
              "      <td>3</td>\n",
              "      <td>4</td>\n",
              "      <td>3</td>\n",
              "    </tr>\n",
              "    <tr>\n",
              "      <th>1.515916e+18</th>\n",
              "      <td>59</td>\n",
              "      <td>4.0</td>\n",
              "      <td>55.48</td>\n",
              "      <td>1</td>\n",
              "      <td>3</td>\n",
              "      <td>1</td>\n",
              "    </tr>\n",
              "  </tbody>\n",
              "</table>\n",
              "</div>"
            ],
            "text/plain": [
              "              Recency  Frequency  Monetary  R  F  M\n",
              "user_id                                            \n",
              "1.515916e+18       48        2.0   1249.96  2  1  4\n",
              "1.515916e+18       53        1.0     43.96  2  1  1\n",
              "1.515916e+18       49        3.0   2568.69  2  2  4\n",
              "1.515916e+18       29       16.0    662.60  3  4  3\n",
              "1.515916e+18       59        4.0     55.48  1  3  1"
            ]
          },
          "metadata": {
            "tags": []
          },
          "execution_count": 25
        }
      ]
    },
    {
      "cell_type": "markdown",
      "metadata": {
        "id": "uFG9PLi6hWko"
      },
      "source": [
        "We have calculated the ranks for each individual attribute of RFM at the customer level. We can use this to find the total number of rank groups that are created based on our ranking scale.\n",
        "\n",
        "To do this you can simply combine all the individual R, F, and M ranks to check how many groups are created and the share of customers in each segment.\n",
        "\n",
        "For our case, the maximum number of groups should be 4^3 = 64. Lets, check if it is true."
      ]
    },
    {
      "cell_type": "code",
      "metadata": {
        "colab": {
          "base_uri": "https://localhost:8080/",
          "height": 228
        },
        "id": "uAyTBvrahXMO",
        "outputId": "dcb99947-f17d-4fef-8f8c-41f6ff1259fc"
      },
      "source": [
        "RFM['Group'] = RFM['R'].apply(str) + RFM['F'].apply(str) + RFM['M'].apply(str)\n",
        "RFM.head()"
      ],
      "execution_count": null,
      "outputs": [
        {
          "output_type": "execute_result",
          "data": {
            "text/html": [
              "<div>\n",
              "<style scoped>\n",
              "    .dataframe tbody tr th:only-of-type {\n",
              "        vertical-align: middle;\n",
              "    }\n",
              "\n",
              "    .dataframe tbody tr th {\n",
              "        vertical-align: top;\n",
              "    }\n",
              "\n",
              "    .dataframe thead th {\n",
              "        text-align: right;\n",
              "    }\n",
              "</style>\n",
              "<table border=\"1\" class=\"dataframe\">\n",
              "  <thead>\n",
              "    <tr style=\"text-align: right;\">\n",
              "      <th></th>\n",
              "      <th>Recency</th>\n",
              "      <th>Frequency</th>\n",
              "      <th>Monetary</th>\n",
              "      <th>R</th>\n",
              "      <th>F</th>\n",
              "      <th>M</th>\n",
              "      <th>Group</th>\n",
              "    </tr>\n",
              "    <tr>\n",
              "      <th>user_id</th>\n",
              "      <th></th>\n",
              "      <th></th>\n",
              "      <th></th>\n",
              "      <th></th>\n",
              "      <th></th>\n",
              "      <th></th>\n",
              "      <th></th>\n",
              "    </tr>\n",
              "  </thead>\n",
              "  <tbody>\n",
              "    <tr>\n",
              "      <th>1.515916e+18</th>\n",
              "      <td>48</td>\n",
              "      <td>2.0</td>\n",
              "      <td>1249.96</td>\n",
              "      <td>2</td>\n",
              "      <td>1</td>\n",
              "      <td>4</td>\n",
              "      <td>214</td>\n",
              "    </tr>\n",
              "    <tr>\n",
              "      <th>1.515916e+18</th>\n",
              "      <td>53</td>\n",
              "      <td>1.0</td>\n",
              "      <td>43.96</td>\n",
              "      <td>2</td>\n",
              "      <td>1</td>\n",
              "      <td>1</td>\n",
              "      <td>211</td>\n",
              "    </tr>\n",
              "    <tr>\n",
              "      <th>1.515916e+18</th>\n",
              "      <td>49</td>\n",
              "      <td>3.0</td>\n",
              "      <td>2568.69</td>\n",
              "      <td>2</td>\n",
              "      <td>2</td>\n",
              "      <td>4</td>\n",
              "      <td>224</td>\n",
              "    </tr>\n",
              "    <tr>\n",
              "      <th>1.515916e+18</th>\n",
              "      <td>29</td>\n",
              "      <td>16.0</td>\n",
              "      <td>662.60</td>\n",
              "      <td>3</td>\n",
              "      <td>4</td>\n",
              "      <td>3</td>\n",
              "      <td>343</td>\n",
              "    </tr>\n",
              "    <tr>\n",
              "      <th>1.515916e+18</th>\n",
              "      <td>59</td>\n",
              "      <td>4.0</td>\n",
              "      <td>55.48</td>\n",
              "      <td>1</td>\n",
              "      <td>3</td>\n",
              "      <td>1</td>\n",
              "      <td>131</td>\n",
              "    </tr>\n",
              "  </tbody>\n",
              "</table>\n",
              "</div>"
            ],
            "text/plain": [
              "              Recency  Frequency  Monetary  R  F  M Group\n",
              "user_id                                                  \n",
              "1.515916e+18       48        2.0   1249.96  2  1  4   214\n",
              "1.515916e+18       53        1.0     43.96  2  1  1   211\n",
              "1.515916e+18       49        3.0   2568.69  2  2  4   224\n",
              "1.515916e+18       29       16.0    662.60  3  4  3   343\n",
              "1.515916e+18       59        4.0     55.48  1  3  1   131"
            ]
          },
          "metadata": {
            "tags": []
          },
          "execution_count": 26
        }
      ]
    },
    {
      "cell_type": "code",
      "metadata": {
        "colab": {
          "base_uri": "https://localhost:8080/"
        },
        "id": "yOR3-_O5hlA1",
        "outputId": "299d1418-2e81-4e02-a1b0-b8d26e920cf3"
      },
      "source": [
        "len(RFM['Group'].unique())"
      ],
      "execution_count": null,
      "outputs": [
        {
          "output_type": "execute_result",
          "data": {
            "text/plain": [
              "64"
            ]
          },
          "metadata": {
            "tags": []
          },
          "execution_count": 27
        }
      ]
    },
    {
      "cell_type": "markdown",
      "metadata": {
        "id": "3FTMkHAqhw_x"
      },
      "source": [
        "The reason for getting 48 instead of 64 rank groups is because there might be some missing combinations in the ranks of R, F, and M."
      ]
    },
    {
      "cell_type": "code",
      "metadata": {
        "colab": {
          "base_uri": "https://localhost:8080/",
          "height": 228
        },
        "id": "EdQvjzQ-hy8m",
        "outputId": "e82bae7b-6ac1-4fc1-e764-0acb6f720875"
      },
      "source": [
        "##Calculate a composite score for these customers by combining their individual R, F, and M ranks to arrive at an aggregated RFM score.\n",
        "RFM[\"Score\"] = RFM[['R', 'F', 'M']].sum(axis=1)\n",
        "RFM.head()"
      ],
      "execution_count": null,
      "outputs": [
        {
          "output_type": "execute_result",
          "data": {
            "text/html": [
              "<div>\n",
              "<style scoped>\n",
              "    .dataframe tbody tr th:only-of-type {\n",
              "        vertical-align: middle;\n",
              "    }\n",
              "\n",
              "    .dataframe tbody tr th {\n",
              "        vertical-align: top;\n",
              "    }\n",
              "\n",
              "    .dataframe thead th {\n",
              "        text-align: right;\n",
              "    }\n",
              "</style>\n",
              "<table border=\"1\" class=\"dataframe\">\n",
              "  <thead>\n",
              "    <tr style=\"text-align: right;\">\n",
              "      <th></th>\n",
              "      <th>Recency</th>\n",
              "      <th>Frequency</th>\n",
              "      <th>Monetary</th>\n",
              "      <th>R</th>\n",
              "      <th>F</th>\n",
              "      <th>M</th>\n",
              "      <th>Group</th>\n",
              "      <th>Score</th>\n",
              "    </tr>\n",
              "    <tr>\n",
              "      <th>user_id</th>\n",
              "      <th></th>\n",
              "      <th></th>\n",
              "      <th></th>\n",
              "      <th></th>\n",
              "      <th></th>\n",
              "      <th></th>\n",
              "      <th></th>\n",
              "      <th></th>\n",
              "    </tr>\n",
              "  </thead>\n",
              "  <tbody>\n",
              "    <tr>\n",
              "      <th>1.515916e+18</th>\n",
              "      <td>48</td>\n",
              "      <td>2.0</td>\n",
              "      <td>1249.96</td>\n",
              "      <td>2</td>\n",
              "      <td>1</td>\n",
              "      <td>4</td>\n",
              "      <td>214</td>\n",
              "      <td>7</td>\n",
              "    </tr>\n",
              "    <tr>\n",
              "      <th>1.515916e+18</th>\n",
              "      <td>53</td>\n",
              "      <td>1.0</td>\n",
              "      <td>43.96</td>\n",
              "      <td>2</td>\n",
              "      <td>1</td>\n",
              "      <td>1</td>\n",
              "      <td>211</td>\n",
              "      <td>4</td>\n",
              "    </tr>\n",
              "    <tr>\n",
              "      <th>1.515916e+18</th>\n",
              "      <td>49</td>\n",
              "      <td>3.0</td>\n",
              "      <td>2568.69</td>\n",
              "      <td>2</td>\n",
              "      <td>2</td>\n",
              "      <td>4</td>\n",
              "      <td>224</td>\n",
              "      <td>8</td>\n",
              "    </tr>\n",
              "    <tr>\n",
              "      <th>1.515916e+18</th>\n",
              "      <td>29</td>\n",
              "      <td>16.0</td>\n",
              "      <td>662.60</td>\n",
              "      <td>3</td>\n",
              "      <td>4</td>\n",
              "      <td>3</td>\n",
              "      <td>343</td>\n",
              "      <td>10</td>\n",
              "    </tr>\n",
              "    <tr>\n",
              "      <th>1.515916e+18</th>\n",
              "      <td>59</td>\n",
              "      <td>4.0</td>\n",
              "      <td>55.48</td>\n",
              "      <td>1</td>\n",
              "      <td>3</td>\n",
              "      <td>1</td>\n",
              "      <td>131</td>\n",
              "      <td>5</td>\n",
              "    </tr>\n",
              "  </tbody>\n",
              "</table>\n",
              "</div>"
            ],
            "text/plain": [
              "              Recency  Frequency  Monetary  R  F  M Group  Score\n",
              "user_id                                                         \n",
              "1.515916e+18       48        2.0   1249.96  2  1  4   214      7\n",
              "1.515916e+18       53        1.0     43.96  2  1  1   211      4\n",
              "1.515916e+18       49        3.0   2568.69  2  2  4   224      8\n",
              "1.515916e+18       29       16.0    662.60  3  4  3   343     10\n",
              "1.515916e+18       59        4.0     55.48  1  3  1   131      5"
            ]
          },
          "metadata": {
            "tags": []
          },
          "execution_count": 28
        }
      ]
    },
    {
      "cell_type": "markdown",
      "metadata": {
        "id": "d9C7Hlw2iHV1"
      },
      "source": [
        "We can now use this score to assign Loyalty level to each customer instead of handling the N^3 rank groups. The Loyalty level will capture different behaviours of the customers and also helps in analyzing and targeting each customer group based on their behaviour.\n",
        "\n"
      ]
    },
    {
      "cell_type": "code",
      "metadata": {
        "colab": {
          "base_uri": "https://localhost:8080/",
          "height": 228
        },
        "id": "VfgzvqGPiBum",
        "outputId": "e5139f0d-c699-4686-ae7e-adbf126798b2"
      },
      "source": [
        "loyalty = ['AtRisk', 'NewCustomers', 'PotentialCustomers', 'LoyalCustomers']\n",
        "RFM['Loyalty_Level'] = pd.qcut(RFM['Score'], q=4, labels= loyalty)\n",
        "RFM.head()"
      ],
      "execution_count": null,
      "outputs": [
        {
          "output_type": "execute_result",
          "data": {
            "text/html": [
              "<div>\n",
              "<style scoped>\n",
              "    .dataframe tbody tr th:only-of-type {\n",
              "        vertical-align: middle;\n",
              "    }\n",
              "\n",
              "    .dataframe tbody tr th {\n",
              "        vertical-align: top;\n",
              "    }\n",
              "\n",
              "    .dataframe thead th {\n",
              "        text-align: right;\n",
              "    }\n",
              "</style>\n",
              "<table border=\"1\" class=\"dataframe\">\n",
              "  <thead>\n",
              "    <tr style=\"text-align: right;\">\n",
              "      <th></th>\n",
              "      <th>Recency</th>\n",
              "      <th>Frequency</th>\n",
              "      <th>Monetary</th>\n",
              "      <th>R</th>\n",
              "      <th>F</th>\n",
              "      <th>M</th>\n",
              "      <th>Group</th>\n",
              "      <th>Score</th>\n",
              "      <th>Loyalty_Level</th>\n",
              "    </tr>\n",
              "    <tr>\n",
              "      <th>user_id</th>\n",
              "      <th></th>\n",
              "      <th></th>\n",
              "      <th></th>\n",
              "      <th></th>\n",
              "      <th></th>\n",
              "      <th></th>\n",
              "      <th></th>\n",
              "      <th></th>\n",
              "      <th></th>\n",
              "    </tr>\n",
              "  </thead>\n",
              "  <tbody>\n",
              "    <tr>\n",
              "      <th>1.515916e+18</th>\n",
              "      <td>48</td>\n",
              "      <td>2.0</td>\n",
              "      <td>1249.96</td>\n",
              "      <td>2</td>\n",
              "      <td>1</td>\n",
              "      <td>4</td>\n",
              "      <td>214</td>\n",
              "      <td>7</td>\n",
              "      <td>NewCustomers</td>\n",
              "    </tr>\n",
              "    <tr>\n",
              "      <th>1.515916e+18</th>\n",
              "      <td>53</td>\n",
              "      <td>1.0</td>\n",
              "      <td>43.96</td>\n",
              "      <td>2</td>\n",
              "      <td>1</td>\n",
              "      <td>1</td>\n",
              "      <td>211</td>\n",
              "      <td>4</td>\n",
              "      <td>AtRisk</td>\n",
              "    </tr>\n",
              "    <tr>\n",
              "      <th>1.515916e+18</th>\n",
              "      <td>49</td>\n",
              "      <td>3.0</td>\n",
              "      <td>2568.69</td>\n",
              "      <td>2</td>\n",
              "      <td>2</td>\n",
              "      <td>4</td>\n",
              "      <td>224</td>\n",
              "      <td>8</td>\n",
              "      <td>PotentialCustomers</td>\n",
              "    </tr>\n",
              "    <tr>\n",
              "      <th>1.515916e+18</th>\n",
              "      <td>29</td>\n",
              "      <td>16.0</td>\n",
              "      <td>662.60</td>\n",
              "      <td>3</td>\n",
              "      <td>4</td>\n",
              "      <td>3</td>\n",
              "      <td>343</td>\n",
              "      <td>10</td>\n",
              "      <td>LoyalCustomers</td>\n",
              "    </tr>\n",
              "    <tr>\n",
              "      <th>1.515916e+18</th>\n",
              "      <td>59</td>\n",
              "      <td>4.0</td>\n",
              "      <td>55.48</td>\n",
              "      <td>1</td>\n",
              "      <td>3</td>\n",
              "      <td>1</td>\n",
              "      <td>131</td>\n",
              "      <td>5</td>\n",
              "      <td>AtRisk</td>\n",
              "    </tr>\n",
              "  </tbody>\n",
              "</table>\n",
              "</div>"
            ],
            "text/plain": [
              "              Recency  Frequency  Monetary  ...  Group  Score       Loyalty_Level\n",
              "user_id                                     ...                                  \n",
              "1.515916e+18       48        2.0   1249.96  ...    214      7        NewCustomers\n",
              "1.515916e+18       53        1.0     43.96  ...    211      4              AtRisk\n",
              "1.515916e+18       49        3.0   2568.69  ...    224      8  PotentialCustomers\n",
              "1.515916e+18       29       16.0    662.60  ...    343     10      LoyalCustomers\n",
              "1.515916e+18       59        4.0     55.48  ...    131      5              AtRisk\n",
              "\n",
              "[5 rows x 9 columns]"
            ]
          },
          "metadata": {
            "tags": []
          },
          "execution_count": 29
        }
      ]
    },
    {
      "cell_type": "code",
      "metadata": {
        "colab": {
          "base_uri": "https://localhost:8080/",
          "height": 198
        },
        "id": "f-ysN1chjnyF",
        "outputId": "04f1d05c-1922-4efc-a399-e1ae8473577f"
      },
      "source": [
        "behaviour = RFM.groupby('Loyalty_Level')[['Recency', 'Frequency', 'Monetary', 'Score']].mean()\n",
        "behaviour"
      ],
      "execution_count": null,
      "outputs": [
        {
          "output_type": "execute_result",
          "data": {
            "text/html": [
              "<div>\n",
              "<style scoped>\n",
              "    .dataframe tbody tr th:only-of-type {\n",
              "        vertical-align: middle;\n",
              "    }\n",
              "\n",
              "    .dataframe tbody tr th {\n",
              "        vertical-align: top;\n",
              "    }\n",
              "\n",
              "    .dataframe thead th {\n",
              "        text-align: right;\n",
              "    }\n",
              "</style>\n",
              "<table border=\"1\" class=\"dataframe\">\n",
              "  <thead>\n",
              "    <tr style=\"text-align: right;\">\n",
              "      <th></th>\n",
              "      <th>Recency</th>\n",
              "      <th>Frequency</th>\n",
              "      <th>Monetary</th>\n",
              "      <th>Score</th>\n",
              "    </tr>\n",
              "    <tr>\n",
              "      <th>Loyalty_Level</th>\n",
              "      <th></th>\n",
              "      <th></th>\n",
              "      <th></th>\n",
              "      <th></th>\n",
              "    </tr>\n",
              "  </thead>\n",
              "  <tbody>\n",
              "    <tr>\n",
              "      <th>AtRisk</th>\n",
              "      <td>183.809543</td>\n",
              "      <td>1.596969</td>\n",
              "      <td>101.929339</td>\n",
              "      <td>4.202949</td>\n",
              "    </tr>\n",
              "    <tr>\n",
              "      <th>NewCustomers</th>\n",
              "      <td>92.359699</td>\n",
              "      <td>2.295878</td>\n",
              "      <td>334.511220</td>\n",
              "      <td>6.438795</td>\n",
              "    </tr>\n",
              "    <tr>\n",
              "      <th>PotentialCustomers</th>\n",
              "      <td>147.860063</td>\n",
              "      <td>5.055556</td>\n",
              "      <td>993.563158</td>\n",
              "      <td>8.466981</td>\n",
              "    </tr>\n",
              "    <tr>\n",
              "      <th>LoyalCustomers</th>\n",
              "      <td>19.918750</td>\n",
              "      <td>10.131818</td>\n",
              "      <td>1981.870310</td>\n",
              "      <td>10.732670</td>\n",
              "    </tr>\n",
              "  </tbody>\n",
              "</table>\n",
              "</div>"
            ],
            "text/plain": [
              "                       Recency  Frequency     Monetary      Score\n",
              "Loyalty_Level                                                    \n",
              "AtRisk              183.809543   1.596969   101.929339   4.202949\n",
              "NewCustomers         92.359699   2.295878   334.511220   6.438795\n",
              "PotentialCustomers  147.860063   5.055556   993.563158   8.466981\n",
              "LoyalCustomers       19.918750  10.131818  1981.870310  10.732670"
            ]
          },
          "metadata": {
            "tags": []
          },
          "execution_count": 30
        }
      ]
    },
    {
      "cell_type": "code",
      "metadata": {
        "colab": {
          "base_uri": "https://localhost:8080/"
        },
        "id": "saRl2HxMAJdQ",
        "outputId": "2d8fc3b8-8335-4f01-dd63-5aab8d2a4a4a"
      },
      "source": [
        "RFM.shape"
      ],
      "execution_count": null,
      "outputs": [
        {
          "output_type": "execute_result",
          "data": {
            "text/plain": [
              "(16998, 9)"
            ]
          },
          "metadata": {
            "tags": []
          },
          "execution_count": 31
        }
      ]
    },
    {
      "cell_type": "markdown",
      "metadata": {
        "id": "4HQe6khZ8n-9"
      },
      "source": [
        "# **Classification 1: segmenting customers into 4 groups - using MLP**"
      ]
    },
    {
      "cell_type": "code",
      "metadata": {
        "id": "f9n2CbbQ9bJL"
      },
      "source": [
        "##Convert categorical to numeric\n",
        "RFM['Loyalty_Level'].replace({\n",
        "    'AtRisk': 0,\n",
        "    'NewCustomers': 1,\n",
        "    'PotentialCustomers': 2,\n",
        "    'LoyalCustomers': 3\n",
        "}, inplace = True)"
      ],
      "execution_count": null,
      "outputs": []
    },
    {
      "cell_type": "code",
      "metadata": {
        "colab": {
          "base_uri": "https://localhost:8080/"
        },
        "id": "nzFgQjrk-f1Q",
        "outputId": "545af1b3-74cd-4f68-9fce-066f56a270b0"
      },
      "source": [
        "corr_matrix = RFM.corr()\n",
        "corr_matrix['Loyalty_Level'].sort_values(ascending=False)"
      ],
      "execution_count": null,
      "outputs": [
        {
          "output_type": "execute_result",
          "data": {
            "text/plain": [
              "Loyalty_Level    1.000000\n",
              "Score            0.964392\n",
              "F                0.797391\n",
              "M                0.748903\n",
              "R                0.494989\n",
              "Monetary         0.486306\n",
              "Frequency        0.450264\n",
              "Recency         -0.038728\n",
              "Name: Loyalty_Level, dtype: float64"
            ]
          },
          "metadata": {
            "tags": []
          },
          "execution_count": 33
        }
      ]
    },
    {
      "cell_type": "markdown",
      "metadata": {
        "id": "iH-LAwJAIaUp"
      },
      "source": [
        "### **sklearn.neural_network.MLPClassifier**\n",
        "This model optimizes the log-loss function using LBFGS or stochastic gradient descent.\n",
        "\n",
        "\n"
      ]
    },
    {
      "cell_type": "code",
      "metadata": {
        "id": "yNt5BBJdIicI"
      },
      "source": [
        "from sklearn.neural_network import MLPClassifier\n",
        "from sklearn.datasets import make_classification\n",
        "from sklearn.model_selection import train_test_split"
      ],
      "execution_count": null,
      "outputs": []
    },
    {
      "cell_type": "code",
      "metadata": {
        "id": "Q89_5v90-p5S"
      },
      "source": [
        "X = RFM.drop(['Loyalty_Level','Group','Score'],axis=1)\n",
        "y = RFM['Loyalty_Level']"
      ],
      "execution_count": null,
      "outputs": []
    },
    {
      "cell_type": "code",
      "metadata": {
        "id": "2RPhpQEqA6x7"
      },
      "source": [
        "X = RFM[['Recency','Frequency','Monetary']]\n",
        "y = RFM[['Loyalty_Level']]\n",
        "df_compare_1 = pd.DataFrame(columns=['alpha','max_iter', 'early_stopping','score'])"
      ],
      "execution_count": null,
      "outputs": []
    },
    {
      "cell_type": "code",
      "metadata": {
        "id": "Vkf4tJwMBRc9"
      },
      "source": [
        "from sklearn.preprocessing import StandardScaler\n",
        "def mlpClassifier(custom_alpha, custom_max_iter, custom_early_stopping, X, y, df_compare_1):\n",
        "  model = MLPClassifier(alpha=custom_alpha, max_iter=custom_max_iter, early_stopping=custom_early_stopping)\n",
        "  X = StandardScaler().fit_transform(X)\n",
        "  X_train, X_test, y_train, y_test = train_test_split(X, y, test_size=.2)\n",
        "  model.fit(X_train, y_train)\n",
        "  score = 100.0 * model.score(X_test, y_test)\n",
        "  df_compare_1.loc[-1] = [custom_alpha, custom_max_iter, custom_early_stopping, score]  # adding a row\n",
        "  df_compare_1.index = df_compare_1.index + 1  # shifting index\n",
        "  df_compare_1 = df_compare_1.sort_index()\n",
        "  df_compare_1.reset_index(drop=True)"
      ],
      "execution_count": null,
      "outputs": []
    },
    {
      "cell_type": "code",
      "metadata": {
        "colab": {
          "base_uri": "https://localhost:8080/"
        },
        "id": "wvk8pNvNBR8q",
        "outputId": "0d54116c-7bde-4c78-c9db-36443bcbdc37"
      },
      "source": [
        "##With early stopping as True\n",
        "mlpClassifier(1, 1000, True, X, y, df_compare_1)\n",
        "mlpClassifier(2, 1000, True, X, y, df_compare_1)\n",
        "mlpClassifier(3, 1000, True, X, y, df_compare_1)\n",
        "mlpClassifier(4, 1000, True, X, y, df_compare_1)\n",
        "mlpClassifier(1, 2000, True, X, y, df_compare_1)\n",
        "mlpClassifier(1, 3000, True, X, y, df_compare_1)\n",
        "mlpClassifier(1, 500, True, X, y, df_compare_1)\n",
        "##With early stopping as False\n",
        "mlpClassifier(1, 1000, False, X, y, df_compare_1)\n",
        "mlpClassifier(2, 1000, False, X, y, df_compare_1)\n",
        "mlpClassifier(3, 1000, False, X, y, df_compare_1)\n",
        "mlpClassifier(4, 1000, False, X, y, df_compare_1)\n",
        "mlpClassifier(1, 2000, False, X, y, df_compare_1)\n",
        "mlpClassifier(1, 3000, False, X, y, df_compare_1)\n",
        "mlpClassifier(1, 500, False, X, y, df_compare_1)"
      ],
      "execution_count": null,
      "outputs": [
        {
          "output_type": "stream",
          "text": [
            "/usr/local/lib/python3.7/dist-packages/sklearn/neural_network/_multilayer_perceptron.py:934: DataConversionWarning: A column-vector y was passed when a 1d array was expected. Please change the shape of y to (n_samples, ), for example using ravel().\n",
            "  y = column_or_1d(y, warn=True)\n",
            "/usr/local/lib/python3.7/dist-packages/sklearn/neural_network/_multilayer_perceptron.py:934: DataConversionWarning: A column-vector y was passed when a 1d array was expected. Please change the shape of y to (n_samples, ), for example using ravel().\n",
            "  y = column_or_1d(y, warn=True)\n",
            "/usr/local/lib/python3.7/dist-packages/sklearn/neural_network/_multilayer_perceptron.py:934: DataConversionWarning: A column-vector y was passed when a 1d array was expected. Please change the shape of y to (n_samples, ), for example using ravel().\n",
            "  y = column_or_1d(y, warn=True)\n",
            "/usr/local/lib/python3.7/dist-packages/sklearn/neural_network/_multilayer_perceptron.py:934: DataConversionWarning: A column-vector y was passed when a 1d array was expected. Please change the shape of y to (n_samples, ), for example using ravel().\n",
            "  y = column_or_1d(y, warn=True)\n",
            "/usr/local/lib/python3.7/dist-packages/sklearn/neural_network/_multilayer_perceptron.py:934: DataConversionWarning: A column-vector y was passed when a 1d array was expected. Please change the shape of y to (n_samples, ), for example using ravel().\n",
            "  y = column_or_1d(y, warn=True)\n",
            "/usr/local/lib/python3.7/dist-packages/sklearn/neural_network/_multilayer_perceptron.py:934: DataConversionWarning: A column-vector y was passed when a 1d array was expected. Please change the shape of y to (n_samples, ), for example using ravel().\n",
            "  y = column_or_1d(y, warn=True)\n",
            "/usr/local/lib/python3.7/dist-packages/sklearn/neural_network/_multilayer_perceptron.py:934: DataConversionWarning: A column-vector y was passed when a 1d array was expected. Please change the shape of y to (n_samples, ), for example using ravel().\n",
            "  y = column_or_1d(y, warn=True)\n",
            "/usr/local/lib/python3.7/dist-packages/sklearn/neural_network/_multilayer_perceptron.py:934: DataConversionWarning: A column-vector y was passed when a 1d array was expected. Please change the shape of y to (n_samples, ), for example using ravel().\n",
            "  y = column_or_1d(y, warn=True)\n",
            "/usr/local/lib/python3.7/dist-packages/sklearn/neural_network/_multilayer_perceptron.py:934: DataConversionWarning: A column-vector y was passed when a 1d array was expected. Please change the shape of y to (n_samples, ), for example using ravel().\n",
            "  y = column_or_1d(y, warn=True)\n",
            "/usr/local/lib/python3.7/dist-packages/sklearn/neural_network/_multilayer_perceptron.py:934: DataConversionWarning: A column-vector y was passed when a 1d array was expected. Please change the shape of y to (n_samples, ), for example using ravel().\n",
            "  y = column_or_1d(y, warn=True)\n",
            "/usr/local/lib/python3.7/dist-packages/sklearn/neural_network/_multilayer_perceptron.py:934: DataConversionWarning: A column-vector y was passed when a 1d array was expected. Please change the shape of y to (n_samples, ), for example using ravel().\n",
            "  y = column_or_1d(y, warn=True)\n",
            "/usr/local/lib/python3.7/dist-packages/sklearn/neural_network/_multilayer_perceptron.py:934: DataConversionWarning: A column-vector y was passed when a 1d array was expected. Please change the shape of y to (n_samples, ), for example using ravel().\n",
            "  y = column_or_1d(y, warn=True)\n",
            "/usr/local/lib/python3.7/dist-packages/sklearn/neural_network/_multilayer_perceptron.py:934: DataConversionWarning: A column-vector y was passed when a 1d array was expected. Please change the shape of y to (n_samples, ), for example using ravel().\n",
            "  y = column_or_1d(y, warn=True)\n",
            "/usr/local/lib/python3.7/dist-packages/sklearn/neural_network/_multilayer_perceptron.py:934: DataConversionWarning: A column-vector y was passed when a 1d array was expected. Please change the shape of y to (n_samples, ), for example using ravel().\n",
            "  y = column_or_1d(y, warn=True)\n"
          ],
          "name": "stderr"
        }
      ]
    },
    {
      "cell_type": "code",
      "metadata": {
        "colab": {
          "base_uri": "https://localhost:8080/",
          "height": 468
        },
        "id": "6H2it76IBvNi",
        "outputId": "bfc7918f-1485-465c-ea6f-abcf74443450"
      },
      "source": [
        "df_compare_1"
      ],
      "execution_count": null,
      "outputs": [
        {
          "output_type": "execute_result",
          "data": {
            "text/html": [
              "<div>\n",
              "<style scoped>\n",
              "    .dataframe tbody tr th:only-of-type {\n",
              "        vertical-align: middle;\n",
              "    }\n",
              "\n",
              "    .dataframe tbody tr th {\n",
              "        vertical-align: top;\n",
              "    }\n",
              "\n",
              "    .dataframe thead th {\n",
              "        text-align: right;\n",
              "    }\n",
              "</style>\n",
              "<table border=\"1\" class=\"dataframe\">\n",
              "  <thead>\n",
              "    <tr style=\"text-align: right;\">\n",
              "      <th></th>\n",
              "      <th>alpha</th>\n",
              "      <th>max_iter</th>\n",
              "      <th>early_stopping</th>\n",
              "      <th>score</th>\n",
              "    </tr>\n",
              "  </thead>\n",
              "  <tbody>\n",
              "    <tr>\n",
              "      <th>13</th>\n",
              "      <td>1</td>\n",
              "      <td>1000</td>\n",
              "      <td>True</td>\n",
              "      <td>62.794118</td>\n",
              "    </tr>\n",
              "    <tr>\n",
              "      <th>12</th>\n",
              "      <td>2</td>\n",
              "      <td>1000</td>\n",
              "      <td>True</td>\n",
              "      <td>61.970588</td>\n",
              "    </tr>\n",
              "    <tr>\n",
              "      <th>11</th>\n",
              "      <td>3</td>\n",
              "      <td>1000</td>\n",
              "      <td>True</td>\n",
              "      <td>62.088235</td>\n",
              "    </tr>\n",
              "    <tr>\n",
              "      <th>10</th>\n",
              "      <td>4</td>\n",
              "      <td>1000</td>\n",
              "      <td>True</td>\n",
              "      <td>57.323529</td>\n",
              "    </tr>\n",
              "    <tr>\n",
              "      <th>9</th>\n",
              "      <td>1</td>\n",
              "      <td>2000</td>\n",
              "      <td>True</td>\n",
              "      <td>62.058824</td>\n",
              "    </tr>\n",
              "    <tr>\n",
              "      <th>8</th>\n",
              "      <td>1</td>\n",
              "      <td>3000</td>\n",
              "      <td>True</td>\n",
              "      <td>61.823529</td>\n",
              "    </tr>\n",
              "    <tr>\n",
              "      <th>7</th>\n",
              "      <td>1</td>\n",
              "      <td>500</td>\n",
              "      <td>True</td>\n",
              "      <td>61.411765</td>\n",
              "    </tr>\n",
              "    <tr>\n",
              "      <th>6</th>\n",
              "      <td>1</td>\n",
              "      <td>1000</td>\n",
              "      <td>False</td>\n",
              "      <td>62.294118</td>\n",
              "    </tr>\n",
              "    <tr>\n",
              "      <th>5</th>\n",
              "      <td>2</td>\n",
              "      <td>1000</td>\n",
              "      <td>False</td>\n",
              "      <td>61.058824</td>\n",
              "    </tr>\n",
              "    <tr>\n",
              "      <th>4</th>\n",
              "      <td>3</td>\n",
              "      <td>1000</td>\n",
              "      <td>False</td>\n",
              "      <td>59.852941</td>\n",
              "    </tr>\n",
              "    <tr>\n",
              "      <th>3</th>\n",
              "      <td>4</td>\n",
              "      <td>1000</td>\n",
              "      <td>False</td>\n",
              "      <td>57.647059</td>\n",
              "    </tr>\n",
              "    <tr>\n",
              "      <th>2</th>\n",
              "      <td>1</td>\n",
              "      <td>2000</td>\n",
              "      <td>False</td>\n",
              "      <td>62.676471</td>\n",
              "    </tr>\n",
              "    <tr>\n",
              "      <th>1</th>\n",
              "      <td>1</td>\n",
              "      <td>3000</td>\n",
              "      <td>False</td>\n",
              "      <td>63.500000</td>\n",
              "    </tr>\n",
              "    <tr>\n",
              "      <th>0</th>\n",
              "      <td>1</td>\n",
              "      <td>500</td>\n",
              "      <td>False</td>\n",
              "      <td>63.647059</td>\n",
              "    </tr>\n",
              "  </tbody>\n",
              "</table>\n",
              "</div>"
            ],
            "text/plain": [
              "   alpha max_iter early_stopping      score\n",
              "13     1     1000           True  62.794118\n",
              "12     2     1000           True  61.970588\n",
              "11     3     1000           True  62.088235\n",
              "10     4     1000           True  57.323529\n",
              "9      1     2000           True  62.058824\n",
              "8      1     3000           True  61.823529\n",
              "7      1      500           True  61.411765\n",
              "6      1     1000          False  62.294118\n",
              "5      2     1000          False  61.058824\n",
              "4      3     1000          False  59.852941\n",
              "3      4     1000          False  57.647059\n",
              "2      1     2000          False  62.676471\n",
              "1      1     3000          False  63.500000\n",
              "0      1      500          False  63.647059"
            ]
          },
          "metadata": {
            "tags": []
          },
          "execution_count": 42
        }
      ]
    },
    {
      "cell_type": "markdown",
      "metadata": {
        "id": "3LG2R1ddUiBL"
      },
      "source": [
        "### **References**\n",
        "https://github.com/hariharan2305/Applied-Data-Science/blob/master/Marketing%20Analytics%20-%20RFM%20Modelling.ipynb\n",
        "https://github.com/aarsanjani/applied-ml-2020/blob/master/MullerLoop.ipynb\n"
      ]
    }
  ]
}