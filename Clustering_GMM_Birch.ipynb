{
  "nbformat": 4,
  "nbformat_minor": 0,
  "metadata": {
    "colab": {
      "name": "CMPE257_HW2_AG.ipynb",
      "provenance": [],
      "collapsed_sections": []
    },
    "kernelspec": {
      "name": "python3",
      "display_name": "Python 3"
    },
    "accelerator": "GPU"
  },
  "cells": [
    {
      "cell_type": "markdown",
      "metadata": {
        "id": "F_xtrpZFf6DQ"
      },
      "source": [
        "# **Arpitha Gurumurthy**\n",
        "### *CMPE 257 Assignment 2 - Clustering using GMM and Birch*\n",
        "***Dataset : eCommerce customer behavior data***\n",
        "\n",
        "https://www.kaggle.com/mkechinov/ecommerce-events-history-in-cosmetics-shop"
      ]
    },
    {
      "cell_type": "markdown",
      "metadata": {
        "id": "1I3yz-SnVNkO"
      },
      "source": [
        "# **Data collection and preparation**"
      ]
    },
    {
      "cell_type": "code",
      "metadata": {
        "id": "6OrNQzwmvto6"
      },
      "source": [
        "from io import BytesIO\n",
        "import requests\n",
        "import pandas as pd\n",
        "import numpy as np\n",
        "import matplotlib.pyplot as plt\n",
        "%matplotlib inline\n",
        "from sklearn.cluster import KMeans\n",
        "import seaborn as sns\n",
        "import tensorflow.compat.v1 as tf\n",
        "r = requests.get('https://docs.google.com/spreadsheets/d/e/2PACX-1vSeWSxz1oBPOdGhPbX6w7B30nP9TU3lawhzM6rbhiPcnYmyJ_Kv93AEfQL5I-JkfEm5-nDjEUNyVwkT/pub?gid=288094237&single=true&output=csv')\n",
        "data = r.content\n",
        "df_Dec = pd.read_csv(BytesIO(data))\n",
        "df_Dec = df_Dec.drop(columns='Unnamed: 0', axis=1)"
      ],
      "execution_count": null,
      "outputs": []
    },
    {
      "cell_type": "code",
      "metadata": {
        "colab": {
          "base_uri": "https://localhost:8080/"
        },
        "id": "Kh2Cr3gmG1qw",
        "outputId": "674dcc27-3602-40e3-939f-e21a72d84e29"
      },
      "source": [
        "df_Dec.shape"
      ],
      "execution_count": null,
      "outputs": [
        {
          "output_type": "execute_result",
          "data": {
            "text/plain": [
              "(50000, 9)"
            ]
          },
          "metadata": {
            "tags": []
          },
          "execution_count": 2
        }
      ]
    },
    {
      "cell_type": "markdown",
      "metadata": {
        "id": "ngykMnJpVYbF"
      },
      "source": [
        "# **Data wrangling**"
      ]
    },
    {
      "cell_type": "code",
      "metadata": {
        "colab": {
          "base_uri": "https://localhost:8080/"
        },
        "id": "--5U68FxpvCT",
        "outputId": "6444d745-03a3-4f32-eca8-c29380345140"
      },
      "source": [
        "df_Dec.isnull().sum()"
      ],
      "execution_count": null,
      "outputs": [
        {
          "output_type": "execute_result",
          "data": {
            "text/plain": [
              "event_time           0\n",
              "event_type           0\n",
              "product_id           0\n",
              "category_id          0\n",
              "category_code    49144\n",
              "brand            21941\n",
              "price                0\n",
              "user_id              0\n",
              "user_session        15\n",
              "dtype: int64"
            ]
          },
          "metadata": {
            "tags": []
          },
          "execution_count": 3
        }
      ]
    },
    {
      "cell_type": "markdown",
      "metadata": {
        "id": "O6Fj0YfDXT7B"
      },
      "source": [
        "### **Column: category_code**"
      ]
    },
    {
      "cell_type": "code",
      "metadata": {
        "colab": {
          "base_uri": "https://localhost:8080/"
        },
        "id": "Cde45wewVtYj",
        "outputId": "cc026800-a0c1-48cd-917f-5541f841913a"
      },
      "source": [
        "##Counting the number of nan values in category_code column\n",
        "df_Dec['category_code'].isnull().sum()"
      ],
      "execution_count": null,
      "outputs": [
        {
          "output_type": "execute_result",
          "data": {
            "text/plain": [
              "49144"
            ]
          },
          "metadata": {
            "tags": []
          },
          "execution_count": 3
        }
      ]
    },
    {
      "cell_type": "code",
      "metadata": {
        "id": "kJOa2N0dmZIO"
      },
      "source": [
        "##Drop column category_code since the number of nulls is too huge\n",
        "df_Dec = df_Dec.drop(columns='category_code', axis=1)"
      ],
      "execution_count": null,
      "outputs": []
    },
    {
      "cell_type": "markdown",
      "metadata": {
        "id": "xnap3E4ia4Oo"
      },
      "source": [
        "### **Column: brand**"
      ]
    },
    {
      "cell_type": "code",
      "metadata": {
        "id": "Fo377N0CZwZQ"
      },
      "source": [
        "##Replace all null values \n",
        "df_Dec.brand = df_Dec.brand.replace(np.nan,'Not Available')"
      ],
      "execution_count": null,
      "outputs": []
    },
    {
      "cell_type": "code",
      "metadata": {
        "colab": {
          "base_uri": "https://localhost:8080/"
        },
        "id": "MaLTPcW8_OGv",
        "outputId": "6d3f3cb8-0f1c-42a4-b4ad-e27af3586441"
      },
      "source": [
        "df_Dec.isnull().sum()"
      ],
      "execution_count": null,
      "outputs": [
        {
          "output_type": "execute_result",
          "data": {
            "text/plain": [
              "event_time       0\n",
              "event_type       0\n",
              "product_id       0\n",
              "category_id      0\n",
              "brand            0\n",
              "price            0\n",
              "user_id          0\n",
              "user_session    15\n",
              "dtype: int64"
            ]
          },
          "metadata": {
            "tags": []
          },
          "execution_count": 6
        }
      ]
    },
    {
      "cell_type": "markdown",
      "metadata": {
        "id": "JyARlQUTbIVh"
      },
      "source": [
        "### **Column: event_time**"
      ]
    },
    {
      "cell_type": "code",
      "metadata": {
        "id": "zwePYjbpbXVI"
      },
      "source": [
        "##Converting the date type to datetime type for 'event_time'\n",
        "df_Dec['event_time'] = pd.to_datetime(df_Dec['event_time'], format='%Y-%m-%d %H:%M:%S UTC')"
      ],
      "execution_count": null,
      "outputs": []
    },
    {
      "cell_type": "code",
      "metadata": {
        "id": "uO8F3BA3cBgy"
      },
      "source": [
        "##Splitting event_time into 2 columns containing date and time respectively\n",
        "df_Dec['transaction_time'] = df_Dec['event_time'].dt.time\n",
        "df_Dec['transaction_date'] = df_Dec['event_time'].dt.normalize()"
      ],
      "execution_count": null,
      "outputs": []
    },
    {
      "cell_type": "markdown",
      "metadata": {
        "id": "ipXcF4WcjJNq"
      },
      "source": [
        "### **product_id**"
      ]
    },
    {
      "cell_type": "code",
      "metadata": {
        "colab": {
          "base_uri": "https://localhost:8080/"
        },
        "id": "LMjdX_p9jnRN",
        "outputId": "efa90b7c-e77e-4f1b-b37b-ee5f22211beb"
      },
      "source": [
        "type(df_Dec['product_id'][2])"
      ],
      "execution_count": null,
      "outputs": [
        {
          "output_type": "execute_result",
          "data": {
            "text/plain": [
              "numpy.int64"
            ]
          },
          "metadata": {
            "tags": []
          },
          "execution_count": 10
        }
      ]
    },
    {
      "cell_type": "code",
      "metadata": {
        "colab": {
          "base_uri": "https://localhost:8080/"
        },
        "id": "M60xcxHlkDlc",
        "outputId": "efb0ff12-2982-4cdd-f7d8-87f1504321d1"
      },
      "source": [
        "## Counting how many unique products are in the dataset\n",
        "print('The total count for product id is:',df_Dec['product_id'].count())\n",
        "print('The total count for product id is:',len(df_Dec['product_id'].unique()))"
      ],
      "execution_count": null,
      "outputs": [
        {
          "output_type": "stream",
          "text": [
            "The total count for product id is: 50000\n",
            "The total count for product id is: 12964\n"
          ],
          "name": "stdout"
        }
      ]
    },
    {
      "cell_type": "markdown",
      "metadata": {
        "id": "eNbWTTJztsNI"
      },
      "source": [
        "### **user_id**"
      ]
    },
    {
      "cell_type": "code",
      "metadata": {
        "colab": {
          "base_uri": "https://localhost:8080/"
        },
        "id": "vpJxS_YctrqG",
        "outputId": "074e63e7-bd30-4c5e-8438-c2bdeb3b6ba2"
      },
      "source": [
        "## Counting how many unique products are in the dataset\n",
        "print('The total count for user id is:',df_Dec['user_id'].count())\n",
        "print('The total count for user id is:',len(df_Dec['user_id'].unique()))"
      ],
      "execution_count": null,
      "outputs": [
        {
          "output_type": "stream",
          "text": [
            "The total count for user id is: 50000\n",
            "The total count for user id is: 7292\n"
          ],
          "name": "stdout"
        }
      ]
    },
    {
      "cell_type": "markdown",
      "metadata": {
        "id": "69iNkZ3l9Wrp"
      },
      "source": [
        "### **price**"
      ]
    },
    {
      "cell_type": "code",
      "metadata": {
        "colab": {
          "base_uri": "https://localhost:8080/"
        },
        "id": "sUES8vdSmOER",
        "outputId": "bf41a5e1-bfdb-4caa-f349-8c8e90382a77"
      },
      "source": [
        "df_Dec['price'].describe()"
      ],
      "execution_count": null,
      "outputs": [
        {
          "output_type": "execute_result",
          "data": {
            "text/plain": [
              "count    50000.000000\n",
              "mean         8.543152\n",
              "std         20.043783\n",
              "min          0.000000\n",
              "25%          1.730000\n",
              "50%          3.970000\n",
              "75%          6.350000\n",
              "max        327.780000\n",
              "Name: price, dtype: float64"
            ]
          },
          "metadata": {
            "tags": []
          },
          "execution_count": 25
        }
      ]
    },
    {
      "cell_type": "markdown",
      "metadata": {
        "id": "Uh6AbwD7-xxN"
      },
      "source": [
        "### **user_session**"
      ]
    },
    {
      "cell_type": "code",
      "metadata": {
        "id": "Xjtcz0-2-spa"
      },
      "source": [
        "df_Dec.user_session = df_Dec.user_session.replace(np.nan,'Not Available')"
      ],
      "execution_count": null,
      "outputs": []
    },
    {
      "cell_type": "code",
      "metadata": {
        "id": "Di3KDUeF_bI_",
        "colab": {
          "base_uri": "https://localhost:8080/"
        },
        "outputId": "3f0c3836-e600-4670-cb36-6b357cda0827"
      },
      "source": [
        "df_Dec.isnull().sum()"
      ],
      "execution_count": null,
      "outputs": [
        {
          "output_type": "execute_result",
          "data": {
            "text/plain": [
              "event_time          0\n",
              "event_type          0\n",
              "product_id          0\n",
              "category_id         0\n",
              "brand               0\n",
              "price               0\n",
              "user_id             0\n",
              "user_session        0\n",
              "transaction_time    0\n",
              "transaction_date    0\n",
              "dtype: int64"
            ]
          },
          "metadata": {
            "tags": []
          },
          "execution_count": 10
        }
      ]
    },
    {
      "cell_type": "code",
      "metadata": {
        "id": "E3I9yadnkm2h",
        "colab": {
          "base_uri": "https://localhost:8080/",
          "height": 314
        },
        "outputId": "0ade3915-fd1e-42e7-d250-c593b6d673de"
      },
      "source": [
        "#Count of event types\n",
        "plt.title('Count of view, purchase, cart event types')\n",
        "sns.countplot(x = 'event_type', data = df_Dec)"
      ],
      "execution_count": null,
      "outputs": [
        {
          "output_type": "execute_result",
          "data": {
            "text/plain": [
              "<matplotlib.axes._subplots.AxesSubplot at 0x7f1177166048>"
            ]
          },
          "metadata": {
            "tags": []
          },
          "execution_count": 15
        },
        {
          "output_type": "display_data",
          "data": {
            "image/png": "[encoded data removed]",
            "text/plain": [
              "<Figure size 432x288 with 1 Axes>"
            ]
          },
          "metadata": {
            "tags": [],
            "needs_background": "light"
          }
        }
      ]
    },
    {
      "cell_type": "markdown",
      "metadata": {
        "id": "Y7URHBkaAVlF"
      },
      "source": [
        "The data looks quite balanced."
      ]
    },
    {
      "cell_type": "markdown",
      "metadata": {
        "id": "Qomvlpjb77Qp"
      },
      "source": [
        "# **EDA**"
      ]
    },
    {
      "cell_type": "code",
      "metadata": {
        "colab": {
          "base_uri": "https://localhost:8080/",
          "height": 195
        },
        "id": "BOLD4mDROwYb",
        "outputId": "dbc32376-5bbd-4403-8ff0-3659296bbe9f"
      },
      "source": [
        "sns.set(style=\"ticks\")\n",
        "numcols = ['user_id', 'product_id', 'category_id', 'price']\n",
        "catcols = ['event_type','brand']\n",
        "# Subset the columns\n",
        "plot_df = df_Dec[numcols+ catcols]\n",
        "# Few rows of data\n",
        "plot_df.head()"
      ],
      "execution_count": null,
      "outputs": [
        {
          "output_type": "execute_result",
          "data": {
            "text/html": [
              "<div>\n",
              "<style scoped>\n",
              "    .dataframe tbody tr th:only-of-type {\n",
              "        vertical-align: middle;\n",
              "    }\n",
              "\n",
              "    .dataframe tbody tr th {\n",
              "        vertical-align: top;\n",
              "    }\n",
              "\n",
              "    .dataframe thead th {\n",
              "        text-align: right;\n",
              "    }\n",
              "</style>\n",
              "<table border=\"1\" class=\"dataframe\">\n",
              "  <thead>\n",
              "    <tr style=\"text-align: right;\">\n",
              "      <th></th>\n",
              "      <th>user_id</th>\n",
              "      <th>product_id</th>\n",
              "      <th>category_id</th>\n",
              "      <th>price</th>\n",
              "      <th>event_type</th>\n",
              "      <th>brand</th>\n",
              "    </tr>\n",
              "  </thead>\n",
              "  <tbody>\n",
              "    <tr>\n",
              "      <th>0</th>\n",
              "      <td>576802932</td>\n",
              "      <td>5712790</td>\n",
              "      <td>1487580005268456287</td>\n",
              "      <td>6.27</td>\n",
              "      <td>remove_from_cart</td>\n",
              "      <td>f.o.x</td>\n",
              "    </tr>\n",
              "    <tr>\n",
              "      <th>1</th>\n",
              "      <td>412120092</td>\n",
              "      <td>5764655</td>\n",
              "      <td>1487580005411062629</td>\n",
              "      <td>29.05</td>\n",
              "      <td>view</td>\n",
              "      <td>cnd</td>\n",
              "    </tr>\n",
              "    <tr>\n",
              "      <th>2</th>\n",
              "      <td>494077766</td>\n",
              "      <td>4958</td>\n",
              "      <td>1487580009471148064</td>\n",
              "      <td>1.19</td>\n",
              "      <td>cart</td>\n",
              "      <td>runail</td>\n",
              "    </tr>\n",
              "    <tr>\n",
              "      <th>3</th>\n",
              "      <td>348405118</td>\n",
              "      <td>5848413</td>\n",
              "      <td>1487580007675986893</td>\n",
              "      <td>0.79</td>\n",
              "      <td>view</td>\n",
              "      <td>freedecor</td>\n",
              "    </tr>\n",
              "    <tr>\n",
              "      <th>4</th>\n",
              "      <td>576005683</td>\n",
              "      <td>5824148</td>\n",
              "      <td>1487580005511725929</td>\n",
              "      <td>5.56</td>\n",
              "      <td>view</td>\n",
              "      <td>Not Available</td>\n",
              "    </tr>\n",
              "  </tbody>\n",
              "</table>\n",
              "</div>"
            ],
            "text/plain": [
              "     user_id  product_id  ...        event_type          brand\n",
              "0  576802932     5712790  ...  remove_from_cart          f.o.x\n",
              "1  412120092     5764655  ...              view            cnd\n",
              "2  494077766        4958  ...              cart         runail\n",
              "3  348405118     5848413  ...              view      freedecor\n",
              "4  576005683     5824148  ...              view  Not Available\n",
              "\n",
              "[5 rows x 6 columns]"
            ]
          },
          "metadata": {
            "tags": []
          },
          "execution_count": 16
        }
      ]
    },
    {
      "cell_type": "code",
      "metadata": {
        "colab": {
          "base_uri": "https://localhost:8080/"
        },
        "id": "tdCCztVNPg4w",
        "outputId": "b1cac826-a5a9-4b55-95cf-55c6d1eb47a0"
      },
      "source": [
        "!pip install dython\n",
        "from dython import nominal"
      ],
      "execution_count": null,
      "outputs": [
        {
          "output_type": "stream",
          "text": [
            "Collecting dython\n",
            "  Downloading https://files.pythonhosted.org/packages/3c/f6/b07c7e407b6081526e45b0487da2bec0ec3b378fcb0e92a5883e335637cc/dython-0.6.3-py3-none-any.whl\n",
            "Requirement already satisfied: scikit-learn in /usr/local/lib/python3.6/dist-packages (from dython) (0.22.2.post1)\n",
            "Requirement already satisfied: pandas>=0.23.4 in /usr/local/lib/python3.6/dist-packages (from dython) (1.1.5)\n",
            "Requirement already satisfied: matplotlib in /usr/local/lib/python3.6/dist-packages (from dython) (3.2.2)\n",
            "Requirement already satisfied: seaborn in /usr/local/lib/python3.6/dist-packages (from dython) (0.11.1)\n",
            "Requirement already satisfied: numpy in /usr/local/lib/python3.6/dist-packages (from dython) (1.19.5)\n",
            "Requirement already satisfied: scipy in /usr/local/lib/python3.6/dist-packages (from dython) (1.4.1)\n",
            "Requirement already satisfied: joblib>=0.11 in /usr/local/lib/python3.6/dist-packages (from scikit-learn->dython) (1.0.0)\n",
            "Requirement already satisfied: pytz>=2017.2 in /usr/local/lib/python3.6/dist-packages (from pandas>=0.23.4->dython) (2018.9)\n",
            "Requirement already satisfied: python-dateutil>=2.7.3 in /usr/local/lib/python3.6/dist-packages (from pandas>=0.23.4->dython) (2.8.1)\n",
            "Requirement already satisfied: pyparsing!=2.0.4,!=2.1.2,!=2.1.6,>=2.0.1 in /usr/local/lib/python3.6/dist-packages (from matplotlib->dython) (2.4.7)\n",
            "Requirement already satisfied: kiwisolver>=1.0.1 in /usr/local/lib/python3.6/dist-packages (from matplotlib->dython) (1.3.1)\n",
            "Requirement already satisfied: cycler>=0.10 in /usr/local/lib/python3.6/dist-packages (from matplotlib->dython) (0.10.0)\n",
            "Requirement already satisfied: six>=1.5 in /usr/local/lib/python3.6/dist-packages (from python-dateutil>=2.7.3->pandas>=0.23.4->dython) (1.15.0)\n",
            "Installing collected packages: dython\n",
            "Successfully installed dython-0.6.3\n"
          ],
          "name": "stdout"
        }
      ]
    },
    {
      "cell_type": "code",
      "metadata": {
        "colab": {
          "base_uri": "https://localhost:8080/",
          "height": 565
        },
        "id": "7YM5pCbyP-_J",
        "outputId": "16c90fff-a9a5-4c70-bfdc-b87fc44337d2"
      },
      "source": [
        "nominal.associations(plot_df, nominal_columns=catcols)"
      ],
      "execution_count": null,
      "outputs": [
        {
          "output_type": "stream",
          "text": [
            "/usr/local/lib/python3.6/dist-packages/pandas/core/frame.py:4327: SettingWithCopyWarning: \n",
            "A value is trying to be set on a copy of a slice from a DataFrame\n",
            "\n",
            "See the caveats in the documentation: https://pandas.pydata.org/pandas-docs/stable/user_guide/indexing.html#returning-a-view-versus-a-copy\n",
            "  downcast=downcast,\n"
          ],
          "name": "stderr"
        },
        {
          "output_type": "display_data",
          "data": {
            "image/png": "[encoded data removed]",
            "text/plain": [
              "<Figure size 432x288 with 2 Axes>"
            ]
          },
          "metadata": {
            "tags": []
          }
        },
        {
          "output_type": "execute_result",
          "data": {
            "text/plain": [
              "{'ax': <matplotlib.axes._subplots.AxesSubplot at 0x7f11762dfc88>,\n",
              " 'corr':               user_id  product_id  category_id     price  event_type     brand\n",
              " user_id      1.000000    0.006763     0.013303  0.029179    0.081753  0.131367\n",
              " product_id   0.006763    1.000000     0.000979 -0.009795    0.020341  0.568457\n",
              " category_id  0.013303    0.000979     1.000000 -0.013430    0.021808  0.340815\n",
              " price        0.029179   -0.009795    -0.013430  1.000000    0.190350  0.777730\n",
              " event_type   0.081753    0.020341     0.021808  0.190350    1.000000  0.139854\n",
              " brand        0.131367    0.568457     0.340815  0.777730    0.139854  1.000000}"
            ]
          },
          "metadata": {
            "tags": []
          },
          "execution_count": 18
        }
      ]
    },
    {
      "cell_type": "markdown",
      "metadata": {
        "id": "EtksP-rUqdCj"
      },
      "source": [
        "We can see that the correlation between price and brand is the highest and the correlation between brand and product id is the second highest. There is a considerable correlation between category id and brand as well."
      ]
    },
    {
      "cell_type": "markdown",
      "metadata": {
        "id": "-GrqG1p_uTB3"
      },
      "source": [
        "**Filter out events that are purchase to find the total amount spent per user**"
      ]
    },
    {
      "cell_type": "code",
      "metadata": {
        "id": "k6ahE9KSH7QQ"
      },
      "source": [
        "df_purchase = df_Dec[df_Dec[\"event_type\"] == \"purchase\"]"
      ],
      "execution_count": null,
      "outputs": []
    },
    {
      "cell_type": "code",
      "metadata": {
        "id": "gAiUpklKICcA"
      },
      "source": [
        "## We are calculating the total amount spent by each customer.\n",
        "df1 = df_purchase.groupby(['user_id']).agg({'price': 'sum'}).reset_index()"
      ],
      "execution_count": null,
      "outputs": []
    },
    {
      "cell_type": "code",
      "metadata": {
        "colab": {
          "base_uri": "https://localhost:8080/",
          "height": 422
        },
        "id": "XEkQCvyFQgcs",
        "outputId": "2491cba1-7d06-4c6d-e28b-7da3b44d22d3"
      },
      "source": [
        "df1.plot.scatter(x='user_id', y='price', figsize=(8,6))\n",
        "plt.title(\"Scatter plot for user spending behaviour\")"
      ],
      "execution_count": null,
      "outputs": [
        {
          "output_type": "execute_result",
          "data": {
            "text/plain": [
              "Text(0.5, 1.0, 'Scatter plot for user spending behaviour')"
            ]
          },
          "metadata": {
            "tags": []
          },
          "execution_count": 13
        },
        {
          "output_type": "display_data",
          "data": {
            "image/png": "[encoded data removed]",
            "text/plain": [
              "<Figure size 576x432 with 1 Axes>"
            ]
          },
          "metadata": {
            "tags": [],
            "needs_background": "light"
          }
        }
      ]
    },
    {
      "cell_type": "markdown",
      "metadata": {
        "id": "ONUS4VwBBzMz"
      },
      "source": [
        "# **K-Means using scikitLearn**\n",
        "We are clustering the users based on their spending behaviour. As shown above, we've computed the total amount spent by each user and stored in a dataframe called df1. \n",
        "We then plot the total amount against their respective user_id."
      ]
    },
    {
      "cell_type": "code",
      "metadata": {
        "id": "DqjHarw6-Z2b",
        "colab": {
          "base_uri": "https://localhost:8080/",
          "height": 284
        },
        "outputId": "37d887f1-8cb6-4260-e91e-22b2462bc5e4"
      },
      "source": [
        "# standardizing the data\n",
        "from sklearn.preprocessing import StandardScaler\n",
        "scaler = StandardScaler()\n",
        "data_scaled = scaler.fit_transform(df1)\n",
        "\n",
        "# statistics of scaled data\n",
        "pd.DataFrame(data_scaled).describe()"
      ],
      "execution_count": null,
      "outputs": [
        {
          "output_type": "execute_result",
          "data": {
            "text/html": [
              "<div>\n",
              "<style scoped>\n",
              "    .dataframe tbody tr th:only-of-type {\n",
              "        vertical-align: middle;\n",
              "    }\n",
              "\n",
              "    .dataframe tbody tr th {\n",
              "        vertical-align: top;\n",
              "    }\n",
              "\n",
              "    .dataframe thead th {\n",
              "        text-align: right;\n",
              "    }\n",
              "</style>\n",
              "<table border=\"1\" class=\"dataframe\">\n",
              "  <thead>\n",
              "    <tr style=\"text-align: right;\">\n",
              "      <th></th>\n",
              "      <th>0</th>\n",
              "      <th>1</th>\n",
              "    </tr>\n",
              "  </thead>\n",
              "  <tbody>\n",
              "    <tr>\n",
              "      <th>count</th>\n",
              "      <td>2.900000e+02</td>\n",
              "      <td>2.900000e+02</td>\n",
              "    </tr>\n",
              "    <tr>\n",
              "      <th>mean</th>\n",
              "      <td>-2.825326e-16</td>\n",
              "      <td>-7.656711e-18</td>\n",
              "    </tr>\n",
              "    <tr>\n",
              "      <th>std</th>\n",
              "      <td>1.001729e+00</td>\n",
              "      <td>1.001729e+00</td>\n",
              "    </tr>\n",
              "    <tr>\n",
              "      <th>min</th>\n",
              "      <td>-4.372166e+00</td>\n",
              "      <td>-8.158460e-01</td>\n",
              "    </tr>\n",
              "    <tr>\n",
              "      <th>25%</th>\n",
              "      <td>-6.168880e-01</td>\n",
              "      <td>-5.459900e-01</td>\n",
              "    </tr>\n",
              "    <tr>\n",
              "      <th>50%</th>\n",
              "      <td>3.818315e-01</td>\n",
              "      <td>-2.531101e-01</td>\n",
              "    </tr>\n",
              "    <tr>\n",
              "      <th>75%</th>\n",
              "      <td>8.565004e-01</td>\n",
              "      <td>1.110449e-01</td>\n",
              "    </tr>\n",
              "    <tr>\n",
              "      <th>max</th>\n",
              "      <td>8.824341e-01</td>\n",
              "      <td>1.036998e+01</td>\n",
              "    </tr>\n",
              "  </tbody>\n",
              "</table>\n",
              "</div>"
            ],
            "text/plain": [
              "                  0             1\n",
              "count  2.900000e+02  2.900000e+02\n",
              "mean  -2.825326e-16 -7.656711e-18\n",
              "std    1.001729e+00  1.001729e+00\n",
              "min   -4.372166e+00 -8.158460e-01\n",
              "25%   -6.168880e-01 -5.459900e-01\n",
              "50%    3.818315e-01 -2.531101e-01\n",
              "75%    8.565004e-01  1.110449e-01\n",
              "max    8.824341e-01  1.036998e+01"
            ]
          },
          "metadata": {
            "tags": []
          },
          "execution_count": 26
        }
      ]
    },
    {
      "cell_type": "code",
      "metadata": {
        "colab": {
          "base_uri": "https://localhost:8080/",
          "height": 405
        },
        "id": "wu-fOdxxKQ1p",
        "outputId": "553ba1cc-c3fb-46d2-f406-6c756758610c"
      },
      "source": [
        "# fitting multiple k-means algorithms and storing the values in an empty list\n",
        "SSE = []\n",
        "for cluster in range(1,10):\n",
        "    kmeans = KMeans(n_jobs = -1, n_clusters = cluster, init='k-means++')\n",
        "    kmeans.fit(data_scaled)\n",
        "    SSE.append(kmeans.inertia_)\n",
        "\n",
        "# converting the results into a dataframe and plotting them\n",
        "frame = pd.DataFrame({'Cluster':range(1,10), 'SSE':SSE})\n",
        "plt.figure(figsize=(12,6))\n",
        "plt.plot(frame['Cluster'], frame['SSE'], marker='o')\n",
        "plt.xlabel('Number of clusters')\n",
        "plt.ylabel('Inertia')"
      ],
      "execution_count": null,
      "outputs": [
        {
          "output_type": "execute_result",
          "data": {
            "text/plain": [
              "Text(0, 0.5, 'Inertia')"
            ]
          },
          "metadata": {
            "tags": []
          },
          "execution_count": 27
        },
        {
          "output_type": "display_data",
          "data": {
            "image/png": "[encoded data removed]",
            "text/plain": [
              "<Figure size 864x432 with 1 Axes>"
            ]
          },
          "metadata": {
            "tags": [],
            "needs_background": "light"
          }
        }
      ]
    },
    {
      "cell_type": "code",
      "metadata": {
        "id": "U2eir0y1LjPr"
      },
      "source": [
        "#Trying out 4 clusters decided from the above elbow plot\n",
        "kmeans = KMeans(n_clusters=3)\n",
        "kmeans.fit(data_scaled)\n",
        "y_kmeans = kmeans.predict(data_scaled)"
      ],
      "execution_count": null,
      "outputs": []
    },
    {
      "cell_type": "code",
      "metadata": {
        "colab": {
          "base_uri": "https://localhost:8080/",
          "height": 282
        },
        "id": "88C2jvQxL01X",
        "outputId": "29073529-778b-4ea8-a7a7-3a0b38d53658"
      },
      "source": [
        "plt.scatter(data_scaled[:, 0], data_scaled[:, 1], c=y_kmeans, s=12, cmap='viridis')\n",
        "\n",
        "centers = kmeans.cluster_centers_\n",
        "plt.scatter(centers[:, 0], centers[:, 1], c='black', s=12, alpha=0.5)"
      ],
      "execution_count": null,
      "outputs": [
        {
          "output_type": "execute_result",
          "data": {
            "text/plain": [
              "<matplotlib.collections.PathCollection at 0x7fc72ec40550>"
            ]
          },
          "metadata": {
            "tags": []
          },
          "execution_count": 29
        },
        {
          "output_type": "display_data",
          "data": {
            "image/png": "[encoded data removed]",
            "text/plain": [
              "<Figure size 432x288 with 1 Axes>"
            ]
          },
          "metadata": {
            "tags": [],
            "needs_background": "light"
          }
        }
      ]
    },
    {
      "cell_type": "markdown",
      "metadata": {
        "id": "u_PLnoerH_An"
      },
      "source": [
        "# **Silhouette score of K-means clustering**"
      ]
    },
    {
      "cell_type": "code",
      "metadata": {
        "colab": {
          "base_uri": "https://localhost:8080/"
        },
        "id": "c8TurlgzH4BE",
        "outputId": "5f101b99-56a8-4f5d-e274-a52328248d31"
      },
      "source": [
        "#calculating silhouette score with 3 clusters\n",
        "from sklearn.metrics import silhouette_score\n",
        "print(f'Silhouette Score(n=3): {silhouette_score(data_scaled, y_kmeans)}')"
      ],
      "execution_count": null,
      "outputs": [
        {
          "output_type": "stream",
          "text": [
            "Silhouette Score(n=3): 0.523451108850259\n"
          ],
          "name": "stdout"
        }
      ]
    },
    {
      "cell_type": "markdown",
      "metadata": {
        "id": "XCioEie7me7i"
      },
      "source": [
        "# **calinski_harabasz_score for K-means**"
      ]
    },
    {
      "cell_type": "code",
      "metadata": {
        "colab": {
          "base_uri": "https://localhost:8080/"
        },
        "id": "PAT2PQ9FmjQj",
        "outputId": "d578ffe5-6f5e-4f16-9113-e05f81dd7423"
      },
      "source": [
        "from sklearn.metrics import calinski_harabasz_score\n",
        "calinski_harabasz_score(data_scaled, y_kmeans)"
      ],
      "execution_count": null,
      "outputs": [
        {
          "output_type": "execute_result",
          "data": {
            "text/plain": [
              "231.34412204332176"
            ]
          },
          "metadata": {
            "tags": []
          },
          "execution_count": 30
        }
      ]
    },
    {
      "cell_type": "markdown",
      "metadata": {
        "id": "0ff5xFSym2xP"
      },
      "source": [
        "# **davies_bouldin_score for K-means**"
      ]
    },
    {
      "cell_type": "code",
      "metadata": {
        "colab": {
          "base_uri": "https://localhost:8080/"
        },
        "id": "QFUlN57Wm50j",
        "outputId": "6bff9ec5-5199-4c36-d58b-bf81c82ce6e1"
      },
      "source": [
        "from sklearn.metrics import davies_bouldin_score\n",
        "davies_bouldin_score(data_scaled, y_kmeans)"
      ],
      "execution_count": null,
      "outputs": [
        {
          "output_type": "execute_result",
          "data": {
            "text/plain": [
              "0.6908376495519818"
            ]
          },
          "metadata": {
            "tags": []
          },
          "execution_count": 31
        }
      ]
    },
    {
      "cell_type": "markdown",
      "metadata": {
        "id": "xh_5TEM1Cv_y"
      },
      "source": [
        "# **GMM**"
      ]
    },
    {
      "cell_type": "code",
      "metadata": {
        "colab": {
          "base_uri": "https://localhost:8080/"
        },
        "id": "BbviyOnoEBHJ",
        "outputId": "5c07c5ce-a370-46eb-cce6-0aec2ff15ec6"
      },
      "source": [
        "from sklearn.mixture import GaussianMixture\n",
        "gmm = GaussianMixture(n_components=3)\n",
        "gmm.fit(data_scaled)"
      ],
      "execution_count": null,
      "outputs": [
        {
          "output_type": "execute_result",
          "data": {
            "text/plain": [
              "GaussianMixture(covariance_type='full', init_params='kmeans', max_iter=100,\n",
              "                means_init=None, n_components=3, n_init=1, precisions_init=None,\n",
              "                random_state=None, reg_covar=1e-06, tol=0.001, verbose=0,\n",
              "                verbose_interval=10, warm_start=False, weights_init=None)"
            ]
          },
          "metadata": {
            "tags": []
          },
          "execution_count": 32
        }
      ]
    },
    {
      "cell_type": "code",
      "metadata": {
        "colab": {
          "base_uri": "https://localhost:8080/",
          "height": 280
        },
        "id": "fo_YEZ9ljhkj",
        "outputId": "a16fe158-c503-4a50-c676-ef2d50c4bf0b"
      },
      "source": [
        "from sklearn import mixture\n",
        "n_components = np.arange(1, 21)\n",
        "models = [mixture.GaussianMixture(n, covariance_type='full', random_state=0).fit(data_scaled)\n",
        "          for n in n_components]\n",
        "\n",
        "plt.plot(n_components, [m.bic(data_scaled) for m in models], label='BIC')\n",
        "plt.plot(n_components, [m.aic(data_scaled) for m in models], label='AIC')\n",
        "plt.legend(loc='best')\n",
        "plt.xlabel('n_components');"
      ],
      "execution_count": null,
      "outputs": [
        {
          "output_type": "display_data",
          "data": {
            "image/png": "[encoded data removed]",
            "text/plain": [
              "<Figure size 432x288 with 1 Axes>"
            ]
          },
          "metadata": {
            "tags": [],
            "needs_background": "light"
          }
        }
      ]
    },
    {
      "cell_type": "code",
      "metadata": {
        "id": "9SWd3b3YJgTp"
      },
      "source": [
        "#predictions from gmm\n",
        "labels = gmm.predict(data_scaled)\n",
        "frame = pd.DataFrame(data_scaled)\n",
        "frame['cluster'] = labels\n",
        "frame.columns = ['user_id', 'price', 'cluster']"
      ],
      "execution_count": null,
      "outputs": []
    },
    {
      "cell_type": "code",
      "metadata": {
        "colab": {
          "base_uri": "https://localhost:8080/",
          "height": 265
        },
        "id": "SEinZJv7KARU",
        "outputId": "48ee317b-0941-44fd-dd84-f0933d0e3115"
      },
      "source": [
        "color=['blue','green','cyan']\n",
        "for k in range(0,3):\n",
        "    data = frame[frame[\"cluster\"]==k]\n",
        "    plt.scatter(data[\"user_id\"],data[\"price\"],c=color[k], s=12)\n",
        "plt.show()"
      ],
      "execution_count": null,
      "outputs": [
        {
          "output_type": "display_data",
          "data": {
            "image/png": "[encoded data removed]",
            "text/plain": [
              "<Figure size 432x288 with 1 Axes>"
            ]
          },
          "metadata": {
            "tags": [],
            "needs_background": "light"
          }
        }
      ]
    },
    {
      "cell_type": "markdown",
      "metadata": {
        "id": "cW-Z3PADWJTF"
      },
      "source": [
        "# **Silhouette score of GMM clustering**"
      ]
    },
    {
      "cell_type": "code",
      "metadata": {
        "colab": {
          "base_uri": "https://localhost:8080/"
        },
        "id": "sM4M7rxcWERX",
        "outputId": "1d234a97-e3c2-436f-dde5-7e92f8268b3b"
      },
      "source": [
        "#calculating silhouette score with 3 clusters\n",
        "from sklearn.metrics import silhouette_score\n",
        "print(f'Silhouette Score(n=3): {silhouette_score(data_scaled, labels)}')"
      ],
      "execution_count": null,
      "outputs": [
        {
          "output_type": "stream",
          "text": [
            "Silhouette Score(n=3): 0.12111914281419185\n"
          ],
          "name": "stdout"
        }
      ]
    },
    {
      "cell_type": "markdown",
      "metadata": {
        "id": "C1e8EP65nN8I"
      },
      "source": [
        "# **calinski_harabasz_score for GMM**"
      ]
    },
    {
      "cell_type": "code",
      "metadata": {
        "colab": {
          "base_uri": "https://localhost:8080/"
        },
        "id": "mxai1DJ0nNJb",
        "outputId": "41eb78f6-c5ca-4dfd-a4f4-347426b3be6b"
      },
      "source": [
        "from sklearn.metrics import calinski_harabasz_score\n",
        "calinski_harabasz_score(data_scaled, labels)"
      ],
      "execution_count": null,
      "outputs": [
        {
          "output_type": "execute_result",
          "data": {
            "text/plain": [
              "79.43743359495102"
            ]
          },
          "metadata": {
            "tags": []
          },
          "execution_count": 37
        }
      ]
    },
    {
      "cell_type": "markdown",
      "metadata": {
        "id": "yT1andfcnb0l"
      },
      "source": [
        "# **davies_bouldin_score for GMM**"
      ]
    },
    {
      "cell_type": "code",
      "metadata": {
        "colab": {
          "base_uri": "https://localhost:8080/"
        },
        "id": "qgYKRiyQnfuq",
        "outputId": "a4f64efe-5cb5-419a-8511-c4da302849ad"
      },
      "source": [
        "from sklearn.metrics import davies_bouldin_score\n",
        "davies_bouldin_score(data_scaled, labels)"
      ],
      "execution_count": null,
      "outputs": [
        {
          "output_type": "execute_result",
          "data": {
            "text/plain": [
              "1.085960353512334"
            ]
          },
          "metadata": {
            "tags": []
          },
          "execution_count": 38
        }
      ]
    },
    {
      "cell_type": "markdown",
      "metadata": {
        "id": "N_QzG-qgC9DF"
      },
      "source": [
        "# **BIRCH**"
      ]
    },
    {
      "cell_type": "code",
      "metadata": {
        "colab": {
          "base_uri": "https://localhost:8080/"
        },
        "id": "4NYkM5SxC3Xm",
        "outputId": "82eda471-ba25-4fac-9db1-fc3653e56e92"
      },
      "source": [
        "from sklearn.cluster import Birch\n",
        "brc = Birch(branching_factor=100, n_clusters=3, threshold=0.5, compute_labels=True, copy=True)\n",
        "brc.fit(data_scaled)"
      ],
      "execution_count": null,
      "outputs": [
        {
          "output_type": "execute_result",
          "data": {
            "text/plain": [
              "Birch(branching_factor=100, compute_labels=True, copy=True, n_clusters=3,\n",
              "      threshold=0.5)"
            ]
          },
          "metadata": {
            "tags": []
          },
          "execution_count": 39
        }
      ]
    },
    {
      "cell_type": "code",
      "metadata": {
        "id": "qc8TeuG4DHmA"
      },
      "source": [
        "labels = brc.predict(data_scaled)"
      ],
      "execution_count": null,
      "outputs": []
    },
    {
      "cell_type": "code",
      "metadata": {
        "colab": {
          "base_uri": "https://localhost:8080/",
          "height": 282
        },
        "id": "RyTQ-3jDDJWQ",
        "outputId": "d53f8395-f193-4017-b915-5eb741b653a4"
      },
      "source": [
        "plt.scatter(data_scaled[:,0], data_scaled[:,1], c=labels, cmap='rainbow', alpha=0.7, edgecolors='b')"
      ],
      "execution_count": null,
      "outputs": [
        {
          "output_type": "execute_result",
          "data": {
            "text/plain": [
              "<matplotlib.collections.PathCollection at 0x7fc72d089e80>"
            ]
          },
          "metadata": {
            "tags": []
          },
          "execution_count": 41
        },
        {
          "output_type": "display_data",
          "data": {
            "image/png": "[encoded data removed]",
            "text/plain": [
              "<Figure size 432x288 with 1 Axes>"
            ]
          },
          "metadata": {
            "tags": [],
            "needs_background": "light"
          }
        }
      ]
    },
    {
      "cell_type": "markdown",
      "metadata": {
        "id": "qFbqpqbs_Yky"
      },
      "source": [
        "# **Silhouette score of Birch clustering**"
      ]
    },
    {
      "cell_type": "code",
      "metadata": {
        "colab": {
          "base_uri": "https://localhost:8080/"
        },
        "id": "zpm1K-c3XvNc",
        "outputId": "5554ffa5-80d6-45bb-b0f2-881c75ceb39e"
      },
      "source": [
        "#calculating silhouette score with 3 clusters\n",
        "from sklearn.metrics import silhouette_score\n",
        "print(f'Silhouette Score(n=3): {silhouette_score(data_scaled, labels)}')"
      ],
      "execution_count": null,
      "outputs": [
        {
          "output_type": "stream",
          "text": [
            "Silhouette Score(n=3): 0.6123334940423968\n"
          ],
          "name": "stdout"
        }
      ]
    },
    {
      "cell_type": "markdown",
      "metadata": {
        "id": "RgFLI_KanrF-"
      },
      "source": [
        "# **calinski_harabasz_score of Birch clustering**\n",
        "\n"
      ]
    },
    {
      "cell_type": "code",
      "metadata": {
        "colab": {
          "base_uri": "https://localhost:8080/"
        },
        "id": "jXMPaNtLnqDS",
        "outputId": "3818f13e-2cba-4c7a-b19f-4edf5100d2d9"
      },
      "source": [
        "from sklearn.metrics import calinski_harabasz_score\n",
        "calinski_harabasz_score(data_scaled, labels)"
      ],
      "execution_count": null,
      "outputs": [
        {
          "output_type": "execute_result",
          "data": {
            "text/plain": [
              "52.823586666789744"
            ]
          },
          "metadata": {
            "tags": []
          },
          "execution_count": 43
        }
      ]
    },
    {
      "cell_type": "markdown",
      "metadata": {
        "id": "NUPj-ZU7n0gl"
      },
      "source": [
        "# **davies_bouldin_score of Birch clustering**\n"
      ]
    },
    {
      "cell_type": "code",
      "metadata": {
        "colab": {
          "base_uri": "https://localhost:8080/"
        },
        "id": "XY2CL_wHn5d6",
        "outputId": "e05a9038-91a5-45b8-a742-2a22868ef1d6"
      },
      "source": [
        "from sklearn.metrics import davies_bouldin_score\n",
        "davies_bouldin_score(data_scaled, labels)"
      ],
      "execution_count": null,
      "outputs": [
        {
          "output_type": "execute_result",
          "data": {
            "text/plain": [
              "0.30980348220091636"
            ]
          },
          "metadata": {
            "tags": []
          },
          "execution_count": 44
        }
      ]
    }
  ]
}