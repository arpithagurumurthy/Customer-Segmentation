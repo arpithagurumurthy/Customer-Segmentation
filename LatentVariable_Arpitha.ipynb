{
  "nbformat": 4,
  "nbformat_minor": 0,
  "metadata": {
    "colab": {
      "name": "HW4_LatentVariable_Arpitha.ipynb",
      "provenance": [],
      "collapsed_sections": []
    },
    "kernelspec": {
      "name": "python3",
      "display_name": "Python 3"
    },
    "accelerator": "GPU"
  },
  "cells": [
    {
      "cell_type": "markdown",
      "metadata": {
        "id": "F_xtrpZFf6DQ"
      },
      "source": [
        "### **CMPE 257 Assignment 4 - Latent Manifold**\n",
        "**Dataset:** \n",
        "eCommerce customer behavior data\n",
        "\n",
        "https://www.kaggle.com/mkechinov/ecommerce-behavior-data-from-multi-category-store\n",
        "\n",
        "**Market segmentation** is important for small scale businesses to filter out their target markets. This can include segments of users whom they can target in order to increase sales, or segments of products that they can replace to increase their income.\n",
        "\n",
        "**Latent Variable used:**\n",
        "Popularity factor based on the category codes in demand.\n"
      ]
    },
    {
      "cell_type": "markdown",
      "metadata": {
        "id": "1I3yz-SnVNkO"
      },
      "source": [
        "# **Data collection and preparation**"
      ]
    },
    {
      "cell_type": "code",
      "metadata": {
        "id": "6OrNQzwmvto6"
      },
      "source": [
        "from io import BytesIO\n",
        "import requests\n",
        "import pandas as pd\n",
        "import numpy as np\n",
        "import matplotlib.pyplot as plt\n",
        "%matplotlib inline\n",
        "from sklearn.cluster import KMeans\n",
        "import seaborn as sns\n",
        "import tensorflow.compat.v1 as tf\n",
        "r = requests.get('https://docs.google.com/spreadsheets/d/e/2PACX-1vTrfrhv1SOGSa0cLry-16Tx4ykJZBRDDjtCCJJzai0OtB8ewYbmzcSyNBSqvARAqHppa_NM1LH1-MEC/pub?gid=1654498000&single=true&output=csv')\n",
        "data = r.content\n",
        "df_Oct = pd.read_csv(BytesIO(data))\n",
        "df_Oct = df_Oct.drop(columns='Unnamed: 0', axis=1)"
      ],
      "execution_count": null,
      "outputs": []
    },
    {
      "cell_type": "code",
      "metadata": {
        "colab": {
          "base_uri": "https://localhost:8080/"
        },
        "id": "Kh2Cr3gmG1qw",
        "outputId": "89049cda-43f7-4631-98cf-a75f6fd6ef18"
      },
      "source": [
        "df_Oct.shape"
      ],
      "execution_count": null,
      "outputs": [
        {
          "output_type": "execute_result",
          "data": {
            "text/plain": [
              "(50000, 9)"
            ]
          },
          "metadata": {
            "tags": []
          },
          "execution_count": 2
        }
      ]
    },
    {
      "cell_type": "code",
      "metadata": {
        "colab": {
          "base_uri": "https://localhost:8080/",
          "height": 285
        },
        "id": "XX7JPRI2kbcO",
        "outputId": "ea6791ca-f4b4-4695-f5e7-647a98b7c98d"
      },
      "source": [
        "df_Oct.head()"
      ],
      "execution_count": null,
      "outputs": [
        {
          "output_type": "execute_result",
          "data": {
            "text/html": [
              "<div>\n",
              "<style scoped>\n",
              "    .dataframe tbody tr th:only-of-type {\n",
              "        vertical-align: middle;\n",
              "    }\n",
              "\n",
              "    .dataframe tbody tr th {\n",
              "        vertical-align: top;\n",
              "    }\n",
              "\n",
              "    .dataframe thead th {\n",
              "        text-align: right;\n",
              "    }\n",
              "</style>\n",
              "<table border=\"1\" class=\"dataframe\">\n",
              "  <thead>\n",
              "    <tr style=\"text-align: right;\">\n",
              "      <th></th>\n",
              "      <th>event_time</th>\n",
              "      <th>event_type</th>\n",
              "      <th>product_id</th>\n",
              "      <th>category_id</th>\n",
              "      <th>category_code</th>\n",
              "      <th>brand</th>\n",
              "      <th>price</th>\n",
              "      <th>user_id</th>\n",
              "      <th>user_session</th>\n",
              "    </tr>\n",
              "  </thead>\n",
              "  <tbody>\n",
              "    <tr>\n",
              "      <th>0</th>\n",
              "      <td>2019-10-01 00:00:00 UTC</td>\n",
              "      <td>view</td>\n",
              "      <td>44600062</td>\n",
              "      <td>2103807459595387724</td>\n",
              "      <td>NaN</td>\n",
              "      <td>shiseido</td>\n",
              "      <td>35.79</td>\n",
              "      <td>541312140</td>\n",
              "      <td>72d76fde-8bb3-4e00-8c23-a032dfed738c</td>\n",
              "    </tr>\n",
              "    <tr>\n",
              "      <th>1</th>\n",
              "      <td>2019-10-01 00:00:00 UTC</td>\n",
              "      <td>view</td>\n",
              "      <td>3900821</td>\n",
              "      <td>2053013552326770905</td>\n",
              "      <td>appliances.environment.water_heater</td>\n",
              "      <td>aqua</td>\n",
              "      <td>33.20</td>\n",
              "      <td>554748717</td>\n",
              "      <td>9333dfbd-b87a-4708-9857-6336556b0fcc</td>\n",
              "    </tr>\n",
              "    <tr>\n",
              "      <th>2</th>\n",
              "      <td>2019-10-01 00:00:01 UTC</td>\n",
              "      <td>view</td>\n",
              "      <td>17200506</td>\n",
              "      <td>2053013559792632471</td>\n",
              "      <td>furniture.living_room.sofa</td>\n",
              "      <td>NaN</td>\n",
              "      <td>543.10</td>\n",
              "      <td>519107250</td>\n",
              "      <td>566511c2-e2e3-422b-b695-cf8e6e792ca8</td>\n",
              "    </tr>\n",
              "    <tr>\n",
              "      <th>3</th>\n",
              "      <td>2019-10-01 00:00:01 UTC</td>\n",
              "      <td>view</td>\n",
              "      <td>1307067</td>\n",
              "      <td>2053013558920217191</td>\n",
              "      <td>computers.notebook</td>\n",
              "      <td>lenovo</td>\n",
              "      <td>251.74</td>\n",
              "      <td>550050854</td>\n",
              "      <td>7c90fc70-0e80-4590-96f3-13c02c18c713</td>\n",
              "    </tr>\n",
              "    <tr>\n",
              "      <th>4</th>\n",
              "      <td>2019-10-01 00:00:04 UTC</td>\n",
              "      <td>view</td>\n",
              "      <td>1004237</td>\n",
              "      <td>2053013555631882655</td>\n",
              "      <td>electronics.smartphone</td>\n",
              "      <td>apple</td>\n",
              "      <td>1081.98</td>\n",
              "      <td>535871217</td>\n",
              "      <td>c6bd7419-2748-4c56-95b4-8cec9ff8b80d</td>\n",
              "    </tr>\n",
              "  </tbody>\n",
              "</table>\n",
              "</div>"
            ],
            "text/plain": [
              "                event_time  ...                          user_session\n",
              "0  2019-10-01 00:00:00 UTC  ...  72d76fde-8bb3-4e00-8c23-a032dfed738c\n",
              "1  2019-10-01 00:00:00 UTC  ...  9333dfbd-b87a-4708-9857-6336556b0fcc\n",
              "2  2019-10-01 00:00:01 UTC  ...  566511c2-e2e3-422b-b695-cf8e6e792ca8\n",
              "3  2019-10-01 00:00:01 UTC  ...  7c90fc70-0e80-4590-96f3-13c02c18c713\n",
              "4  2019-10-01 00:00:04 UTC  ...  c6bd7419-2748-4c56-95b4-8cec9ff8b80d\n",
              "\n",
              "[5 rows x 9 columns]"
            ]
          },
          "metadata": {
            "tags": []
          },
          "execution_count": 3
        }
      ]
    },
    {
      "cell_type": "markdown",
      "metadata": {
        "id": "ngykMnJpVYbF"
      },
      "source": [
        "# **Data wrangling**"
      ]
    },
    {
      "cell_type": "code",
      "metadata": {
        "colab": {
          "base_uri": "https://localhost:8080/"
        },
        "id": "--5U68FxpvCT",
        "outputId": "59778d9a-94d6-4887-d0b5-fc3dc938e358"
      },
      "source": [
        "# Checking for null values in df\n",
        "df_Oct.isnull().sum()"
      ],
      "execution_count": null,
      "outputs": [
        {
          "output_type": "execute_result",
          "data": {
            "text/plain": [
              "event_time           0\n",
              "event_type           0\n",
              "product_id           0\n",
              "category_id          0\n",
              "category_code    16098\n",
              "brand             7041\n",
              "price                0\n",
              "user_id              0\n",
              "user_session         0\n",
              "dtype: int64"
            ]
          },
          "metadata": {
            "tags": []
          },
          "execution_count": 4
        }
      ]
    },
    {
      "cell_type": "markdown",
      "metadata": {
        "id": "O6Fj0YfDXT7B"
      },
      "source": [
        "### **Column: category_code**"
      ]
    },
    {
      "cell_type": "code",
      "metadata": {
        "id": "kJOa2N0dmZIO"
      },
      "source": [
        "##Replace all null values in the 'category_code' column\n",
        "df_Oct.category_code = df_Oct.category_code.replace(np.nan,'Not Available')"
      ],
      "execution_count": null,
      "outputs": []
    },
    {
      "cell_type": "markdown",
      "metadata": {
        "id": "xnap3E4ia4Oo"
      },
      "source": [
        "### **Column: brand**"
      ]
    },
    {
      "cell_type": "code",
      "metadata": {
        "id": "Fo377N0CZwZQ"
      },
      "source": [
        "##Replace all null values in the 'brand column'\n",
        "df_Oct.brand = df_Oct.brand.replace(np.nan,'Not Available')"
      ],
      "execution_count": null,
      "outputs": []
    },
    {
      "cell_type": "markdown",
      "metadata": {
        "id": "JyARlQUTbIVh"
      },
      "source": [
        "### **Column: event_time**"
      ]
    },
    {
      "cell_type": "code",
      "metadata": {
        "id": "zwePYjbpbXVI"
      },
      "source": [
        "##Converting the date type to datetime type for 'event_time'\n",
        "df_Oct['event_time'] = pd.to_datetime(df_Oct['event_time'], format='%Y-%m-%d %H:%M:%S UTC')"
      ],
      "execution_count": null,
      "outputs": []
    },
    {
      "cell_type": "code",
      "metadata": {
        "id": "uO8F3BA3cBgy"
      },
      "source": [
        "##Splitting event_time into 2 columns containing date and time respectively\n",
        "df_Oct['transaction_time'] = df_Oct['event_time'].dt.time\n",
        "df_Oct['transaction_date'] = df_Oct['event_time'].dt.normalize()"
      ],
      "execution_count": null,
      "outputs": []
    },
    {
      "cell_type": "markdown",
      "metadata": {
        "id": "ipXcF4WcjJNq"
      },
      "source": [
        "### **product_id**"
      ]
    },
    {
      "cell_type": "code",
      "metadata": {
        "colab": {
          "base_uri": "https://localhost:8080/"
        },
        "id": "M60xcxHlkDlc",
        "outputId": "c39e00c2-a7dc-48b6-be9b-996e8cd36244"
      },
      "source": [
        "## Counting how many unique products are in the dataset\n",
        "print('The total count for product id is:',df_Oct['product_id'].count())\n",
        "print('The total unique count for product id is:',len(df_Oct['product_id'].unique()))"
      ],
      "execution_count": null,
      "outputs": [
        {
          "output_type": "stream",
          "text": [
            "The total count for product id is: 50000\n",
            "The total unique count for product id is: 13289\n"
          ],
          "name": "stdout"
        }
      ]
    },
    {
      "cell_type": "markdown",
      "metadata": {
        "id": "eNbWTTJztsNI"
      },
      "source": [
        "### **user_id**"
      ]
    },
    {
      "cell_type": "code",
      "metadata": {
        "colab": {
          "base_uri": "https://localhost:8080/"
        },
        "id": "vpJxS_YctrqG",
        "outputId": "5edbf3e8-ca1c-44db-e1ac-f59adae6fed6"
      },
      "source": [
        "## Counting how many unique products are in the dataset\n",
        "print('The total count for user id is:',df_Oct['user_id'].count())\n",
        "print('The total unique count for user id is:',len(df_Oct['user_id'].unique()))"
      ],
      "execution_count": null,
      "outputs": [
        {
          "output_type": "stream",
          "text": [
            "The total count for user id is: 50000\n",
            "The total unique count for user id is: 10931\n"
          ],
          "name": "stdout"
        }
      ]
    },
    {
      "cell_type": "markdown",
      "metadata": {
        "id": "69iNkZ3l9Wrp"
      },
      "source": [
        "### **price**"
      ]
    },
    {
      "cell_type": "code",
      "metadata": {
        "colab": {
          "base_uri": "https://localhost:8080/"
        },
        "id": "cSX4rL4UPDKz",
        "outputId": "03045af3-9241-4fb7-fab5-a797273869b2"
      },
      "source": [
        "#using the describe method on column 'price' to ensure that there are no negative values\n",
        "df_Oct['price'].describe()"
      ],
      "execution_count": null,
      "outputs": [
        {
          "output_type": "execute_result",
          "data": {
            "text/plain": [
              "count    50000.000000\n",
              "mean       285.880781\n",
              "std        361.302612\n",
              "min          0.000000\n",
              "25%         60.230000\n",
              "50%        154.410000\n",
              "75%        356.250000\n",
              "max       2574.070000\n",
              "Name: price, dtype: float64"
            ]
          },
          "metadata": {
            "tags": []
          },
          "execution_count": 11
        }
      ]
    },
    {
      "cell_type": "code",
      "metadata": {
        "id": "Di3KDUeF_bI_",
        "colab": {
          "base_uri": "https://localhost:8080/"
        },
        "outputId": "643fb88a-424e-4ac8-bbd5-28c037c8ba29"
      },
      "source": [
        "# Ensure all the 'null' values are taken care of\n",
        "df_Oct.isnull().sum()"
      ],
      "execution_count": null,
      "outputs": [
        {
          "output_type": "execute_result",
          "data": {
            "text/plain": [
              "event_time          0\n",
              "event_type          0\n",
              "product_id          0\n",
              "category_id         0\n",
              "category_code       0\n",
              "brand               0\n",
              "price               0\n",
              "user_id             0\n",
              "user_session        0\n",
              "transaction_time    0\n",
              "transaction_date    0\n",
              "dtype: int64"
            ]
          },
          "metadata": {
            "tags": []
          },
          "execution_count": 12
        }
      ]
    },
    {
      "cell_type": "code",
      "metadata": {
        "id": "E3I9yadnkm2h",
        "colab": {
          "base_uri": "https://localhost:8080/",
          "height": 314
        },
        "outputId": "6f3a8898-45ff-4e90-a832-0fdd761d46f5"
      },
      "source": [
        "#Count of event types\n",
        "plt.title('Count of view, purchase, cart event types')\n",
        "sns.countplot(x = 'event_type', data = df_Oct)"
      ],
      "execution_count": null,
      "outputs": [
        {
          "output_type": "execute_result",
          "data": {
            "text/plain": [
              "<matplotlib.axes._subplots.AxesSubplot at 0x7f5fdc1a05d0>"
            ]
          },
          "metadata": {
            "tags": []
          },
          "execution_count": 13
        },
        {
          "output_type": "display_data",
          "data": {
            "image/png": "[encoded data removed]",
            "text/plain": [
              "<Figure size 432x288 with 1 Axes>"
            ]
          },
          "metadata": {
            "tags": [],
            "needs_background": "light"
          }
        }
      ]
    },
    {
      "cell_type": "code",
      "metadata": {
        "id": "nd0fLW3f09Q8"
      },
      "source": [
        "df_Oct['event_type'].replace({\n",
        "    'view': 0,\n",
        "    'cart': 0,\n",
        "    'purchase': 1}, inplace = True\n",
        ")"
      ],
      "execution_count": null,
      "outputs": []
    },
    {
      "cell_type": "code",
      "metadata": {
        "colab": {
          "base_uri": "https://localhost:8080/"
        },
        "id": "1XoaDM7S-WWB",
        "outputId": "112aa35f-5364-4151-b63b-65276e44d672"
      },
      "source": [
        "#creating two dataframes with purchased users and non purchased users\n",
        "\n",
        "purchased_set = df_Oct[df_Oct['event_type']==1]\n",
        "purchased_set.shape[0]\n",
        "\n",
        "non_purchased_set = df_Oct[df_Oct['event_type']==0]\n",
        "non_purchased_set.shape[0]"
      ],
      "execution_count": null,
      "outputs": [
        {
          "output_type": "execute_result",
          "data": {
            "text/plain": [
              "49252"
            ]
          },
          "metadata": {
            "tags": []
          },
          "execution_count": 16
        }
      ]
    },
    {
      "cell_type": "code",
      "metadata": {
        "id": "T2uIMaEVLPty"
      },
      "source": [
        "from sklearn.utils import resample\n",
        "\n",
        "#equally sampling 150 data points from each\n",
        "\n",
        "n_samples = 150\n",
        "puchased_sampled = resample(purchased_set,\n",
        "                                    replace=False,\n",
        "                                    n_samples=n_samples,\n",
        "                                    random_state=27)\n",
        "not_purchased_sampled = resample(non_purchased_set,\n",
        "                                     replace=False,\n",
        "                                     n_samples=n_samples,\n",
        "                                     random_state=27\n",
        "                                     )"
      ],
      "execution_count": null,
      "outputs": []
    },
    {
      "cell_type": "code",
      "metadata": {
        "colab": {
          "base_uri": "https://localhost:8080/"
        },
        "id": "sk-sS5WHLY4H",
        "outputId": "b74fb75b-15d7-485c-98df-7b0ee7eff101"
      },
      "source": [
        "#creating a dataframe sampled by concatenating purchased and not purchased sampled dataframes\n",
        "\n",
        "sampled = pd.concat([puchased_sampled, not_purchased_sampled])\n",
        "sampled['event_type'].value_counts()"
      ],
      "execution_count": null,
      "outputs": [
        {
          "output_type": "execute_result",
          "data": {
            "text/plain": [
              "1    150\n",
              "0    150\n",
              "Name: event_type, dtype: int64"
            ]
          },
          "metadata": {
            "tags": []
          },
          "execution_count": 18
        }
      ]
    },
    {
      "cell_type": "code",
      "metadata": {
        "colab": {
          "base_uri": "https://localhost:8080/",
          "height": 425
        },
        "id": "bLLLD1TTMyJm",
        "outputId": "1267ff3e-99d7-41e1-af20-35d3a6923807"
      },
      "source": [
        "sampled.head()"
      ],
      "execution_count": null,
      "outputs": [
        {
          "output_type": "execute_result",
          "data": {
            "text/html": [
              "<div>\n",
              "<style scoped>\n",
              "    .dataframe tbody tr th:only-of-type {\n",
              "        vertical-align: middle;\n",
              "    }\n",
              "\n",
              "    .dataframe tbody tr th {\n",
              "        vertical-align: top;\n",
              "    }\n",
              "\n",
              "    .dataframe thead th {\n",
              "        text-align: right;\n",
              "    }\n",
              "</style>\n",
              "<table border=\"1\" class=\"dataframe\">\n",
              "  <thead>\n",
              "    <tr style=\"text-align: right;\">\n",
              "      <th></th>\n",
              "      <th>event_time</th>\n",
              "      <th>event_type</th>\n",
              "      <th>product_id</th>\n",
              "      <th>category_id</th>\n",
              "      <th>category_code</th>\n",
              "      <th>brand</th>\n",
              "      <th>price</th>\n",
              "      <th>user_id</th>\n",
              "      <th>user_session</th>\n",
              "      <th>transaction_time</th>\n",
              "      <th>transaction_date</th>\n",
              "    </tr>\n",
              "  </thead>\n",
              "  <tbody>\n",
              "    <tr>\n",
              "      <th>24097</th>\n",
              "      <td>2019-10-01 03:00:00</td>\n",
              "      <td>1</td>\n",
              "      <td>1004211</td>\n",
              "      <td>2053013555631882655</td>\n",
              "      <td>electronics.smartphone</td>\n",
              "      <td>samsung</td>\n",
              "      <td>97.79</td>\n",
              "      <td>550679725</td>\n",
              "      <td>bf8afaeb-5a57-47f0-b769-4082a4f84562</td>\n",
              "      <td>03:00:00</td>\n",
              "      <td>2019-10-01</td>\n",
              "    </tr>\n",
              "    <tr>\n",
              "      <th>21335</th>\n",
              "      <td>2019-10-01 02:56:04</td>\n",
              "      <td>1</td>\n",
              "      <td>1005104</td>\n",
              "      <td>2053013555631882655</td>\n",
              "      <td>electronics.smartphone</td>\n",
              "      <td>apple</td>\n",
              "      <td>975.57</td>\n",
              "      <td>555160488</td>\n",
              "      <td>786b7395-2ff2-4303-8f14-4ce89550b304</td>\n",
              "      <td>02:56:04</td>\n",
              "      <td>2019-10-01</td>\n",
              "    </tr>\n",
              "    <tr>\n",
              "      <th>4051</th>\n",
              "      <td>2019-10-01 02:26:11</td>\n",
              "      <td>1</td>\n",
              "      <td>6800659</td>\n",
              "      <td>2053013554222596431</td>\n",
              "      <td>computers.components.hdd</td>\n",
              "      <td>kingston</td>\n",
              "      <td>66.67</td>\n",
              "      <td>523117953</td>\n",
              "      <td>629a0485-36c9-4a80-9f02-4a96382c3059</td>\n",
              "      <td>02:26:11</td>\n",
              "      <td>2019-10-01</td>\n",
              "    </tr>\n",
              "    <tr>\n",
              "      <th>14236</th>\n",
              "      <td>2019-10-01 02:44:35</td>\n",
              "      <td>1</td>\n",
              "      <td>12500329</td>\n",
              "      <td>2053013556277805513</td>\n",
              "      <td>Not Available</td>\n",
              "      <td>crown</td>\n",
              "      <td>34.75</td>\n",
              "      <td>555293893</td>\n",
              "      <td>0d5b8893-1bed-46b7-93aa-203d45d76906</td>\n",
              "      <td>02:44:35</td>\n",
              "      <td>2019-10-01</td>\n",
              "    </tr>\n",
              "    <tr>\n",
              "      <th>31873</th>\n",
              "      <td>2019-10-01 03:10:16</td>\n",
              "      <td>1</td>\n",
              "      <td>1004739</td>\n",
              "      <td>2053013555631882655</td>\n",
              "      <td>electronics.smartphone</td>\n",
              "      <td>xiaomi</td>\n",
              "      <td>197.52</td>\n",
              "      <td>540758682</td>\n",
              "      <td>3c8a17f5-8137-4b3b-9ba4-f785c0cc732c</td>\n",
              "      <td>03:10:16</td>\n",
              "      <td>2019-10-01</td>\n",
              "    </tr>\n",
              "  </tbody>\n",
              "</table>\n",
              "</div>"
            ],
            "text/plain": [
              "               event_time  event_type  ...  transaction_time  transaction_date\n",
              "24097 2019-10-01 03:00:00           1  ...          03:00:00        2019-10-01\n",
              "21335 2019-10-01 02:56:04           1  ...          02:56:04        2019-10-01\n",
              "4051  2019-10-01 02:26:11           1  ...          02:26:11        2019-10-01\n",
              "14236 2019-10-01 02:44:35           1  ...          02:44:35        2019-10-01\n",
              "31873 2019-10-01 03:10:16           1  ...          03:10:16        2019-10-01\n",
              "\n",
              "[5 rows x 11 columns]"
            ]
          },
          "metadata": {
            "tags": []
          },
          "execution_count": 19
        }
      ]
    },
    {
      "cell_type": "markdown",
      "metadata": {
        "id": "tgBeJAQ4NQMy"
      },
      "source": [
        "# **Using keras to introduce deep learning into our data**"
      ]
    },
    {
      "cell_type": "code",
      "metadata": {
        "id": "wD7SpISdCbt6"
      },
      "source": [
        "from numpy import loadtxt\n",
        "from keras.models import Sequential\n",
        "from keras.layers import Dense\n",
        "\n",
        "X = sampled[['user_id','product_id','price']]\n",
        "y = sampled[['event_type']]"
      ],
      "execution_count": null,
      "outputs": []
    },
    {
      "cell_type": "code",
      "metadata": {
        "id": "6bYg-lH2EInM"
      },
      "source": [
        "model = Sequential()\n",
        "model.add(Dense(12, input_dim=3, activation='relu'))\n",
        "model.add(Dense(8, activation='relu'))\n",
        "model.add(Dense(1, activation='sigmoid'))"
      ],
      "execution_count": null,
      "outputs": []
    },
    {
      "cell_type": "code",
      "metadata": {
        "id": "h5C5btC50i9W"
      },
      "source": [
        "model.compile(loss='binary_crossentropy', optimizer='adam', metrics=['accuracy'])\n"
      ],
      "execution_count": null,
      "outputs": []
    },
    {
      "cell_type": "code",
      "metadata": {
        "colab": {
          "base_uri": "https://localhost:8080/"
        },
        "id": "CXX-KEHw0nfJ",
        "outputId": "dbbbe61f-2690-4f57-c749-0018abd45d03"
      },
      "source": [
        "model.fit(X, y, epochs=150, batch_size=10)"
      ],
      "execution_count": null,
      "outputs": [
        {
          "output_type": "stream",
          "text": [
            "Epoch 1/150\n",
            "30/30 [==============================] - 0s 2ms/step - loss: 55669.6016 - accuracy: 0.5900\n",
            "Epoch 2/150\n",
            "30/30 [==============================] - 0s 2ms/step - loss: 175232.1406 - accuracy: 0.5667\n",
            "Epoch 3/150\n",
            "30/30 [==============================] - 0s 2ms/step - loss: 192914.0000 - accuracy: 0.5267\n",
            "Epoch 4/150\n",
            "30/30 [==============================] - 0s 2ms/step - loss: 242782.0781 - accuracy: 0.5033\n",
            "Epoch 5/150\n",
            "30/30 [==============================] - 0s 2ms/step - loss: 97232.1328 - accuracy: 0.5267\n",
            "Epoch 6/150\n",
            "30/30 [==============================] - 0s 2ms/step - loss: 141672.7656 - accuracy: 0.5000\n",
            "Epoch 7/150\n",
            "30/30 [==============================] - 0s 2ms/step - loss: 326032.3750 - accuracy: 0.5100\n",
            "Epoch 8/150\n",
            "30/30 [==============================] - 0s 2ms/step - loss: 180939.2500 - accuracy: 0.5133\n",
            "Epoch 9/150\n",
            "30/30 [==============================] - 0s 2ms/step - loss: 179260.9531 - accuracy: 0.5167\n",
            "Epoch 10/150\n",
            "30/30 [==============================] - 0s 2ms/step - loss: 143685.1250 - accuracy: 0.5967\n",
            "Epoch 11/150\n",
            "30/30 [==============================] - 0s 2ms/step - loss: 259075.9531 - accuracy: 0.4700\n",
            "Epoch 12/150\n",
            "30/30 [==============================] - 0s 2ms/step - loss: 124919.2031 - accuracy: 0.5267\n",
            "Epoch 13/150\n",
            "30/30 [==============================] - 0s 2ms/step - loss: 165054.6719 - accuracy: 0.5133\n",
            "Epoch 14/150\n",
            "30/30 [==============================] - 0s 2ms/step - loss: 185565.8906 - accuracy: 0.4900\n",
            "Epoch 15/150\n",
            "30/30 [==============================] - 0s 2ms/step - loss: 310319.5312 - accuracy: 0.4833\n",
            "Epoch 16/150\n",
            "30/30 [==============================] - 0s 2ms/step - loss: 134763.6562 - accuracy: 0.4967\n",
            "Epoch 17/150\n",
            "30/30 [==============================] - 0s 2ms/step - loss: 240651.7031 - accuracy: 0.4967\n",
            "Epoch 18/150\n",
            "30/30 [==============================] - 0s 2ms/step - loss: 249426.9375 - accuracy: 0.5267\n",
            "Epoch 19/150\n",
            "30/30 [==============================] - 0s 1ms/step - loss: 217839.2344 - accuracy: 0.4967\n",
            "Epoch 20/150\n",
            "30/30 [==============================] - 0s 2ms/step - loss: 292061.0312 - accuracy: 0.5033\n",
            "Epoch 21/150\n",
            "30/30 [==============================] - 0s 2ms/step - loss: 164472.7188 - accuracy: 0.5567\n",
            "Epoch 22/150\n",
            "30/30 [==============================] - 0s 2ms/step - loss: 111350.3203 - accuracy: 0.5333\n",
            "Epoch 23/150\n",
            "30/30 [==============================] - 0s 2ms/step - loss: 142656.0781 - accuracy: 0.5533\n",
            "Epoch 24/150\n",
            "30/30 [==============================] - 0s 2ms/step - loss: 154883.7031 - accuracy: 0.4967\n",
            "Epoch 25/150\n",
            "30/30 [==============================] - 0s 2ms/step - loss: 167563.5938 - accuracy: 0.5233\n",
            "Epoch 26/150\n",
            "30/30 [==============================] - 0s 2ms/step - loss: 292294.3125 - accuracy: 0.5100\n",
            "Epoch 27/150\n",
            "30/30 [==============================] - 0s 2ms/step - loss: 226012.9844 - accuracy: 0.5300\n",
            "Epoch 28/150\n",
            "30/30 [==============================] - 0s 2ms/step - loss: 275077.9062 - accuracy: 0.4700\n",
            "Epoch 29/150\n",
            "30/30 [==============================] - 0s 2ms/step - loss: 125361.0156 - accuracy: 0.5200\n",
            "Epoch 30/150\n",
            "30/30 [==============================] - 0s 2ms/step - loss: 91562.0000 - accuracy: 0.5167\n",
            "Epoch 31/150\n",
            "30/30 [==============================] - 0s 2ms/step - loss: 167733.5000 - accuracy: 0.5300\n",
            "Epoch 32/150\n",
            "30/30 [==============================] - 0s 2ms/step - loss: 167144.7500 - accuracy: 0.5133\n",
            "Epoch 33/150\n",
            "30/30 [==============================] - 0s 2ms/step - loss: 244786.2656 - accuracy: 0.5267\n",
            "Epoch 34/150\n",
            "30/30 [==============================] - 0s 2ms/step - loss: 221717.1250 - accuracy: 0.5000\n",
            "Epoch 35/150\n",
            "30/30 [==============================] - 0s 2ms/step - loss: 316216.1562 - accuracy: 0.5133\n",
            "Epoch 36/150\n",
            "30/30 [==============================] - 0s 2ms/step - loss: 291652.0938 - accuracy: 0.5300\n",
            "Epoch 37/150\n",
            "30/30 [==============================] - 0s 2ms/step - loss: 277043.2812 - accuracy: 0.4867\n",
            "Epoch 38/150\n",
            "30/30 [==============================] - 0s 2ms/step - loss: 123341.1172 - accuracy: 0.5233\n",
            "Epoch 39/150\n",
            "30/30 [==============================] - 0s 2ms/step - loss: 140820.9375 - accuracy: 0.5367\n",
            "Epoch 40/150\n",
            "30/30 [==============================] - 0s 2ms/step - loss: 314039.7188 - accuracy: 0.5167\n",
            "Epoch 41/150\n",
            "30/30 [==============================] - 0s 2ms/step - loss: 173505.2500 - accuracy: 0.4800\n",
            "Epoch 42/150\n",
            "30/30 [==============================] - 0s 2ms/step - loss: 168459.2031 - accuracy: 0.5200\n",
            "Epoch 43/150\n",
            "30/30 [==============================] - 0s 2ms/step - loss: 291047.5000 - accuracy: 0.4800\n",
            "Epoch 44/150\n",
            "30/30 [==============================] - 0s 2ms/step - loss: 194431.5156 - accuracy: 0.5667\n",
            "Epoch 45/150\n",
            "30/30 [==============================] - 0s 1ms/step - loss: 310429.6250 - accuracy: 0.5367\n",
            "Epoch 46/150\n",
            "30/30 [==============================] - 0s 2ms/step - loss: 147830.6875 - accuracy: 0.5200\n",
            "Epoch 47/150\n",
            "30/30 [==============================] - 0s 2ms/step - loss: 139044.4844 - accuracy: 0.5467\n",
            "Epoch 48/150\n",
            "30/30 [==============================] - 0s 2ms/step - loss: 159629.7031 - accuracy: 0.5433\n",
            "Epoch 49/150\n",
            "30/30 [==============================] - 0s 2ms/step - loss: 351469.7188 - accuracy: 0.5400\n",
            "Epoch 50/150\n",
            "30/30 [==============================] - 0s 2ms/step - loss: 163608.8750 - accuracy: 0.5567\n",
            "Epoch 51/150\n",
            "30/30 [==============================] - 0s 2ms/step - loss: 184518.2188 - accuracy: 0.5067\n",
            "Epoch 52/150\n",
            "30/30 [==============================] - 0s 2ms/step - loss: 171347.9688 - accuracy: 0.5200\n",
            "Epoch 53/150\n",
            "30/30 [==============================] - 0s 2ms/step - loss: 113069.9766 - accuracy: 0.5800\n",
            "Epoch 54/150\n",
            "30/30 [==============================] - 0s 2ms/step - loss: 86316.9062 - accuracy: 0.5167\n",
            "Epoch 55/150\n",
            "30/30 [==============================] - 0s 2ms/step - loss: 190966.6406 - accuracy: 0.4267\n",
            "Epoch 56/150\n",
            "30/30 [==============================] - 0s 2ms/step - loss: 236920.7656 - accuracy: 0.5433\n",
            "Epoch 57/150\n",
            "30/30 [==============================] - 0s 2ms/step - loss: 158819.0625 - accuracy: 0.5367\n",
            "Epoch 58/150\n",
            "30/30 [==============================] - 0s 2ms/step - loss: 242396.8594 - accuracy: 0.4833\n",
            "Epoch 59/150\n",
            "30/30 [==============================] - 0s 2ms/step - loss: 144220.3125 - accuracy: 0.5133\n",
            "Epoch 60/150\n",
            "30/30 [==============================] - 0s 2ms/step - loss: 157289.1250 - accuracy: 0.5300\n",
            "Epoch 61/150\n",
            "30/30 [==============================] - 0s 1ms/step - loss: 123404.3750 - accuracy: 0.5267\n",
            "Epoch 62/150\n",
            "30/30 [==============================] - 0s 2ms/step - loss: 262113.3906 - accuracy: 0.5133\n",
            "Epoch 63/150\n",
            "30/30 [==============================] - 0s 2ms/step - loss: 82825.0703 - accuracy: 0.5100\n",
            "Epoch 64/150\n",
            "30/30 [==============================] - 0s 2ms/step - loss: 239255.8438 - accuracy: 0.4733\n",
            "Epoch 65/150\n",
            "30/30 [==============================] - 0s 2ms/step - loss: 213469.9219 - accuracy: 0.5200\n",
            "Epoch 66/150\n",
            "30/30 [==============================] - 0s 2ms/step - loss: 157314.6094 - accuracy: 0.5467\n",
            "Epoch 67/150\n",
            "30/30 [==============================] - 0s 2ms/step - loss: 181104.0312 - accuracy: 0.5267\n",
            "Epoch 68/150\n",
            "30/30 [==============================] - 0s 2ms/step - loss: 201538.3125 - accuracy: 0.5333\n",
            "Epoch 69/150\n",
            "30/30 [==============================] - 0s 2ms/step - loss: 681574.9375 - accuracy: 0.4900\n",
            "Epoch 70/150\n",
            "30/30 [==============================] - 0s 2ms/step - loss: 140603.1719 - accuracy: 0.4933\n",
            "Epoch 71/150\n",
            "30/30 [==============================] - 0s 2ms/step - loss: 61766.9336 - accuracy: 0.5133\n",
            "Epoch 72/150\n",
            "30/30 [==============================] - 0s 2ms/step - loss: 269187.0000 - accuracy: 0.4600\n",
            "Epoch 73/150\n",
            "30/30 [==============================] - 0s 2ms/step - loss: 118227.3594 - accuracy: 0.5200\n",
            "Epoch 74/150\n",
            "30/30 [==============================] - 0s 2ms/step - loss: 157411.6875 - accuracy: 0.5067\n",
            "Epoch 75/150\n",
            "30/30 [==============================] - 0s 2ms/step - loss: 336644.9062 - accuracy: 0.4800\n",
            "Epoch 76/150\n",
            "30/30 [==============================] - 0s 2ms/step - loss: 269614.4688 - accuracy: 0.5133\n",
            "Epoch 77/150\n",
            "30/30 [==============================] - 0s 2ms/step - loss: 82430.9844 - accuracy: 0.5800\n",
            "Epoch 78/150\n",
            "30/30 [==============================] - 0s 2ms/step - loss: 148469.7812 - accuracy: 0.5133\n",
            "Epoch 79/150\n",
            "30/30 [==============================] - 0s 2ms/step - loss: 350810.7812 - accuracy: 0.4833\n",
            "Epoch 80/150\n",
            "30/30 [==============================] - 0s 2ms/step - loss: 358619.7812 - accuracy: 0.4667\n",
            "Epoch 81/150\n",
            "30/30 [==============================] - 0s 2ms/step - loss: 312311.0625 - accuracy: 0.5667\n",
            "Epoch 82/150\n",
            "30/30 [==============================] - 0s 2ms/step - loss: 177078.2969 - accuracy: 0.5467\n",
            "Epoch 83/150\n",
            "30/30 [==============================] - 0s 2ms/step - loss: 232445.2344 - accuracy: 0.5000\n",
            "Epoch 84/150\n",
            "30/30 [==============================] - 0s 2ms/step - loss: 260278.5625 - accuracy: 0.4967\n",
            "Epoch 85/150\n",
            "30/30 [==============================] - 0s 2ms/step - loss: 311564.8438 - accuracy: 0.5133\n",
            "Epoch 86/150\n",
            "30/30 [==============================] - 0s 2ms/step - loss: 256981.0156 - accuracy: 0.5467\n",
            "Epoch 87/150\n",
            "30/30 [==============================] - 0s 2ms/step - loss: 285003.7188 - accuracy: 0.4900\n",
            "Epoch 88/150\n",
            "30/30 [==============================] - 0s 2ms/step - loss: 218308.9531 - accuracy: 0.5233\n",
            "Epoch 89/150\n",
            "30/30 [==============================] - 0s 1ms/step - loss: 214481.0625 - accuracy: 0.5233\n",
            "Epoch 90/150\n",
            "30/30 [==============================] - 0s 2ms/step - loss: 90291.8438 - accuracy: 0.5400\n",
            "Epoch 91/150\n",
            "30/30 [==============================] - 0s 2ms/step - loss: 118088.1094 - accuracy: 0.5200\n",
            "Epoch 92/150\n",
            "30/30 [==============================] - 0s 2ms/step - loss: 136804.0312 - accuracy: 0.5033\n",
            "Epoch 93/150\n",
            "30/30 [==============================] - 0s 2ms/step - loss: 266395.1250 - accuracy: 0.5267\n",
            "Epoch 94/150\n",
            "30/30 [==============================] - 0s 2ms/step - loss: 402280.5312 - accuracy: 0.4133\n",
            "Epoch 95/150\n",
            "30/30 [==============================] - 0s 2ms/step - loss: 157999.6875 - accuracy: 0.5633\n",
            "Epoch 96/150\n",
            "30/30 [==============================] - 0s 2ms/step - loss: 141643.7344 - accuracy: 0.4967\n",
            "Epoch 97/150\n",
            "30/30 [==============================] - 0s 2ms/step - loss: 133975.4062 - accuracy: 0.5033\n",
            "Epoch 98/150\n",
            "30/30 [==============================] - 0s 2ms/step - loss: 180655.2500 - accuracy: 0.5467\n",
            "Epoch 99/150\n",
            "30/30 [==============================] - 0s 2ms/step - loss: 177890.3125 - accuracy: 0.4833\n",
            "Epoch 100/150\n",
            "30/30 [==============================] - 0s 2ms/step - loss: 198173.5000 - accuracy: 0.4900\n",
            "Epoch 101/150\n",
            "30/30 [==============================] - 0s 2ms/step - loss: 427831.9688 - accuracy: 0.4900\n",
            "Epoch 102/150\n",
            "30/30 [==============================] - 0s 2ms/step - loss: 352024.8750 - accuracy: 0.4667\n",
            "Epoch 103/150\n",
            "30/30 [==============================] - 0s 2ms/step - loss: 471238.5000 - accuracy: 0.4400\n",
            "Epoch 104/150\n",
            "30/30 [==============================] - 0s 2ms/step - loss: 98064.9062 - accuracy: 0.5567\n",
            "Epoch 105/150\n",
            "30/30 [==============================] - 0s 2ms/step - loss: 162788.7656 - accuracy: 0.5100\n",
            "Epoch 106/150\n",
            "30/30 [==============================] - 0s 2ms/step - loss: 88174.2422 - accuracy: 0.5167\n",
            "Epoch 107/150\n",
            "30/30 [==============================] - 0s 2ms/step - loss: 136974.9375 - accuracy: 0.5233\n",
            "Epoch 108/150\n",
            "30/30 [==============================] - 0s 2ms/step - loss: 90859.0703 - accuracy: 0.5200\n",
            "Epoch 109/150\n",
            "30/30 [==============================] - 0s 2ms/step - loss: 195334.3438 - accuracy: 0.4500\n",
            "Epoch 110/150\n",
            "30/30 [==============================] - 0s 2ms/step - loss: 110093.9453 - accuracy: 0.5467\n",
            "Epoch 111/150\n",
            "30/30 [==============================] - 0s 2ms/step - loss: 123425.8438 - accuracy: 0.5000\n",
            "Epoch 112/150\n",
            "30/30 [==============================] - 0s 2ms/step - loss: 95342.2109 - accuracy: 0.5533\n",
            "Epoch 113/150\n",
            "30/30 [==============================] - 0s 2ms/step - loss: 96748.7969 - accuracy: 0.4500\n",
            "Epoch 114/150\n",
            "30/30 [==============================] - 0s 2ms/step - loss: 139116.4844 - accuracy: 0.5367\n",
            "Epoch 115/150\n",
            "30/30 [==============================] - 0s 2ms/step - loss: 239524.0000 - accuracy: 0.4867\n",
            "Epoch 116/150\n",
            "30/30 [==============================] - 0s 2ms/step - loss: 329945.7188 - accuracy: 0.4933\n",
            "Epoch 117/150\n",
            "30/30 [==============================] - 0s 2ms/step - loss: 255780.2656 - accuracy: 0.4900\n",
            "Epoch 118/150\n",
            "30/30 [==============================] - 0s 2ms/step - loss: 200566.5938 - accuracy: 0.5067\n",
            "Epoch 119/150\n",
            "30/30 [==============================] - 0s 2ms/step - loss: 77428.6953 - accuracy: 0.5533\n",
            "Epoch 120/150\n",
            "30/30 [==============================] - 0s 2ms/step - loss: 149463.0938 - accuracy: 0.5767\n",
            "Epoch 121/150\n",
            "30/30 [==============================] - 0s 2ms/step - loss: 145456.7656 - accuracy: 0.5367\n",
            "Epoch 122/150\n",
            "30/30 [==============================] - 0s 2ms/step - loss: 178367.9219 - accuracy: 0.5067\n",
            "Epoch 123/150\n",
            "30/30 [==============================] - 0s 2ms/step - loss: 140127.0156 - accuracy: 0.5067\n",
            "Epoch 124/150\n",
            "30/30 [==============================] - 0s 2ms/step - loss: 162896.6094 - accuracy: 0.5233\n",
            "Epoch 125/150\n",
            "30/30 [==============================] - 0s 2ms/step - loss: 172904.6406 - accuracy: 0.5167\n",
            "Epoch 126/150\n",
            "30/30 [==============================] - 0s 2ms/step - loss: 67960.6953 - accuracy: 0.5700\n",
            "Epoch 127/150\n",
            "30/30 [==============================] - 0s 2ms/step - loss: 179443.3906 - accuracy: 0.5533\n",
            "Epoch 128/150\n",
            "30/30 [==============================] - 0s 2ms/step - loss: 156224.4062 - accuracy: 0.4600\n",
            "Epoch 129/150\n",
            "30/30 [==============================] - 0s 2ms/step - loss: 223282.6406 - accuracy: 0.4333\n",
            "Epoch 130/150\n",
            "30/30 [==============================] - 0s 2ms/step - loss: 86655.7578 - accuracy: 0.4967\n",
            "Epoch 131/150\n",
            "30/30 [==============================] - 0s 2ms/step - loss: 98325.6250 - accuracy: 0.4733\n",
            "Epoch 132/150\n",
            "30/30 [==============================] - 0s 2ms/step - loss: 138005.4688 - accuracy: 0.5333\n",
            "Epoch 133/150\n",
            "30/30 [==============================] - 0s 2ms/step - loss: 58451.1484 - accuracy: 0.5567\n",
            "Epoch 134/150\n",
            "30/30 [==============================] - 0s 2ms/step - loss: 257443.8594 - accuracy: 0.5200\n",
            "Epoch 135/150\n",
            "30/30 [==============================] - 0s 2ms/step - loss: 180979.3281 - accuracy: 0.5100\n",
            "Epoch 136/150\n",
            "30/30 [==============================] - 0s 2ms/step - loss: 92767.8672 - accuracy: 0.5333\n",
            "Epoch 137/150\n",
            "30/30 [==============================] - 0s 2ms/step - loss: 124002.5859 - accuracy: 0.5100\n",
            "Epoch 138/150\n",
            "30/30 [==============================] - 0s 2ms/step - loss: 254350.7188 - accuracy: 0.5300\n",
            "Epoch 139/150\n",
            "30/30 [==============================] - 0s 2ms/step - loss: 280365.4375 - accuracy: 0.4767\n",
            "Epoch 140/150\n",
            "30/30 [==============================] - 0s 2ms/step - loss: 135423.5000 - accuracy: 0.5400\n",
            "Epoch 141/150\n",
            "30/30 [==============================] - 0s 2ms/step - loss: 102523.4922 - accuracy: 0.5167\n",
            "Epoch 142/150\n",
            "30/30 [==============================] - 0s 2ms/step - loss: 97767.6016 - accuracy: 0.5067\n",
            "Epoch 143/150\n",
            "30/30 [==============================] - 0s 2ms/step - loss: 224418.6719 - accuracy: 0.5467\n",
            "Epoch 144/150\n",
            "30/30 [==============================] - 0s 2ms/step - loss: 212024.2656 - accuracy: 0.5200\n",
            "Epoch 145/150\n",
            "30/30 [==============================] - 0s 2ms/step - loss: 74697.6797 - accuracy: 0.5733\n",
            "Epoch 146/150\n",
            "30/30 [==============================] - 0s 2ms/step - loss: 111496.9844 - accuracy: 0.5067\n",
            "Epoch 147/150\n",
            "30/30 [==============================] - 0s 2ms/step - loss: 282089.1875 - accuracy: 0.5767\n",
            "Epoch 148/150\n",
            "30/30 [==============================] - 0s 2ms/step - loss: 149349.0938 - accuracy: 0.5500\n",
            "Epoch 149/150\n",
            "30/30 [==============================] - 0s 2ms/step - loss: 107738.4766 - accuracy: 0.4967\n",
            "Epoch 150/150\n",
            "30/30 [==============================] - 0s 2ms/step - loss: 137045.3906 - accuracy: 0.5000\n"
          ],
          "name": "stdout"
        },
        {
          "output_type": "execute_result",
          "data": {
            "text/plain": [
              "<tensorflow.python.keras.callbacks.History at 0x7f5fd04f1250>"
            ]
          },
          "metadata": {
            "tags": []
          },
          "execution_count": 25
        }
      ]
    },
    {
      "cell_type": "code",
      "metadata": {
        "colab": {
          "base_uri": "https://localhost:8080/"
        },
        "id": "_rk3YYca2rvM",
        "outputId": "cbc3f29f-071b-432f-ecc1-a4c34e707359"
      },
      "source": [
        "# evaluate the keras model\n",
        "_, accuracy = model.evaluate(X, y)\n",
        "print('Accuracy: %.2f' % (accuracy*100))"
      ],
      "execution_count": null,
      "outputs": [
        {
          "output_type": "stream",
          "text": [
            "10/10 [==============================] - 0s 2ms/step - loss: 208157.6875 - accuracy: 0.5000\n",
            "Accuracy: 50.00\n"
          ],
          "name": "stdout"
        }
      ]
    },
    {
      "cell_type": "markdown",
      "metadata": {
        "id": "cd2xnBThCWGy"
      },
      "source": [
        "# **Using Muller loop without latent manifold**"
      ]
    },
    {
      "cell_type": "code",
      "metadata": {
        "colab": {
          "base_uri": "https://localhost:8080/"
        },
        "id": "8oSPdHtHvPgK",
        "outputId": "0d0a9eba-30bf-4711-d624-4fa7d3ffed55"
      },
      "source": [
        "import time\n",
        "from matplotlib.colors import ListedColormap\n",
        "from sklearn.model_selection import train_test_split\n",
        "from sklearn.preprocessing import StandardScaler\n",
        "from sklearn.datasets import make_moons, make_circles, make_classification\n",
        "from sklearn.neural_network import MLPClassifier\n",
        "from sklearn.neighbors import KNeighborsClassifier\n",
        "from sklearn.svm import SVC\n",
        "from sklearn.gaussian_process import GaussianProcessClassifier\n",
        "from sklearn.gaussian_process.kernels import RBF\n",
        "from sklearn.tree import DecisionTreeClassifier\n",
        "from sklearn.ensemble import RandomForestClassifier, AdaBoostClassifier\n",
        "from sklearn.naive_bayes import GaussianNB\n",
        "from sklearn.discriminant_analysis import QuadraticDiscriminantAnalysis\n",
        "\n",
        "names = [\"Nearest Neighbors\", \"Linear SVM\", \"RBF SVM\",\n",
        "         \"Decision Tree\", \"Random Forest\", \"Neural Net\", \"AdaBoost\",\n",
        "         \"Naive Bayes\"]\n",
        "\n",
        "\n",
        "classifiers = [\n",
        "    KNeighborsClassifier(2),\n",
        "    SVC(kernel=\"linear\", C=0.025),\n",
        "    SVC(gamma=2, C=1),\n",
        "    DecisionTreeClassifier(max_depth=5),\n",
        "    RandomForestClassifier(max_depth=5, n_estimators=10, max_features=1),\n",
        "    MLPClassifier(alpha=1, max_iter=1000),\n",
        "    AdaBoostClassifier(),\n",
        "    GaussianNB()]\n",
        "\n",
        "X = sampled[['user_id','product_id','price']]\n",
        "y = sampled[['event_type']]\n",
        "\n",
        "X = StandardScaler().fit_transform(X)\n",
        "X_train, X_test, y_train, y_test = \\\n",
        "    train_test_split(X, y, test_size=.2)\n",
        "\n",
        "# TODO (Apply): All cross-validation\n",
        "\n",
        "max_score = 0.0\n",
        "max_class = ''\n",
        "# iterate over classifiers\n",
        "for name, clf in zip(names, classifiers):\n",
        "    start_time = time.time()\n",
        "    clf.fit(X_train, y_train)\n",
        "    test_df = [[541312140,1307067,35.79]]\n",
        "    res = clf.predict(test_df)\n",
        "    print(\"Test result is:\",res)\n",
        "    score = 100.0 * clf.score(X_test, y_test)\n",
        "    print('Classifier = %s, Score (test, accuracy) = %.2f,' %(name, score), 'Training time = %.2f seconds' % (time.time() - start_time))\n",
        "    \n",
        "    if score > max_score:\n",
        "        clf_best = clf\n",
        "        max_score = score\n",
        "        max_class = name\n",
        "\n",
        "print(80*'-' )\n",
        "print('Best --> Classifier = %s, Score (test, accuracy) = %.2f' %(max_class, max_score))\n",
        "#plot the output of the various algorithms"
      ],
      "execution_count": null,
      "outputs": [
        {
          "output_type": "stream",
          "text": [
            "/usr/local/lib/python3.7/dist-packages/ipykernel_launcher.py:44: DataConversionWarning: A column-vector y was passed when a 1d array was expected. Please change the shape of y to (n_samples, ), for example using ravel().\n",
            "/usr/local/lib/python3.7/dist-packages/sklearn/utils/validation.py:760: DataConversionWarning: A column-vector y was passed when a 1d array was expected. Please change the shape of y to (n_samples, ), for example using ravel().\n",
            "  y = column_or_1d(y, warn=True)\n",
            "/usr/local/lib/python3.7/dist-packages/sklearn/utils/validation.py:760: DataConversionWarning: A column-vector y was passed when a 1d array was expected. Please change the shape of y to (n_samples, ), for example using ravel().\n",
            "  y = column_or_1d(y, warn=True)\n",
            "/usr/local/lib/python3.7/dist-packages/ipykernel_launcher.py:44: DataConversionWarning: A column-vector y was passed when a 1d array was expected. Please change the shape of y to (n_samples,), for example using ravel().\n",
            "/usr/local/lib/python3.7/dist-packages/sklearn/neural_network/_multilayer_perceptron.py:934: DataConversionWarning: A column-vector y was passed when a 1d array was expected. Please change the shape of y to (n_samples, ), for example using ravel().\n",
            "  y = column_or_1d(y, warn=True)\n"
          ],
          "name": "stderr"
        },
        {
          "output_type": "stream",
          "text": [
            "Test result is: [0]\n",
            "Classifier = Nearest Neighbors, Score (test, accuracy) = 50.00, Training time = 0.01 seconds\n",
            "Test result is: [0]\n",
            "Classifier = Linear SVM, Score (test, accuracy) = 53.33, Training time = 0.00 seconds\n",
            "Test result is: [0]\n",
            "Classifier = RBF SVM, Score (test, accuracy) = 56.67, Training time = 0.00 seconds\n",
            "Test result is: [0]\n",
            "Classifier = Decision Tree, Score (test, accuracy) = 53.33, Training time = 0.00 seconds\n",
            "Test result is: [0]\n",
            "Classifier = Random Forest, Score (test, accuracy) = 56.67, Training time = 0.02 seconds\n",
            "Test result is: [0]\n",
            "Classifier = Neural Net, Score (test, accuracy) = 61.67, Training time = 0.20 seconds\n",
            "Test result is: [0]\n",
            "Classifier = AdaBoost, Score (test, accuracy) = 50.00, Training time = 0.11 seconds\n",
            "Test result is: [0]\n",
            "Classifier = Naive Bayes, Score (test, accuracy) = 60.00, Training time = 0.00 seconds\n",
            "--------------------------------------------------------------------------------\n",
            "Best --> Classifier = Neural Net, Score (test, accuracy) = 61.67\n"
          ],
          "name": "stdout"
        },
        {
          "output_type": "stream",
          "text": [
            "/usr/local/lib/python3.7/dist-packages/sklearn/utils/validation.py:760: DataConversionWarning: A column-vector y was passed when a 1d array was expected. Please change the shape of y to (n_samples, ), for example using ravel().\n",
            "  y = column_or_1d(y, warn=True)\n",
            "/usr/local/lib/python3.7/dist-packages/sklearn/naive_bayes.py:206: DataConversionWarning: A column-vector y was passed when a 1d array was expected. Please change the shape of y to (n_samples, ), for example using ravel().\n",
            "  y = column_or_1d(y, warn=True)\n"
          ],
          "name": "stderr"
        }
      ]
    },
    {
      "cell_type": "markdown",
      "metadata": {
        "id": "mrqSf2YfeDBj"
      },
      "source": [
        "Neural net seems to work best for our dataset with an accuracy of 61.67%"
      ]
    },
    {
      "cell_type": "markdown",
      "metadata": {
        "id": "77LLuCUkNZhZ"
      },
      "source": [
        "# **Incorporating latent feature**\n",
        "\n",
        "\n",
        "1.   Popularity - of a product\n",
        "2.   Affordability\n",
        "\n"
      ]
    },
    {
      "cell_type": "markdown",
      "metadata": {
        "id": "9_w1yItAeOjX"
      },
      "source": [
        "### **Popularity** - based on category "
      ]
    },
    {
      "cell_type": "code",
      "metadata": {
        "colab": {
          "base_uri": "https://localhost:8080/"
        },
        "id": "JEf9vufNhWjh",
        "outputId": "40ff324d-ae25-4928-83f5-6b692f3a5b9b"
      },
      "source": [
        "#Splitting the category_code column\n",
        "sampled[\"category\"] = sampled[\"category_code\"].str.split(\".\",expand=True)[0].astype('category')\n",
        "sampled[\"category\"].value_counts()"
      ],
      "execution_count": null,
      "outputs": [
        {
          "output_type": "execute_result",
          "data": {
            "text/plain": [
              "electronics      142\n",
              "Not Available     81\n",
              "appliances        33\n",
              "computers         14\n",
              "furniture          7\n",
              "apparel            7\n",
              "kids               4\n",
              "construction       4\n",
              "auto               4\n",
              "accessories        3\n",
              "sport              1\n",
              "Name: category, dtype: int64"
            ]
          },
          "metadata": {
            "tags": []
          },
          "execution_count": 28
        }
      ]
    },
    {
      "cell_type": "code",
      "metadata": {
        "colab": {
          "base_uri": "https://localhost:8080/"
        },
        "id": "HTLyTXqoiowb",
        "outputId": "82893bdd-faa6-4739-b4d8-bde299230e68"
      },
      "source": [
        "#splitting category_code column to sub category\n",
        "sampled[\"sub_category\"] = sampled[\"category_code\"].str.split(\".\",expand=True)[1].astype('category')\n",
        "sampled['sub_category'].value_counts()"
      ],
      "execution_count": null,
      "outputs": [
        {
          "output_type": "execute_result",
          "data": {
            "text/plain": [
              "smartphone        109\n",
              "kitchen            22\n",
              "clocks             11\n",
              "audio              10\n",
              "environment         8\n",
              "notebook            7\n",
              "shoes               7\n",
              "video               7\n",
              "accessories         4\n",
              "telephone           4\n",
              "tools               4\n",
              "sewing_machine      3\n",
              "living_room         3\n",
              "desktop             3\n",
              "components          3\n",
              "bedroom             3\n",
              "carriage            2\n",
              "bag                 2\n",
              "personal            1\n",
              "peripherals         1\n",
              "ski                 1\n",
              "tablet              1\n",
              "fmcg                1\n",
              "toys                1\n",
              "wallet              1\n",
              "Name: sub_category, dtype: int64"
            ]
          },
          "metadata": {
            "tags": []
          },
          "execution_count": 29
        }
      ]
    },
    {
      "cell_type": "code",
      "metadata": {
        "colab": {
          "base_uri": "https://localhost:8080/",
          "height": 425
        },
        "id": "peEdmzyrjDy3",
        "outputId": "7b622f53-e2cf-47ff-f282-2e1bb9e3e4ea"
      },
      "source": [
        "sampled.head()"
      ],
      "execution_count": null,
      "outputs": [
        {
          "output_type": "execute_result",
          "data": {
            "text/html": [
              "<div>\n",
              "<style scoped>\n",
              "    .dataframe tbody tr th:only-of-type {\n",
              "        vertical-align: middle;\n",
              "    }\n",
              "\n",
              "    .dataframe tbody tr th {\n",
              "        vertical-align: top;\n",
              "    }\n",
              "\n",
              "    .dataframe thead th {\n",
              "        text-align: right;\n",
              "    }\n",
              "</style>\n",
              "<table border=\"1\" class=\"dataframe\">\n",
              "  <thead>\n",
              "    <tr style=\"text-align: right;\">\n",
              "      <th></th>\n",
              "      <th>event_time</th>\n",
              "      <th>event_type</th>\n",
              "      <th>product_id</th>\n",
              "      <th>category_id</th>\n",
              "      <th>category_code</th>\n",
              "      <th>brand</th>\n",
              "      <th>price</th>\n",
              "      <th>user_id</th>\n",
              "      <th>user_session</th>\n",
              "      <th>transaction_time</th>\n",
              "      <th>transaction_date</th>\n",
              "      <th>category</th>\n",
              "      <th>sub_category</th>\n",
              "    </tr>\n",
              "  </thead>\n",
              "  <tbody>\n",
              "    <tr>\n",
              "      <th>24097</th>\n",
              "      <td>2019-10-01 03:00:00</td>\n",
              "      <td>1</td>\n",
              "      <td>1004211</td>\n",
              "      <td>2053013555631882655</td>\n",
              "      <td>electronics.smartphone</td>\n",
              "      <td>samsung</td>\n",
              "      <td>97.79</td>\n",
              "      <td>550679725</td>\n",
              "      <td>bf8afaeb-5a57-47f0-b769-4082a4f84562</td>\n",
              "      <td>03:00:00</td>\n",
              "      <td>2019-10-01</td>\n",
              "      <td>electronics</td>\n",
              "      <td>smartphone</td>\n",
              "    </tr>\n",
              "    <tr>\n",
              "      <th>21335</th>\n",
              "      <td>2019-10-01 02:56:04</td>\n",
              "      <td>1</td>\n",
              "      <td>1005104</td>\n",
              "      <td>2053013555631882655</td>\n",
              "      <td>electronics.smartphone</td>\n",
              "      <td>apple</td>\n",
              "      <td>975.57</td>\n",
              "      <td>555160488</td>\n",
              "      <td>786b7395-2ff2-4303-8f14-4ce89550b304</td>\n",
              "      <td>02:56:04</td>\n",
              "      <td>2019-10-01</td>\n",
              "      <td>electronics</td>\n",
              "      <td>smartphone</td>\n",
              "    </tr>\n",
              "    <tr>\n",
              "      <th>4051</th>\n",
              "      <td>2019-10-01 02:26:11</td>\n",
              "      <td>1</td>\n",
              "      <td>6800659</td>\n",
              "      <td>2053013554222596431</td>\n",
              "      <td>computers.components.hdd</td>\n",
              "      <td>kingston</td>\n",
              "      <td>66.67</td>\n",
              "      <td>523117953</td>\n",
              "      <td>629a0485-36c9-4a80-9f02-4a96382c3059</td>\n",
              "      <td>02:26:11</td>\n",
              "      <td>2019-10-01</td>\n",
              "      <td>computers</td>\n",
              "      <td>components</td>\n",
              "    </tr>\n",
              "    <tr>\n",
              "      <th>14236</th>\n",
              "      <td>2019-10-01 02:44:35</td>\n",
              "      <td>1</td>\n",
              "      <td>12500329</td>\n",
              "      <td>2053013556277805513</td>\n",
              "      <td>Not Available</td>\n",
              "      <td>crown</td>\n",
              "      <td>34.75</td>\n",
              "      <td>555293893</td>\n",
              "      <td>0d5b8893-1bed-46b7-93aa-203d45d76906</td>\n",
              "      <td>02:44:35</td>\n",
              "      <td>2019-10-01</td>\n",
              "      <td>Not Available</td>\n",
              "      <td>NaN</td>\n",
              "    </tr>\n",
              "    <tr>\n",
              "      <th>31873</th>\n",
              "      <td>2019-10-01 03:10:16</td>\n",
              "      <td>1</td>\n",
              "      <td>1004739</td>\n",
              "      <td>2053013555631882655</td>\n",
              "      <td>electronics.smartphone</td>\n",
              "      <td>xiaomi</td>\n",
              "      <td>197.52</td>\n",
              "      <td>540758682</td>\n",
              "      <td>3c8a17f5-8137-4b3b-9ba4-f785c0cc732c</td>\n",
              "      <td>03:10:16</td>\n",
              "      <td>2019-10-01</td>\n",
              "      <td>electronics</td>\n",
              "      <td>smartphone</td>\n",
              "    </tr>\n",
              "  </tbody>\n",
              "</table>\n",
              "</div>"
            ],
            "text/plain": [
              "               event_time  event_type  ...       category  sub_category\n",
              "24097 2019-10-01 03:00:00           1  ...    electronics    smartphone\n",
              "21335 2019-10-01 02:56:04           1  ...    electronics    smartphone\n",
              "4051  2019-10-01 02:26:11           1  ...      computers    components\n",
              "14236 2019-10-01 02:44:35           1  ...  Not Available           NaN\n",
              "31873 2019-10-01 03:10:16           1  ...    electronics    smartphone\n",
              "\n",
              "[5 rows x 13 columns]"
            ]
          },
          "metadata": {
            "tags": []
          },
          "execution_count": 30
        }
      ]
    },
    {
      "cell_type": "code",
      "metadata": {
        "id": "tSfoIE2DjSef",
        "colab": {
          "base_uri": "https://localhost:8080/",
          "height": 425
        },
        "outputId": "bafc803e-b990-4b36-e62a-15a5179f4538"
      },
      "source": [
        "#Calculating popularity based on the famous sub-categories and assigning corresponding values\n",
        "sampled['popularity']= sampled.sub_category.map(sampled.sub_category.value_counts())\n",
        "sampled.head()"
      ],
      "execution_count": null,
      "outputs": [
        {
          "output_type": "execute_result",
          "data": {
            "text/html": [
              "<div>\n",
              "<style scoped>\n",
              "    .dataframe tbody tr th:only-of-type {\n",
              "        vertical-align: middle;\n",
              "    }\n",
              "\n",
              "    .dataframe tbody tr th {\n",
              "        vertical-align: top;\n",
              "    }\n",
              "\n",
              "    .dataframe thead th {\n",
              "        text-align: right;\n",
              "    }\n",
              "</style>\n",
              "<table border=\"1\" class=\"dataframe\">\n",
              "  <thead>\n",
              "    <tr style=\"text-align: right;\">\n",
              "      <th></th>\n",
              "      <th>event_time</th>\n",
              "      <th>event_type</th>\n",
              "      <th>product_id</th>\n",
              "      <th>category_id</th>\n",
              "      <th>category_code</th>\n",
              "      <th>brand</th>\n",
              "      <th>price</th>\n",
              "      <th>user_id</th>\n",
              "      <th>user_session</th>\n",
              "      <th>transaction_time</th>\n",
              "      <th>transaction_date</th>\n",
              "      <th>category</th>\n",
              "      <th>sub_category</th>\n",
              "      <th>popularity</th>\n",
              "    </tr>\n",
              "  </thead>\n",
              "  <tbody>\n",
              "    <tr>\n",
              "      <th>24097</th>\n",
              "      <td>2019-10-01 03:00:00</td>\n",
              "      <td>1</td>\n",
              "      <td>1004211</td>\n",
              "      <td>2053013555631882655</td>\n",
              "      <td>electronics.smartphone</td>\n",
              "      <td>samsung</td>\n",
              "      <td>97.79</td>\n",
              "      <td>550679725</td>\n",
              "      <td>bf8afaeb-5a57-47f0-b769-4082a4f84562</td>\n",
              "      <td>03:00:00</td>\n",
              "      <td>2019-10-01</td>\n",
              "      <td>electronics</td>\n",
              "      <td>smartphone</td>\n",
              "      <td>109.0</td>\n",
              "    </tr>\n",
              "    <tr>\n",
              "      <th>21335</th>\n",
              "      <td>2019-10-01 02:56:04</td>\n",
              "      <td>1</td>\n",
              "      <td>1005104</td>\n",
              "      <td>2053013555631882655</td>\n",
              "      <td>electronics.smartphone</td>\n",
              "      <td>apple</td>\n",
              "      <td>975.57</td>\n",
              "      <td>555160488</td>\n",
              "      <td>786b7395-2ff2-4303-8f14-4ce89550b304</td>\n",
              "      <td>02:56:04</td>\n",
              "      <td>2019-10-01</td>\n",
              "      <td>electronics</td>\n",
              "      <td>smartphone</td>\n",
              "      <td>109.0</td>\n",
              "    </tr>\n",
              "    <tr>\n",
              "      <th>4051</th>\n",
              "      <td>2019-10-01 02:26:11</td>\n",
              "      <td>1</td>\n",
              "      <td>6800659</td>\n",
              "      <td>2053013554222596431</td>\n",
              "      <td>computers.components.hdd</td>\n",
              "      <td>kingston</td>\n",
              "      <td>66.67</td>\n",
              "      <td>523117953</td>\n",
              "      <td>629a0485-36c9-4a80-9f02-4a96382c3059</td>\n",
              "      <td>02:26:11</td>\n",
              "      <td>2019-10-01</td>\n",
              "      <td>computers</td>\n",
              "      <td>components</td>\n",
              "      <td>3.0</td>\n",
              "    </tr>\n",
              "    <tr>\n",
              "      <th>14236</th>\n",
              "      <td>2019-10-01 02:44:35</td>\n",
              "      <td>1</td>\n",
              "      <td>12500329</td>\n",
              "      <td>2053013556277805513</td>\n",
              "      <td>Not Available</td>\n",
              "      <td>crown</td>\n",
              "      <td>34.75</td>\n",
              "      <td>555293893</td>\n",
              "      <td>0d5b8893-1bed-46b7-93aa-203d45d76906</td>\n",
              "      <td>02:44:35</td>\n",
              "      <td>2019-10-01</td>\n",
              "      <td>Not Available</td>\n",
              "      <td>NaN</td>\n",
              "      <td>NaN</td>\n",
              "    </tr>\n",
              "    <tr>\n",
              "      <th>31873</th>\n",
              "      <td>2019-10-01 03:10:16</td>\n",
              "      <td>1</td>\n",
              "      <td>1004739</td>\n",
              "      <td>2053013555631882655</td>\n",
              "      <td>electronics.smartphone</td>\n",
              "      <td>xiaomi</td>\n",
              "      <td>197.52</td>\n",
              "      <td>540758682</td>\n",
              "      <td>3c8a17f5-8137-4b3b-9ba4-f785c0cc732c</td>\n",
              "      <td>03:10:16</td>\n",
              "      <td>2019-10-01</td>\n",
              "      <td>electronics</td>\n",
              "      <td>smartphone</td>\n",
              "      <td>109.0</td>\n",
              "    </tr>\n",
              "  </tbody>\n",
              "</table>\n",
              "</div>"
            ],
            "text/plain": [
              "               event_time  event_type  ...  sub_category  popularity\n",
              "24097 2019-10-01 03:00:00           1  ...    smartphone       109.0\n",
              "21335 2019-10-01 02:56:04           1  ...    smartphone       109.0\n",
              "4051  2019-10-01 02:26:11           1  ...    components         3.0\n",
              "14236 2019-10-01 02:44:35           1  ...           NaN         NaN\n",
              "31873 2019-10-01 03:10:16           1  ...    smartphone       109.0\n",
              "\n",
              "[5 rows x 14 columns]"
            ]
          },
          "metadata": {
            "tags": []
          },
          "execution_count": 31
        }
      ]
    },
    {
      "cell_type": "code",
      "metadata": {
        "id": "TLKGbcSElPz7"
      },
      "source": [
        "#Normalizing the values of popularity in order to understand the values better\n",
        "from sklearn.preprocessing import MinMaxScaler \n",
        "sampled['popularity'] = MinMaxScaler().fit_transform(np.array(sampled['popularity']).reshape(-1,1)) "
      ],
      "execution_count": null,
      "outputs": []
    },
    {
      "cell_type": "code",
      "metadata": {
        "id": "KW1eMvX1mxd3"
      },
      "source": [
        "sampled['popularity'] = sampled['popularity']*100"
      ],
      "execution_count": null,
      "outputs": []
    },
    {
      "cell_type": "code",
      "metadata": {
        "colab": {
          "base_uri": "https://localhost:8080/",
          "height": 425
        },
        "id": "kVa3Rikxm_Zc",
        "outputId": "f0e18a7b-bcf7-4e7f-9642-fbbafe7a5e8b"
      },
      "source": [
        "sampled.head()"
      ],
      "execution_count": null,
      "outputs": [
        {
          "output_type": "execute_result",
          "data": {
            "text/html": [
              "<div>\n",
              "<style scoped>\n",
              "    .dataframe tbody tr th:only-of-type {\n",
              "        vertical-align: middle;\n",
              "    }\n",
              "\n",
              "    .dataframe tbody tr th {\n",
              "        vertical-align: top;\n",
              "    }\n",
              "\n",
              "    .dataframe thead th {\n",
              "        text-align: right;\n",
              "    }\n",
              "</style>\n",
              "<table border=\"1\" class=\"dataframe\">\n",
              "  <thead>\n",
              "    <tr style=\"text-align: right;\">\n",
              "      <th></th>\n",
              "      <th>event_time</th>\n",
              "      <th>event_type</th>\n",
              "      <th>product_id</th>\n",
              "      <th>category_id</th>\n",
              "      <th>category_code</th>\n",
              "      <th>brand</th>\n",
              "      <th>price</th>\n",
              "      <th>user_id</th>\n",
              "      <th>user_session</th>\n",
              "      <th>transaction_time</th>\n",
              "      <th>transaction_date</th>\n",
              "      <th>category</th>\n",
              "      <th>sub_category</th>\n",
              "      <th>popularity</th>\n",
              "    </tr>\n",
              "  </thead>\n",
              "  <tbody>\n",
              "    <tr>\n",
              "      <th>24097</th>\n",
              "      <td>2019-10-01 03:00:00</td>\n",
              "      <td>1</td>\n",
              "      <td>1004211</td>\n",
              "      <td>2053013555631882655</td>\n",
              "      <td>electronics.smartphone</td>\n",
              "      <td>samsung</td>\n",
              "      <td>97.79</td>\n",
              "      <td>550679725</td>\n",
              "      <td>bf8afaeb-5a57-47f0-b769-4082a4f84562</td>\n",
              "      <td>03:00:00</td>\n",
              "      <td>2019-10-01</td>\n",
              "      <td>electronics</td>\n",
              "      <td>smartphone</td>\n",
              "      <td>100.000000</td>\n",
              "    </tr>\n",
              "    <tr>\n",
              "      <th>21335</th>\n",
              "      <td>2019-10-01 02:56:04</td>\n",
              "      <td>1</td>\n",
              "      <td>1005104</td>\n",
              "      <td>2053013555631882655</td>\n",
              "      <td>electronics.smartphone</td>\n",
              "      <td>apple</td>\n",
              "      <td>975.57</td>\n",
              "      <td>555160488</td>\n",
              "      <td>786b7395-2ff2-4303-8f14-4ce89550b304</td>\n",
              "      <td>02:56:04</td>\n",
              "      <td>2019-10-01</td>\n",
              "      <td>electronics</td>\n",
              "      <td>smartphone</td>\n",
              "      <td>100.000000</td>\n",
              "    </tr>\n",
              "    <tr>\n",
              "      <th>4051</th>\n",
              "      <td>2019-10-01 02:26:11</td>\n",
              "      <td>1</td>\n",
              "      <td>6800659</td>\n",
              "      <td>2053013554222596431</td>\n",
              "      <td>computers.components.hdd</td>\n",
              "      <td>kingston</td>\n",
              "      <td>66.67</td>\n",
              "      <td>523117953</td>\n",
              "      <td>629a0485-36c9-4a80-9f02-4a96382c3059</td>\n",
              "      <td>02:26:11</td>\n",
              "      <td>2019-10-01</td>\n",
              "      <td>computers</td>\n",
              "      <td>components</td>\n",
              "      <td>1.851852</td>\n",
              "    </tr>\n",
              "    <tr>\n",
              "      <th>14236</th>\n",
              "      <td>2019-10-01 02:44:35</td>\n",
              "      <td>1</td>\n",
              "      <td>12500329</td>\n",
              "      <td>2053013556277805513</td>\n",
              "      <td>Not Available</td>\n",
              "      <td>crown</td>\n",
              "      <td>34.75</td>\n",
              "      <td>555293893</td>\n",
              "      <td>0d5b8893-1bed-46b7-93aa-203d45d76906</td>\n",
              "      <td>02:44:35</td>\n",
              "      <td>2019-10-01</td>\n",
              "      <td>Not Available</td>\n",
              "      <td>NaN</td>\n",
              "      <td>NaN</td>\n",
              "    </tr>\n",
              "    <tr>\n",
              "      <th>31873</th>\n",
              "      <td>2019-10-01 03:10:16</td>\n",
              "      <td>1</td>\n",
              "      <td>1004739</td>\n",
              "      <td>2053013555631882655</td>\n",
              "      <td>electronics.smartphone</td>\n",
              "      <td>xiaomi</td>\n",
              "      <td>197.52</td>\n",
              "      <td>540758682</td>\n",
              "      <td>3c8a17f5-8137-4b3b-9ba4-f785c0cc732c</td>\n",
              "      <td>03:10:16</td>\n",
              "      <td>2019-10-01</td>\n",
              "      <td>electronics</td>\n",
              "      <td>smartphone</td>\n",
              "      <td>100.000000</td>\n",
              "    </tr>\n",
              "  </tbody>\n",
              "</table>\n",
              "</div>"
            ],
            "text/plain": [
              "               event_time  event_type  ...  sub_category  popularity\n",
              "24097 2019-10-01 03:00:00           1  ...    smartphone  100.000000\n",
              "21335 2019-10-01 02:56:04           1  ...    smartphone  100.000000\n",
              "4051  2019-10-01 02:26:11           1  ...    components    1.851852\n",
              "14236 2019-10-01 02:44:35           1  ...           NaN         NaN\n",
              "31873 2019-10-01 03:10:16           1  ...    smartphone  100.000000\n",
              "\n",
              "[5 rows x 14 columns]"
            ]
          },
          "metadata": {
            "tags": []
          },
          "execution_count": 34
        }
      ]
    },
    {
      "cell_type": "code",
      "metadata": {
        "id": "uTiLTbF6oC-T"
      },
      "source": [
        "sampled['popularity'] = sampled['popularity'].replace(np.nan, 0)"
      ],
      "execution_count": null,
      "outputs": []
    },
    {
      "cell_type": "markdown",
      "metadata": {
        "id": "B15nK9JuQKXt"
      },
      "source": [
        "# **Using Muller loop with latent manifold**"
      ]
    },
    {
      "cell_type": "code",
      "metadata": {
        "colab": {
          "base_uri": "https://localhost:8080/"
        },
        "id": "9saT-2DGnhUl",
        "outputId": "4a8d94e8-a5fb-4ab2-967d-e9e0f17d3d04"
      },
      "source": [
        "names = [\"Nearest Neighbors\", \"Linear SVM\", \"RBF SVM\",\n",
        "         \"Decision Tree\", \"Random Forest\", \"Neural Net\", \"AdaBoost\",\n",
        "         \"Naive Bayes\"]\n",
        "\n",
        "classifiers = [\n",
        "    KNeighborsClassifier(2),\n",
        "    SVC(kernel=\"linear\", C=0.025),\n",
        "    SVC(gamma=2, C=1),\n",
        "    DecisionTreeClassifier(max_depth=5),\n",
        "    RandomForestClassifier(max_depth=5, n_estimators=10, max_features=1),\n",
        "    MLPClassifier(alpha=1, max_iter=1000),\n",
        "    AdaBoostClassifier(),\n",
        "    GaussianNB()]\n",
        "\n",
        "X = sampled[['user_id','product_id','price','popularity']]\n",
        "y = sampled[['event_type']]\n",
        "\n",
        "X = StandardScaler().fit_transform(X)\n",
        "X_train, X_test, y_train, y_test = \\\n",
        "    train_test_split(X, y, test_size=.2)\n",
        "\n",
        "# TODO (Apply): All cross-validation\n",
        "\n",
        "max_score = 0.0\n",
        "max_class = ''\n",
        "# iterate over classifiers\n",
        "for name, clf in zip(names, classifiers):\n",
        "    start_time = time.time()\n",
        "    clf.fit(X_train, y_train)\n",
        "    test_df = [[541312140,1307067,35.79,13.592448]]\n",
        "    res = clf.predict(test_df)\n",
        "    print(\"Test result is:\",res)\n",
        "    score = 100.0 * clf.score(X_test, y_test)\n",
        "    print('Classifier = %s, Score (test, accuracy) = %.2f,' %(name, score), 'Training time = %.2f seconds' % (time.time() - start_time))\n",
        "    \n",
        "    if score > max_score:\n",
        "        clf_best = clf\n",
        "        max_score = score\n",
        "        max_class = name\n",
        "\n",
        "print(80*'-' )\n",
        "print('Best --> Classifier = %s, Score (test, accuracy) = %.2f' %(max_class, max_score))\n",
        "#plot the output of the various algorithms"
      ],
      "execution_count": null,
      "outputs": [
        {
          "output_type": "stream",
          "text": [
            "/usr/local/lib/python3.7/dist-packages/ipykernel_launcher.py:28: DataConversionWarning: A column-vector y was passed when a 1d array was expected. Please change the shape of y to (n_samples, ), for example using ravel().\n",
            "/usr/local/lib/python3.7/dist-packages/sklearn/utils/validation.py:760: DataConversionWarning: A column-vector y was passed when a 1d array was expected. Please change the shape of y to (n_samples, ), for example using ravel().\n",
            "  y = column_or_1d(y, warn=True)\n",
            "/usr/local/lib/python3.7/dist-packages/sklearn/utils/validation.py:760: DataConversionWarning: A column-vector y was passed when a 1d array was expected. Please change the shape of y to (n_samples, ), for example using ravel().\n",
            "  y = column_or_1d(y, warn=True)\n",
            "/usr/local/lib/python3.7/dist-packages/ipykernel_launcher.py:28: DataConversionWarning: A column-vector y was passed when a 1d array was expected. Please change the shape of y to (n_samples,), for example using ravel().\n",
            "/usr/local/lib/python3.7/dist-packages/sklearn/neural_network/_multilayer_perceptron.py:934: DataConversionWarning: A column-vector y was passed when a 1d array was expected. Please change the shape of y to (n_samples, ), for example using ravel().\n",
            "  y = column_or_1d(y, warn=True)\n"
          ],
          "name": "stderr"
        },
        {
          "output_type": "stream",
          "text": [
            "Test result is: [0]\n",
            "Classifier = Nearest Neighbors, Score (test, accuracy) = 53.33, Training time = 0.01 seconds\n",
            "Test result is: [1]\n",
            "Classifier = Linear SVM, Score (test, accuracy) = 61.67, Training time = 0.00 seconds\n",
            "Test result is: [0]\n",
            "Classifier = RBF SVM, Score (test, accuracy) = 53.33, Training time = 0.00 seconds\n",
            "Test result is: [0]\n",
            "Classifier = Decision Tree, Score (test, accuracy) = 56.67, Training time = 0.00 seconds\n",
            "Test result is: [0]\n",
            "Classifier = Random Forest, Score (test, accuracy) = 58.33, Training time = 0.02 seconds\n",
            "Test result is: [1]\n",
            "Classifier = Neural Net, Score (test, accuracy) = 63.33, Training time = 0.26 seconds\n",
            "Test result is: [0]\n",
            "Classifier = AdaBoost, Score (test, accuracy) = 48.33, Training time = 0.12 seconds\n",
            "Test result is: [1]\n",
            "Classifier = Naive Bayes, Score (test, accuracy) = 60.00, Training time = 0.00 seconds\n",
            "--------------------------------------------------------------------------------\n",
            "Best --> Classifier = Neural Net, Score (test, accuracy) = 63.33\n"
          ],
          "name": "stdout"
        },
        {
          "output_type": "stream",
          "text": [
            "/usr/local/lib/python3.7/dist-packages/sklearn/utils/validation.py:760: DataConversionWarning: A column-vector y was passed when a 1d array was expected. Please change the shape of y to (n_samples, ), for example using ravel().\n",
            "  y = column_or_1d(y, warn=True)\n",
            "/usr/local/lib/python3.7/dist-packages/sklearn/naive_bayes.py:206: DataConversionWarning: A column-vector y was passed when a 1d array was expected. Please change the shape of y to (n_samples, ), for example using ravel().\n",
            "  y = column_or_1d(y, warn=True)\n"
          ],
          "name": "stderr"
        }
      ]
    },
    {
      "cell_type": "markdown",
      "metadata": {
        "id": "i5Q_3XojeOkK"
      },
      "source": [
        "After adding the latent variable - popularity, the accuracy of the model neural net is now 63.33, there is an increase of 2%."
      ]
    }
  ]
}