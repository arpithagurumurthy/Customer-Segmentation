{
  "nbformat": 4,
  "nbformat_minor": 0,
  "metadata": {
    "colab": {
      "name": "HW5_Arpitha_Main.ipynb",
      "provenance": [],
      "collapsed_sections": [
        "ngykMnJpVYbF",
        "4HEDHMWLT0-f",
        "o55FVLSvM25v",
        "5178bli2O56l",
        "CZ6UgDUMPpU_"
      ]
    },
    "kernelspec": {
      "name": "python3",
      "display_name": "Python 3"
    },
    "accelerator": "GPU"
  },
  "cells": [
    {
      "cell_type": "markdown",
      "metadata": {
        "id": "F_xtrpZFf6DQ"
      },
      "source": [
        "### **CMPE 257 Assignment 5 - Amalgmation, HPO, AutoML and Classification**\n",
        "Market segmentation is important for small scale businesses to filter out their target markets. This can include segments of users whom they can target in order to increase sales, or segments of products that they can replace to increase their income.\n",
        "\n",
        "**Objective function:** \n",
        "To classify the event_types into purchased or non purchased based on the historic user behaviour data shown above\n",
        "**Dataset Number 1:** \n",
        "eCommerce customer behavior data\n",
        "\n",
        "https://www.kaggle.com/mkechinov/ecommerce-behavior-data-from-multi-category-store\n",
        "\n",
        "\n"
      ]
    },
    {
      "cell_type": "code",
      "metadata": {
        "id": "IB1F3xyvo3Fg"
      },
      "source": [
        "# Uninstall mkl for faster neural-network training time\n",
        "!pip uninstall -y mkl\n",
        "# Upgrade pip to ensure the latest package versions are available\n",
        "!pip install -U pip\n",
        "# Upgrade setuptools to be compatible with namespace packages\n",
        "!pip install -U setuptools\n",
        "!pip install -U \"mxnet<2.0.0\"\n",
        "# Install pre-release, frozen to a particual pre-release for stability\n",
        "!pip install --pre \"autogluon==0.0.16b20201214\"\n",
        "!pip install -U ipykernel"
      ],
      "execution_count": null,
      "outputs": []
    },
    {
      "cell_type": "markdown",
      "metadata": {
        "id": "1I3yz-SnVNkO"
      },
      "source": [
        "# **Data collection and preparation**"
      ]
    },
    {
      "cell_type": "code",
      "metadata": {
        "id": "6OrNQzwmvto6"
      },
      "source": [
        "#Importing data from google sheets\n",
        "from io import BytesIO\n",
        "import requests\n",
        "import pandas as pd\n",
        "import numpy as np\n",
        "import matplotlib.pyplot as plt\n",
        "%matplotlib inline\n",
        "from sklearn.cluster import KMeans\n",
        "import seaborn as sns\n",
        "import tensorflow.compat.v1 as tf\n",
        "r = requests.get('https://docs.google.com/spreadsheets/d/e/2PACX-1vTrfrhv1SOGSa0cLry-16Tx4ykJZBRDDjtCCJJzai0OtB8ewYbmzcSyNBSqvARAqHppa_NM1LH1-MEC/pub?gid=1654498000&single=true&output=csv')\n",
        "data = r.content\n",
        "df_Oct = pd.read_csv(BytesIO(data))\n",
        "df_Oct = df_Oct.drop(columns='Unnamed: 0', axis=1)"
      ],
      "execution_count": null,
      "outputs": []
    },
    {
      "cell_type": "code",
      "metadata": {
        "colab": {
          "base_uri": "https://localhost:8080/"
        },
        "id": "Kh2Cr3gmG1qw",
        "outputId": "0db620e1-f47b-447f-c2cf-0c1ae3ee0afd"
      },
      "source": [
        "df_Oct.shape"
      ],
      "execution_count": null,
      "outputs": [
        {
          "output_type": "execute_result",
          "data": {
            "text/plain": [
              "(50000, 9)"
            ]
          },
          "metadata": {
            "tags": []
          },
          "execution_count": 38
        }
      ]
    },
    {
      "cell_type": "code",
      "metadata": {
        "colab": {
          "base_uri": "https://localhost:8080/",
          "height": 285
        },
        "id": "XX7JPRI2kbcO",
        "outputId": "0bae12c7-0533-4413-e176-4b85d6cb1de5"
      },
      "source": [
        "df_Oct.head()"
      ],
      "execution_count": null,
      "outputs": [
        {
          "output_type": "execute_result",
          "data": {
            "text/html": [
              "<div>\n",
              "<style scoped>\n",
              "    .dataframe tbody tr th:only-of-type {\n",
              "        vertical-align: middle;\n",
              "    }\n",
              "\n",
              "    .dataframe tbody tr th {\n",
              "        vertical-align: top;\n",
              "    }\n",
              "\n",
              "    .dataframe thead th {\n",
              "        text-align: right;\n",
              "    }\n",
              "</style>\n",
              "<table border=\"1\" class=\"dataframe\">\n",
              "  <thead>\n",
              "    <tr style=\"text-align: right;\">\n",
              "      <th></th>\n",
              "      <th>event_time</th>\n",
              "      <th>event_type</th>\n",
              "      <th>product_id</th>\n",
              "      <th>category_id</th>\n",
              "      <th>category_code</th>\n",
              "      <th>brand</th>\n",
              "      <th>price</th>\n",
              "      <th>user_id</th>\n",
              "      <th>user_session</th>\n",
              "    </tr>\n",
              "  </thead>\n",
              "  <tbody>\n",
              "    <tr>\n",
              "      <th>0</th>\n",
              "      <td>2019-10-01 00:00:00 UTC</td>\n",
              "      <td>view</td>\n",
              "      <td>44600062</td>\n",
              "      <td>2103807459595387724</td>\n",
              "      <td>NaN</td>\n",
              "      <td>shiseido</td>\n",
              "      <td>35.79</td>\n",
              "      <td>541312140</td>\n",
              "      <td>72d76fde-8bb3-4e00-8c23-a032dfed738c</td>\n",
              "    </tr>\n",
              "    <tr>\n",
              "      <th>1</th>\n",
              "      <td>2019-10-01 00:00:00 UTC</td>\n",
              "      <td>view</td>\n",
              "      <td>3900821</td>\n",
              "      <td>2053013552326770905</td>\n",
              "      <td>appliances.environment.water_heater</td>\n",
              "      <td>aqua</td>\n",
              "      <td>33.20</td>\n",
              "      <td>554748717</td>\n",
              "      <td>9333dfbd-b87a-4708-9857-6336556b0fcc</td>\n",
              "    </tr>\n",
              "    <tr>\n",
              "      <th>2</th>\n",
              "      <td>2019-10-01 00:00:01 UTC</td>\n",
              "      <td>view</td>\n",
              "      <td>17200506</td>\n",
              "      <td>2053013559792632471</td>\n",
              "      <td>furniture.living_room.sofa</td>\n",
              "      <td>NaN</td>\n",
              "      <td>543.10</td>\n",
              "      <td>519107250</td>\n",
              "      <td>566511c2-e2e3-422b-b695-cf8e6e792ca8</td>\n",
              "    </tr>\n",
              "    <tr>\n",
              "      <th>3</th>\n",
              "      <td>2019-10-01 00:00:01 UTC</td>\n",
              "      <td>view</td>\n",
              "      <td>1307067</td>\n",
              "      <td>2053013558920217191</td>\n",
              "      <td>computers.notebook</td>\n",
              "      <td>lenovo</td>\n",
              "      <td>251.74</td>\n",
              "      <td>550050854</td>\n",
              "      <td>7c90fc70-0e80-4590-96f3-13c02c18c713</td>\n",
              "    </tr>\n",
              "    <tr>\n",
              "      <th>4</th>\n",
              "      <td>2019-10-01 00:00:04 UTC</td>\n",
              "      <td>view</td>\n",
              "      <td>1004237</td>\n",
              "      <td>2053013555631882655</td>\n",
              "      <td>electronics.smartphone</td>\n",
              "      <td>apple</td>\n",
              "      <td>1081.98</td>\n",
              "      <td>535871217</td>\n",
              "      <td>c6bd7419-2748-4c56-95b4-8cec9ff8b80d</td>\n",
              "    </tr>\n",
              "  </tbody>\n",
              "</table>\n",
              "</div>"
            ],
            "text/plain": [
              "                event_time  ...                          user_session\n",
              "0  2019-10-01 00:00:00 UTC  ...  72d76fde-8bb3-4e00-8c23-a032dfed738c\n",
              "1  2019-10-01 00:00:00 UTC  ...  9333dfbd-b87a-4708-9857-6336556b0fcc\n",
              "2  2019-10-01 00:00:01 UTC  ...  566511c2-e2e3-422b-b695-cf8e6e792ca8\n",
              "3  2019-10-01 00:00:01 UTC  ...  7c90fc70-0e80-4590-96f3-13c02c18c713\n",
              "4  2019-10-01 00:00:04 UTC  ...  c6bd7419-2748-4c56-95b4-8cec9ff8b80d\n",
              "\n",
              "[5 rows x 9 columns]"
            ]
          },
          "metadata": {
            "tags": []
          },
          "execution_count": 39
        }
      ]
    },
    {
      "cell_type": "markdown",
      "metadata": {
        "id": "ngykMnJpVYbF"
      },
      "source": [
        "# **Data wrangling**"
      ]
    },
    {
      "cell_type": "code",
      "metadata": {
        "colab": {
          "base_uri": "https://localhost:8080/"
        },
        "id": "--5U68FxpvCT",
        "outputId": "6ef17178-cb46-45aa-e3ea-ae05a75bebef"
      },
      "source": [
        "##Checking for null values in df\n",
        "df_Oct.isnull().sum()"
      ],
      "execution_count": null,
      "outputs": [
        {
          "output_type": "execute_result",
          "data": {
            "text/plain": [
              "event_time           0\n",
              "event_type           0\n",
              "product_id           0\n",
              "category_id          0\n",
              "category_code    16098\n",
              "brand             7041\n",
              "price                0\n",
              "user_id              0\n",
              "user_session         0\n",
              "dtype: int64"
            ]
          },
          "metadata": {
            "tags": []
          },
          "execution_count": 40
        }
      ]
    },
    {
      "cell_type": "markdown",
      "metadata": {
        "id": "O6Fj0YfDXT7B"
      },
      "source": [
        "### **Column: category_code**"
      ]
    },
    {
      "cell_type": "code",
      "metadata": {
        "id": "kJOa2N0dmZIO"
      },
      "source": [
        "##Replace all null values in the 'category_code' column\n",
        "df_Oct.category_code = df_Oct.category_code.replace(np.nan,'Not Available')"
      ],
      "execution_count": null,
      "outputs": []
    },
    {
      "cell_type": "markdown",
      "metadata": {
        "id": "xnap3E4ia4Oo"
      },
      "source": [
        "### **Column: brand**"
      ]
    },
    {
      "cell_type": "code",
      "metadata": {
        "id": "Fo377N0CZwZQ"
      },
      "source": [
        "##Replace all null values in the 'brand column'\n",
        "df_Oct.brand = df_Oct.brand.replace(np.nan,'Not Available')"
      ],
      "execution_count": null,
      "outputs": []
    },
    {
      "cell_type": "markdown",
      "metadata": {
        "id": "JyARlQUTbIVh"
      },
      "source": [
        "### **Column: event_time**"
      ]
    },
    {
      "cell_type": "code",
      "metadata": {
        "id": "zwePYjbpbXVI"
      },
      "source": [
        "##Converting the date type to datetime type for 'event_time'\n",
        "df_Oct['event_time'] = pd.to_datetime(df_Oct['event_time'], format='%Y-%m-%d %H:%M:%S UTC')"
      ],
      "execution_count": null,
      "outputs": []
    },
    {
      "cell_type": "code",
      "metadata": {
        "id": "uO8F3BA3cBgy"
      },
      "source": [
        "##Splitting event_time into 2 columns containing date and time respectively\n",
        "df_Oct['transaction_time'] = df_Oct['event_time'].dt.time\n",
        "df_Oct['transaction_date'] = df_Oct['event_time'].dt.normalize()"
      ],
      "execution_count": null,
      "outputs": []
    },
    {
      "cell_type": "markdown",
      "metadata": {
        "id": "ipXcF4WcjJNq"
      },
      "source": [
        "### **product_id**"
      ]
    },
    {
      "cell_type": "code",
      "metadata": {
        "colab": {
          "base_uri": "https://localhost:8080/"
        },
        "id": "M60xcxHlkDlc",
        "outputId": "4d0048b6-47e1-4233-805b-5c5166871d56"
      },
      "source": [
        "## Counting how many unique products are in the dataset\n",
        "print('The total count for product id is:',df_Oct['product_id'].count())\n",
        "print('The total unique count for product id is:',len(df_Oct['product_id'].unique()))"
      ],
      "execution_count": null,
      "outputs": [
        {
          "output_type": "stream",
          "text": [
            "The total count for product id is: 50000\n",
            "The total unique count for product id is: 13289\n"
          ],
          "name": "stdout"
        }
      ]
    },
    {
      "cell_type": "markdown",
      "metadata": {
        "id": "eNbWTTJztsNI"
      },
      "source": [
        "### **user_id**"
      ]
    },
    {
      "cell_type": "code",
      "metadata": {
        "colab": {
          "base_uri": "https://localhost:8080/"
        },
        "id": "vpJxS_YctrqG",
        "outputId": "83ff8dec-63b7-4e1b-ce31-f9c23aac4418"
      },
      "source": [
        "## Counting how many unique products are in the dataset\n",
        "print('The total count for user id is:',df_Oct['user_id'].count())\n",
        "print('The total unique count for user id is:',len(df_Oct['user_id'].unique()))"
      ],
      "execution_count": null,
      "outputs": [
        {
          "output_type": "stream",
          "text": [
            "The total count for user id is: 50000\n",
            "The total unique count for user id is: 10931\n"
          ],
          "name": "stdout"
        }
      ]
    },
    {
      "cell_type": "markdown",
      "metadata": {
        "id": "69iNkZ3l9Wrp"
      },
      "source": [
        "### **price**"
      ]
    },
    {
      "cell_type": "code",
      "metadata": {
        "colab": {
          "base_uri": "https://localhost:8080/"
        },
        "id": "cSX4rL4UPDKz",
        "outputId": "21971778-b973-412b-9e1e-7efe2212f7c6"
      },
      "source": [
        "##using the describe method on column 'price' to ensure that there are no negative values\n",
        "df_Oct['price'].describe()"
      ],
      "execution_count": null,
      "outputs": [
        {
          "output_type": "execute_result",
          "data": {
            "text/plain": [
              "count    50000.000000\n",
              "mean       285.880781\n",
              "std        361.302612\n",
              "min          0.000000\n",
              "25%         60.230000\n",
              "50%        154.410000\n",
              "75%        356.250000\n",
              "max       2574.070000\n",
              "Name: price, dtype: float64"
            ]
          },
          "metadata": {
            "tags": []
          },
          "execution_count": 47
        }
      ]
    },
    {
      "cell_type": "markdown",
      "metadata": {
        "id": "nwn3Yl_IUgey"
      },
      "source": [
        "### **event_type**"
      ]
    },
    {
      "cell_type": "code",
      "metadata": {
        "colab": {
          "base_uri": "https://localhost:8080/"
        },
        "id": "whgJPnzYUQ2u",
        "outputId": "47932063-4b19-494b-edb8-9c0c513ee69f"
      },
      "source": [
        "df_Oct['event_type'].value_counts()"
      ],
      "execution_count": null,
      "outputs": [
        {
          "output_type": "execute_result",
          "data": {
            "text/plain": [
              "view        48676\n",
              "purchase      748\n",
              "cart          576\n",
              "Name: event_type, dtype: int64"
            ]
          },
          "metadata": {
            "tags": []
          },
          "execution_count": 48
        }
      ]
    },
    {
      "cell_type": "code",
      "metadata": {
        "id": "Di3KDUeF_bI_",
        "colab": {
          "base_uri": "https://localhost:8080/"
        },
        "outputId": "d3fd4662-868f-450f-a8fb-093b45fed6af"
      },
      "source": [
        "##Ensure all the 'null' values are taken care of\n",
        "df_Oct.isnull().sum()"
      ],
      "execution_count": null,
      "outputs": [
        {
          "output_type": "execute_result",
          "data": {
            "text/plain": [
              "event_time          0\n",
              "event_type          0\n",
              "product_id          0\n",
              "category_id         0\n",
              "category_code       0\n",
              "brand               0\n",
              "price               0\n",
              "user_id             0\n",
              "user_session        0\n",
              "transaction_time    0\n",
              "transaction_date    0\n",
              "dtype: int64"
            ]
          },
          "metadata": {
            "tags": []
          },
          "execution_count": 49
        }
      ]
    },
    {
      "cell_type": "code",
      "metadata": {
        "id": "E3I9yadnkm2h",
        "colab": {
          "base_uri": "https://localhost:8080/",
          "height": 314
        },
        "outputId": "3078a80f-20f7-4837-f902-2bd1c60faa05"
      },
      "source": [
        "##Count of event types\n",
        "plt.title('Count of view, purchase, cart event types')\n",
        "sns.countplot(x = 'event_type', data = df_Oct)"
      ],
      "execution_count": null,
      "outputs": [
        {
          "output_type": "execute_result",
          "data": {
            "text/plain": [
              "<matplotlib.axes._subplots.AxesSubplot at 0x7f7b4511ffd0>"
            ]
          },
          "metadata": {
            "tags": []
          },
          "execution_count": 50
        },
        {
          "output_type": "display_data",
          "data": {
            "image/png": "[encoded data removed]",
            "text/plain": [
              "<Figure size 432x288 with 1 Axes>"
            ]
          },
          "metadata": {
            "tags": [],
            "needs_background": "light"
          }
        }
      ]
    },
    {
      "cell_type": "markdown",
      "metadata": {
        "id": "4HEDHMWLT0-f"
      },
      "source": [
        "#**Preparation for running HPO without amalgamation**"
      ]
    },
    {
      "cell_type": "code",
      "metadata": {
        "id": "nd0fLW3f09Q8"
      },
      "source": [
        "##Converting numeric to categoric data - 'event_type'\n",
        "df_Oct['event_type'].replace({\n",
        "    'view': 0,\n",
        "    'cart': 0,\n",
        "    'purchase': 1}, inplace = True\n",
        ")"
      ],
      "execution_count": null,
      "outputs": []
    },
    {
      "cell_type": "code",
      "metadata": {
        "colab": {
          "base_uri": "https://localhost:8080/"
        },
        "id": "Nta90GlwUuB9",
        "outputId": "b2b3130c-ebde-4d7b-ada2-a105438dfe2c"
      },
      "source": [
        "df_Oct['event_type'].value_counts()"
      ],
      "execution_count": null,
      "outputs": [
        {
          "output_type": "execute_result",
          "data": {
            "text/plain": [
              "0    49252\n",
              "1      748\n",
              "Name: event_type, dtype: int64"
            ]
          },
          "metadata": {
            "tags": []
          },
          "execution_count": 52
        }
      ]
    },
    {
      "cell_type": "code",
      "metadata": {
        "id": "1XoaDM7S-WWB"
      },
      "source": [
        "##creating two dataframes with purchased users and non purchased users to balance the data\n",
        "purchased_set = df_Oct[df_Oct['event_type']==1]\n",
        "non_purchased_set = df_Oct[df_Oct['event_type']==0]"
      ],
      "execution_count": null,
      "outputs": []
    },
    {
      "cell_type": "code",
      "metadata": {
        "id": "T2uIMaEVLPty"
      },
      "source": [
        "from sklearn.utils import resample\n",
        "##equally sampling 150 data points from each type\n",
        "n_samples = 150\n",
        "puchased_sampled = resample(purchased_set, replace=False, n_samples=n_samples, random_state=27)\n",
        "not_purchased_sampled = resample(non_purchased_set, replace=False, n_samples=n_samples, random_state=27)"
      ],
      "execution_count": null,
      "outputs": []
    },
    {
      "cell_type": "code",
      "metadata": {
        "colab": {
          "base_uri": "https://localhost:8080/"
        },
        "id": "sk-sS5WHLY4H",
        "outputId": "4683d7f9-3b83-4215-ef4c-046e43877b17"
      },
      "source": [
        "##creating a dataframe sampled by concatenating purchased and not purchased sampled dataframes\n",
        "sampled = pd.concat([puchased_sampled, not_purchased_sampled])\n",
        "sampled['event_type'].value_counts()"
      ],
      "execution_count": null,
      "outputs": [
        {
          "output_type": "execute_result",
          "data": {
            "text/plain": [
              "1    150\n",
              "0    150\n",
              "Name: event_type, dtype: int64"
            ]
          },
          "metadata": {
            "tags": []
          },
          "execution_count": 55
        }
      ]
    },
    {
      "cell_type": "code",
      "metadata": {
        "colab": {
          "base_uri": "https://localhost:8080/",
          "height": 314
        },
        "id": "bhOTnmkDaf1F",
        "outputId": "bf1c5261-c523-4f5f-ece8-0cfdbe8d8e41"
      },
      "source": [
        "##Count of event types\n",
        "plt.title('Count of view, purchase, cart event types')\n",
        "sns.countplot(x = 'event_type', data = sampled)"
      ],
      "execution_count": null,
      "outputs": [
        {
          "output_type": "execute_result",
          "data": {
            "text/plain": [
              "<matplotlib.axes._subplots.AxesSubplot at 0x7f7bc32d1cd0>"
            ]
          },
          "metadata": {
            "tags": []
          },
          "execution_count": 56
        },
        {
          "output_type": "display_data",
          "data": {
            "image/png": "[encoded data removed]",
            "text/plain": [
              "<Figure size 432x288 with 1 Axes>"
            ]
          },
          "metadata": {
            "tags": [],
            "needs_background": "light"
          }
        }
      ]
    },
    {
      "cell_type": "code",
      "metadata": {
        "colab": {
          "base_uri": "https://localhost:8080/",
          "height": 279
        },
        "id": "bLLLD1TTMyJm",
        "outputId": "0856c133-c730-4a5f-d19f-107efdf527ea"
      },
      "source": [
        "sampled.head(3)"
      ],
      "execution_count": null,
      "outputs": [
        {
          "output_type": "execute_result",
          "data": {
            "text/html": [
              "<div>\n",
              "<style scoped>\n",
              "    .dataframe tbody tr th:only-of-type {\n",
              "        vertical-align: middle;\n",
              "    }\n",
              "\n",
              "    .dataframe tbody tr th {\n",
              "        vertical-align: top;\n",
              "    }\n",
              "\n",
              "    .dataframe thead th {\n",
              "        text-align: right;\n",
              "    }\n",
              "</style>\n",
              "<table border=\"1\" class=\"dataframe\">\n",
              "  <thead>\n",
              "    <tr style=\"text-align: right;\">\n",
              "      <th></th>\n",
              "      <th>event_time</th>\n",
              "      <th>event_type</th>\n",
              "      <th>product_id</th>\n",
              "      <th>category_id</th>\n",
              "      <th>category_code</th>\n",
              "      <th>brand</th>\n",
              "      <th>price</th>\n",
              "      <th>user_id</th>\n",
              "      <th>user_session</th>\n",
              "      <th>transaction_time</th>\n",
              "      <th>transaction_date</th>\n",
              "    </tr>\n",
              "  </thead>\n",
              "  <tbody>\n",
              "    <tr>\n",
              "      <th>24097</th>\n",
              "      <td>2019-10-01 03:00:00</td>\n",
              "      <td>1</td>\n",
              "      <td>1004211</td>\n",
              "      <td>2053013555631882655</td>\n",
              "      <td>electronics.smartphone</td>\n",
              "      <td>samsung</td>\n",
              "      <td>97.79</td>\n",
              "      <td>550679725</td>\n",
              "      <td>bf8afaeb-5a57-47f0-b769-4082a4f84562</td>\n",
              "      <td>03:00:00</td>\n",
              "      <td>2019-10-01</td>\n",
              "    </tr>\n",
              "    <tr>\n",
              "      <th>21335</th>\n",
              "      <td>2019-10-01 02:56:04</td>\n",
              "      <td>1</td>\n",
              "      <td>1005104</td>\n",
              "      <td>2053013555631882655</td>\n",
              "      <td>electronics.smartphone</td>\n",
              "      <td>apple</td>\n",
              "      <td>975.57</td>\n",
              "      <td>555160488</td>\n",
              "      <td>786b7395-2ff2-4303-8f14-4ce89550b304</td>\n",
              "      <td>02:56:04</td>\n",
              "      <td>2019-10-01</td>\n",
              "    </tr>\n",
              "    <tr>\n",
              "      <th>4051</th>\n",
              "      <td>2019-10-01 02:26:11</td>\n",
              "      <td>1</td>\n",
              "      <td>6800659</td>\n",
              "      <td>2053013554222596431</td>\n",
              "      <td>computers.components.hdd</td>\n",
              "      <td>kingston</td>\n",
              "      <td>66.67</td>\n",
              "      <td>523117953</td>\n",
              "      <td>629a0485-36c9-4a80-9f02-4a96382c3059</td>\n",
              "      <td>02:26:11</td>\n",
              "      <td>2019-10-01</td>\n",
              "    </tr>\n",
              "  </tbody>\n",
              "</table>\n",
              "</div>"
            ],
            "text/plain": [
              "               event_time  event_type  ...  transaction_time  transaction_date\n",
              "24097 2019-10-01 03:00:00           1  ...          03:00:00        2019-10-01\n",
              "21335 2019-10-01 02:56:04           1  ...          02:56:04        2019-10-01\n",
              "4051  2019-10-01 02:26:11           1  ...          02:26:11        2019-10-01\n",
              "\n",
              "[3 rows x 11 columns]"
            ]
          },
          "metadata": {
            "tags": []
          },
          "execution_count": 57
        }
      ]
    },
    {
      "cell_type": "markdown",
      "metadata": {
        "id": "Ba0GH-EdVARB"
      },
      "source": [
        "# **HPO**\n",
        "Hyper-parameter tuning is just an optimization loop on top of ML model learning to find the set of hyper-parameters leading to the lowest error on the validation set.\n",
        "### **sklearn.neural_network.MLPClassifier**\n",
        "This model optimizes the log-loss function using LBFGS or stochastic gradient descent.\n",
        "\n",
        "\n"
      ]
    },
    {
      "cell_type": "code",
      "metadata": {
        "id": "RyP0WBrOVHUl"
      },
      "source": [
        "from sklearn.neural_network import MLPClassifier\n",
        "from sklearn.datasets import make_classification\n",
        "from sklearn.model_selection import train_test_split"
      ],
      "execution_count": null,
      "outputs": []
    },
    {
      "cell_type": "code",
      "metadata": {
        "id": "3j4o9X-HYcET"
      },
      "source": [
        "##Preparing the data for classification and initializing a data frame to store results\n",
        "X = sampled[['user_id','product_id','price']]\n",
        "y = sampled[['event_type']]\n",
        "df_compare_1 = pd.DataFrame(columns=['alpha','max_iter', 'early_stopping','score'])"
      ],
      "execution_count": null,
      "outputs": []
    },
    {
      "cell_type": "markdown",
      "metadata": {
        "id": "-tKKAOOpfHXs"
      },
      "source": [
        "###**Testing the hyperparamer search manually**"
      ]
    },
    {
      "cell_type": "code",
      "metadata": {
        "id": "4eb0RVuBavZd"
      },
      "source": [
        "##Defining a function 'mlpClassifier' for run the classification with different hyperparameters\n",
        "from sklearn.preprocessing import StandardScaler\n",
        "def mlpClassifier(custom_alpha, custom_max_iter, custom_early_stopping, X, y, df_compare_1):\n",
        "  model = MLPClassifier(alpha=custom_alpha, max_iter=custom_max_iter, early_stopping=custom_early_stopping)\n",
        "  X = StandardScaler().fit_transform(X)\n",
        "  X_train, X_test, y_train, y_test = train_test_split(X, y, test_size=.2)\n",
        "  model.fit(X_train, y_train)\n",
        "  score = 100.0 * model.score(X_test, y_test)\n",
        "  df_compare_1.loc[-1] = [custom_alpha, custom_max_iter, custom_early_stopping, score]  # adding a row\n",
        "  df_compare_1.index = df_compare_1.index + 1  # shifting index\n",
        "  df_compare_1 = df_compare_1.sort_index()\n",
        "  df_compare_1.reset_index(drop=True)"
      ],
      "execution_count": null,
      "outputs": []
    },
    {
      "cell_type": "code",
      "metadata": {
        "colab": {
          "base_uri": "https://localhost:8080/"
        },
        "id": "i-5JhH1Xdb1A",
        "outputId": "ddafb90f-9564-4533-802a-3c8abb495b42"
      },
      "source": [
        "##Checking with Early stopping set to False\n",
        "##Increasing alpha while keeping max_iter constant\n",
        "mlpClassifier(1, 1000, True, X, y, df_compare_1)\n",
        "mlpClassifier(2, 1000, True, X, y, df_compare_1)\n",
        "mlpClassifier(3, 1000, True, X, y, df_compare_1)\n",
        "mlpClassifier(4, 1000, True, X, y, df_compare_1)\n",
        "##Increasing max_iter while keeping alpha constant\n",
        "mlpClassifier(1, 2000, True, X, y, df_compare_1)\n",
        "mlpClassifier(1, 3000, True, X, y, df_compare_1)\n",
        "mlpClassifier(1, 500, True, X, y, df_compare_1)\n",
        "##Changing both alpha and max_iter\n",
        "mlpClassifier(2, 100, True, X, y, df_compare_1)\n",
        "\n",
        "# Repeat With Early stopping set to True\n",
        "##Increasing alpha while keeping max_iter constant\n",
        "mlpClassifier(1, 1000, False, X, y, df_compare_1)\n",
        "mlpClassifier(2, 1000, False, X, y, df_compare_1)\n",
        "mlpClassifier(3, 1000, False, X, y, df_compare_1)\n",
        "mlpClassifier(4, 1000, False, X, y, df_compare_1)\n",
        "##Increasing max_iter while keeping alpha constant\n",
        "mlpClassifier(1, 2000, False, X, y, df_compare_1)\n",
        "mlpClassifier(1, 3000, False, X, y, df_compare_1)\n",
        "mlpClassifier(1, 500, False, X, y, df_compare_1)\n",
        "##Changing both alpha and max_iter\n",
        "mlpClassifier(2, 100, False, X, y, df_compare_1)"
      ],
      "execution_count": null,
      "outputs": [
        {
          "output_type": "stream",
          "text": [
            "/usr/local/lib/python3.7/dist-packages/sklearn/neural_network/_multilayer_perceptron.py:934: DataConversionWarning: A column-vector y was passed when a 1d array was expected. Please change the shape of y to (n_samples, ), for example using ravel().\n",
            "  y = column_or_1d(y, warn=True)\n",
            "/usr/local/lib/python3.7/dist-packages/sklearn/neural_network/_multilayer_perceptron.py:934: DataConversionWarning: A column-vector y was passed when a 1d array was expected. Please change the shape of y to (n_samples, ), for example using ravel().\n",
            "  y = column_or_1d(y, warn=True)\n",
            "/usr/local/lib/python3.7/dist-packages/sklearn/neural_network/_multilayer_perceptron.py:934: DataConversionWarning: A column-vector y was passed when a 1d array was expected. Please change the shape of y to (n_samples, ), for example using ravel().\n",
            "  y = column_or_1d(y, warn=True)\n",
            "/usr/local/lib/python3.7/dist-packages/sklearn/neural_network/_multilayer_perceptron.py:934: DataConversionWarning: A column-vector y was passed when a 1d array was expected. Please change the shape of y to (n_samples, ), for example using ravel().\n",
            "  y = column_or_1d(y, warn=True)\n",
            "/usr/local/lib/python3.7/dist-packages/sklearn/neural_network/_multilayer_perceptron.py:934: DataConversionWarning: A column-vector y was passed when a 1d array was expected. Please change the shape of y to (n_samples, ), for example using ravel().\n",
            "  y = column_or_1d(y, warn=True)\n",
            "/usr/local/lib/python3.7/dist-packages/sklearn/neural_network/_multilayer_perceptron.py:934: DataConversionWarning: A column-vector y was passed when a 1d array was expected. Please change the shape of y to (n_samples, ), for example using ravel().\n",
            "  y = column_or_1d(y, warn=True)\n",
            "/usr/local/lib/python3.7/dist-packages/sklearn/neural_network/_multilayer_perceptron.py:934: DataConversionWarning: A column-vector y was passed when a 1d array was expected. Please change the shape of y to (n_samples, ), for example using ravel().\n",
            "  y = column_or_1d(y, warn=True)\n",
            "/usr/local/lib/python3.7/dist-packages/sklearn/neural_network/_multilayer_perceptron.py:934: DataConversionWarning: A column-vector y was passed when a 1d array was expected. Please change the shape of y to (n_samples, ), for example using ravel().\n",
            "  y = column_or_1d(y, warn=True)\n",
            "/usr/local/lib/python3.7/dist-packages/sklearn/neural_network/_multilayer_perceptron.py:934: DataConversionWarning: A column-vector y was passed when a 1d array was expected. Please change the shape of y to (n_samples, ), for example using ravel().\n",
            "  y = column_or_1d(y, warn=True)\n",
            "/usr/local/lib/python3.7/dist-packages/sklearn/neural_network/_multilayer_perceptron.py:934: DataConversionWarning: A column-vector y was passed when a 1d array was expected. Please change the shape of y to (n_samples, ), for example using ravel().\n",
            "  y = column_or_1d(y, warn=True)\n",
            "/usr/local/lib/python3.7/dist-packages/sklearn/neural_network/_multilayer_perceptron.py:934: DataConversionWarning: A column-vector y was passed when a 1d array was expected. Please change the shape of y to (n_samples, ), for example using ravel().\n",
            "  y = column_or_1d(y, warn=True)\n",
            "/usr/local/lib/python3.7/dist-packages/sklearn/neural_network/_multilayer_perceptron.py:934: DataConversionWarning: A column-vector y was passed when a 1d array was expected. Please change the shape of y to (n_samples, ), for example using ravel().\n",
            "  y = column_or_1d(y, warn=True)\n",
            "/usr/local/lib/python3.7/dist-packages/sklearn/neural_network/_multilayer_perceptron.py:934: DataConversionWarning: A column-vector y was passed when a 1d array was expected. Please change the shape of y to (n_samples, ), for example using ravel().\n",
            "  y = column_or_1d(y, warn=True)\n",
            "/usr/local/lib/python3.7/dist-packages/sklearn/neural_network/_multilayer_perceptron.py:934: DataConversionWarning: A column-vector y was passed when a 1d array was expected. Please change the shape of y to (n_samples, ), for example using ravel().\n",
            "  y = column_or_1d(y, warn=True)\n",
            "/usr/local/lib/python3.7/dist-packages/sklearn/neural_network/_multilayer_perceptron.py:934: DataConversionWarning: A column-vector y was passed when a 1d array was expected. Please change the shape of y to (n_samples, ), for example using ravel().\n",
            "  y = column_or_1d(y, warn=True)\n",
            "/usr/local/lib/python3.7/dist-packages/sklearn/neural_network/_multilayer_perceptron.py:934: DataConversionWarning: A column-vector y was passed when a 1d array was expected. Please change the shape of y to (n_samples, ), for example using ravel().\n",
            "  y = column_or_1d(y, warn=True)\n",
            "/usr/local/lib/python3.7/dist-packages/sklearn/neural_network/_multilayer_perceptron.py:571: ConvergenceWarning: Stochastic Optimizer: Maximum iterations (100) reached and the optimization hasn't converged yet.\n",
            "  % self.max_iter, ConvergenceWarning)\n"
          ],
          "name": "stderr"
        }
      ]
    },
    {
      "cell_type": "code",
      "metadata": {
        "colab": {
          "base_uri": "https://localhost:8080/",
          "height": 528
        },
        "id": "D2NpptBGgxCE",
        "outputId": "0593c3a9-052b-4b36-9c48-bfe335121bde"
      },
      "source": [
        "##Displaying the results in a table\n",
        "df_compare_1"
      ],
      "execution_count": null,
      "outputs": [
        {
          "output_type": "execute_result",
          "data": {
            "text/html": [
              "<div>\n",
              "<style scoped>\n",
              "    .dataframe tbody tr th:only-of-type {\n",
              "        vertical-align: middle;\n",
              "    }\n",
              "\n",
              "    .dataframe tbody tr th {\n",
              "        vertical-align: top;\n",
              "    }\n",
              "\n",
              "    .dataframe thead th {\n",
              "        text-align: right;\n",
              "    }\n",
              "</style>\n",
              "<table border=\"1\" class=\"dataframe\">\n",
              "  <thead>\n",
              "    <tr style=\"text-align: right;\">\n",
              "      <th></th>\n",
              "      <th>alpha</th>\n",
              "      <th>max_iter</th>\n",
              "      <th>early_stopping</th>\n",
              "      <th>score</th>\n",
              "    </tr>\n",
              "  </thead>\n",
              "  <tbody>\n",
              "    <tr>\n",
              "      <th>15</th>\n",
              "      <td>1</td>\n",
              "      <td>1000</td>\n",
              "      <td>True</td>\n",
              "      <td>56.666667</td>\n",
              "    </tr>\n",
              "    <tr>\n",
              "      <th>14</th>\n",
              "      <td>2</td>\n",
              "      <td>1000</td>\n",
              "      <td>True</td>\n",
              "      <td>48.333333</td>\n",
              "    </tr>\n",
              "    <tr>\n",
              "      <th>13</th>\n",
              "      <td>3</td>\n",
              "      <td>1000</td>\n",
              "      <td>True</td>\n",
              "      <td>55.000000</td>\n",
              "    </tr>\n",
              "    <tr>\n",
              "      <th>12</th>\n",
              "      <td>4</td>\n",
              "      <td>1000</td>\n",
              "      <td>True</td>\n",
              "      <td>60.000000</td>\n",
              "    </tr>\n",
              "    <tr>\n",
              "      <th>11</th>\n",
              "      <td>1</td>\n",
              "      <td>2000</td>\n",
              "      <td>True</td>\n",
              "      <td>51.666667</td>\n",
              "    </tr>\n",
              "    <tr>\n",
              "      <th>10</th>\n",
              "      <td>1</td>\n",
              "      <td>3000</td>\n",
              "      <td>True</td>\n",
              "      <td>55.000000</td>\n",
              "    </tr>\n",
              "    <tr>\n",
              "      <th>9</th>\n",
              "      <td>1</td>\n",
              "      <td>500</td>\n",
              "      <td>True</td>\n",
              "      <td>66.666667</td>\n",
              "    </tr>\n",
              "    <tr>\n",
              "      <th>8</th>\n",
              "      <td>2</td>\n",
              "      <td>100</td>\n",
              "      <td>True</td>\n",
              "      <td>50.000000</td>\n",
              "    </tr>\n",
              "    <tr>\n",
              "      <th>7</th>\n",
              "      <td>1</td>\n",
              "      <td>1000</td>\n",
              "      <td>False</td>\n",
              "      <td>55.000000</td>\n",
              "    </tr>\n",
              "    <tr>\n",
              "      <th>6</th>\n",
              "      <td>2</td>\n",
              "      <td>1000</td>\n",
              "      <td>False</td>\n",
              "      <td>56.666667</td>\n",
              "    </tr>\n",
              "    <tr>\n",
              "      <th>5</th>\n",
              "      <td>3</td>\n",
              "      <td>1000</td>\n",
              "      <td>False</td>\n",
              "      <td>76.666667</td>\n",
              "    </tr>\n",
              "    <tr>\n",
              "      <th>4</th>\n",
              "      <td>4</td>\n",
              "      <td>1000</td>\n",
              "      <td>False</td>\n",
              "      <td>63.333333</td>\n",
              "    </tr>\n",
              "    <tr>\n",
              "      <th>3</th>\n",
              "      <td>1</td>\n",
              "      <td>2000</td>\n",
              "      <td>False</td>\n",
              "      <td>61.666667</td>\n",
              "    </tr>\n",
              "    <tr>\n",
              "      <th>2</th>\n",
              "      <td>1</td>\n",
              "      <td>3000</td>\n",
              "      <td>False</td>\n",
              "      <td>50.000000</td>\n",
              "    </tr>\n",
              "    <tr>\n",
              "      <th>1</th>\n",
              "      <td>1</td>\n",
              "      <td>500</td>\n",
              "      <td>False</td>\n",
              "      <td>61.666667</td>\n",
              "    </tr>\n",
              "    <tr>\n",
              "      <th>0</th>\n",
              "      <td>2</td>\n",
              "      <td>100</td>\n",
              "      <td>False</td>\n",
              "      <td>63.333333</td>\n",
              "    </tr>\n",
              "  </tbody>\n",
              "</table>\n",
              "</div>"
            ],
            "text/plain": [
              "   alpha max_iter early_stopping      score\n",
              "15     1     1000           True  56.666667\n",
              "14     2     1000           True  48.333333\n",
              "13     3     1000           True  55.000000\n",
              "12     4     1000           True  60.000000\n",
              "11     1     2000           True  51.666667\n",
              "10     1     3000           True  55.000000\n",
              "9      1      500           True  66.666667\n",
              "8      2      100           True  50.000000\n",
              "7      1     1000          False  55.000000\n",
              "6      2     1000          False  56.666667\n",
              "5      3     1000          False  76.666667\n",
              "4      4     1000          False  63.333333\n",
              "3      1     2000          False  61.666667\n",
              "2      1     3000          False  50.000000\n",
              "1      1      500          False  61.666667\n",
              "0      2      100          False  63.333333"
            ]
          },
          "metadata": {
            "tags": []
          },
          "execution_count": 62
        }
      ]
    },
    {
      "cell_type": "markdown",
      "metadata": {
        "id": "88usyoO_jPro"
      },
      "source": [
        "### **Inference:**\n",
        "\n",
        "\n",
        "1.   With early_stopping as 'True', the highest accuracy we see is 66% and with early_stopping as 'False', the highest accuracy we see is 76.6%\n",
        "2.   Keeping the max_iter fixed(1000), if we increase the value of alpha(1 to 4), we see the accuracy is highest for the highest value of alpha.\n",
        "3.   Keeping the alpha fixed(1), if we vary the value of max_iter, we see the accuracy is highest for the lowest value of max_iter.\n",
        "4.   **NOTE**: These values are changing with every fresh execution of the model classification.\n",
        "\n"
      ]
    },
    {
      "cell_type": "markdown",
      "metadata": {
        "id": "KAfo3slJU1xN"
      },
      "source": [
        "### **Using GridSearch**"
      ]
    },
    {
      "cell_type": "code",
      "metadata": {
        "id": "tZvOEfQgU4VS"
      },
      "source": [
        "mlp = MLPClassifier()\n",
        "parameter_space = {\n",
        "    'alpha': [0.0001, 0.05],\n",
        "    'max_iter': [1000,500],\n",
        "    'early_stopping': [True, False]\n",
        "}"
      ],
      "execution_count": null,
      "outputs": []
    },
    {
      "cell_type": "code",
      "metadata": {
        "colab": {
          "base_uri": "https://localhost:8080/"
        },
        "id": "9P-_oCe1VO1g",
        "outputId": "076c4621-557c-459d-95cd-a116f58542ef"
      },
      "source": [
        "from sklearn.model_selection import GridSearchCV\n",
        "\n",
        "clf = GridSearchCV(mlp, parameter_space, n_jobs=-1, cv=3)\n",
        "clf.fit(X_train, y_train)"
      ],
      "execution_count": null,
      "outputs": [
        {
          "output_type": "stream",
          "text": [
            "/usr/local/lib/python3.7/dist-packages/sklearn/neural_network/_multilayer_perceptron.py:934: DataConversionWarning: A column-vector y was passed when a 1d array was expected. Please change the shape of y to (n_samples, ), for example using ravel().\n",
            "  y = column_or_1d(y, warn=True)\n"
          ],
          "name": "stderr"
        },
        {
          "output_type": "execute_result",
          "data": {
            "text/plain": [
              "GridSearchCV(cv=3, error_score=nan,\n",
              "             estimator=MLPClassifier(activation='relu', alpha=0.0001,\n",
              "                                     batch_size='auto', beta_1=0.9,\n",
              "                                     beta_2=0.999, early_stopping=False,\n",
              "                                     epsilon=1e-08, hidden_layer_sizes=(100,),\n",
              "                                     learning_rate='constant',\n",
              "                                     learning_rate_init=0.001, max_fun=15000,\n",
              "                                     max_iter=200, momentum=0.9,\n",
              "                                     n_iter_no_change=10,\n",
              "                                     nesterovs_momentum=True, power_t=0.5,\n",
              "                                     random_state=None, shuffle=True,\n",
              "                                     solver='adam', tol=0.0001,\n",
              "                                     validation_fraction=0.1, verbose=False,\n",
              "                                     warm_start=False),\n",
              "             iid='deprecated', n_jobs=-1,\n",
              "             param_grid={'alpha': [0.0001, 0.05],\n",
              "                         'early_stopping': [True, False],\n",
              "                         'max_iter': [1000, 500]},\n",
              "             pre_dispatch='2*n_jobs', refit=True, return_train_score=False,\n",
              "             scoring=None, verbose=0)"
            ]
          },
          "metadata": {
            "tags": []
          },
          "execution_count": 64
        }
      ]
    },
    {
      "cell_type": "code",
      "metadata": {
        "id": "nAeKu3ChVgTp"
      },
      "source": [
        "results = pd.concat([pd.DataFrame(clf.cv_results_[\"params\"]),pd.DataFrame(clf.cv_results_[\"mean_test_score\"], columns=[\"Accuracy\"])],axis=1)"
      ],
      "execution_count": null,
      "outputs": []
    },
    {
      "cell_type": "code",
      "metadata": {
        "colab": {
          "base_uri": "https://localhost:8080/",
          "height": 288
        },
        "id": "4xmuPmgXXAE_",
        "outputId": "32758d5a-84ef-41cb-d7d9-13686cd7bf4d"
      },
      "source": [
        "results"
      ],
      "execution_count": null,
      "outputs": [
        {
          "output_type": "execute_result",
          "data": {
            "text/html": [
              "<div>\n",
              "<style scoped>\n",
              "    .dataframe tbody tr th:only-of-type {\n",
              "        vertical-align: middle;\n",
              "    }\n",
              "\n",
              "    .dataframe tbody tr th {\n",
              "        vertical-align: top;\n",
              "    }\n",
              "\n",
              "    .dataframe thead th {\n",
              "        text-align: right;\n",
              "    }\n",
              "</style>\n",
              "<table border=\"1\" class=\"dataframe\">\n",
              "  <thead>\n",
              "    <tr style=\"text-align: right;\">\n",
              "      <th></th>\n",
              "      <th>alpha</th>\n",
              "      <th>early_stopping</th>\n",
              "      <th>max_iter</th>\n",
              "      <th>Accuracy</th>\n",
              "    </tr>\n",
              "  </thead>\n",
              "  <tbody>\n",
              "    <tr>\n",
              "      <th>0</th>\n",
              "      <td>0.0001</td>\n",
              "      <td>True</td>\n",
              "      <td>1000</td>\n",
              "      <td>0.525000</td>\n",
              "    </tr>\n",
              "    <tr>\n",
              "      <th>1</th>\n",
              "      <td>0.0001</td>\n",
              "      <td>True</td>\n",
              "      <td>500</td>\n",
              "      <td>0.566667</td>\n",
              "    </tr>\n",
              "    <tr>\n",
              "      <th>2</th>\n",
              "      <td>0.0001</td>\n",
              "      <td>False</td>\n",
              "      <td>1000</td>\n",
              "      <td>0.504167</td>\n",
              "    </tr>\n",
              "    <tr>\n",
              "      <th>3</th>\n",
              "      <td>0.0001</td>\n",
              "      <td>False</td>\n",
              "      <td>500</td>\n",
              "      <td>0.545833</td>\n",
              "    </tr>\n",
              "    <tr>\n",
              "      <th>4</th>\n",
              "      <td>0.0500</td>\n",
              "      <td>True</td>\n",
              "      <td>1000</td>\n",
              "      <td>0.516667</td>\n",
              "    </tr>\n",
              "    <tr>\n",
              "      <th>5</th>\n",
              "      <td>0.0500</td>\n",
              "      <td>True</td>\n",
              "      <td>500</td>\n",
              "      <td>0.545833</td>\n",
              "    </tr>\n",
              "    <tr>\n",
              "      <th>6</th>\n",
              "      <td>0.0500</td>\n",
              "      <td>False</td>\n",
              "      <td>1000</td>\n",
              "      <td>0.525000</td>\n",
              "    </tr>\n",
              "    <tr>\n",
              "      <th>7</th>\n",
              "      <td>0.0500</td>\n",
              "      <td>False</td>\n",
              "      <td>500</td>\n",
              "      <td>0.562500</td>\n",
              "    </tr>\n",
              "  </tbody>\n",
              "</table>\n",
              "</div>"
            ],
            "text/plain": [
              "    alpha  early_stopping  max_iter  Accuracy\n",
              "0  0.0001            True      1000  0.525000\n",
              "1  0.0001            True       500  0.566667\n",
              "2  0.0001           False      1000  0.504167\n",
              "3  0.0001           False       500  0.545833\n",
              "4  0.0500            True      1000  0.516667\n",
              "5  0.0500            True       500  0.545833\n",
              "6  0.0500           False      1000  0.525000\n",
              "7  0.0500           False       500  0.562500"
            ]
          },
          "metadata": {
            "tags": []
          },
          "execution_count": 66
        }
      ]
    },
    {
      "cell_type": "markdown",
      "metadata": {
        "id": "KkoQ3PxVe4oi"
      },
      "source": [
        "Alpha values = 0.05 and max_iter = 500 with early_stopping = True gives the best accuracy of 54%"
      ]
    },
    {
      "cell_type": "markdown",
      "metadata": {
        "id": "SiSM8VMmacCE"
      },
      "source": [
        "# **Muller Loop before amalgamation**"
      ]
    },
    {
      "cell_type": "code",
      "metadata": {
        "id": "SeoLAfdodXOx"
      },
      "source": [
        "#Importing required libraries\n",
        "from sklearn.neural_network import MLPClassifier\n",
        "from sklearn.neighbors import KNeighborsClassifier\n",
        "from sklearn.svm import SVC\n",
        "from sklearn.gaussian_process import GaussianProcessClassifier\n",
        "from sklearn.gaussian_process.kernels import RBF\n",
        "from sklearn.tree import DecisionTreeClassifier\n",
        "from sklearn.ensemble import RandomForestClassifier, AdaBoostClassifier\n",
        "from sklearn.naive_bayes import GaussianNB\n",
        "from sklearn.discriminant_analysis import QuadraticDiscriminantAnalysis"
      ],
      "execution_count": null,
      "outputs": []
    },
    {
      "cell_type": "code",
      "metadata": {
        "id": "eGlPVXCJeMbB"
      },
      "source": [
        "##Initializing a df for comparing muller loop results\n",
        "df_compare_muller = pd.DataFrame(columns=['Classifier','Accuracy/Score', 'Training Time'])"
      ],
      "execution_count": null,
      "outputs": []
    },
    {
      "cell_type": "code",
      "metadata": {
        "colab": {
          "base_uri": "https://localhost:8080/"
        },
        "id": "pIiMLuO3ajTR",
        "outputId": "93f4a496-22de-4e4f-f433-bbf332b18936"
      },
      "source": [
        "import time as time\n",
        "import xgboost as xgb\n",
        "\n",
        "names = [\"Nearest Neighbors\", \"Linear SVM\", \"RBF SVM\", \"Gaussian Process\",\n",
        "         \"Decision Tree\", \"Random Forest\", \"Neural Net\", \"AdaBoost\",\n",
        "         \"Naive Bayes\", \"QDA\", \"XGBoost\",\n",
        "         \"MLP\"]\n",
        "\n",
        "classifiers = [\n",
        "    KNeighborsClassifier(2),\n",
        "    SVC(kernel=\"linear\", C=0.025),\n",
        "    SVC(gamma=2, C=1),\n",
        "    GaussianProcessClassifier(1.0 * RBF(1.0)),\n",
        "    DecisionTreeClassifier(max_depth=5),\n",
        "    RandomForestClassifier(max_depth=5, n_estimators=10, max_features=1),\n",
        "    MLPClassifier(alpha=1, max_iter=1000),\n",
        "    AdaBoostClassifier(),\n",
        "    GaussianNB(),\n",
        "    QuadraticDiscriminantAnalysis(),\n",
        "    xgb.XGBClassifier(max_depth=5, learning_rate=0.1,n_jobs=-1),\n",
        "    MLPClassifier()]\n",
        "\n",
        "X = sampled[['user_id','product_id','price']]\n",
        "y = sampled[['event_type']]\n",
        "X = StandardScaler().fit_transform(X)\n",
        "X_train, X_test, y_train, y_test = train_test_split(X, y, test_size=.2)\n",
        "\n",
        "max_score = 0.0\n",
        "max_class = ''\n",
        "# iterate over classifiers\n",
        "for name, clf in zip(names, classifiers):\n",
        "    start_time = time.time()\n",
        "    clf.fit(X_train, y_train)\n",
        "    score = 100.0 * clf.score(X_test, y_test)\n",
        "    print('Classifier = %s, Score (test, accuracy) = %.2f,' %(name, score), 'Training time = %.2f seconds' % (time.time() - start_time))\n",
        "    training_time = time.time() - start_time\n",
        "    df_compare_muller.loc[-1] = [name, score, training_time]  # adding a row\n",
        "    df_compare_muller.index = df_compare_muller.index + 1  # shifting index\n",
        "    df_compare_muller = df_compare_muller.sort_index()\n",
        "    df_compare_muller.reset_index(drop=True)\n",
        "\n",
        "    if score > max_score:\n",
        "        clf_best = clf\n",
        "        max_score = score\n",
        "        max_class = name\n",
        "\n",
        "print(80*'-' )\n",
        "print('Best --> Classifier = %s, Score (test, accuracy) = %.2f' %(max_class, max_score))\n",
        "#plot the output of the various algorithms"
      ],
      "execution_count": null,
      "outputs": [
        {
          "output_type": "stream",
          "text": [
            "/usr/local/lib/python3.7/dist-packages/ipykernel_launcher.py:33: DataConversionWarning: A column-vector y was passed when a 1d array was expected. Please change the shape of y to (n_samples, ), for example using ravel().\n",
            "/usr/local/lib/python3.7/dist-packages/sklearn/utils/validation.py:760: DataConversionWarning: A column-vector y was passed when a 1d array was expected. Please change the shape of y to (n_samples, ), for example using ravel().\n",
            "  y = column_or_1d(y, warn=True)\n",
            "/usr/local/lib/python3.7/dist-packages/sklearn/utils/validation.py:760: DataConversionWarning: A column-vector y was passed when a 1d array was expected. Please change the shape of y to (n_samples, ), for example using ravel().\n",
            "  y = column_or_1d(y, warn=True)\n",
            "/usr/local/lib/python3.7/dist-packages/sklearn/utils/validation.py:760: DataConversionWarning: A column-vector y was passed when a 1d array was expected. Please change the shape of y to (n_samples, ), for example using ravel().\n",
            "  y = column_or_1d(y, warn=True)\n",
            "/usr/local/lib/python3.7/dist-packages/scipy/optimize/lbfgsb.py:339: DeprecationWarning: tostring() is deprecated. Use tobytes() instead.\n",
            "  task_str = task.tostring()\n"
          ],
          "name": "stderr"
        },
        {
          "output_type": "stream",
          "text": [
            "Classifier = Nearest Neighbors, Score (test, accuracy) = 48.33, Training time = 0.01 seconds\n",
            "Classifier = Linear SVM, Score (test, accuracy) = 55.00, Training time = 0.00 seconds\n",
            "Classifier = RBF SVM, Score (test, accuracy) = 58.33, Training time = 0.00 seconds\n"
          ],
          "name": "stdout"
        },
        {
          "output_type": "stream",
          "text": [
            "/usr/local/lib/python3.7/dist-packages/scipy/optimize/lbfgsb.py:360: DeprecationWarning: tostring() is deprecated. Use tobytes() instead.\n",
            "  task_str = task.tostring().strip(b'\\x00').strip()\n",
            "/usr/local/lib/python3.7/dist-packages/ipykernel_launcher.py:33: DataConversionWarning: A column-vector y was passed when a 1d array was expected. Please change the shape of y to (n_samples,), for example using ravel().\n",
            "/usr/local/lib/python3.7/dist-packages/sklearn/neural_network/_multilayer_perceptron.py:934: DataConversionWarning: A column-vector y was passed when a 1d array was expected. Please change the shape of y to (n_samples, ), for example using ravel().\n",
            "  y = column_or_1d(y, warn=True)\n"
          ],
          "name": "stderr"
        },
        {
          "output_type": "stream",
          "text": [
            "Classifier = Gaussian Process, Score (test, accuracy) = 46.67, Training time = 0.82 seconds\n",
            "Classifier = Decision Tree, Score (test, accuracy) = 50.00, Training time = 0.00 seconds\n",
            "Classifier = Random Forest, Score (test, accuracy) = 56.67, Training time = 0.03 seconds\n",
            "Classifier = Neural Net, Score (test, accuracy) = 56.67, Training time = 0.30 seconds\n",
            "Classifier = AdaBoost, Score (test, accuracy) = 55.00, Training time = 0.12 seconds\n",
            "Classifier = Naive Bayes, Score (test, accuracy) = 53.33, Training time = 0.00 seconds\n",
            "Classifier = QDA, Score (test, accuracy) = 60.00, Training time = 0.00 seconds\n",
            "Classifier = XGBoost, Score (test, accuracy) = 56.67, Training time = 0.03 seconds\n"
          ],
          "name": "stdout"
        },
        {
          "output_type": "stream",
          "text": [
            "/usr/local/lib/python3.7/dist-packages/sklearn/utils/validation.py:760: DataConversionWarning: A column-vector y was passed when a 1d array was expected. Please change the shape of y to (n_samples, ), for example using ravel().\n",
            "  y = column_or_1d(y, warn=True)\n",
            "/usr/local/lib/python3.7/dist-packages/sklearn/naive_bayes.py:206: DataConversionWarning: A column-vector y was passed when a 1d array was expected. Please change the shape of y to (n_samples, ), for example using ravel().\n",
            "  y = column_or_1d(y, warn=True)\n",
            "/usr/local/lib/python3.7/dist-packages/sklearn/utils/validation.py:760: DataConversionWarning: A column-vector y was passed when a 1d array was expected. Please change the shape of y to (n_samples, ), for example using ravel().\n",
            "  y = column_or_1d(y, warn=True)\n",
            "/usr/local/lib/python3.7/dist-packages/sklearn/neural_network/_multilayer_perceptron.py:934: DataConversionWarning: A column-vector y was passed when a 1d array was expected. Please change the shape of y to (n_samples, ), for example using ravel().\n",
            "  y = column_or_1d(y, warn=True)\n"
          ],
          "name": "stderr"
        },
        {
          "output_type": "stream",
          "text": [
            "Classifier = MLP, Score (test, accuracy) = 60.00, Training time = 0.38 seconds\n",
            "--------------------------------------------------------------------------------\n",
            "Best --> Classifier = QDA, Score (test, accuracy) = 60.00\n"
          ],
          "name": "stdout"
        },
        {
          "output_type": "stream",
          "text": [
            "/usr/local/lib/python3.7/dist-packages/sklearn/neural_network/_multilayer_perceptron.py:571: ConvergenceWarning: Stochastic Optimizer: Maximum iterations (200) reached and the optimization hasn't converged yet.\n",
            "  % self.max_iter, ConvergenceWarning)\n"
          ],
          "name": "stderr"
        }
      ]
    },
    {
      "cell_type": "code",
      "metadata": {
        "colab": {
          "base_uri": "https://localhost:8080/",
          "height": 408
        },
        "id": "TOyukxiufH5f",
        "outputId": "122b5b33-1cc8-4a16-9c47-4dd973372812"
      },
      "source": [
        "df_compare_muller"
      ],
      "execution_count": null,
      "outputs": [
        {
          "output_type": "execute_result",
          "data": {
            "text/html": [
              "<div>\n",
              "<style scoped>\n",
              "    .dataframe tbody tr th:only-of-type {\n",
              "        vertical-align: middle;\n",
              "    }\n",
              "\n",
              "    .dataframe tbody tr th {\n",
              "        vertical-align: top;\n",
              "    }\n",
              "\n",
              "    .dataframe thead th {\n",
              "        text-align: right;\n",
              "    }\n",
              "</style>\n",
              "<table border=\"1\" class=\"dataframe\">\n",
              "  <thead>\n",
              "    <tr style=\"text-align: right;\">\n",
              "      <th></th>\n",
              "      <th>Classifier</th>\n",
              "      <th>Accuracy/Score</th>\n",
              "      <th>Training Time</th>\n",
              "    </tr>\n",
              "  </thead>\n",
              "  <tbody>\n",
              "    <tr>\n",
              "      <th>0</th>\n",
              "      <td>MLP</td>\n",
              "      <td>60.000000</td>\n",
              "      <td>0.380464</td>\n",
              "    </tr>\n",
              "    <tr>\n",
              "      <th>1</th>\n",
              "      <td>XGBoost</td>\n",
              "      <td>56.666667</td>\n",
              "      <td>0.027129</td>\n",
              "    </tr>\n",
              "    <tr>\n",
              "      <th>2</th>\n",
              "      <td>QDA</td>\n",
              "      <td>60.000000</td>\n",
              "      <td>0.001814</td>\n",
              "    </tr>\n",
              "    <tr>\n",
              "      <th>3</th>\n",
              "      <td>Naive Bayes</td>\n",
              "      <td>53.333333</td>\n",
              "      <td>0.001845</td>\n",
              "    </tr>\n",
              "    <tr>\n",
              "      <th>4</th>\n",
              "      <td>AdaBoost</td>\n",
              "      <td>55.000000</td>\n",
              "      <td>0.115844</td>\n",
              "    </tr>\n",
              "    <tr>\n",
              "      <th>5</th>\n",
              "      <td>Neural Net</td>\n",
              "      <td>56.666667</td>\n",
              "      <td>0.297516</td>\n",
              "    </tr>\n",
              "    <tr>\n",
              "      <th>6</th>\n",
              "      <td>Random Forest</td>\n",
              "      <td>56.666667</td>\n",
              "      <td>0.026505</td>\n",
              "    </tr>\n",
              "    <tr>\n",
              "      <th>7</th>\n",
              "      <td>Decision Tree</td>\n",
              "      <td>50.000000</td>\n",
              "      <td>0.003979</td>\n",
              "    </tr>\n",
              "    <tr>\n",
              "      <th>8</th>\n",
              "      <td>Gaussian Process</td>\n",
              "      <td>46.666667</td>\n",
              "      <td>0.815293</td>\n",
              "    </tr>\n",
              "    <tr>\n",
              "      <th>9</th>\n",
              "      <td>RBF SVM</td>\n",
              "      <td>58.333333</td>\n",
              "      <td>0.004492</td>\n",
              "    </tr>\n",
              "    <tr>\n",
              "      <th>10</th>\n",
              "      <td>Linear SVM</td>\n",
              "      <td>55.000000</td>\n",
              "      <td>0.002929</td>\n",
              "    </tr>\n",
              "    <tr>\n",
              "      <th>11</th>\n",
              "      <td>Nearest Neighbors</td>\n",
              "      <td>48.333333</td>\n",
              "      <td>0.006245</td>\n",
              "    </tr>\n",
              "  </tbody>\n",
              "</table>\n",
              "</div>"
            ],
            "text/plain": [
              "           Classifier  Accuracy/Score  Training Time\n",
              "0                 MLP       60.000000       0.380464\n",
              "1             XGBoost       56.666667       0.027129\n",
              "2                 QDA       60.000000       0.001814\n",
              "3         Naive Bayes       53.333333       0.001845\n",
              "4            AdaBoost       55.000000       0.115844\n",
              "5          Neural Net       56.666667       0.297516\n",
              "6       Random Forest       56.666667       0.026505\n",
              "7       Decision Tree       50.000000       0.003979\n",
              "8    Gaussian Process       46.666667       0.815293\n",
              "9             RBF SVM       58.333333       0.004492\n",
              "10         Linear SVM       55.000000       0.002929\n",
              "11  Nearest Neighbors       48.333333       0.006245"
            ]
          },
          "metadata": {
            "tags": []
          },
          "execution_count": 84
        }
      ]
    },
    {
      "cell_type": "markdown",
      "metadata": {
        "id": "U4C5ZspNyFDE"
      },
      "source": [
        "From the above comparison table, we see that MLP is the best classifier on our usecase with accuracy score of 60%."
      ]
    },
    {
      "cell_type": "markdown",
      "metadata": {
        "id": "850KVMZi_IvJ"
      },
      "source": [
        "# **AutoML**\n",
        "Using Autogluon - a deep learning AutoML\n",
        "Autogluon is a new open source AutoML library that automates deep learning (DL) and machine learning (ML) for real world applications involving image, text and tabular datasets"
      ]
    },
    {
      "cell_type": "code",
      "metadata": {
        "id": "uaIqh7EmAiL9"
      },
      "source": [
        "##Importing required library and specifying task of interest\n",
        "from autogluon.tabular import TabularPrediction as task"
      ],
      "execution_count": null,
      "outputs": []
    },
    {
      "cell_type": "code",
      "metadata": {
        "id": "VkGfk3pEf72U"
      },
      "source": [
        "##Commenting since we are using the existing dataset so as to compare with previous results\n",
        "# train_path = 'https://docs.google.com/spreadsheets/d/e/2PACX-1vT71NkW1z725FdPzaZ2wWumglSyeOh1PUUcHZ9t1s2zaUrc5gm7pRXmss9AXC-o7sirXrAK4Bd6kH6l/pub?gid=656397096&single=true&output=csv'\n",
        "# train_data = task.Dataset(file_path=train_path)"
      ],
      "execution_count": null,
      "outputs": []
    },
    {
      "cell_type": "code",
      "metadata": {
        "colab": {
          "base_uri": "https://localhost:8080/",
          "height": 279
        },
        "id": "AdYQCbmNCFGQ",
        "outputId": "7b93eec3-e6b3-466a-f152-73e0051ac251"
      },
      "source": [
        "sampled.head(3)"
      ],
      "execution_count": null,
      "outputs": [
        {
          "output_type": "execute_result",
          "data": {
            "text/html": [
              "<div>\n",
              "<style scoped>\n",
              "    .dataframe tbody tr th:only-of-type {\n",
              "        vertical-align: middle;\n",
              "    }\n",
              "\n",
              "    .dataframe tbody tr th {\n",
              "        vertical-align: top;\n",
              "    }\n",
              "\n",
              "    .dataframe thead th {\n",
              "        text-align: right;\n",
              "    }\n",
              "</style>\n",
              "<table border=\"1\" class=\"dataframe\">\n",
              "  <thead>\n",
              "    <tr style=\"text-align: right;\">\n",
              "      <th></th>\n",
              "      <th>event_time</th>\n",
              "      <th>event_type</th>\n",
              "      <th>product_id</th>\n",
              "      <th>category_id</th>\n",
              "      <th>category_code</th>\n",
              "      <th>brand</th>\n",
              "      <th>price</th>\n",
              "      <th>user_id</th>\n",
              "      <th>user_session</th>\n",
              "      <th>transaction_time</th>\n",
              "      <th>transaction_date</th>\n",
              "    </tr>\n",
              "  </thead>\n",
              "  <tbody>\n",
              "    <tr>\n",
              "      <th>24097</th>\n",
              "      <td>2019-10-01 03:00:00</td>\n",
              "      <td>1</td>\n",
              "      <td>1004211</td>\n",
              "      <td>2053013555631882655</td>\n",
              "      <td>electronics.smartphone</td>\n",
              "      <td>samsung</td>\n",
              "      <td>97.79</td>\n",
              "      <td>550679725</td>\n",
              "      <td>bf8afaeb-5a57-47f0-b769-4082a4f84562</td>\n",
              "      <td>03:00:00</td>\n",
              "      <td>2019-10-01</td>\n",
              "    </tr>\n",
              "    <tr>\n",
              "      <th>21335</th>\n",
              "      <td>2019-10-01 02:56:04</td>\n",
              "      <td>1</td>\n",
              "      <td>1005104</td>\n",
              "      <td>2053013555631882655</td>\n",
              "      <td>electronics.smartphone</td>\n",
              "      <td>apple</td>\n",
              "      <td>975.57</td>\n",
              "      <td>555160488</td>\n",
              "      <td>786b7395-2ff2-4303-8f14-4ce89550b304</td>\n",
              "      <td>02:56:04</td>\n",
              "      <td>2019-10-01</td>\n",
              "    </tr>\n",
              "    <tr>\n",
              "      <th>4051</th>\n",
              "      <td>2019-10-01 02:26:11</td>\n",
              "      <td>1</td>\n",
              "      <td>6800659</td>\n",
              "      <td>2053013554222596431</td>\n",
              "      <td>computers.components.hdd</td>\n",
              "      <td>kingston</td>\n",
              "      <td>66.67</td>\n",
              "      <td>523117953</td>\n",
              "      <td>629a0485-36c9-4a80-9f02-4a96382c3059</td>\n",
              "      <td>02:26:11</td>\n",
              "      <td>2019-10-01</td>\n",
              "    </tr>\n",
              "  </tbody>\n",
              "</table>\n",
              "</div>"
            ],
            "text/plain": [
              "               event_time  event_type  ...  transaction_time  transaction_date\n",
              "24097 2019-10-01 03:00:00           1  ...          03:00:00        2019-10-01\n",
              "21335 2019-10-01 02:56:04           1  ...          02:56:04        2019-10-01\n",
              "4051  2019-10-01 02:26:11           1  ...          02:26:11        2019-10-01\n",
              "\n",
              "[3 rows x 11 columns]"
            ]
          },
          "metadata": {
            "tags": []
          },
          "execution_count": 73
        }
      ]
    },
    {
      "cell_type": "code",
      "metadata": {
        "id": "jYS2kNBvBtDW"
      },
      "source": [
        "##Assigning to a different dataframe for ease of usage\n",
        "train_data = sampled"
      ],
      "execution_count": null,
      "outputs": []
    },
    {
      "cell_type": "code",
      "metadata": {
        "id": "OXRoJSPtDodE"
      },
      "source": [
        "##Splitting the dataset into train and test to feed into AutoML\n",
        "train_data_1, test_data_1 = train_test_split(train_data, test_size = 0.2)"
      ],
      "execution_count": null,
      "outputs": []
    },
    {
      "cell_type": "code",
      "metadata": {
        "colab": {
          "base_uri": "https://localhost:8080/"
        },
        "id": "UbZ0mtFzApaV",
        "outputId": "0515378a-c83f-456b-9566-5a6873c3660a"
      },
      "source": [
        "##Training the model on the above trained data by calling the fit() method\n",
        "predictor = task.fit(train_data=train_data_1, label='event_type', output_directory='ag-example-out/')"
      ],
      "execution_count": null,
      "outputs": [
        {
          "output_type": "stream",
          "text": [
            "Beginning AutoGluon training ...\n",
            "AutoGluon will save models to ag-example-out/\n",
            "AutoGluon Version:  0.0.16b20201214\n",
            "Train Data Rows:    240\n",
            "Train Data Columns: 10\n",
            "Preprocessing data ...\n",
            "AutoGluon infers your prediction problem is: 'binary' (because only two unique label-values observed).\n",
            "\t2 unique label values:  [1, 0]\n",
            "\tIf 'binary' is not the correct problem_type, please manually specify the problem_type argument in fit() (You may specify problem_type as one of: ['binary', 'multiclass', 'regression'])\n",
            "Selected class <--> label mapping:  class 1 = 1, class 0 = 0\n",
            "Using Feature Generators to preprocess the data ...\n",
            "Fitting AutoMLPipelineFeatureGenerator...\n",
            "\tAvailable Memory:                    12420.75 MB\n",
            "\tTrain Data (Original)  Memory Usage: 0.08 MB (0.0% of available memory)\n",
            "\tInferring data type of each feature based on column values. Set feature_metadata_in to manually specify special dtypes of the features.\n",
            "\tStage 1 Generators:\n",
            "\t\tFitting AsTypeFeatureGenerator...\n",
            "\tStage 2 Generators:\n",
            "\t\tFitting FillNaFeatureGenerator...\n",
            "\tStage 3 Generators:\n",
            "\t\tFitting IdentityFeatureGenerator...\n",
            "\t\tFitting CategoryFeatureGenerator...\n",
            "\t\t\tFitting CategoryMemoryMinimizeFeatureGenerator...\n",
            "\t\tFitting DatetimeFeatureGenerator...\n",
            "\tStage 4 Generators:\n",
            "\t\tFitting DropUniqueFeatureGenerator...\n",
            "\tUseless Original Features (Count: 1): ['transaction_date']\n",
            "\t\tThese features carry no predictive signal and should be manually investigated.\n",
            "\t\tThis is typically a feature which has the same value for all rows.\n",
            "\t\tThese features do not need to be present at inference time.\n",
            "\tTypes of features in original data (raw dtype, special dtypes):\n",
            "\t\t('datetime', []) : 1 | ['event_time']\n",
            "\t\t('float', [])    : 1 | ['price']\n",
            "\t\t('int', [])      : 3 | ['product_id', 'category_id', 'user_id']\n",
            "\t\t('object', [])   : 4 | ['category_code', 'brand', 'user_session', 'transaction_time']\n",
            "\tTypes of features in processed data (raw dtype, special dtypes):\n",
            "\t\t('category', [])             : 4 | ['category_code', 'brand', 'user_session', 'transaction_time']\n",
            "\t\t('float', [])                : 1 | ['price']\n",
            "\t\t('int', [])                  : 3 | ['product_id', 'category_id', 'user_id']\n",
            "\t\t('int', ['datetime_as_int']) : 1 | ['event_time']\n",
            "\t0.1s = Fit runtime\n",
            "\t9 features in original data used to generate 9 features in processed data.\n",
            "\tTrain Data (Processed) Memory Usage: 0.02 MB (0.0% of available memory)\n",
            "Data preprocessing and feature engineering runtime = 0.19s ...\n",
            "AutoGluon will gauge predictive performance using evaluation metric: 'accuracy'\n",
            "\tTo change this, specify the eval_metric argument of fit()\n",
            "AutoGluon will early stop models using evaluation metric: 'accuracy'\n",
            "Fitting model: RandomForestGini ...\n",
            "\t0.6042\t = Validation accuracy score\n",
            "\t0.75s\t = Training runtime\n",
            "\t0.11s\t = Validation runtime\n",
            "Fitting model: RandomForestEntr ...\n",
            "\t0.5833\t = Validation accuracy score\n",
            "\t0.73s\t = Training runtime\n",
            "\t0.11s\t = Validation runtime\n",
            "Fitting model: ExtraTreesGini ...\n",
            "\t0.5417\t = Validation accuracy score\n",
            "\t0.53s\t = Training runtime\n",
            "\t0.11s\t = Validation runtime\n",
            "Fitting model: ExtraTreesEntr ...\n",
            "\t0.5417\t = Validation accuracy score\n",
            "\t0.52s\t = Training runtime\n",
            "\t0.11s\t = Validation runtime\n",
            "Fitting model: KNeighborsUnif ...\n",
            "\t0.5625\t = Validation accuracy score\n",
            "\t0.0s\t = Training runtime\n",
            "\t0.11s\t = Validation runtime\n",
            "Fitting model: KNeighborsDist ...\n",
            "\t0.4375\t = Validation accuracy score\n",
            "\t0.0s\t = Training runtime\n",
            "\t0.11s\t = Validation runtime\n",
            "Fitting model: LightGBM ...\n",
            "\t0.6458\t = Validation accuracy score\n",
            "\t0.24s\t = Training runtime\n",
            "\t0.01s\t = Validation runtime\n",
            "Fitting model: LightGBMXT ...\n",
            "\t0.6667\t = Validation accuracy score\n",
            "\t0.24s\t = Training runtime\n",
            "\t0.01s\t = Validation runtime\n",
            "Fitting model: CatBoost ...\n",
            "\t0.625\t = Validation accuracy score\n",
            "\t0.63s\t = Training runtime\n",
            "\t0.01s\t = Validation runtime\n",
            "Fitting model: XGBoost ...\n",
            "\t0.5833\t = Validation accuracy score\n",
            "\t0.64s\t = Training runtime\n",
            "\t0.01s\t = Validation runtime\n",
            "Fitting model: NeuralNetMXNet ...\n",
            "\t0.625\t = Validation accuracy score\n",
            "\t1.24s\t = Training runtime\n",
            "\t0.02s\t = Validation runtime\n",
            "Fitting model: LightGBMCustom ...\n",
            "\t0.5625\t = Validation accuracy score\n",
            "\t0.27s\t = Training runtime\n",
            "\t0.01s\t = Validation runtime\n",
            "Fitting model: WeightedEnsemble_L1 ...\n",
            "\t0.6875\t = Validation accuracy score\n",
            "\t0.31s\t = Training runtime\n",
            "\t0.01s\t = Validation runtime\n",
            "AutoGluon training complete, total runtime = 8.36s ...\n"
          ],
          "name": "stderr"
        }
      ]
    },
    {
      "cell_type": "code",
      "metadata": {
        "id": "9wCYRi7OCaXF"
      },
      "source": [
        "##Testing the trained model on test data using predict() method\n",
        "predictor = task.load('ag-example-out/')\n",
        "test_data_nolabel = test_data_1.drop(labels=['event_type'],axis=1)\n",
        "y_pred = predictor.predict(test_data_nolabel)\n",
        "y_pred_proba = predictor.predict_proba(test_data_nolabel)"
      ],
      "execution_count": null,
      "outputs": []
    },
    {
      "cell_type": "code",
      "metadata": {
        "colab": {
          "base_uri": "https://localhost:8080/"
        },
        "id": "wgIwv_YjEjvU",
        "outputId": "7a85ccc0-f83d-48aa-902d-0f71a994264c"
      },
      "source": [
        "##Checking the results\n",
        "leaderboard = predictor.leaderboard(test_data_1)"
      ],
      "execution_count": null,
      "outputs": [
        {
          "output_type": "stream",
          "text": [
            "                  model  score_test  score_val  pred_time_test  pred_time_val  fit_time  pred_time_test_marginal  pred_time_val_marginal  fit_time_marginal  stack_level  can_infer  fit_order\n",
            "0               XGBoost    0.666667   0.583333        0.013297       0.008875  0.644581                 0.013297                0.008875           0.644581            0       True         10\n",
            "1              CatBoost    0.650000   0.625000        0.006740       0.006824  0.626528                 0.006740                0.006824           0.626528            0       True          9\n",
            "2              LightGBM    0.650000   0.645833        0.014795       0.011188  0.243444                 0.014795                0.011188           0.243444            0       True          7\n",
            "3        KNeighborsUnif    0.650000   0.562500        0.103938       0.105271  0.004800                 0.103938                0.105271           0.004800            0       True          5\n",
            "4            LightGBMXT    0.600000   0.666667        0.012938       0.011992  0.239902                 0.012938                0.011992           0.239902            0       True          8\n",
            "5        LightGBMCustom    0.600000   0.562500        0.013051       0.012966  0.267841                 0.013051                0.012966           0.267841            0       True         12\n",
            "6   WeightedEnsemble_L1    0.583333   0.687500        0.137637       0.127047  1.074807                 0.004012                0.006124           0.314237            1       True         13\n",
            "7        ExtraTreesEntr    0.533333   0.541667        0.120687       0.108930  0.520668                 0.120687                0.108930           0.520668            0       True          4\n",
            "8      RandomForestEntr    0.516667   0.583333        0.117131       0.108754  0.730369                 0.117131                0.108754           0.730369            0       True          2\n",
            "9        ExtraTreesGini    0.516667   0.541667        0.123394       0.109341  0.525891                 0.123394                0.109341           0.525891            0       True          3\n",
            "10       KNeighborsDist    0.483333   0.437500        0.105399       0.113304  0.004779                 0.105399                0.113304           0.004779            0       True          6\n",
            "11     RandomForestGini    0.483333   0.604167        0.117404       0.109111  0.750913                 0.117404                0.109111           0.750913            0       True          1\n",
            "12       NeuralNetMXNet    0.466667   0.625000        0.039841       0.019615  1.242016                 0.039841                0.019615           1.242016            0       True         11\n"
          ],
          "name": "stdout"
        }
      ]
    },
    {
      "cell_type": "markdown",
      "metadata": {
        "id": "XSG16vwhyP6L"
      },
      "source": [
        "From the leaderboard, we see NeuralNetMXNet is the best classifier on our usecase with accuracy score of 65%. </br>\n",
        "**From the above comparisons, below are the consolidated results:**\n",
        "\n",
        "\n",
        "1.   HPO on MLP classifier by varying the hyperparameters: alpha = 2, max_iter = 1000, early_stopping = False\n",
        "\n",
        "2.   Running a muller loop on the same usecase gives: Random Forest is the best classifier on our usecase with accuracy score of 58%\n",
        "\n",
        "3.   Using AutoML - Autogluon: we see XGBoost is the best classifier on our usecase with accuracy score of 66%\n",
        "\n"
      ]
    },
    {
      "cell_type": "markdown",
      "metadata": {
        "id": "o55FVLSvM25v"
      },
      "source": [
        "# **AMALGAMATION**\n",
        "Using Mall customer dataset:\n",
        "https://www.kaggle.com/shwetabh123/mall-customers </br>\n",
        "Amalgamating based on spending score column.</br>\n",
        "Step 1: To calculate spending score in original dataset </br>\n",
        "Step 2: Merge with mall_customer dataset on spending score"
      ]
    },
    {
      "cell_type": "code",
      "metadata": {
        "id": "UZShKQwRN5RD"
      },
      "source": [
        "##Importing the mall customer dataset\n",
        "r = requests.get('https://docs.google.com/spreadsheets/d/e/2PACX-1vT0HMaqAgd7d_EyMRByWkVp8JM7jmp_969OPyfDMsk4pHpdWjPeQQePP0Rrfm4bwWxQVh7lJPPZHJvi/pub?gid=0&single=true&output=csv')\n",
        "data = r.content\n",
        "df_Mall = pd.read_csv(BytesIO(data))"
      ],
      "execution_count": null,
      "outputs": []
    },
    {
      "cell_type": "code",
      "metadata": {
        "colab": {
          "base_uri": "https://localhost:8080/",
          "height": 198
        },
        "id": "d6jPEDkXmTAs",
        "outputId": "8e7909b6-d660-431d-eafc-42c17ff4c60b"
      },
      "source": [
        "df_Mall.head()"
      ],
      "execution_count": null,
      "outputs": [
        {
          "output_type": "execute_result",
          "data": {
            "text/html": [
              "<div>\n",
              "<style scoped>\n",
              "    .dataframe tbody tr th:only-of-type {\n",
              "        vertical-align: middle;\n",
              "    }\n",
              "\n",
              "    .dataframe tbody tr th {\n",
              "        vertical-align: top;\n",
              "    }\n",
              "\n",
              "    .dataframe thead th {\n",
              "        text-align: right;\n",
              "    }\n",
              "</style>\n",
              "<table border=\"1\" class=\"dataframe\">\n",
              "  <thead>\n",
              "    <tr style=\"text-align: right;\">\n",
              "      <th></th>\n",
              "      <th>CustomerID</th>\n",
              "      <th>Genre</th>\n",
              "      <th>Age</th>\n",
              "      <th>Annual Income (k$)</th>\n",
              "      <th>Spending Score (1-100)</th>\n",
              "    </tr>\n",
              "  </thead>\n",
              "  <tbody>\n",
              "    <tr>\n",
              "      <th>0</th>\n",
              "      <td>1</td>\n",
              "      <td>Male</td>\n",
              "      <td>19</td>\n",
              "      <td>15</td>\n",
              "      <td>39</td>\n",
              "    </tr>\n",
              "    <tr>\n",
              "      <th>1</th>\n",
              "      <td>2</td>\n",
              "      <td>Male</td>\n",
              "      <td>21</td>\n",
              "      <td>15</td>\n",
              "      <td>81</td>\n",
              "    </tr>\n",
              "    <tr>\n",
              "      <th>2</th>\n",
              "      <td>3</td>\n",
              "      <td>Female</td>\n",
              "      <td>20</td>\n",
              "      <td>16</td>\n",
              "      <td>6</td>\n",
              "    </tr>\n",
              "    <tr>\n",
              "      <th>3</th>\n",
              "      <td>4</td>\n",
              "      <td>Female</td>\n",
              "      <td>23</td>\n",
              "      <td>16</td>\n",
              "      <td>77</td>\n",
              "    </tr>\n",
              "    <tr>\n",
              "      <th>4</th>\n",
              "      <td>5</td>\n",
              "      <td>Female</td>\n",
              "      <td>31</td>\n",
              "      <td>17</td>\n",
              "      <td>40</td>\n",
              "    </tr>\n",
              "  </tbody>\n",
              "</table>\n",
              "</div>"
            ],
            "text/plain": [
              "   CustomerID   Genre  Age  Annual Income (k$)  Spending Score (1-100)\n",
              "0           1    Male   19                  15                      39\n",
              "1           2    Male   21                  15                      81\n",
              "2           3  Female   20                  16                       6\n",
              "3           4  Female   23                  16                      77\n",
              "4           5  Female   31                  17                      40"
            ]
          },
          "metadata": {
            "tags": []
          },
          "execution_count": 86
        }
      ]
    },
    {
      "cell_type": "code",
      "metadata": {
        "id": "sI9aEtd1NSh5"
      },
      "source": [
        "## We are calculating the total amount spent by each customer on electronice data.\n",
        "df1 = df_Oct.groupby(['user_id']).agg({'price': 'sum'}).reset_index()"
      ],
      "execution_count": null,
      "outputs": []
    },
    {
      "cell_type": "code",
      "metadata": {
        "colab": {
          "base_uri": "https://localhost:8080/",
          "height": 138
        },
        "id": "nJ3_20deNfgX",
        "outputId": "cf720999-3111-486a-8b68-0ca5b9249505"
      },
      "source": [
        "df1.columns = ['user_id','total_spending']\n",
        "df1.head(3)"
      ],
      "execution_count": null,
      "outputs": [
        {
          "output_type": "execute_result",
          "data": {
            "text/html": [
              "<div>\n",
              "<style scoped>\n",
              "    .dataframe tbody tr th:only-of-type {\n",
              "        vertical-align: middle;\n",
              "    }\n",
              "\n",
              "    .dataframe tbody tr th {\n",
              "        vertical-align: top;\n",
              "    }\n",
              "\n",
              "    .dataframe thead th {\n",
              "        text-align: right;\n",
              "    }\n",
              "</style>\n",
              "<table border=\"1\" class=\"dataframe\">\n",
              "  <thead>\n",
              "    <tr style=\"text-align: right;\">\n",
              "      <th></th>\n",
              "      <th>user_id</th>\n",
              "      <th>total_spending</th>\n",
              "    </tr>\n",
              "  </thead>\n",
              "  <tbody>\n",
              "    <tr>\n",
              "      <th>0</th>\n",
              "      <td>306441847</td>\n",
              "      <td>329.42</td>\n",
              "    </tr>\n",
              "    <tr>\n",
              "      <th>1</th>\n",
              "      <td>362699320</td>\n",
              "      <td>889.29</td>\n",
              "    </tr>\n",
              "    <tr>\n",
              "      <th>2</th>\n",
              "      <td>372944259</td>\n",
              "      <td>686.76</td>\n",
              "    </tr>\n",
              "  </tbody>\n",
              "</table>\n",
              "</div>"
            ],
            "text/plain": [
              "     user_id  total_spending\n",
              "0  306441847          329.42\n",
              "1  362699320          889.29\n",
              "2  372944259          686.76"
            ]
          },
          "metadata": {
            "tags": []
          },
          "execution_count": 88
        }
      ]
    },
    {
      "cell_type": "code",
      "metadata": {
        "id": "Mf_vTCRsNt_a"
      },
      "source": [
        "#Join the df_Oct df with the df1 df \n",
        "df_Oct = df_Oct.merge(df1,on='user_id')"
      ],
      "execution_count": null,
      "outputs": []
    },
    {
      "cell_type": "code",
      "metadata": {
        "id": "bg4hJzDyNw6o"
      },
      "source": [
        "##Calculating spending score to merge with mall customer dataset: Scaling down column 'total_spending'\n",
        "df_Oct['Spending_Score'] = pd.qcut(df_Oct['total_spending'], q=100, labels=False)"
      ],
      "execution_count": null,
      "outputs": []
    },
    {
      "cell_type": "code",
      "metadata": {
        "colab": {
          "base_uri": "https://localhost:8080/",
          "height": 262
        },
        "id": "Se4b_9qpOpov",
        "outputId": "6550269e-99e5-4707-a43d-cbec13e339c8"
      },
      "source": [
        "df_Oct.head(3)"
      ],
      "execution_count": null,
      "outputs": [
        {
          "output_type": "execute_result",
          "data": {
            "text/html": [
              "<div>\n",
              "<style scoped>\n",
              "    .dataframe tbody tr th:only-of-type {\n",
              "        vertical-align: middle;\n",
              "    }\n",
              "\n",
              "    .dataframe tbody tr th {\n",
              "        vertical-align: top;\n",
              "    }\n",
              "\n",
              "    .dataframe thead th {\n",
              "        text-align: right;\n",
              "    }\n",
              "</style>\n",
              "<table border=\"1\" class=\"dataframe\">\n",
              "  <thead>\n",
              "    <tr style=\"text-align: right;\">\n",
              "      <th></th>\n",
              "      <th>event_time</th>\n",
              "      <th>event_type</th>\n",
              "      <th>product_id</th>\n",
              "      <th>category_id</th>\n",
              "      <th>category_code</th>\n",
              "      <th>brand</th>\n",
              "      <th>price</th>\n",
              "      <th>user_id</th>\n",
              "      <th>user_session</th>\n",
              "      <th>transaction_time</th>\n",
              "      <th>transaction_date</th>\n",
              "      <th>total_spending</th>\n",
              "      <th>Spending_Score</th>\n",
              "    </tr>\n",
              "  </thead>\n",
              "  <tbody>\n",
              "    <tr>\n",
              "      <th>0</th>\n",
              "      <td>2019-10-01 00:00:00</td>\n",
              "      <td>0</td>\n",
              "      <td>44600062</td>\n",
              "      <td>2103807459595387724</td>\n",
              "      <td>Not Available</td>\n",
              "      <td>shiseido</td>\n",
              "      <td>35.79</td>\n",
              "      <td>541312140</td>\n",
              "      <td>72d76fde-8bb3-4e00-8c23-a032dfed738c</td>\n",
              "      <td>00:00:00</td>\n",
              "      <td>2019-10-01</td>\n",
              "      <td>71.58</td>\n",
              "      <td>3</td>\n",
              "    </tr>\n",
              "    <tr>\n",
              "      <th>1</th>\n",
              "      <td>2019-10-01 00:00:15</td>\n",
              "      <td>0</td>\n",
              "      <td>44600062</td>\n",
              "      <td>2103807459595387724</td>\n",
              "      <td>Not Available</td>\n",
              "      <td>shiseido</td>\n",
              "      <td>35.79</td>\n",
              "      <td>541312140</td>\n",
              "      <td>72d76fde-8bb3-4e00-8c23-a032dfed738c</td>\n",
              "      <td>00:00:15</td>\n",
              "      <td>2019-10-01</td>\n",
              "      <td>71.58</td>\n",
              "      <td>3</td>\n",
              "    </tr>\n",
              "    <tr>\n",
              "      <th>2</th>\n",
              "      <td>2019-10-01 00:00:00</td>\n",
              "      <td>0</td>\n",
              "      <td>3900821</td>\n",
              "      <td>2053013552326770905</td>\n",
              "      <td>appliances.environment.water_heater</td>\n",
              "      <td>aqua</td>\n",
              "      <td>33.20</td>\n",
              "      <td>554748717</td>\n",
              "      <td>9333dfbd-b87a-4708-9857-6336556b0fcc</td>\n",
              "      <td>00:00:00</td>\n",
              "      <td>2019-10-01</td>\n",
              "      <td>277.56</td>\n",
              "      <td>14</td>\n",
              "    </tr>\n",
              "  </tbody>\n",
              "</table>\n",
              "</div>"
            ],
            "text/plain": [
              "           event_time  event_type  ...  total_spending  Spending_Score\n",
              "0 2019-10-01 00:00:00           0  ...           71.58               3\n",
              "1 2019-10-01 00:00:15           0  ...           71.58               3\n",
              "2 2019-10-01 00:00:00           0  ...          277.56              14\n",
              "\n",
              "[3 rows x 13 columns]"
            ]
          },
          "metadata": {
            "tags": []
          },
          "execution_count": 91
        }
      ]
    },
    {
      "cell_type": "code",
      "metadata": {
        "id": "57J-TyqONzKs"
      },
      "source": [
        "df_Mall = df_Mall.drop(columns=['CustomerID','Annual Income (k$)'])"
      ],
      "execution_count": null,
      "outputs": []
    },
    {
      "cell_type": "code",
      "metadata": {
        "colab": {
          "base_uri": "https://localhost:8080/",
          "height": 138
        },
        "id": "lUd0b59NOBcE",
        "outputId": "f4610163-260c-46ab-84cd-2965f13fb86a"
      },
      "source": [
        "df_Mall.columns = ['Gender','Age','Spending_Score']\n",
        "df_Mall.head(3)"
      ],
      "execution_count": null,
      "outputs": [
        {
          "output_type": "execute_result",
          "data": {
            "text/html": [
              "<div>\n",
              "<style scoped>\n",
              "    .dataframe tbody tr th:only-of-type {\n",
              "        vertical-align: middle;\n",
              "    }\n",
              "\n",
              "    .dataframe tbody tr th {\n",
              "        vertical-align: top;\n",
              "    }\n",
              "\n",
              "    .dataframe thead th {\n",
              "        text-align: right;\n",
              "    }\n",
              "</style>\n",
              "<table border=\"1\" class=\"dataframe\">\n",
              "  <thead>\n",
              "    <tr style=\"text-align: right;\">\n",
              "      <th></th>\n",
              "      <th>Gender</th>\n",
              "      <th>Age</th>\n",
              "      <th>Spending_Score</th>\n",
              "    </tr>\n",
              "  </thead>\n",
              "  <tbody>\n",
              "    <tr>\n",
              "      <th>0</th>\n",
              "      <td>Male</td>\n",
              "      <td>19</td>\n",
              "      <td>39</td>\n",
              "    </tr>\n",
              "    <tr>\n",
              "      <th>1</th>\n",
              "      <td>Male</td>\n",
              "      <td>21</td>\n",
              "      <td>81</td>\n",
              "    </tr>\n",
              "    <tr>\n",
              "      <th>2</th>\n",
              "      <td>Female</td>\n",
              "      <td>20</td>\n",
              "      <td>6</td>\n",
              "    </tr>\n",
              "  </tbody>\n",
              "</table>\n",
              "</div>"
            ],
            "text/plain": [
              "   Gender  Age  Spending_Score\n",
              "0    Male   19              39\n",
              "1    Male   21              81\n",
              "2  Female   20               6"
            ]
          },
          "metadata": {
            "tags": []
          },
          "execution_count": 93
        }
      ]
    },
    {
      "cell_type": "code",
      "metadata": {
        "colab": {
          "base_uri": "https://localhost:8080/",
          "height": 262
        },
        "id": "8Qv_R2XxOPIN",
        "outputId": "f86bffb1-fc40-4280-c088-fcee46d4c68b"
      },
      "source": [
        "amalgamated_df = df_Oct.merge(df_Mall,on='Spending_Score')\n",
        "amalgamated_df.head(3)"
      ],
      "execution_count": null,
      "outputs": [
        {
          "output_type": "execute_result",
          "data": {
            "text/html": [
              "<div>\n",
              "<style scoped>\n",
              "    .dataframe tbody tr th:only-of-type {\n",
              "        vertical-align: middle;\n",
              "    }\n",
              "\n",
              "    .dataframe tbody tr th {\n",
              "        vertical-align: top;\n",
              "    }\n",
              "\n",
              "    .dataframe thead th {\n",
              "        text-align: right;\n",
              "    }\n",
              "</style>\n",
              "<table border=\"1\" class=\"dataframe\">\n",
              "  <thead>\n",
              "    <tr style=\"text-align: right;\">\n",
              "      <th></th>\n",
              "      <th>event_time</th>\n",
              "      <th>event_type</th>\n",
              "      <th>product_id</th>\n",
              "      <th>category_id</th>\n",
              "      <th>category_code</th>\n",
              "      <th>brand</th>\n",
              "      <th>price</th>\n",
              "      <th>user_id</th>\n",
              "      <th>user_session</th>\n",
              "      <th>transaction_time</th>\n",
              "      <th>transaction_date</th>\n",
              "      <th>total_spending</th>\n",
              "      <th>Spending_Score</th>\n",
              "      <th>Gender</th>\n",
              "      <th>Age</th>\n",
              "    </tr>\n",
              "  </thead>\n",
              "  <tbody>\n",
              "    <tr>\n",
              "      <th>0</th>\n",
              "      <td>2019-10-01 00:00:00</td>\n",
              "      <td>0</td>\n",
              "      <td>44600062</td>\n",
              "      <td>2103807459595387724</td>\n",
              "      <td>Not Available</td>\n",
              "      <td>shiseido</td>\n",
              "      <td>35.79</td>\n",
              "      <td>541312140</td>\n",
              "      <td>72d76fde-8bb3-4e00-8c23-a032dfed738c</td>\n",
              "      <td>00:00:00</td>\n",
              "      <td>2019-10-01</td>\n",
              "      <td>71.58</td>\n",
              "      <td>3</td>\n",
              "      <td>Male</td>\n",
              "      <td>64</td>\n",
              "    </tr>\n",
              "    <tr>\n",
              "      <th>1</th>\n",
              "      <td>2019-10-01 00:00:15</td>\n",
              "      <td>0</td>\n",
              "      <td>44600062</td>\n",
              "      <td>2103807459595387724</td>\n",
              "      <td>Not Available</td>\n",
              "      <td>shiseido</td>\n",
              "      <td>35.79</td>\n",
              "      <td>541312140</td>\n",
              "      <td>72d76fde-8bb3-4e00-8c23-a032dfed738c</td>\n",
              "      <td>00:00:15</td>\n",
              "      <td>2019-10-01</td>\n",
              "      <td>71.58</td>\n",
              "      <td>3</td>\n",
              "      <td>Male</td>\n",
              "      <td>64</td>\n",
              "    </tr>\n",
              "    <tr>\n",
              "      <th>2</th>\n",
              "      <td>2019-10-01 00:00:20</td>\n",
              "      <td>0</td>\n",
              "      <td>4803399</td>\n",
              "      <td>2053013554658804075</td>\n",
              "      <td>electronics.audio.headphone</td>\n",
              "      <td>jbl</td>\n",
              "      <td>33.21</td>\n",
              "      <td>555428858</td>\n",
              "      <td>8a6afed4-77f8-40c9-8e76-e062b28216ce</td>\n",
              "      <td>00:00:20</td>\n",
              "      <td>2019-10-01</td>\n",
              "      <td>66.42</td>\n",
              "      <td>3</td>\n",
              "      <td>Male</td>\n",
              "      <td>64</td>\n",
              "    </tr>\n",
              "  </tbody>\n",
              "</table>\n",
              "</div>"
            ],
            "text/plain": [
              "           event_time  event_type  product_id  ...  Spending_Score Gender Age\n",
              "0 2019-10-01 00:00:00           0    44600062  ...               3   Male  64\n",
              "1 2019-10-01 00:00:15           0    44600062  ...               3   Male  64\n",
              "2 2019-10-01 00:00:20           0     4803399  ...               3   Male  64\n",
              "\n",
              "[3 rows x 15 columns]"
            ]
          },
          "metadata": {
            "tags": []
          },
          "execution_count": 94
        }
      ]
    },
    {
      "cell_type": "markdown",
      "metadata": {
        "id": "5178bli2O56l"
      },
      "source": [
        "# **Preparation for running classification after amalgamation**"
      ]
    },
    {
      "cell_type": "code",
      "metadata": {
        "id": "HN2B442yPJII"
      },
      "source": [
        "##creating two dataframes with purchased users and non purchased users to balance the data\n",
        "amalgamated_purchased_set = amalgamated_df[amalgamated_df['event_type']==1]\n",
        "amalgamated_non_purchased_set = amalgamated_df[amalgamated_df['event_type']==0]"
      ],
      "execution_count": null,
      "outputs": []
    },
    {
      "cell_type": "code",
      "metadata": {
        "id": "NTOW2hr7PSDf"
      },
      "source": [
        "from sklearn.utils import resample\n",
        "##equally sampling 150 data points from each type\n",
        "n_samples = 150\n",
        "amalgamated_puchased_sampled = resample(amalgamated_purchased_set, replace=False, n_samples=n_samples, random_state=27)\n",
        "amalgamated_not_purchased_sampled = resample(amalgamated_non_purchased_set, replace=False, n_samples=n_samples, random_state=27)"
      ],
      "execution_count": null,
      "outputs": []
    },
    {
      "cell_type": "code",
      "metadata": {
        "colab": {
          "base_uri": "https://localhost:8080/"
        },
        "id": "Y428ija6PfdH",
        "outputId": "75833461-767e-4a1a-9c91-26ad88bbbd19"
      },
      "source": [
        "##creating a dataframe sampled by concatenating purchased and not purchased sampled dataframes\n",
        "amalgamated_sampled = pd.concat([amalgamated_puchased_sampled, amalgamated_not_purchased_sampled])\n",
        "amalgamated_sampled['event_type'].value_counts()"
      ],
      "execution_count": null,
      "outputs": [
        {
          "output_type": "execute_result",
          "data": {
            "text/plain": [
              "1    150\n",
              "0    150\n",
              "Name: event_type, dtype: int64"
            ]
          },
          "metadata": {
            "tags": []
          },
          "execution_count": 97
        }
      ]
    },
    {
      "cell_type": "markdown",
      "metadata": {
        "id": "CZ6UgDUMPpU_"
      },
      "source": [
        "# **HPO on amalgamated dataset**"
      ]
    },
    {
      "cell_type": "code",
      "metadata": {
        "colab": {
          "base_uri": "https://localhost:8080/",
          "height": 279
        },
        "id": "QUacichYP04g",
        "outputId": "1d7ac7eb-3b94-41ff-a71f-9401282cec12"
      },
      "source": [
        "amalgamated_sampled.head(3)"
      ],
      "execution_count": null,
      "outputs": [
        {
          "output_type": "execute_result",
          "data": {
            "text/html": [
              "<div>\n",
              "<style scoped>\n",
              "    .dataframe tbody tr th:only-of-type {\n",
              "        vertical-align: middle;\n",
              "    }\n",
              "\n",
              "    .dataframe tbody tr th {\n",
              "        vertical-align: top;\n",
              "    }\n",
              "\n",
              "    .dataframe thead th {\n",
              "        text-align: right;\n",
              "    }\n",
              "</style>\n",
              "<table border=\"1\" class=\"dataframe\">\n",
              "  <thead>\n",
              "    <tr style=\"text-align: right;\">\n",
              "      <th></th>\n",
              "      <th>event_time</th>\n",
              "      <th>event_type</th>\n",
              "      <th>product_id</th>\n",
              "      <th>category_id</th>\n",
              "      <th>category_code</th>\n",
              "      <th>brand</th>\n",
              "      <th>price</th>\n",
              "      <th>user_id</th>\n",
              "      <th>user_session</th>\n",
              "      <th>transaction_time</th>\n",
              "      <th>transaction_date</th>\n",
              "      <th>total_spending</th>\n",
              "      <th>Spending_Score</th>\n",
              "      <th>Gender</th>\n",
              "      <th>Age</th>\n",
              "    </tr>\n",
              "  </thead>\n",
              "  <tbody>\n",
              "    <tr>\n",
              "      <th>21573</th>\n",
              "      <td>2019-10-01 03:23:35</td>\n",
              "      <td>1</td>\n",
              "      <td>5100833</td>\n",
              "      <td>2053013553375346967</td>\n",
              "      <td>Not Available</td>\n",
              "      <td>xiaomi</td>\n",
              "      <td>48.56</td>\n",
              "      <td>531569958</td>\n",
              "      <td>beea2e85-f7e8-49c9-94f9-55c1ff95e897</td>\n",
              "      <td>03:23:35</td>\n",
              "      <td>2019-10-01</td>\n",
              "      <td>97.12</td>\n",
              "      <td>5</td>\n",
              "      <td>Female</td>\n",
              "      <td>57</td>\n",
              "    </tr>\n",
              "    <tr>\n",
              "      <th>75422</th>\n",
              "      <td>2019-10-01 03:04:05</td>\n",
              "      <td>1</td>\n",
              "      <td>1004767</td>\n",
              "      <td>2053013555631882655</td>\n",
              "      <td>electronics.smartphone</td>\n",
              "      <td>samsung</td>\n",
              "      <td>254.76</td>\n",
              "      <td>516124288</td>\n",
              "      <td>2d9b2866-171d-4c06-8163-36a4772d2cc6</td>\n",
              "      <td>03:04:05</td>\n",
              "      <td>2019-10-01</td>\n",
              "      <td>3950.99</td>\n",
              "      <td>75</td>\n",
              "      <td>Female</td>\n",
              "      <td>36</td>\n",
              "    </tr>\n",
              "    <tr>\n",
              "      <th>21913</th>\n",
              "      <td>2019-10-01 03:30:16</td>\n",
              "      <td>1</td>\n",
              "      <td>4804295</td>\n",
              "      <td>2053013554658804075</td>\n",
              "      <td>electronics.audio.headphone</td>\n",
              "      <td>xiaomi</td>\n",
              "      <td>22.39</td>\n",
              "      <td>541637343</td>\n",
              "      <td>c5655fec-e679-4637-a46d-4270734c2c07</td>\n",
              "      <td>03:30:16</td>\n",
              "      <td>2019-10-01</td>\n",
              "      <td>111.95</td>\n",
              "      <td>5</td>\n",
              "      <td>Female</td>\n",
              "      <td>57</td>\n",
              "    </tr>\n",
              "  </tbody>\n",
              "</table>\n",
              "</div>"
            ],
            "text/plain": [
              "               event_time  event_type  product_id  ...  Spending_Score  Gender Age\n",
              "21573 2019-10-01 03:23:35           1     5100833  ...               5  Female  57\n",
              "75422 2019-10-01 03:04:05           1     1004767  ...              75  Female  36\n",
              "21913 2019-10-01 03:30:16           1     4804295  ...               5  Female  57\n",
              "\n",
              "[3 rows x 15 columns]"
            ]
          },
          "metadata": {
            "tags": []
          },
          "execution_count": 98
        }
      ]
    },
    {
      "cell_type": "code",
      "metadata": {
        "id": "ma0sCnHGPs9x"
      },
      "source": [
        "##Preparing the data for classification and initializing a data frame to store results\n",
        "X = amalgamated_sampled[['user_id','product_id','price','Spending_Score','Age']]\n",
        "y = amalgamated_sampled[['event_type']]\n",
        "df_compare_2 = pd.DataFrame(columns=['alpha','max_iter', 'early_stopping','score'])"
      ],
      "execution_count": null,
      "outputs": []
    },
    {
      "cell_type": "code",
      "metadata": {
        "colab": {
          "base_uri": "https://localhost:8080/"
        },
        "id": "NgMXToHdQFB1",
        "outputId": "a21c1078-bf56-4e8a-b25e-c828c14466f0"
      },
      "source": [
        "##Checking with Early stopping set to False\n",
        "##Increasing alpha while keeping max_iter constant\n",
        "mlpClassifier(1, 1000, True, X, y, df_compare_2)\n",
        "mlpClassifier(2, 1000, True, X, y, df_compare_2)\n",
        "mlpClassifier(3, 1000, True, X, y, df_compare_2)\n",
        "mlpClassifier(4, 1000, True, X, y, df_compare_2)\n",
        "##Increasing max_iter while keeping alpha constant\n",
        "mlpClassifier(1, 2000, True, X, y, df_compare_2)\n",
        "mlpClassifier(1, 3000, True, X, y, df_compare_2)\n",
        "mlpClassifier(1, 500, True, X, y, df_compare_2)\n",
        "##Changing both alpha and max_iter\n",
        "mlpClassifier(2, 100, True, X, y, df_compare_2)\n",
        "\n",
        "# Repeat With Early stopping set to True\n",
        "##Increasing alpha while keeping max_iter constant\n",
        "mlpClassifier(1, 1000, False, X, y, df_compare_2)\n",
        "mlpClassifier(2, 1000, False, X, y, df_compare_2)\n",
        "mlpClassifier(3, 1000, False, X, y, df_compare_2)\n",
        "mlpClassifier(4, 1000, False, X, y, df_compare_2)\n",
        "##Increasing max_iter while keeping alpha constant\n",
        "mlpClassifier(1, 2000, False, X, y, df_compare_2)\n",
        "mlpClassifier(1, 3000, False, X, y, df_compare_2)\n",
        "mlpClassifier(1, 500, False, X, y, df_compare_2)\n",
        "##Changing both alpha and max_iter\n",
        "mlpClassifier(2, 100, False, X, y, df_compare_2)"
      ],
      "execution_count": null,
      "outputs": [
        {
          "output_type": "stream",
          "text": [
            "/usr/local/lib/python3.7/dist-packages/sklearn/neural_network/_multilayer_perceptron.py:934: DataConversionWarning: A column-vector y was passed when a 1d array was expected. Please change the shape of y to (n_samples, ), for example using ravel().\n",
            "  y = column_or_1d(y, warn=True)\n",
            "/usr/local/lib/python3.7/dist-packages/sklearn/neural_network/_multilayer_perceptron.py:934: DataConversionWarning: A column-vector y was passed when a 1d array was expected. Please change the shape of y to (n_samples, ), for example using ravel().\n",
            "  y = column_or_1d(y, warn=True)\n",
            "/usr/local/lib/python3.7/dist-packages/sklearn/neural_network/_multilayer_perceptron.py:934: DataConversionWarning: A column-vector y was passed when a 1d array was expected. Please change the shape of y to (n_samples, ), for example using ravel().\n",
            "  y = column_or_1d(y, warn=True)\n",
            "/usr/local/lib/python3.7/dist-packages/sklearn/neural_network/_multilayer_perceptron.py:934: DataConversionWarning: A column-vector y was passed when a 1d array was expected. Please change the shape of y to (n_samples, ), for example using ravel().\n",
            "  y = column_or_1d(y, warn=True)\n",
            "/usr/local/lib/python3.7/dist-packages/sklearn/neural_network/_multilayer_perceptron.py:934: DataConversionWarning: A column-vector y was passed when a 1d array was expected. Please change the shape of y to (n_samples, ), for example using ravel().\n",
            "  y = column_or_1d(y, warn=True)\n",
            "/usr/local/lib/python3.7/dist-packages/sklearn/neural_network/_multilayer_perceptron.py:934: DataConversionWarning: A column-vector y was passed when a 1d array was expected. Please change the shape of y to (n_samples, ), for example using ravel().\n",
            "  y = column_or_1d(y, warn=True)\n",
            "/usr/local/lib/python3.7/dist-packages/sklearn/neural_network/_multilayer_perceptron.py:934: DataConversionWarning: A column-vector y was passed when a 1d array was expected. Please change the shape of y to (n_samples, ), for example using ravel().\n",
            "  y = column_or_1d(y, warn=True)\n",
            "/usr/local/lib/python3.7/dist-packages/sklearn/neural_network/_multilayer_perceptron.py:934: DataConversionWarning: A column-vector y was passed when a 1d array was expected. Please change the shape of y to (n_samples, ), for example using ravel().\n",
            "  y = column_or_1d(y, warn=True)\n",
            "/usr/local/lib/python3.7/dist-packages/sklearn/neural_network/_multilayer_perceptron.py:934: DataConversionWarning: A column-vector y was passed when a 1d array was expected. Please change the shape of y to (n_samples, ), for example using ravel().\n",
            "  y = column_or_1d(y, warn=True)\n",
            "/usr/local/lib/python3.7/dist-packages/sklearn/neural_network/_multilayer_perceptron.py:934: DataConversionWarning: A column-vector y was passed when a 1d array was expected. Please change the shape of y to (n_samples, ), for example using ravel().\n",
            "  y = column_or_1d(y, warn=True)\n",
            "/usr/local/lib/python3.7/dist-packages/sklearn/neural_network/_multilayer_perceptron.py:934: DataConversionWarning: A column-vector y was passed when a 1d array was expected. Please change the shape of y to (n_samples, ), for example using ravel().\n",
            "  y = column_or_1d(y, warn=True)\n",
            "/usr/local/lib/python3.7/dist-packages/sklearn/neural_network/_multilayer_perceptron.py:934: DataConversionWarning: A column-vector y was passed when a 1d array was expected. Please change the shape of y to (n_samples, ), for example using ravel().\n",
            "  y = column_or_1d(y, warn=True)\n",
            "/usr/local/lib/python3.7/dist-packages/sklearn/neural_network/_multilayer_perceptron.py:934: DataConversionWarning: A column-vector y was passed when a 1d array was expected. Please change the shape of y to (n_samples, ), for example using ravel().\n",
            "  y = column_or_1d(y, warn=True)\n",
            "/usr/local/lib/python3.7/dist-packages/sklearn/neural_network/_multilayer_perceptron.py:934: DataConversionWarning: A column-vector y was passed when a 1d array was expected. Please change the shape of y to (n_samples, ), for example using ravel().\n",
            "  y = column_or_1d(y, warn=True)\n",
            "/usr/local/lib/python3.7/dist-packages/sklearn/neural_network/_multilayer_perceptron.py:934: DataConversionWarning: A column-vector y was passed when a 1d array was expected. Please change the shape of y to (n_samples, ), for example using ravel().\n",
            "  y = column_or_1d(y, warn=True)\n",
            "/usr/local/lib/python3.7/dist-packages/sklearn/neural_network/_multilayer_perceptron.py:934: DataConversionWarning: A column-vector y was passed when a 1d array was expected. Please change the shape of y to (n_samples, ), for example using ravel().\n",
            "  y = column_or_1d(y, warn=True)\n",
            "/usr/local/lib/python3.7/dist-packages/sklearn/neural_network/_multilayer_perceptron.py:571: ConvergenceWarning: Stochastic Optimizer: Maximum iterations (100) reached and the optimization hasn't converged yet.\n",
            "  % self.max_iter, ConvergenceWarning)\n"
          ],
          "name": "stderr"
        }
      ]
    },
    {
      "cell_type": "code",
      "metadata": {
        "colab": {
          "base_uri": "https://localhost:8080/",
          "height": 528
        },
        "id": "omaj4BIYQHzM",
        "outputId": "305e640f-bb9a-42bc-fdda-23d49aa1d758"
      },
      "source": [
        "df_compare_2"
      ],
      "execution_count": null,
      "outputs": [
        {
          "output_type": "execute_result",
          "data": {
            "text/html": [
              "<div>\n",
              "<style scoped>\n",
              "    .dataframe tbody tr th:only-of-type {\n",
              "        vertical-align: middle;\n",
              "    }\n",
              "\n",
              "    .dataframe tbody tr th {\n",
              "        vertical-align: top;\n",
              "    }\n",
              "\n",
              "    .dataframe thead th {\n",
              "        text-align: right;\n",
              "    }\n",
              "</style>\n",
              "<table border=\"1\" class=\"dataframe\">\n",
              "  <thead>\n",
              "    <tr style=\"text-align: right;\">\n",
              "      <th></th>\n",
              "      <th>alpha</th>\n",
              "      <th>max_iter</th>\n",
              "      <th>early_stopping</th>\n",
              "      <th>score</th>\n",
              "    </tr>\n",
              "  </thead>\n",
              "  <tbody>\n",
              "    <tr>\n",
              "      <th>15</th>\n",
              "      <td>1</td>\n",
              "      <td>1000</td>\n",
              "      <td>True</td>\n",
              "      <td>60.000000</td>\n",
              "    </tr>\n",
              "    <tr>\n",
              "      <th>14</th>\n",
              "      <td>2</td>\n",
              "      <td>1000</td>\n",
              "      <td>True</td>\n",
              "      <td>58.333333</td>\n",
              "    </tr>\n",
              "    <tr>\n",
              "      <th>13</th>\n",
              "      <td>3</td>\n",
              "      <td>1000</td>\n",
              "      <td>True</td>\n",
              "      <td>60.000000</td>\n",
              "    </tr>\n",
              "    <tr>\n",
              "      <th>12</th>\n",
              "      <td>4</td>\n",
              "      <td>1000</td>\n",
              "      <td>True</td>\n",
              "      <td>65.000000</td>\n",
              "    </tr>\n",
              "    <tr>\n",
              "      <th>11</th>\n",
              "      <td>1</td>\n",
              "      <td>2000</td>\n",
              "      <td>True</td>\n",
              "      <td>50.000000</td>\n",
              "    </tr>\n",
              "    <tr>\n",
              "      <th>10</th>\n",
              "      <td>1</td>\n",
              "      <td>3000</td>\n",
              "      <td>True</td>\n",
              "      <td>50.000000</td>\n",
              "    </tr>\n",
              "    <tr>\n",
              "      <th>9</th>\n",
              "      <td>1</td>\n",
              "      <td>500</td>\n",
              "      <td>True</td>\n",
              "      <td>48.333333</td>\n",
              "    </tr>\n",
              "    <tr>\n",
              "      <th>8</th>\n",
              "      <td>2</td>\n",
              "      <td>100</td>\n",
              "      <td>True</td>\n",
              "      <td>43.333333</td>\n",
              "    </tr>\n",
              "    <tr>\n",
              "      <th>7</th>\n",
              "      <td>1</td>\n",
              "      <td>1000</td>\n",
              "      <td>False</td>\n",
              "      <td>58.333333</td>\n",
              "    </tr>\n",
              "    <tr>\n",
              "      <th>6</th>\n",
              "      <td>2</td>\n",
              "      <td>1000</td>\n",
              "      <td>False</td>\n",
              "      <td>55.000000</td>\n",
              "    </tr>\n",
              "    <tr>\n",
              "      <th>5</th>\n",
              "      <td>3</td>\n",
              "      <td>1000</td>\n",
              "      <td>False</td>\n",
              "      <td>53.333333</td>\n",
              "    </tr>\n",
              "    <tr>\n",
              "      <th>4</th>\n",
              "      <td>4</td>\n",
              "      <td>1000</td>\n",
              "      <td>False</td>\n",
              "      <td>53.333333</td>\n",
              "    </tr>\n",
              "    <tr>\n",
              "      <th>3</th>\n",
              "      <td>1</td>\n",
              "      <td>2000</td>\n",
              "      <td>False</td>\n",
              "      <td>56.666667</td>\n",
              "    </tr>\n",
              "    <tr>\n",
              "      <th>2</th>\n",
              "      <td>1</td>\n",
              "      <td>3000</td>\n",
              "      <td>False</td>\n",
              "      <td>65.000000</td>\n",
              "    </tr>\n",
              "    <tr>\n",
              "      <th>1</th>\n",
              "      <td>1</td>\n",
              "      <td>500</td>\n",
              "      <td>False</td>\n",
              "      <td>61.666667</td>\n",
              "    </tr>\n",
              "    <tr>\n",
              "      <th>0</th>\n",
              "      <td>2</td>\n",
              "      <td>100</td>\n",
              "      <td>False</td>\n",
              "      <td>58.333333</td>\n",
              "    </tr>\n",
              "  </tbody>\n",
              "</table>\n",
              "</div>"
            ],
            "text/plain": [
              "   alpha max_iter early_stopping      score\n",
              "15     1     1000           True  60.000000\n",
              "14     2     1000           True  58.333333\n",
              "13     3     1000           True  60.000000\n",
              "12     4     1000           True  65.000000\n",
              "11     1     2000           True  50.000000\n",
              "10     1     3000           True  50.000000\n",
              "9      1      500           True  48.333333\n",
              "8      2      100           True  43.333333\n",
              "7      1     1000          False  58.333333\n",
              "6      2     1000          False  55.000000\n",
              "5      3     1000          False  53.333333\n",
              "4      4     1000          False  53.333333\n",
              "3      1     2000          False  56.666667\n",
              "2      1     3000          False  65.000000\n",
              "1      1      500          False  61.666667\n",
              "0      2      100          False  58.333333"
            ]
          },
          "metadata": {
            "tags": []
          },
          "execution_count": 101
        }
      ]
    },
    {
      "cell_type": "markdown",
      "metadata": {
        "id": "b6JukAwxm1sA"
      },
      "source": [
        "### **Using gridSearch**"
      ]
    },
    {
      "cell_type": "code",
      "metadata": {
        "colab": {
          "base_uri": "https://localhost:8080/"
        },
        "id": "gnq8o1nJm4wL",
        "outputId": "29c52b81-6e6a-42dd-eb41-d96156237519"
      },
      "source": [
        "from sklearn.model_selection import GridSearchCV\n",
        "X_train, X_test, y_train, y_test = train_test_split(X, y, test_size=.2)\n",
        "clf = GridSearchCV(mlp, parameter_space, n_jobs=-1, cv=3)\n",
        "clf.fit(X_train, y_train)"
      ],
      "execution_count": null,
      "outputs": [
        {
          "output_type": "stream",
          "text": [
            "/usr/local/lib/python3.7/dist-packages/sklearn/neural_network/_multilayer_perceptron.py:934: DataConversionWarning: A column-vector y was passed when a 1d array was expected. Please change the shape of y to (n_samples, ), for example using ravel().\n",
            "  y = column_or_1d(y, warn=True)\n",
            "/usr/local/lib/python3.7/dist-packages/sklearn/neural_network/_multilayer_perceptron.py:571: ConvergenceWarning: Stochastic Optimizer: Maximum iterations (500) reached and the optimization hasn't converged yet.\n",
            "  % self.max_iter, ConvergenceWarning)\n"
          ],
          "name": "stderr"
        },
        {
          "output_type": "execute_result",
          "data": {
            "text/plain": [
              "GridSearchCV(cv=3, error_score=nan,\n",
              "             estimator=MLPClassifier(activation='relu', alpha=0.0001,\n",
              "                                     batch_size='auto', beta_1=0.9,\n",
              "                                     beta_2=0.999, early_stopping=False,\n",
              "                                     epsilon=1e-08, hidden_layer_sizes=(100,),\n",
              "                                     learning_rate='constant',\n",
              "                                     learning_rate_init=0.001, max_fun=15000,\n",
              "                                     max_iter=200, momentum=0.9,\n",
              "                                     n_iter_no_change=10,\n",
              "                                     nesterovs_momentum=True, power_t=0.5,\n",
              "                                     random_state=None, shuffle=True,\n",
              "                                     solver='adam', tol=0.0001,\n",
              "                                     validation_fraction=0.1, verbose=False,\n",
              "                                     warm_start=False),\n",
              "             iid='deprecated', n_jobs=-1,\n",
              "             param_grid={'alpha': [0.0001, 0.05],\n",
              "                         'early_stopping': [True, False],\n",
              "                         'max_iter': [1000, 500]},\n",
              "             pre_dispatch='2*n_jobs', refit=True, return_train_score=False,\n",
              "             scoring=None, verbose=0)"
            ]
          },
          "metadata": {
            "tags": []
          },
          "execution_count": 102
        }
      ]
    },
    {
      "cell_type": "code",
      "metadata": {
        "id": "jchrRzoUn1z6"
      },
      "source": [
        "results = pd.concat([pd.DataFrame(clf.cv_results_[\"params\"]),pd.DataFrame(clf.cv_results_[\"mean_test_score\"], columns=[\"Accuracy\"])],axis=1)"
      ],
      "execution_count": null,
      "outputs": []
    },
    {
      "cell_type": "code",
      "metadata": {
        "colab": {
          "base_uri": "https://localhost:8080/",
          "height": 288
        },
        "id": "2X9SqpINn3N8",
        "outputId": "8763a16a-4e18-4817-e037-98e4e3de8d0e"
      },
      "source": [
        "results"
      ],
      "execution_count": null,
      "outputs": [
        {
          "output_type": "execute_result",
          "data": {
            "text/html": [
              "<div>\n",
              "<style scoped>\n",
              "    .dataframe tbody tr th:only-of-type {\n",
              "        vertical-align: middle;\n",
              "    }\n",
              "\n",
              "    .dataframe tbody tr th {\n",
              "        vertical-align: top;\n",
              "    }\n",
              "\n",
              "    .dataframe thead th {\n",
              "        text-align: right;\n",
              "    }\n",
              "</style>\n",
              "<table border=\"1\" class=\"dataframe\">\n",
              "  <thead>\n",
              "    <tr style=\"text-align: right;\">\n",
              "      <th></th>\n",
              "      <th>alpha</th>\n",
              "      <th>early_stopping</th>\n",
              "      <th>max_iter</th>\n",
              "      <th>Accuracy</th>\n",
              "    </tr>\n",
              "  </thead>\n",
              "  <tbody>\n",
              "    <tr>\n",
              "      <th>0</th>\n",
              "      <td>0.0001</td>\n",
              "      <td>True</td>\n",
              "      <td>1000</td>\n",
              "      <td>0.504167</td>\n",
              "    </tr>\n",
              "    <tr>\n",
              "      <th>1</th>\n",
              "      <td>0.0001</td>\n",
              "      <td>True</td>\n",
              "      <td>500</td>\n",
              "      <td>0.495833</td>\n",
              "    </tr>\n",
              "    <tr>\n",
              "      <th>2</th>\n",
              "      <td>0.0001</td>\n",
              "      <td>False</td>\n",
              "      <td>1000</td>\n",
              "      <td>0.495833</td>\n",
              "    </tr>\n",
              "    <tr>\n",
              "      <th>3</th>\n",
              "      <td>0.0001</td>\n",
              "      <td>False</td>\n",
              "      <td>500</td>\n",
              "      <td>0.487500</td>\n",
              "    </tr>\n",
              "    <tr>\n",
              "      <th>4</th>\n",
              "      <td>0.0500</td>\n",
              "      <td>True</td>\n",
              "      <td>1000</td>\n",
              "      <td>0.483333</td>\n",
              "    </tr>\n",
              "    <tr>\n",
              "      <th>5</th>\n",
              "      <td>0.0500</td>\n",
              "      <td>True</td>\n",
              "      <td>500</td>\n",
              "      <td>0.450000</td>\n",
              "    </tr>\n",
              "    <tr>\n",
              "      <th>6</th>\n",
              "      <td>0.0500</td>\n",
              "      <td>False</td>\n",
              "      <td>1000</td>\n",
              "      <td>0.479167</td>\n",
              "    </tr>\n",
              "    <tr>\n",
              "      <th>7</th>\n",
              "      <td>0.0500</td>\n",
              "      <td>False</td>\n",
              "      <td>500</td>\n",
              "      <td>0.516667</td>\n",
              "    </tr>\n",
              "  </tbody>\n",
              "</table>\n",
              "</div>"
            ],
            "text/plain": [
              "    alpha  early_stopping  max_iter  Accuracy\n",
              "0  0.0001            True      1000  0.504167\n",
              "1  0.0001            True       500  0.495833\n",
              "2  0.0001           False      1000  0.495833\n",
              "3  0.0001           False       500  0.487500\n",
              "4  0.0500            True      1000  0.483333\n",
              "5  0.0500            True       500  0.450000\n",
              "6  0.0500           False      1000  0.479167\n",
              "7  0.0500           False       500  0.516667"
            ]
          },
          "metadata": {
            "tags": []
          },
          "execution_count": 104
        }
      ]
    },
    {
      "cell_type": "markdown",
      "metadata": {
        "id": "TikYZmNopVzE"
      },
      "source": [
        "Alpha values = 0.05 and max_iter = 500 with early_stopping = False gives the best accuracy of 51%"
      ]
    },
    {
      "cell_type": "markdown",
      "metadata": {
        "id": "IoOeCx8YRYyz"
      },
      "source": [
        "# **Running a muller loop**"
      ]
    },
    {
      "cell_type": "code",
      "metadata": {
        "id": "_NdMViFmoAhy"
      },
      "source": [
        "df_compare_muller = pd.DataFrame(columns=['Classifier','Accuracy/Score', 'Training Time'])"
      ],
      "execution_count": null,
      "outputs": []
    },
    {
      "cell_type": "code",
      "metadata": {
        "colab": {
          "base_uri": "https://localhost:8080/"
        },
        "id": "veN9yHZORhwU",
        "outputId": "9978bfec-08a6-4d6b-c353-59e5d4ba6c1f"
      },
      "source": [
        "import time as time\n",
        "\n",
        "names = [\"Nearest Neighbors\", \"Linear SVM\", \"RBF SVM\", \"Gaussian Process\",\n",
        "         \"Decision Tree\", \"Random Forest\", \"Neural Net\", \"AdaBoost\",\n",
        "         \"Naive Bayes\", \"QDA\",# \"XGBoost\",\n",
        "         \"MLP\"]\n",
        "\n",
        "classifiers = [\n",
        "    KNeighborsClassifier(2),\n",
        "    SVC(kernel=\"linear\", C=0.025),\n",
        "    SVC(gamma=2, C=1),\n",
        "    GaussianProcessClassifier(1.0 * RBF(1.0)),\n",
        "    DecisionTreeClassifier(max_depth=5),\n",
        "    RandomForestClassifier(max_depth=5, n_estimators=10, max_features=1),\n",
        "    MLPClassifier(alpha=1, max_iter=1000),\n",
        "    AdaBoostClassifier(),\n",
        "    GaussianNB(),\n",
        "    QuadraticDiscriminantAnalysis(),\n",
        "    MLPClassifier()]\n",
        "\n",
        "X = amalgamated_sampled[['user_id','product_id','price','Spending_Score','Age']]\n",
        "y = amalgamated_sampled[['event_type']]\n",
        "X = StandardScaler().fit_transform(X)\n",
        "X_train, X_test, y_train, y_test = train_test_split(X, y, test_size=.2)\n",
        "\n",
        "max_score = 0.0\n",
        "max_class = ''\n",
        "# iterate over classifiers\n",
        "for name, clf in zip(names, classifiers):\n",
        "    start_time = time.time()\n",
        "    clf.fit(X_train, y_train)\n",
        "    score = 100.0 * clf.score(X_test, y_test)\n",
        "    print('Classifier = %s, Score (test, accuracy) = %.2f,' %(name, score), 'Training time = %.2f seconds' % (time.time() - start_time))\n",
        "    training_time = time.time() - start_time\n",
        "    df_compare_muller.loc[-1] = [name, score, training_time]  # adding a row\n",
        "    df_compare_muller.index = df_compare_muller.index + 1  # shifting index\n",
        "    df_compare_muller = df_compare_muller.sort_index()\n",
        "    df_compare_muller.reset_index(drop=True)\n",
        "\n",
        "    if score > max_score:\n",
        "        clf_best = clf\n",
        "        max_score = score\n",
        "        max_class = name\n",
        "\n",
        "print(80*'-' )\n",
        "print('Best --> Classifier = %s, Score (test, accuracy) = %.2f' %(max_class, max_score))\n",
        "#plot the output of the various algorithms"
      ],
      "execution_count": null,
      "outputs": [
        {
          "output_type": "stream",
          "text": [
            "/usr/local/lib/python3.7/dist-packages/ipykernel_launcher.py:31: DataConversionWarning: A column-vector y was passed when a 1d array was expected. Please change the shape of y to (n_samples, ), for example using ravel().\n",
            "/usr/local/lib/python3.7/dist-packages/sklearn/utils/validation.py:760: DataConversionWarning: A column-vector y was passed when a 1d array was expected. Please change the shape of y to (n_samples, ), for example using ravel().\n",
            "  y = column_or_1d(y, warn=True)\n",
            "/usr/local/lib/python3.7/dist-packages/sklearn/utils/validation.py:760: DataConversionWarning: A column-vector y was passed when a 1d array was expected. Please change the shape of y to (n_samples, ), for example using ravel().\n",
            "  y = column_or_1d(y, warn=True)\n",
            "/usr/local/lib/python3.7/dist-packages/sklearn/utils/validation.py:760: DataConversionWarning: A column-vector y was passed when a 1d array was expected. Please change the shape of y to (n_samples, ), for example using ravel().\n",
            "  y = column_or_1d(y, warn=True)\n",
            "/usr/local/lib/python3.7/dist-packages/scipy/optimize/lbfgsb.py:339: DeprecationWarning: tostring() is deprecated. Use tobytes() instead.\n",
            "  task_str = task.tostring()\n"
          ],
          "name": "stderr"
        },
        {
          "output_type": "stream",
          "text": [
            "Classifier = Nearest Neighbors, Score (test, accuracy) = 46.67, Training time = 0.00 seconds\n",
            "Classifier = Linear SVM, Score (test, accuracy) = 51.67, Training time = 0.00 seconds\n",
            "Classifier = RBF SVM, Score (test, accuracy) = 45.00, Training time = 0.00 seconds\n"
          ],
          "name": "stdout"
        },
        {
          "output_type": "stream",
          "text": [
            "/usr/local/lib/python3.7/dist-packages/scipy/optimize/lbfgsb.py:360: DeprecationWarning: tostring() is deprecated. Use tobytes() instead.\n",
            "  task_str = task.tostring().strip(b'\\x00').strip()\n",
            "/usr/local/lib/python3.7/dist-packages/ipykernel_launcher.py:31: DataConversionWarning: A column-vector y was passed when a 1d array was expected. Please change the shape of y to (n_samples,), for example using ravel().\n",
            "/usr/local/lib/python3.7/dist-packages/sklearn/neural_network/_multilayer_perceptron.py:934: DataConversionWarning: A column-vector y was passed when a 1d array was expected. Please change the shape of y to (n_samples, ), for example using ravel().\n",
            "  y = column_or_1d(y, warn=True)\n"
          ],
          "name": "stderr"
        },
        {
          "output_type": "stream",
          "text": [
            "Classifier = Gaussian Process, Score (test, accuracy) = 53.33, Training time = 0.42 seconds\n",
            "Classifier = Decision Tree, Score (test, accuracy) = 60.00, Training time = 0.00 seconds\n",
            "Classifier = Random Forest, Score (test, accuracy) = 50.00, Training time = 0.05 seconds\n",
            "Classifier = Neural Net, Score (test, accuracy) = 56.67, Training time = 0.34 seconds\n",
            "Classifier = AdaBoost, Score (test, accuracy) = 58.33, Training time = 0.12 seconds\n",
            "Classifier = Naive Bayes, Score (test, accuracy) = 53.33, Training time = 0.00 seconds\n",
            "Classifier = QDA, Score (test, accuracy) = 51.67, Training time = 0.00 seconds\n"
          ],
          "name": "stdout"
        },
        {
          "output_type": "stream",
          "text": [
            "/usr/local/lib/python3.7/dist-packages/sklearn/utils/validation.py:760: DataConversionWarning: A column-vector y was passed when a 1d array was expected. Please change the shape of y to (n_samples, ), for example using ravel().\n",
            "  y = column_or_1d(y, warn=True)\n",
            "/usr/local/lib/python3.7/dist-packages/sklearn/naive_bayes.py:206: DataConversionWarning: A column-vector y was passed when a 1d array was expected. Please change the shape of y to (n_samples, ), for example using ravel().\n",
            "  y = column_or_1d(y, warn=True)\n",
            "/usr/local/lib/python3.7/dist-packages/sklearn/utils/validation.py:760: DataConversionWarning: A column-vector y was passed when a 1d array was expected. Please change the shape of y to (n_samples, ), for example using ravel().\n",
            "  y = column_or_1d(y, warn=True)\n",
            "/usr/local/lib/python3.7/dist-packages/sklearn/neural_network/_multilayer_perceptron.py:934: DataConversionWarning: A column-vector y was passed when a 1d array was expected. Please change the shape of y to (n_samples, ), for example using ravel().\n",
            "  y = column_or_1d(y, warn=True)\n"
          ],
          "name": "stderr"
        },
        {
          "output_type": "stream",
          "text": [
            "Classifier = MLP, Score (test, accuracy) = 55.00, Training time = 0.41 seconds\n",
            "--------------------------------------------------------------------------------\n",
            "Best --> Classifier = Decision Tree, Score (test, accuracy) = 60.00\n"
          ],
          "name": "stdout"
        },
        {
          "output_type": "stream",
          "text": [
            "/usr/local/lib/python3.7/dist-packages/sklearn/neural_network/_multilayer_perceptron.py:571: ConvergenceWarning: Stochastic Optimizer: Maximum iterations (200) reached and the optimization hasn't converged yet.\n",
            "  % self.max_iter, ConvergenceWarning)\n"
          ],
          "name": "stderr"
        }
      ]
    },
    {
      "cell_type": "code",
      "metadata": {
        "colab": {
          "base_uri": "https://localhost:8080/",
          "height": 378
        },
        "id": "J8JlsYYHR-fC",
        "outputId": "077865e0-dcc7-43e9-bf31-3868fbf66e76"
      },
      "source": [
        "df_compare_muller"
      ],
      "execution_count": null,
      "outputs": [
        {
          "output_type": "execute_result",
          "data": {
            "text/html": [
              "<div>\n",
              "<style scoped>\n",
              "    .dataframe tbody tr th:only-of-type {\n",
              "        vertical-align: middle;\n",
              "    }\n",
              "\n",
              "    .dataframe tbody tr th {\n",
              "        vertical-align: top;\n",
              "    }\n",
              "\n",
              "    .dataframe thead th {\n",
              "        text-align: right;\n",
              "    }\n",
              "</style>\n",
              "<table border=\"1\" class=\"dataframe\">\n",
              "  <thead>\n",
              "    <tr style=\"text-align: right;\">\n",
              "      <th></th>\n",
              "      <th>Classifier</th>\n",
              "      <th>Accuracy/Score</th>\n",
              "      <th>Training Time</th>\n",
              "    </tr>\n",
              "  </thead>\n",
              "  <tbody>\n",
              "    <tr>\n",
              "      <th>0</th>\n",
              "      <td>MLP</td>\n",
              "      <td>55.000000</td>\n",
              "      <td>0.415429</td>\n",
              "    </tr>\n",
              "    <tr>\n",
              "      <th>1</th>\n",
              "      <td>QDA</td>\n",
              "      <td>51.666667</td>\n",
              "      <td>0.001620</td>\n",
              "    </tr>\n",
              "    <tr>\n",
              "      <th>2</th>\n",
              "      <td>Naive Bayes</td>\n",
              "      <td>53.333333</td>\n",
              "      <td>0.001603</td>\n",
              "    </tr>\n",
              "    <tr>\n",
              "      <th>3</th>\n",
              "      <td>AdaBoost</td>\n",
              "      <td>58.333333</td>\n",
              "      <td>0.118370</td>\n",
              "    </tr>\n",
              "    <tr>\n",
              "      <th>4</th>\n",
              "      <td>Neural Net</td>\n",
              "      <td>56.666667</td>\n",
              "      <td>0.345541</td>\n",
              "    </tr>\n",
              "    <tr>\n",
              "      <th>5</th>\n",
              "      <td>Random Forest</td>\n",
              "      <td>50.000000</td>\n",
              "      <td>0.057656</td>\n",
              "    </tr>\n",
              "    <tr>\n",
              "      <th>6</th>\n",
              "      <td>Decision Tree</td>\n",
              "      <td>60.000000</td>\n",
              "      <td>0.004086</td>\n",
              "    </tr>\n",
              "    <tr>\n",
              "      <th>7</th>\n",
              "      <td>Gaussian Process</td>\n",
              "      <td>53.333333</td>\n",
              "      <td>0.423321</td>\n",
              "    </tr>\n",
              "    <tr>\n",
              "      <th>8</th>\n",
              "      <td>RBF SVM</td>\n",
              "      <td>45.000000</td>\n",
              "      <td>0.004415</td>\n",
              "    </tr>\n",
              "    <tr>\n",
              "      <th>9</th>\n",
              "      <td>Linear SVM</td>\n",
              "      <td>51.666667</td>\n",
              "      <td>0.002515</td>\n",
              "    </tr>\n",
              "    <tr>\n",
              "      <th>10</th>\n",
              "      <td>Nearest Neighbors</td>\n",
              "      <td>46.666667</td>\n",
              "      <td>0.004819</td>\n",
              "    </tr>\n",
              "  </tbody>\n",
              "</table>\n",
              "</div>"
            ],
            "text/plain": [
              "           Classifier  Accuracy/Score  Training Time\n",
              "0                 MLP       55.000000       0.415429\n",
              "1                 QDA       51.666667       0.001620\n",
              "2         Naive Bayes       53.333333       0.001603\n",
              "3            AdaBoost       58.333333       0.118370\n",
              "4          Neural Net       56.666667       0.345541\n",
              "5       Random Forest       50.000000       0.057656\n",
              "6       Decision Tree       60.000000       0.004086\n",
              "7    Gaussian Process       53.333333       0.423321\n",
              "8             RBF SVM       45.000000       0.004415\n",
              "9          Linear SVM       51.666667       0.002515\n",
              "10  Nearest Neighbors       46.666667       0.004819"
            ]
          },
          "metadata": {
            "tags": []
          },
          "execution_count": 109
        }
      ]
    }
  ]
}